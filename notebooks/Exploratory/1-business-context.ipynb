{
 "cells": [
  {
   "cell_type": "markdown",
   "metadata": {},
   "source": [
    "# Business context"
   ]
  },
  {
   "cell_type": "markdown",
   "metadata": {},
   "source": [
    "This section is structured as follows:\n",
    "1. [Business Understanding](#1-business-understanding) \n",
    "2. [Situation assessment](#2-situation-assessment)\n",
    "    1. [Inventory of resource](#21-inventory-of-resources)\n",
    "    2. [Requirements and assumptions](#22-requirements-and-assumptions)\n",
    "    3. [Risks and contingency](#23-risks-and-contingency)\n",
    "    4. [Terminology](#24-terminology)\n",
    "    5. [Costs/benefits](#25-costsbenefits)\n",
    "3. [Project success criteria](#3-project-success-criteria)\n",
    "4. [Project plan](#4-project-plan)"
   ]
  },
  {
   "cell_type": "markdown",
   "metadata": {},
   "source": [
    "## 1. Business understanding"
   ]
  },
  {
   "cell_type": "markdown",
   "metadata": {},
   "source": [
    "The Medellín Development Plan (MDP) 2020 - 2023 is the local government proposal that seeks to guarantee comprehensive attention to the needs of Medellín's citizens, care for vulnerable populations, economic reactivation, the construction of a sustainable city and the generation of opportunities based on a major educational transformation.\n",
    "\n",
    "In other words, it is a promise of public policies by the mayor's office in order to improve the welfare of the people they represent by trying to meet the needs that afflict them. But are these in tune with the proposals presented in the city's development plan? This is what this project will try to answer, for which it will divide the analysis into two components:\n",
    "1. Is the MDP aligned with the needs expressed by the population?\n",
    "    - In this first component, the main problems expressed by the inhabitants of Medellin prior to the entry into force of the MDP will be identified and it will check if these are part of the development plan.\n",
    "    - To solve this question a text analysis of information extracted will be performed from Twitter (needs) and MDP (proposals) to check if there is any relationship between them.\n",
    "2. What is the perception of citizens in relation to MDP programs and projects during the government's term?\n",
    "    - The response of the citizens of Medellin in relation to this topic will be analyzed through a sentiment analysis based on the perception exposed by the inhabitants on Twitter in relation to these projects and programs of the MDP.\n"
   ]
  },
  {
   "cell_type": "markdown",
   "metadata": {},
   "source": [
    "\n",
    "Through the citizen's perception of the MDP programs, as well as the needs felt by the population on Twitter, it is possible to establish an alternative measurement of the assertiveness of the current local government plan and likewise to open up the possibility of configuring a more appropriate action horizon for future development plans for Medellin aligned with the above.\n"
   ]
  },
  {
   "cell_type": "markdown",
   "metadata": {},
   "source": [
    "## 2. Situation assessment"
   ]
  },
  {
   "cell_type": "markdown",
   "metadata": {},
   "source": [
    "Now, A list of resources, requirements and assumptions will be made."
   ]
  },
  {
   "cell_type": "markdown",
   "metadata": {},
   "source": [
    "### 2.1. Inventory of resources"
   ]
  },
  {
   "cell_type": "markdown",
   "metadata": {},
   "source": [
    "The following is the list of resources available for the project:\n",
    "- **Human resources:** The project requires:\n",
    "    - Data engineer: able to extract and collect information from Twitter through the API. \n",
    "    - Data analyst, able to visualize, relate variables and create dashboards to communicate the results.\n",
    "    - Data scientist, able to create models in machine learning and deep learning, compare them and select the appropriate model. \n",
    "- **Data:** The data is stored in Twitter and we will access it through the API. We will start by focusing on one line of the MPD and collecting tweets every 7 days. If the project is successful, we will extend the scope of the data to other lines. \n",
    "- **Hardware:** \n",
    "- **Computing resource:** "
   ]
  },
  {
   "cell_type": "markdown",
   "metadata": {},
   "source": [
    "### 2.2. Requirements and assumptions"
   ]
  },
  {
   "cell_type": "markdown",
   "metadata": {},
   "source": [
    "- One line of the development plan will be chosen. If the project works, we will proceed to expand to other lines.\n",
    "- Twitter developer account is required, preferably the research academic one to have access to more information. \n",
    "- keyword categories are chosen based on the topics most talked about by citizens. This may change over time."
   ]
  },
  {
   "cell_type": "markdown",
   "metadata": {},
   "source": [
    "### 2.3. Risks and contingency"
   ]
  },
  {
   "cell_type": "markdown",
   "metadata": {},
   "source": [
    "- Extraction of the full quota of tweets.\n",
    "- Account cancellation.\n",
    "- keyword categories change over time."
   ]
  },
  {
   "cell_type": "markdown",
   "metadata": {},
   "source": [
    "### 2.4. Terminology"
   ]
  },
  {
   "cell_type": "markdown",
   "metadata": {},
   "source": [
    "- **Natural lenguage processing**\n",
    "- **Sentiment Analysis**\n",
    "- **API twitter**\n",
    "- **Development plan of colombian cities**"
   ]
  },
  {
   "cell_type": "markdown",
   "metadata": {},
   "source": [
    "### 2.5. Costs/benefits"
   ]
  },
  {
   "cell_type": "markdown",
   "metadata": {},
   "source": [
    "- Lots of tweets means more memory.\n",
    "- If  use a virtual machine, it could generate costs in case of having it active all the time.\n",
    "- The people of Medellín will know the most talked-about topics.  \n",
    "- The Mayor's Office of Medellin will be able to know how its citizens feel according to the lines established in the development plan."
   ]
  },
  {
   "cell_type": "markdown",
   "metadata": {},
   "source": [
    "## 3. Project success criteria"
   ]
  },
  {
   "cell_type": "markdown",
   "metadata": {},
   "source": [
    "Se definirá el proyecto como exitoso si es capaz de predecir la polaridad (positiva, negativa o neutra) de los tweets. "
   ]
  },
  {
   "cell_type": "markdown",
   "metadata": {},
   "source": [
    "## 4. Project plan"
   ]
  },
  {
   "cell_type": "markdown",
   "metadata": {},
   "source": [
    "The project follows the plan:\n",
    "- Data understanding.\n",
    "- Data preparation.\n",
    "- Models.\n",
    "- Evaluation.\n",
    "- Feedback.\n",
    "- Implementation.\n",
    "- Dashboard.\n",
    "- Final report."
   ]
  }
 ],
 "metadata": {
  "interpreter": {
   "hash": "40d3a090f54c6569ab1632332b64b2c03c39dcf918b08424e98f38b5ae0af88f"
  },
  "kernelspec": {
   "display_name": "Python 3.8.8 ('base')",
   "language": "python",
   "name": "python3"
  },
  "language_info": {
   "codemirror_mode": {
    "name": "ipython",
    "version": 3
   },
   "file_extension": ".py",
   "mimetype": "text/x-python",
   "name": "python",
   "nbconvert_exporter": "python",
   "pygments_lexer": "ipython3",
   "version": "3.8.8"
  }
 },
 "nbformat": 4,
 "nbformat_minor": 2
}
