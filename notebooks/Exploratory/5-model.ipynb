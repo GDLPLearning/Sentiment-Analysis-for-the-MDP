{
 "cells": [
  {
   "cell_type": "markdown",
   "metadata": {},
   "source": [
    "# MODEL"
   ]
  },
  {
   "cell_type": "code",
   "execution_count": 1,
   "metadata": {},
   "outputs": [],
   "source": [
    "import pandas as pd\n",
    "import numpy as np\n",
    "import matplotlib.pyplot as plt\n",
    "import seaborn as sns\n",
    "import pylab as pl  \n",
    "import plotly.express as px"
   ]
  },
  {
   "cell_type": "code",
   "execution_count": 2,
   "metadata": {},
   "outputs": [],
   "source": [
    "from sklearn.model_selection import train_test_split\n",
    "from sklearn.linear_model import LogisticRegression\n",
    "from sklearn.metrics import accuracy_score\n",
    "from sklearn.metrics import f1_score\n",
    "from sklearn.metrics import confusion_matrix\n",
    "from sklearn.feature_extraction.text import TfidfVectorizer\n",
    "from sklearn.feature_extraction.text import HashingVectorizer\n",
    "from sklearn.feature_extraction.text import CountVectorizer"
   ]
  },
  {
   "cell_type": "code",
   "execution_count": 3,
   "metadata": {},
   "outputs": [],
   "source": [
    "from other import tools"
   ]
  },
  {
   "cell_type": "code",
   "execution_count": 4,
   "metadata": {},
   "outputs": [],
   "source": [
    "df_rating=pd.read_csv('data/sentiment_1_0.csv')"
   ]
  },
  {
   "cell_type": "code",
   "execution_count": 5,
   "metadata": {},
   "outputs": [
    {
     "data": {
      "text/html": [
       "<div>\n",
       "<style scoped>\n",
       "    .dataframe tbody tr th:only-of-type {\n",
       "        vertical-align: middle;\n",
       "    }\n",
       "\n",
       "    .dataframe tbody tr th {\n",
       "        vertical-align: top;\n",
       "    }\n",
       "\n",
       "    .dataframe thead th {\n",
       "        text-align: right;\n",
       "    }\n",
       "</style>\n",
       "<table border=\"1\" class=\"dataframe\">\n",
       "  <thead>\n",
       "    <tr style=\"text-align: right;\">\n",
       "      <th></th>\n",
       "      <th>full_text</th>\n",
       "      <th>sentiment</th>\n",
       "    </tr>\n",
       "  </thead>\n",
       "  <tbody>\n",
       "    <tr>\n",
       "      <th>0</th>\n",
       "      <td>@camipaisa1 @Marbelle30 Soy antioqueño de nac...</td>\n",
       "      <td>0</td>\n",
       "    </tr>\n",
       "    <tr>\n",
       "      <th>1</th>\n",
       "      <td>@AlejaLoC Medellin lastimosamente a vivido en ...</td>\n",
       "      <td>0</td>\n",
       "    </tr>\n",
       "    <tr>\n",
       "      <th>2</th>\n",
       "      <td>Señora acomplejada nosotros los paisas no la ...</td>\n",
       "      <td>0</td>\n",
       "    </tr>\n",
       "    <tr>\n",
       "      <th>3</th>\n",
       "      <td>@cocoa_nini @diamaov La cultura traqueta de M...</td>\n",
       "      <td>0</td>\n",
       "    </tr>\n",
       "    <tr>\n",
       "      <th>4</th>\n",
       "      <td>@PinoCalad Los efectos de la cultura traqueta ...</td>\n",
       "      <td>0</td>\n",
       "    </tr>\n",
       "  </tbody>\n",
       "</table>\n",
       "</div>"
      ],
      "text/plain": [
       "                                           full_text  sentiment\n",
       "0   @camipaisa1 @Marbelle30 Soy antioqueño de nac...          0\n",
       "1  @AlejaLoC Medellin lastimosamente a vivido en ...          0\n",
       "2   Señora acomplejada nosotros los paisas no la ...          0\n",
       "3   @cocoa_nini @diamaov La cultura traqueta de M...          0\n",
       "4  @PinoCalad Los efectos de la cultura traqueta ...          0"
      ]
     },
     "execution_count": 5,
     "metadata": {},
     "output_type": "execute_result"
    }
   ],
   "source": [
    "df_rating.head()"
   ]
  },
  {
   "cell_type": "code",
   "execution_count": 6,
   "metadata": {},
   "outputs": [],
   "source": [
    "# clean the tweet and save it on a new column\n",
    "\n",
    "def clean_tweet(tweet):\n",
    "\n",
    "  new_tweet = ''\n",
    "  words = tweet.split()\n",
    "  for w in words:\n",
    "    wl = w.lower() # word in lower case\n",
    "    \n",
    "    # replace numbers\n",
    "    for number, new_value in tools.replace_numbers_dict.items():\n",
    "      wl = str(wl).replace(number,new_value)\n",
    "\n",
    "    # replace some punctuations mark to keep only words\n",
    "    for punctuation, new_value in tools.replace_punctuation_dict.items():\n",
    "      wl = wl.replace(punctuation,new_value)\n",
    "    \n",
    "    # replace accent mark \n",
    "    for accent, new_value in tools.replace_accent_dict.items():\n",
    "      wl = wl.replace(accent,new_value)\n",
    "\n",
    "    if wl not in tools.model_stop_wprds:\n",
    "      new_tweet += f'{wl} '\n",
    "  \n",
    "  return new_tweet[:-1]"
   ]
  },
  {
   "cell_type": "code",
   "execution_count": 7,
   "metadata": {},
   "outputs": [],
   "source": [
    "df_rating['tweet'] = df_rating['full_text'].apply(clean_tweet)"
   ]
  },
  {
   "cell_type": "code",
   "execution_count": 8,
   "metadata": {},
   "outputs": [
    {
     "data": {
      "text/html": [
       "<div>\n",
       "<style scoped>\n",
       "    .dataframe tbody tr th:only-of-type {\n",
       "        vertical-align: middle;\n",
       "    }\n",
       "\n",
       "    .dataframe tbody tr th {\n",
       "        vertical-align: top;\n",
       "    }\n",
       "\n",
       "    .dataframe thead th {\n",
       "        text-align: right;\n",
       "    }\n",
       "</style>\n",
       "<table border=\"1\" class=\"dataframe\">\n",
       "  <thead>\n",
       "    <tr style=\"text-align: right;\">\n",
       "      <th></th>\n",
       "      <th>full_text</th>\n",
       "      <th>sentiment</th>\n",
       "      <th>tweet</th>\n",
       "    </tr>\n",
       "  </thead>\n",
       "  <tbody>\n",
       "    <tr>\n",
       "      <th>0</th>\n",
       "      <td>@camipaisa1 @Marbelle30 Soy antioqueño de nac...</td>\n",
       "      <td>0</td>\n",
       "      <td>camipaisa marbelle antioqueño nacimiento verda...</td>\n",
       "    </tr>\n",
       "    <tr>\n",
       "      <th>1</th>\n",
       "      <td>@AlejaLoC Medellin lastimosamente a vivido en ...</td>\n",
       "      <td>0</td>\n",
       "      <td>alejaloc medellin lastimosamente vivido cultur...</td>\n",
       "    </tr>\n",
       "    <tr>\n",
       "      <th>2</th>\n",
       "      <td>Señora acomplejada nosotros los paisas no la ...</td>\n",
       "      <td>0</td>\n",
       "      <td>señora acomplejada nosotros paisas queremos me...</td>\n",
       "    </tr>\n",
       "    <tr>\n",
       "      <th>3</th>\n",
       "      <td>@cocoa_nini @diamaov La cultura traqueta de M...</td>\n",
       "      <td>0</td>\n",
       "      <td>cocoanini diamaov cultura traqueta medellin se...</td>\n",
       "    </tr>\n",
       "    <tr>\n",
       "      <th>4</th>\n",
       "      <td>@PinoCalad Los efectos de la cultura traqueta ...</td>\n",
       "      <td>0</td>\n",
       "      <td>pinocalad efectos cultura traqueta dejo escoba...</td>\n",
       "    </tr>\n",
       "    <tr>\n",
       "      <th>5</th>\n",
       "      <td>@karinin7986 Soy de Medellín y la cultura pais...</td>\n",
       "      <td>0</td>\n",
       "      <td>karinin medellin cultura paisa asco verguenza</td>\n",
       "    </tr>\n",
       "    <tr>\n",
       "      <th>6</th>\n",
       "      <td>Para nadie es un secreto que la sociedad Pais...</td>\n",
       "      <td>0</td>\n",
       "      <td>nadie secreto sociedad paisa medellin valle ab...</td>\n",
       "    </tr>\n",
       "    <tr>\n",
       "      <th>7</th>\n",
       "      <td>Esa cultura traqueta que carcome a medellín y ...</td>\n",
       "      <td>0</td>\n",
       "      <td>cultura traqueta carcome medellin aun sigue vi...</td>\n",
       "    </tr>\n",
       "    <tr>\n",
       "      <th>8</th>\n",
       "      <td>cansadita de la gente de Medellín, y la cultu...</td>\n",
       "      <td>0</td>\n",
       "      <td>cansadita gente medellin cultura paisa</td>\n",
       "    </tr>\n",
       "    <tr>\n",
       "      <th>9</th>\n",
       "      <td>@nocontextSebs En Medellín no están lejos de p...</td>\n",
       "      <td>0</td>\n",
       "      <td>nocontextsebs medellin lejos pensar superiorid...</td>\n",
       "    </tr>\n",
       "  </tbody>\n",
       "</table>\n",
       "</div>"
      ],
      "text/plain": [
       "                                           full_text  sentiment  \\\n",
       "0   @camipaisa1 @Marbelle30 Soy antioqueño de nac...          0   \n",
       "1  @AlejaLoC Medellin lastimosamente a vivido en ...          0   \n",
       "2   Señora acomplejada nosotros los paisas no la ...          0   \n",
       "3   @cocoa_nini @diamaov La cultura traqueta de M...          0   \n",
       "4  @PinoCalad Los efectos de la cultura traqueta ...          0   \n",
       "5  @karinin7986 Soy de Medellín y la cultura pais...          0   \n",
       "6   Para nadie es un secreto que la sociedad Pais...          0   \n",
       "7  Esa cultura traqueta que carcome a medellín y ...          0   \n",
       "8   cansadita de la gente de Medellín, y la cultu...          0   \n",
       "9  @nocontextSebs En Medellín no están lejos de p...          0   \n",
       "\n",
       "                                               tweet  \n",
       "0  camipaisa marbelle antioqueño nacimiento verda...  \n",
       "1  alejaloc medellin lastimosamente vivido cultur...  \n",
       "2  señora acomplejada nosotros paisas queremos me...  \n",
       "3  cocoanini diamaov cultura traqueta medellin se...  \n",
       "4  pinocalad efectos cultura traqueta dejo escoba...  \n",
       "5      karinin medellin cultura paisa asco verguenza  \n",
       "6  nadie secreto sociedad paisa medellin valle ab...  \n",
       "7  cultura traqueta carcome medellin aun sigue vi...  \n",
       "8             cansadita gente medellin cultura paisa  \n",
       "9  nocontextsebs medellin lejos pensar superiorid...  "
      ]
     },
     "execution_count": 8,
     "metadata": {},
     "output_type": "execute_result"
    }
   ],
   "source": [
    "df_rating.head(10)"
   ]
  },
  {
   "cell_type": "code",
   "execution_count": 9,
   "metadata": {},
   "outputs": [],
   "source": [
    "# make a copy of the data\n",
    "df_ml = df_rating.copy()"
   ]
  },
  {
   "cell_type": "code",
   "execution_count": 10,
   "metadata": {},
   "outputs": [],
   "source": [
    "# split the data into train and test data\n",
    "tweets_train, tweets_test = train_test_split(df_rating, test_size=0.2, random_state=0)"
   ]
  },
  {
   "cell_type": "code",
   "execution_count": 11,
   "metadata": {},
   "outputs": [],
   "source": [
    "# creating the instance of CountVectorizer() to use it in the dataset\n",
    "vectorizer = CountVectorizer()"
   ]
  },
  {
   "cell_type": "code",
   "execution_count": 12,
   "metadata": {},
   "outputs": [],
   "source": [
    "x_train_bow = vectorizer.fit_transform(tweets_train['tweet'])\n",
    "x_test_bow = vectorizer.transform(tweets_test['tweet'])"
   ]
  },
  {
   "cell_type": "code",
   "execution_count": 13,
   "metadata": {},
   "outputs": [],
   "source": [
    "y_train_bow = tweets_train['sentiment']\n",
    "y_test_bow = tweets_test['sentiment']"
   ]
  },
  {
   "cell_type": "code",
   "execution_count": 14,
   "metadata": {},
   "outputs": [
    {
     "data": {
      "text/plain": [
       "0    0.611465\n",
       "1    0.388535\n",
       "Name: sentiment, dtype: float64"
      ]
     },
     "execution_count": 14,
     "metadata": {},
     "output_type": "execute_result"
    }
   ],
   "source": [
    "# percentage of positive and negative reviews\n",
    "y_test_bow.value_counts() / y_test_bow.shape[0]"
   ]
  },
  {
   "cell_type": "code",
   "execution_count": 15,
   "metadata": {},
   "outputs": [],
   "source": [
    "# Training the model \n",
    "lr_model_all = LogisticRegression(C=1, solver=\"liblinear\")\n",
    "lr_model_all.fit(x_train_bow, y_train_bow)\n",
    "# Predicting the output\n",
    "test_pred_lr_prob = lr_model_all.predict_proba(x_test_bow)\n",
    "test_pred_lr_all = lr_model_all.predict(x_test_bow)"
   ]
  },
  {
   "cell_type": "code",
   "execution_count": 16,
   "metadata": {},
   "outputs": [
    {
     "name": "stdout",
     "output_type": "stream",
     "text": [
      "F1 score:  0.6902654867256638\n",
      "Accuracy:  77.70700636942675\n"
     ]
    }
   ],
   "source": [
    "\n",
    "print(\"F1 score: \", f1_score(y_test_bow, test_pred_lr_all))\n",
    "print(\"Accuracy: \", accuracy_score(y_test_bow, test_pred_lr_all) * 100)"
   ]
  },
  {
   "cell_type": "code",
   "execution_count": 17,
   "metadata": {},
   "outputs": [],
   "source": [
    "probabilities = [each[1] for each in test_pred_lr_prob]"
   ]
  },
  {
   "cell_type": "code",
   "execution_count": 18,
   "metadata": {},
   "outputs": [],
   "source": [
    "predictions = pd.DataFrame()\n",
    "predictions['tweet'] = tweets_test['tweet']\n",
    "predictions['sentiment'] = tweets_test['sentiment']\n",
    "predictions['predicted_sentiment'] = test_pred_lr_all\n",
    "predictions['Predicted_probability'] = probabilities"
   ]
  },
  {
   "cell_type": "code",
   "execution_count": 19,
   "metadata": {},
   "outputs": [
    {
     "data": {
      "text/html": [
       "<div>\n",
       "<style scoped>\n",
       "    .dataframe tbody tr th:only-of-type {\n",
       "        vertical-align: middle;\n",
       "    }\n",
       "\n",
       "    .dataframe tbody tr th {\n",
       "        vertical-align: top;\n",
       "    }\n",
       "\n",
       "    .dataframe thead th {\n",
       "        text-align: right;\n",
       "    }\n",
       "</style>\n",
       "<table border=\"1\" class=\"dataframe\">\n",
       "  <thead>\n",
       "    <tr style=\"text-align: right;\">\n",
       "      <th></th>\n",
       "      <th>tweet</th>\n",
       "      <th>sentiment</th>\n",
       "      <th>predicted_sentiment</th>\n",
       "      <th>Predicted_probability</th>\n",
       "    </tr>\n",
       "  </thead>\n",
       "  <tbody>\n",
       "    <tr>\n",
       "      <th>382</th>\n",
       "      <td>odinthorlocky ferchoeortiz alejarodc aceromora...</td>\n",
       "      <td>0</td>\n",
       "      <td>0</td>\n",
       "      <td>0.202292</td>\n",
       "    </tr>\n",
       "    <tr>\n",
       "      <th>487</th>\n",
       "      <td>excelente iniciativa destinan  mil millones jo...</td>\n",
       "      <td>1</td>\n",
       "      <td>1</td>\n",
       "      <td>0.770041</td>\n",
       "    </tr>\n",
       "    <tr>\n",
       "      <th>351</th>\n",
       "      <td>candidato alcaldia medellin dice izquierda pet...</td>\n",
       "      <td>0</td>\n",
       "      <td>0</td>\n",
       "      <td>0.265062</td>\n",
       "    </tr>\n",
       "    <tr>\n",
       "      <th>14</th>\n",
       "      <td>revistasemana buen uribista tuvo secretario se...</td>\n",
       "      <td>0</td>\n",
       "      <td>0</td>\n",
       "      <td>0.159955</td>\n",
       "    </tr>\n",
       "    <tr>\n",
       "      <th>145</th>\n",
       "      <td>soñores noticiascaracol pregunta ejercito pued...</td>\n",
       "      <td>0</td>\n",
       "      <td>0</td>\n",
       "      <td>0.358176</td>\n",
       "    </tr>\n",
       "    <tr>\n",
       "      <th>422</th>\n",
       "      <td>video cuchillo mano joven enfrento policia met...</td>\n",
       "      <td>0</td>\n",
       "      <td>0</td>\n",
       "      <td>0.079145</td>\n",
       "    </tr>\n",
       "    <tr>\n",
       "      <th>753</th>\n",
       "      <td>luismorales caos transmilenio orden diciplina ...</td>\n",
       "      <td>1</td>\n",
       "      <td>1</td>\n",
       "      <td>0.622490</td>\n",
       "    </tr>\n",
       "  </tbody>\n",
       "</table>\n",
       "</div>"
      ],
      "text/plain": [
       "                                                 tweet  sentiment  \\\n",
       "382  odinthorlocky ferchoeortiz alejarodc aceromora...          0   \n",
       "487  excelente iniciativa destinan  mil millones jo...          1   \n",
       "351  candidato alcaldia medellin dice izquierda pet...          0   \n",
       "14   revistasemana buen uribista tuvo secretario se...          0   \n",
       "145  soñores noticiascaracol pregunta ejercito pued...          0   \n",
       "422  video cuchillo mano joven enfrento policia met...          0   \n",
       "753  luismorales caos transmilenio orden diciplina ...          1   \n",
       "\n",
       "     predicted_sentiment  Predicted_probability  \n",
       "382                    0               0.202292  \n",
       "487                    1               0.770041  \n",
       "351                    0               0.265062  \n",
       "14                     0               0.159955  \n",
       "145                    0               0.358176  \n",
       "422                    0               0.079145  \n",
       "753                    1               0.622490  "
      ]
     },
     "execution_count": 19,
     "metadata": {},
     "output_type": "execute_result"
    }
   ],
   "source": [
    "predictions.head(7)"
   ]
  },
  {
   "cell_type": "code",
   "execution_count": 20,
   "metadata": {},
   "outputs": [
    {
     "data": {
      "text/plain": [
       "0.7770700636942676"
      ]
     },
     "execution_count": 20,
     "metadata": {},
     "output_type": "execute_result"
    }
   ],
   "source": [
    "accuracy_score(predictions['sentiment'], predictions['predicted_sentiment'])"
   ]
  },
  {
   "cell_type": "code",
   "execution_count": 21,
   "metadata": {},
   "outputs": [
    {
     "data": {
      "image/png": "[encoded data removed]",
      "text/plain": [
       "<Figure size 432x288 with 2 Axes>"
      ]
     },
     "metadata": {
      "needs_background": "light"
     },
     "output_type": "display_data"
    }
   ],
   "source": [
    "# define the consufion matrix\n",
    "c_m = confusion_matrix(predictions[\"sentiment\"], predictions[\"predicted_sentiment\"])\n",
    "# plot a heat map with seaborn\n",
    "ax= plt.subplot()\n",
    "list_color=['#33D1FF','#5BC0BE','#CCC9DC','#6FFFE9']\n",
    "sns.heatmap(c_m, annot=True, fmt='g', ax=ax, cmap = \"Blues\");  #annot=True to annotate cells, ftm='g' to disable scientific notation\n",
    "# labels, title and ticks\n",
    "ax.set_xlabel('Predicted labels');ax.set_ylabel('True labels'); \n",
    "ax.set_title('Confusion Matrix'); \n",
    "ax.xaxis.set_ticklabels(['positive', 'negative']); ax.yaxis.set_ticklabels(['positive','negative']);"
   ]
  },
  {
   "cell_type": "code",
   "execution_count": 22,
   "metadata": {},
   "outputs": [],
   "source": [
    "df_tweets = pd.read_csv('https://raw.githubusercontent.com/GDLPLearning/Sentiment-Analysis-for-the-MDP/master/notebooks/Exploratory/data/tweets_interim.csv')"
   ]
  },
  {
   "cell_type": "code",
   "execution_count": 23,
   "metadata": {},
   "outputs": [],
   "source": [
    "df_tweets['predicted_sentiment'] = lr_model_all.predict(vectorizer.transform(df_tweets['full_text']))"
   ]
  },
  {
   "cell_type": "code",
   "execution_count": 24,
   "metadata": {},
   "outputs": [
    {
     "data": {
      "text/html": [
       "<div>\n",
       "<style scoped>\n",
       "    .dataframe tbody tr th:only-of-type {\n",
       "        vertical-align: middle;\n",
       "    }\n",
       "\n",
       "    .dataframe tbody tr th {\n",
       "        vertical-align: top;\n",
       "    }\n",
       "\n",
       "    .dataframe thead th {\n",
       "        text-align: right;\n",
       "    }\n",
       "</style>\n",
       "<table border=\"1\" class=\"dataframe\">\n",
       "  <thead>\n",
       "    <tr style=\"text-align: right;\">\n",
       "      <th></th>\n",
       "      <th>Unnamed: 0</th>\n",
       "      <th>full_text</th>\n",
       "      <th>key_word</th>\n",
       "      <th>hour</th>\n",
       "      <th>day_of_week</th>\n",
       "      <th>month</th>\n",
       "      <th>year</th>\n",
       "      <th>predicted_sentiment</th>\n",
       "    </tr>\n",
       "  </thead>\n",
       "  <tbody>\n",
       "    <tr>\n",
       "      <th>0</th>\n",
       "      <td>0</td>\n",
       "      <td>Me acordé que a los colombianos de mi ex trab...</td>\n",
       "      <td>trabajo</td>\n",
       "      <td>22</td>\n",
       "      <td>4</td>\n",
       "      <td>1</td>\n",
       "      <td>2020</td>\n",
       "      <td>1</td>\n",
       "    </tr>\n",
       "    <tr>\n",
       "      <th>1</th>\n",
       "      <td>1</td>\n",
       "      <td>@JoseFBarriosG @VLADDO @Uber Como van a apoya...</td>\n",
       "      <td>trabajo</td>\n",
       "      <td>22</td>\n",
       "      <td>4</td>\n",
       "      <td>1</td>\n",
       "      <td>2020</td>\n",
       "      <td>1</td>\n",
       "    </tr>\n",
       "    <tr>\n",
       "      <th>2</th>\n",
       "      <td>2</td>\n",
       "      <td>En Tierragro sabemos que la labor en el campo...</td>\n",
       "      <td>trabajo</td>\n",
       "      <td>19</td>\n",
       "      <td>4</td>\n",
       "      <td>1</td>\n",
       "      <td>2020</td>\n",
       "      <td>1</td>\n",
       "    </tr>\n",
       "    <tr>\n",
       "      <th>3</th>\n",
       "      <td>3</td>\n",
       "      <td>@seguridadmed PARA NADIE ES UN SECRETO GENERA...</td>\n",
       "      <td>trabajo</td>\n",
       "      <td>19</td>\n",
       "      <td>4</td>\n",
       "      <td>1</td>\n",
       "      <td>2020</td>\n",
       "      <td>1</td>\n",
       "    </tr>\n",
       "    <tr>\n",
       "      <th>4</th>\n",
       "      <td>4</td>\n",
       "      <td>@kmilohurtado_81 @SaqueLargoWin Tengo casi un...</td>\n",
       "      <td>trabajo</td>\n",
       "      <td>18</td>\n",
       "      <td>4</td>\n",
       "      <td>1</td>\n",
       "      <td>2020</td>\n",
       "      <td>0</td>\n",
       "    </tr>\n",
       "    <tr>\n",
       "      <th>5</th>\n",
       "      <td>5</td>\n",
       "      <td>En Medellin los taxistas trabajan bien aunque...</td>\n",
       "      <td>trabajo</td>\n",
       "      <td>18</td>\n",
       "      <td>4</td>\n",
       "      <td>1</td>\n",
       "      <td>2020</td>\n",
       "      <td>0</td>\n",
       "    </tr>\n",
       "    <tr>\n",
       "      <th>6</th>\n",
       "      <td>6</td>\n",
       "      <td>Buen trabajo el que ha hecho Miguel Ángel Her...</td>\n",
       "      <td>trabajo</td>\n",
       "      <td>17</td>\n",
       "      <td>4</td>\n",
       "      <td>1</td>\n",
       "      <td>2020</td>\n",
       "      <td>1</td>\n",
       "    </tr>\n",
       "    <tr>\n",
       "      <th>7</th>\n",
       "      <td>7</td>\n",
       "      <td>Parce no, yo trabajo en Sabaneta y a veces sa...</td>\n",
       "      <td>trabajo</td>\n",
       "      <td>17</td>\n",
       "      <td>4</td>\n",
       "      <td>1</td>\n",
       "      <td>2020</td>\n",
       "      <td>1</td>\n",
       "    </tr>\n",
       "    <tr>\n",
       "      <th>8</th>\n",
       "      <td>8</td>\n",
       "      <td>Con apoyo de @GPALegal, Caja de Compensación ...</td>\n",
       "      <td>trabajo</td>\n",
       "      <td>17</td>\n",
       "      <td>4</td>\n",
       "      <td>1</td>\n",
       "      <td>2020</td>\n",
       "      <td>1</td>\n",
       "    </tr>\n",
       "    <tr>\n",
       "      <th>9</th>\n",
       "      <td>9</td>\n",
       "      <td>@LeonAlexis724 @camiloe98 Desempleo? No lo he...</td>\n",
       "      <td>trabajo</td>\n",
       "      <td>16</td>\n",
       "      <td>4</td>\n",
       "      <td>1</td>\n",
       "      <td>2020</td>\n",
       "      <td>1</td>\n",
       "    </tr>\n",
       "  </tbody>\n",
       "</table>\n",
       "</div>"
      ],
      "text/plain": [
       "   Unnamed: 0                                          full_text key_word  \\\n",
       "0           0   Me acordé que a los colombianos de mi ex trab...  trabajo   \n",
       "1           1   @JoseFBarriosG @VLADDO @Uber Como van a apoya...  trabajo   \n",
       "2           2   En Tierragro sabemos que la labor en el campo...  trabajo   \n",
       "3           3   @seguridadmed PARA NADIE ES UN SECRETO GENERA...  trabajo   \n",
       "4           4   @kmilohurtado_81 @SaqueLargoWin Tengo casi un...  trabajo   \n",
       "5           5   En Medellin los taxistas trabajan bien aunque...  trabajo   \n",
       "6           6   Buen trabajo el que ha hecho Miguel Ángel Her...  trabajo   \n",
       "7           7   Parce no, yo trabajo en Sabaneta y a veces sa...  trabajo   \n",
       "8           8   Con apoyo de @GPALegal, Caja de Compensación ...  trabajo   \n",
       "9           9   @LeonAlexis724 @camiloe98 Desempleo? No lo he...  trabajo   \n",
       "\n",
       "   hour  day_of_week  month  year  predicted_sentiment  \n",
       "0    22            4      1  2020                    1  \n",
       "1    22            4      1  2020                    1  \n",
       "2    19            4      1  2020                    1  \n",
       "3    19            4      1  2020                    1  \n",
       "4    18            4      1  2020                    0  \n",
       "5    18            4      1  2020                    0  \n",
       "6    17            4      1  2020                    1  \n",
       "7    17            4      1  2020                    1  \n",
       "8    17            4      1  2020                    1  \n",
       "9    16            4      1  2020                    1  "
      ]
     },
     "execution_count": 24,
     "metadata": {},
     "output_type": "execute_result"
    }
   ],
   "source": [
    "df_tweets.head(10)"
   ]
  },
  {
   "cell_type": "code",
   "execution_count": 25,
   "metadata": {},
   "outputs": [
    {
     "data": {
      "text/plain": [
       "1    146741\n",
       "0     97761\n",
       "Name: predicted_sentiment, dtype: int64"
      ]
     },
     "execution_count": 25,
     "metadata": {},
     "output_type": "execute_result"
    }
   ],
   "source": [
    "df_tweets['predicted_sentiment'].value_counts()"
   ]
  },
  {
   "cell_type": "code",
   "execution_count": 26,
   "metadata": {},
   "outputs": [],
   "source": [
    "df_tweets.replace({'predicted_sentiment': {0: 'negative', 1: 'positive'}}, inplace=True)"
   ]
  },
  {
   "cell_type": "code",
   "execution_count": 27,
   "metadata": {},
   "outputs": [
    {
     "data": {
      "text/html": [
       "<div>\n",
       "<style scoped>\n",
       "    .dataframe tbody tr th:only-of-type {\n",
       "        vertical-align: middle;\n",
       "    }\n",
       "\n",
       "    .dataframe tbody tr th {\n",
       "        vertical-align: top;\n",
       "    }\n",
       "\n",
       "    .dataframe thead th {\n",
       "        text-align: right;\n",
       "    }\n",
       "</style>\n",
       "<table border=\"1\" class=\"dataframe\">\n",
       "  <thead>\n",
       "    <tr style=\"text-align: right;\">\n",
       "      <th></th>\n",
       "      <th>Unnamed: 0</th>\n",
       "      <th>full_text</th>\n",
       "      <th>key_word</th>\n",
       "      <th>hour</th>\n",
       "      <th>day_of_week</th>\n",
       "      <th>month</th>\n",
       "      <th>year</th>\n",
       "      <th>predicted_sentiment</th>\n",
       "    </tr>\n",
       "  </thead>\n",
       "  <tbody>\n",
       "    <tr>\n",
       "      <th>0</th>\n",
       "      <td>0</td>\n",
       "      <td>Me acordé que a los colombianos de mi ex trab...</td>\n",
       "      <td>trabajo</td>\n",
       "      <td>22</td>\n",
       "      <td>4</td>\n",
       "      <td>1</td>\n",
       "      <td>2020</td>\n",
       "      <td>positive</td>\n",
       "    </tr>\n",
       "    <tr>\n",
       "      <th>1</th>\n",
       "      <td>1</td>\n",
       "      <td>@JoseFBarriosG @VLADDO @Uber Como van a apoya...</td>\n",
       "      <td>trabajo</td>\n",
       "      <td>22</td>\n",
       "      <td>4</td>\n",
       "      <td>1</td>\n",
       "      <td>2020</td>\n",
       "      <td>positive</td>\n",
       "    </tr>\n",
       "    <tr>\n",
       "      <th>2</th>\n",
       "      <td>2</td>\n",
       "      <td>En Tierragro sabemos que la labor en el campo...</td>\n",
       "      <td>trabajo</td>\n",
       "      <td>19</td>\n",
       "      <td>4</td>\n",
       "      <td>1</td>\n",
       "      <td>2020</td>\n",
       "      <td>positive</td>\n",
       "    </tr>\n",
       "    <tr>\n",
       "      <th>3</th>\n",
       "      <td>3</td>\n",
       "      <td>@seguridadmed PARA NADIE ES UN SECRETO GENERA...</td>\n",
       "      <td>trabajo</td>\n",
       "      <td>19</td>\n",
       "      <td>4</td>\n",
       "      <td>1</td>\n",
       "      <td>2020</td>\n",
       "      <td>positive</td>\n",
       "    </tr>\n",
       "    <tr>\n",
       "      <th>4</th>\n",
       "      <td>4</td>\n",
       "      <td>@kmilohurtado_81 @SaqueLargoWin Tengo casi un...</td>\n",
       "      <td>trabajo</td>\n",
       "      <td>18</td>\n",
       "      <td>4</td>\n",
       "      <td>1</td>\n",
       "      <td>2020</td>\n",
       "      <td>negative</td>\n",
       "    </tr>\n",
       "    <tr>\n",
       "      <th>5</th>\n",
       "      <td>5</td>\n",
       "      <td>En Medellin los taxistas trabajan bien aunque...</td>\n",
       "      <td>trabajo</td>\n",
       "      <td>18</td>\n",
       "      <td>4</td>\n",
       "      <td>1</td>\n",
       "      <td>2020</td>\n",
       "      <td>negative</td>\n",
       "    </tr>\n",
       "    <tr>\n",
       "      <th>6</th>\n",
       "      <td>6</td>\n",
       "      <td>Buen trabajo el que ha hecho Miguel Ángel Her...</td>\n",
       "      <td>trabajo</td>\n",
       "      <td>17</td>\n",
       "      <td>4</td>\n",
       "      <td>1</td>\n",
       "      <td>2020</td>\n",
       "      <td>positive</td>\n",
       "    </tr>\n",
       "    <tr>\n",
       "      <th>7</th>\n",
       "      <td>7</td>\n",
       "      <td>Parce no, yo trabajo en Sabaneta y a veces sa...</td>\n",
       "      <td>trabajo</td>\n",
       "      <td>17</td>\n",
       "      <td>4</td>\n",
       "      <td>1</td>\n",
       "      <td>2020</td>\n",
       "      <td>positive</td>\n",
       "    </tr>\n",
       "    <tr>\n",
       "      <th>8</th>\n",
       "      <td>8</td>\n",
       "      <td>Con apoyo de @GPALegal, Caja de Compensación ...</td>\n",
       "      <td>trabajo</td>\n",
       "      <td>17</td>\n",
       "      <td>4</td>\n",
       "      <td>1</td>\n",
       "      <td>2020</td>\n",
       "      <td>positive</td>\n",
       "    </tr>\n",
       "    <tr>\n",
       "      <th>9</th>\n",
       "      <td>9</td>\n",
       "      <td>@LeonAlexis724 @camiloe98 Desempleo? No lo he...</td>\n",
       "      <td>trabajo</td>\n",
       "      <td>16</td>\n",
       "      <td>4</td>\n",
       "      <td>1</td>\n",
       "      <td>2020</td>\n",
       "      <td>positive</td>\n",
       "    </tr>\n",
       "  </tbody>\n",
       "</table>\n",
       "</div>"
      ],
      "text/plain": [
       "   Unnamed: 0                                          full_text key_word  \\\n",
       "0           0   Me acordé que a los colombianos de mi ex trab...  trabajo   \n",
       "1           1   @JoseFBarriosG @VLADDO @Uber Como van a apoya...  trabajo   \n",
       "2           2   En Tierragro sabemos que la labor en el campo...  trabajo   \n",
       "3           3   @seguridadmed PARA NADIE ES UN SECRETO GENERA...  trabajo   \n",
       "4           4   @kmilohurtado_81 @SaqueLargoWin Tengo casi un...  trabajo   \n",
       "5           5   En Medellin los taxistas trabajan bien aunque...  trabajo   \n",
       "6           6   Buen trabajo el que ha hecho Miguel Ángel Her...  trabajo   \n",
       "7           7   Parce no, yo trabajo en Sabaneta y a veces sa...  trabajo   \n",
       "8           8   Con apoyo de @GPALegal, Caja de Compensación ...  trabajo   \n",
       "9           9   @LeonAlexis724 @camiloe98 Desempleo? No lo he...  trabajo   \n",
       "\n",
       "   hour  day_of_week  month  year predicted_sentiment  \n",
       "0    22            4      1  2020            positive  \n",
       "1    22            4      1  2020            positive  \n",
       "2    19            4      1  2020            positive  \n",
       "3    19            4      1  2020            positive  \n",
       "4    18            4      1  2020            negative  \n",
       "5    18            4      1  2020            negative  \n",
       "6    17            4      1  2020            positive  \n",
       "7    17            4      1  2020            positive  \n",
       "8    17            4      1  2020            positive  \n",
       "9    16            4      1  2020            positive  "
      ]
     },
     "execution_count": 27,
     "metadata": {},
     "output_type": "execute_result"
    }
   ],
   "source": [
    "df_tweets.head(10)"
   ]
  },
  {
   "cell_type": "code",
   "execution_count": 28,
   "metadata": {},
   "outputs": [],
   "source": [
    "df_pos=df_tweets[df_tweets['predicted_sentiment']=='positive'].groupby(['key_word','year']).size().to_frame().rename(columns={0:'pos'}).reset_index()"
   ]
  },
  {
   "cell_type": "code",
   "execution_count": 29,
   "metadata": {},
   "outputs": [],
   "source": [
    "df_neg=df_tweets[df_tweets['predicted_sentiment']=='negative'].groupby(['key_word','year']).size().to_frame().rename(columns={0:'neg'}).reset_index()"
   ]
  },
  {
   "cell_type": "code",
   "execution_count": 30,
   "metadata": {},
   "outputs": [
    {
     "data": {
      "text/html": [
       "<div>\n",
       "<style scoped>\n",
       "    .dataframe tbody tr th:only-of-type {\n",
       "        vertical-align: middle;\n",
       "    }\n",
       "\n",
       "    .dataframe tbody tr th {\n",
       "        vertical-align: top;\n",
       "    }\n",
       "\n",
       "    .dataframe thead th {\n",
       "        text-align: right;\n",
       "    }\n",
       "</style>\n",
       "<table border=\"1\" class=\"dataframe\">\n",
       "  <thead>\n",
       "    <tr style=\"text-align: right;\">\n",
       "      <th></th>\n",
       "      <th>key_word</th>\n",
       "      <th>year</th>\n",
       "      <th>pos</th>\n",
       "    </tr>\n",
       "  </thead>\n",
       "  <tbody>\n",
       "    <tr>\n",
       "      <th>0</th>\n",
       "      <td>cultura</td>\n",
       "      <td>2019</td>\n",
       "      <td>7474</td>\n",
       "    </tr>\n",
       "    <tr>\n",
       "      <th>1</th>\n",
       "      <td>cultura</td>\n",
       "      <td>2020</td>\n",
       "      <td>6460</td>\n",
       "    </tr>\n",
       "    <tr>\n",
       "      <th>2</th>\n",
       "      <td>cultura</td>\n",
       "      <td>2021</td>\n",
       "      <td>5088</td>\n",
       "    </tr>\n",
       "    <tr>\n",
       "      <th>3</th>\n",
       "      <td>cultura</td>\n",
       "      <td>2022</td>\n",
       "      <td>2179</td>\n",
       "    </tr>\n",
       "    <tr>\n",
       "      <th>4</th>\n",
       "      <td>empresa</td>\n",
       "      <td>2019</td>\n",
       "      <td>931</td>\n",
       "    </tr>\n",
       "    <tr>\n",
       "      <th>5</th>\n",
       "      <td>empresa</td>\n",
       "      <td>2020</td>\n",
       "      <td>1103</td>\n",
       "    </tr>\n",
       "    <tr>\n",
       "      <th>6</th>\n",
       "      <td>empresa</td>\n",
       "      <td>2021</td>\n",
       "      <td>882</td>\n",
       "    </tr>\n",
       "    <tr>\n",
       "      <th>7</th>\n",
       "      <td>empresa</td>\n",
       "      <td>2022</td>\n",
       "      <td>360</td>\n",
       "    </tr>\n",
       "    <tr>\n",
       "      <th>8</th>\n",
       "      <td>jovenes</td>\n",
       "      <td>2019</td>\n",
       "      <td>3992</td>\n",
       "    </tr>\n",
       "    <tr>\n",
       "      <th>9</th>\n",
       "      <td>jovenes</td>\n",
       "      <td>2020</td>\n",
       "      <td>2674</td>\n",
       "    </tr>\n",
       "    <tr>\n",
       "      <th>10</th>\n",
       "      <td>jovenes</td>\n",
       "      <td>2021</td>\n",
       "      <td>4866</td>\n",
       "    </tr>\n",
       "    <tr>\n",
       "      <th>11</th>\n",
       "      <td>jovenes</td>\n",
       "      <td>2022</td>\n",
       "      <td>1686</td>\n",
       "    </tr>\n",
       "    <tr>\n",
       "      <th>12</th>\n",
       "      <td>metro</td>\n",
       "      <td>2019</td>\n",
       "      <td>3534</td>\n",
       "    </tr>\n",
       "    <tr>\n",
       "      <th>13</th>\n",
       "      <td>metro</td>\n",
       "      <td>2020</td>\n",
       "      <td>3288</td>\n",
       "    </tr>\n",
       "    <tr>\n",
       "      <th>14</th>\n",
       "      <td>metro</td>\n",
       "      <td>2021</td>\n",
       "      <td>2707</td>\n",
       "    </tr>\n",
       "    <tr>\n",
       "      <th>15</th>\n",
       "      <td>metro</td>\n",
       "      <td>2022</td>\n",
       "      <td>1292</td>\n",
       "    </tr>\n",
       "    <tr>\n",
       "      <th>16</th>\n",
       "      <td>movilidad</td>\n",
       "      <td>2019</td>\n",
       "      <td>4223</td>\n",
       "    </tr>\n",
       "    <tr>\n",
       "      <th>17</th>\n",
       "      <td>movilidad</td>\n",
       "      <td>2020</td>\n",
       "      <td>2799</td>\n",
       "    </tr>\n",
       "    <tr>\n",
       "      <th>18</th>\n",
       "      <td>movilidad</td>\n",
       "      <td>2021</td>\n",
       "      <td>2001</td>\n",
       "    </tr>\n",
       "    <tr>\n",
       "      <th>19</th>\n",
       "      <td>movilidad</td>\n",
       "      <td>2022</td>\n",
       "      <td>761</td>\n",
       "    </tr>\n",
       "    <tr>\n",
       "      <th>20</th>\n",
       "      <td>seguridad</td>\n",
       "      <td>2019</td>\n",
       "      <td>4729</td>\n",
       "    </tr>\n",
       "    <tr>\n",
       "      <th>21</th>\n",
       "      <td>seguridad</td>\n",
       "      <td>2020</td>\n",
       "      <td>3798</td>\n",
       "    </tr>\n",
       "    <tr>\n",
       "      <th>22</th>\n",
       "      <td>seguridad</td>\n",
       "      <td>2021</td>\n",
       "      <td>3665</td>\n",
       "    </tr>\n",
       "    <tr>\n",
       "      <th>23</th>\n",
       "      <td>seguridad</td>\n",
       "      <td>2022</td>\n",
       "      <td>1797</td>\n",
       "    </tr>\n",
       "    <tr>\n",
       "      <th>24</th>\n",
       "      <td>tecnologia</td>\n",
       "      <td>2019</td>\n",
       "      <td>2042</td>\n",
       "    </tr>\n",
       "    <tr>\n",
       "      <th>25</th>\n",
       "      <td>tecnologia</td>\n",
       "      <td>2020</td>\n",
       "      <td>1862</td>\n",
       "    </tr>\n",
       "    <tr>\n",
       "      <th>26</th>\n",
       "      <td>tecnologia</td>\n",
       "      <td>2021</td>\n",
       "      <td>951</td>\n",
       "    </tr>\n",
       "    <tr>\n",
       "      <th>27</th>\n",
       "      <td>tecnologia</td>\n",
       "      <td>2022</td>\n",
       "      <td>592</td>\n",
       "    </tr>\n",
       "    <tr>\n",
       "      <th>28</th>\n",
       "      <td>trabajo</td>\n",
       "      <td>2019</td>\n",
       "      <td>7694</td>\n",
       "    </tr>\n",
       "    <tr>\n",
       "      <th>29</th>\n",
       "      <td>trabajo</td>\n",
       "      <td>2020</td>\n",
       "      <td>8394</td>\n",
       "    </tr>\n",
       "    <tr>\n",
       "      <th>30</th>\n",
       "      <td>trabajo</td>\n",
       "      <td>2021</td>\n",
       "      <td>8396</td>\n",
       "    </tr>\n",
       "    <tr>\n",
       "      <th>31</th>\n",
       "      <td>trabajo</td>\n",
       "      <td>2022</td>\n",
       "      <td>4016</td>\n",
       "    </tr>\n",
       "    <tr>\n",
       "      <th>32</th>\n",
       "      <td>vida</td>\n",
       "      <td>2019</td>\n",
       "      <td>12454</td>\n",
       "    </tr>\n",
       "    <tr>\n",
       "      <th>33</th>\n",
       "      <td>vida</td>\n",
       "      <td>2020</td>\n",
       "      <td>11436</td>\n",
       "    </tr>\n",
       "    <tr>\n",
       "      <th>34</th>\n",
       "      <td>vida</td>\n",
       "      <td>2021</td>\n",
       "      <td>11679</td>\n",
       "    </tr>\n",
       "    <tr>\n",
       "      <th>35</th>\n",
       "      <td>vida</td>\n",
       "      <td>2022</td>\n",
       "      <td>4936</td>\n",
       "    </tr>\n",
       "  </tbody>\n",
       "</table>\n",
       "</div>"
      ],
      "text/plain": [
       "      key_word  year    pos\n",
       "0      cultura  2019   7474\n",
       "1      cultura  2020   6460\n",
       "2      cultura  2021   5088\n",
       "3      cultura  2022   2179\n",
       "4      empresa  2019    931\n",
       "5      empresa  2020   1103\n",
       "6      empresa  2021    882\n",
       "7      empresa  2022    360\n",
       "8      jovenes  2019   3992\n",
       "9      jovenes  2020   2674\n",
       "10     jovenes  2021   4866\n",
       "11     jovenes  2022   1686\n",
       "12       metro  2019   3534\n",
       "13       metro  2020   3288\n",
       "14       metro  2021   2707\n",
       "15       metro  2022   1292\n",
       "16   movilidad  2019   4223\n",
       "17   movilidad  2020   2799\n",
       "18   movilidad  2021   2001\n",
       "19   movilidad  2022    761\n",
       "20   seguridad  2019   4729\n",
       "21   seguridad  2020   3798\n",
       "22   seguridad  2021   3665\n",
       "23   seguridad  2022   1797\n",
       "24  tecnologia  2019   2042\n",
       "25  tecnologia  2020   1862\n",
       "26  tecnologia  2021    951\n",
       "27  tecnologia  2022    592\n",
       "28     trabajo  2019   7694\n",
       "29     trabajo  2020   8394\n",
       "30     trabajo  2021   8396\n",
       "31     trabajo  2022   4016\n",
       "32        vida  2019  12454\n",
       "33        vida  2020  11436\n",
       "34        vida  2021  11679\n",
       "35        vida  2022   4936"
      ]
     },
     "execution_count": 30,
     "metadata": {},
     "output_type": "execute_result"
    }
   ],
   "source": [
    "df_pos"
   ]
  },
  {
   "cell_type": "code",
   "execution_count": 31,
   "metadata": {},
   "outputs": [
    {
     "data": {
      "text/html": [
       "<div>\n",
       "<style scoped>\n",
       "    .dataframe tbody tr th:only-of-type {\n",
       "        vertical-align: middle;\n",
       "    }\n",
       "\n",
       "    .dataframe tbody tr th {\n",
       "        vertical-align: top;\n",
       "    }\n",
       "\n",
       "    .dataframe thead th {\n",
       "        text-align: right;\n",
       "    }\n",
       "</style>\n",
       "<table border=\"1\" class=\"dataframe\">\n",
       "  <thead>\n",
       "    <tr style=\"text-align: right;\">\n",
       "      <th></th>\n",
       "      <th>key_word</th>\n",
       "      <th>year</th>\n",
       "      <th>neg</th>\n",
       "    </tr>\n",
       "  </thead>\n",
       "  <tbody>\n",
       "    <tr>\n",
       "      <th>0</th>\n",
       "      <td>cultura</td>\n",
       "      <td>2019</td>\n",
       "      <td>1550</td>\n",
       "    </tr>\n",
       "    <tr>\n",
       "      <th>1</th>\n",
       "      <td>cultura</td>\n",
       "      <td>2020</td>\n",
       "      <td>1689</td>\n",
       "    </tr>\n",
       "    <tr>\n",
       "      <th>2</th>\n",
       "      <td>cultura</td>\n",
       "      <td>2021</td>\n",
       "      <td>1057</td>\n",
       "    </tr>\n",
       "    <tr>\n",
       "      <th>3</th>\n",
       "      <td>cultura</td>\n",
       "      <td>2022</td>\n",
       "      <td>575</td>\n",
       "    </tr>\n",
       "    <tr>\n",
       "      <th>4</th>\n",
       "      <td>empresa</td>\n",
       "      <td>2019</td>\n",
       "      <td>2338</td>\n",
       "    </tr>\n",
       "    <tr>\n",
       "      <th>5</th>\n",
       "      <td>empresa</td>\n",
       "      <td>2020</td>\n",
       "      <td>4282</td>\n",
       "    </tr>\n",
       "    <tr>\n",
       "      <th>6</th>\n",
       "      <td>empresa</td>\n",
       "      <td>2021</td>\n",
       "      <td>3723</td>\n",
       "    </tr>\n",
       "    <tr>\n",
       "      <th>7</th>\n",
       "      <td>empresa</td>\n",
       "      <td>2022</td>\n",
       "      <td>1735</td>\n",
       "    </tr>\n",
       "    <tr>\n",
       "      <th>8</th>\n",
       "      <td>jovenes</td>\n",
       "      <td>2019</td>\n",
       "      <td>1543</td>\n",
       "    </tr>\n",
       "    <tr>\n",
       "      <th>9</th>\n",
       "      <td>jovenes</td>\n",
       "      <td>2020</td>\n",
       "      <td>1118</td>\n",
       "    </tr>\n",
       "    <tr>\n",
       "      <th>10</th>\n",
       "      <td>jovenes</td>\n",
       "      <td>2021</td>\n",
       "      <td>2588</td>\n",
       "    </tr>\n",
       "    <tr>\n",
       "      <th>11</th>\n",
       "      <td>jovenes</td>\n",
       "      <td>2022</td>\n",
       "      <td>1249</td>\n",
       "    </tr>\n",
       "    <tr>\n",
       "      <th>12</th>\n",
       "      <td>metro</td>\n",
       "      <td>2019</td>\n",
       "      <td>10545</td>\n",
       "    </tr>\n",
       "    <tr>\n",
       "      <th>13</th>\n",
       "      <td>metro</td>\n",
       "      <td>2020</td>\n",
       "      <td>8325</td>\n",
       "    </tr>\n",
       "    <tr>\n",
       "      <th>14</th>\n",
       "      <td>metro</td>\n",
       "      <td>2021</td>\n",
       "      <td>7230</td>\n",
       "    </tr>\n",
       "    <tr>\n",
       "      <th>15</th>\n",
       "      <td>metro</td>\n",
       "      <td>2022</td>\n",
       "      <td>3910</td>\n",
       "    </tr>\n",
       "    <tr>\n",
       "      <th>16</th>\n",
       "      <td>movilidad</td>\n",
       "      <td>2019</td>\n",
       "      <td>4009</td>\n",
       "    </tr>\n",
       "    <tr>\n",
       "      <th>17</th>\n",
       "      <td>movilidad</td>\n",
       "      <td>2020</td>\n",
       "      <td>3221</td>\n",
       "    </tr>\n",
       "    <tr>\n",
       "      <th>18</th>\n",
       "      <td>movilidad</td>\n",
       "      <td>2021</td>\n",
       "      <td>3178</td>\n",
       "    </tr>\n",
       "    <tr>\n",
       "      <th>19</th>\n",
       "      <td>movilidad</td>\n",
       "      <td>2022</td>\n",
       "      <td>1412</td>\n",
       "    </tr>\n",
       "    <tr>\n",
       "      <th>20</th>\n",
       "      <td>seguridad</td>\n",
       "      <td>2019</td>\n",
       "      <td>3748</td>\n",
       "    </tr>\n",
       "    <tr>\n",
       "      <th>21</th>\n",
       "      <td>seguridad</td>\n",
       "      <td>2020</td>\n",
       "      <td>3064</td>\n",
       "    </tr>\n",
       "    <tr>\n",
       "      <th>22</th>\n",
       "      <td>seguridad</td>\n",
       "      <td>2021</td>\n",
       "      <td>4178</td>\n",
       "    </tr>\n",
       "    <tr>\n",
       "      <th>23</th>\n",
       "      <td>seguridad</td>\n",
       "      <td>2022</td>\n",
       "      <td>3471</td>\n",
       "    </tr>\n",
       "    <tr>\n",
       "      <th>24</th>\n",
       "      <td>tecnologia</td>\n",
       "      <td>2019</td>\n",
       "      <td>494</td>\n",
       "    </tr>\n",
       "    <tr>\n",
       "      <th>25</th>\n",
       "      <td>tecnologia</td>\n",
       "      <td>2020</td>\n",
       "      <td>789</td>\n",
       "    </tr>\n",
       "    <tr>\n",
       "      <th>26</th>\n",
       "      <td>tecnologia</td>\n",
       "      <td>2021</td>\n",
       "      <td>207</td>\n",
       "    </tr>\n",
       "    <tr>\n",
       "      <th>27</th>\n",
       "      <td>tecnologia</td>\n",
       "      <td>2022</td>\n",
       "      <td>143</td>\n",
       "    </tr>\n",
       "    <tr>\n",
       "      <th>28</th>\n",
       "      <td>trabajo</td>\n",
       "      <td>2019</td>\n",
       "      <td>1278</td>\n",
       "    </tr>\n",
       "    <tr>\n",
       "      <th>29</th>\n",
       "      <td>trabajo</td>\n",
       "      <td>2020</td>\n",
       "      <td>2039</td>\n",
       "    </tr>\n",
       "    <tr>\n",
       "      <th>30</th>\n",
       "      <td>trabajo</td>\n",
       "      <td>2021</td>\n",
       "      <td>2829</td>\n",
       "    </tr>\n",
       "    <tr>\n",
       "      <th>31</th>\n",
       "      <td>trabajo</td>\n",
       "      <td>2022</td>\n",
       "      <td>1428</td>\n",
       "    </tr>\n",
       "    <tr>\n",
       "      <th>32</th>\n",
       "      <td>vida</td>\n",
       "      <td>2019</td>\n",
       "      <td>2055</td>\n",
       "    </tr>\n",
       "    <tr>\n",
       "      <th>33</th>\n",
       "      <td>vida</td>\n",
       "      <td>2020</td>\n",
       "      <td>2543</td>\n",
       "    </tr>\n",
       "    <tr>\n",
       "      <th>34</th>\n",
       "      <td>vida</td>\n",
       "      <td>2021</td>\n",
       "      <td>2795</td>\n",
       "    </tr>\n",
       "    <tr>\n",
       "      <th>35</th>\n",
       "      <td>vida</td>\n",
       "      <td>2022</td>\n",
       "      <td>1423</td>\n",
       "    </tr>\n",
       "  </tbody>\n",
       "</table>\n",
       "</div>"
      ],
      "text/plain": [
       "      key_word  year    neg\n",
       "0      cultura  2019   1550\n",
       "1      cultura  2020   1689\n",
       "2      cultura  2021   1057\n",
       "3      cultura  2022    575\n",
       "4      empresa  2019   2338\n",
       "5      empresa  2020   4282\n",
       "6      empresa  2021   3723\n",
       "7      empresa  2022   1735\n",
       "8      jovenes  2019   1543\n",
       "9      jovenes  2020   1118\n",
       "10     jovenes  2021   2588\n",
       "11     jovenes  2022   1249\n",
       "12       metro  2019  10545\n",
       "13       metro  2020   8325\n",
       "14       metro  2021   7230\n",
       "15       metro  2022   3910\n",
       "16   movilidad  2019   4009\n",
       "17   movilidad  2020   3221\n",
       "18   movilidad  2021   3178\n",
       "19   movilidad  2022   1412\n",
       "20   seguridad  2019   3748\n",
       "21   seguridad  2020   3064\n",
       "22   seguridad  2021   4178\n",
       "23   seguridad  2022   3471\n",
       "24  tecnologia  2019    494\n",
       "25  tecnologia  2020    789\n",
       "26  tecnologia  2021    207\n",
       "27  tecnologia  2022    143\n",
       "28     trabajo  2019   1278\n",
       "29     trabajo  2020   2039\n",
       "30     trabajo  2021   2829\n",
       "31     trabajo  2022   1428\n",
       "32        vida  2019   2055\n",
       "33        vida  2020   2543\n",
       "34        vida  2021   2795\n",
       "35        vida  2022   1423"
      ]
     },
     "execution_count": 31,
     "metadata": {},
     "output_type": "execute_result"
    }
   ],
   "source": [
    "df_neg"
   ]
  },
  {
   "cell_type": "code",
   "execution_count": 32,
   "metadata": {},
   "outputs": [],
   "source": [
    "df_sent=pd.merge(df_pos,df_neg,on=['key_word','year'])"
   ]
  },
  {
   "cell_type": "code",
   "execution_count": 33,
   "metadata": {},
   "outputs": [
    {
     "data": {
      "text/html": [
       "<div>\n",
       "<style scoped>\n",
       "    .dataframe tbody tr th:only-of-type {\n",
       "        vertical-align: middle;\n",
       "    }\n",
       "\n",
       "    .dataframe tbody tr th {\n",
       "        vertical-align: top;\n",
       "    }\n",
       "\n",
       "    .dataframe thead th {\n",
       "        text-align: right;\n",
       "    }\n",
       "</style>\n",
       "<table border=\"1\" class=\"dataframe\">\n",
       "  <thead>\n",
       "    <tr style=\"text-align: right;\">\n",
       "      <th></th>\n",
       "      <th>key_word</th>\n",
       "      <th>year</th>\n",
       "      <th>pos</th>\n",
       "      <th>neg</th>\n",
       "    </tr>\n",
       "  </thead>\n",
       "  <tbody>\n",
       "    <tr>\n",
       "      <th>0</th>\n",
       "      <td>cultura</td>\n",
       "      <td>2019</td>\n",
       "      <td>7474</td>\n",
       "      <td>1550</td>\n",
       "    </tr>\n",
       "    <tr>\n",
       "      <th>1</th>\n",
       "      <td>cultura</td>\n",
       "      <td>2020</td>\n",
       "      <td>6460</td>\n",
       "      <td>1689</td>\n",
       "    </tr>\n",
       "    <tr>\n",
       "      <th>2</th>\n",
       "      <td>cultura</td>\n",
       "      <td>2021</td>\n",
       "      <td>5088</td>\n",
       "      <td>1057</td>\n",
       "    </tr>\n",
       "    <tr>\n",
       "      <th>3</th>\n",
       "      <td>cultura</td>\n",
       "      <td>2022</td>\n",
       "      <td>2179</td>\n",
       "      <td>575</td>\n",
       "    </tr>\n",
       "    <tr>\n",
       "      <th>4</th>\n",
       "      <td>empresa</td>\n",
       "      <td>2019</td>\n",
       "      <td>931</td>\n",
       "      <td>2338</td>\n",
       "    </tr>\n",
       "    <tr>\n",
       "      <th>5</th>\n",
       "      <td>empresa</td>\n",
       "      <td>2020</td>\n",
       "      <td>1103</td>\n",
       "      <td>4282</td>\n",
       "    </tr>\n",
       "    <tr>\n",
       "      <th>6</th>\n",
       "      <td>empresa</td>\n",
       "      <td>2021</td>\n",
       "      <td>882</td>\n",
       "      <td>3723</td>\n",
       "    </tr>\n",
       "    <tr>\n",
       "      <th>7</th>\n",
       "      <td>empresa</td>\n",
       "      <td>2022</td>\n",
       "      <td>360</td>\n",
       "      <td>1735</td>\n",
       "    </tr>\n",
       "    <tr>\n",
       "      <th>8</th>\n",
       "      <td>jovenes</td>\n",
       "      <td>2019</td>\n",
       "      <td>3992</td>\n",
       "      <td>1543</td>\n",
       "    </tr>\n",
       "    <tr>\n",
       "      <th>9</th>\n",
       "      <td>jovenes</td>\n",
       "      <td>2020</td>\n",
       "      <td>2674</td>\n",
       "      <td>1118</td>\n",
       "    </tr>\n",
       "    <tr>\n",
       "      <th>10</th>\n",
       "      <td>jovenes</td>\n",
       "      <td>2021</td>\n",
       "      <td>4866</td>\n",
       "      <td>2588</td>\n",
       "    </tr>\n",
       "    <tr>\n",
       "      <th>11</th>\n",
       "      <td>jovenes</td>\n",
       "      <td>2022</td>\n",
       "      <td>1686</td>\n",
       "      <td>1249</td>\n",
       "    </tr>\n",
       "    <tr>\n",
       "      <th>12</th>\n",
       "      <td>metro</td>\n",
       "      <td>2019</td>\n",
       "      <td>3534</td>\n",
       "      <td>10545</td>\n",
       "    </tr>\n",
       "    <tr>\n",
       "      <th>13</th>\n",
       "      <td>metro</td>\n",
       "      <td>2020</td>\n",
       "      <td>3288</td>\n",
       "      <td>8325</td>\n",
       "    </tr>\n",
       "    <tr>\n",
       "      <th>14</th>\n",
       "      <td>metro</td>\n",
       "      <td>2021</td>\n",
       "      <td>2707</td>\n",
       "      <td>7230</td>\n",
       "    </tr>\n",
       "    <tr>\n",
       "      <th>15</th>\n",
       "      <td>metro</td>\n",
       "      <td>2022</td>\n",
       "      <td>1292</td>\n",
       "      <td>3910</td>\n",
       "    </tr>\n",
       "    <tr>\n",
       "      <th>16</th>\n",
       "      <td>movilidad</td>\n",
       "      <td>2019</td>\n",
       "      <td>4223</td>\n",
       "      <td>4009</td>\n",
       "    </tr>\n",
       "    <tr>\n",
       "      <th>17</th>\n",
       "      <td>movilidad</td>\n",
       "      <td>2020</td>\n",
       "      <td>2799</td>\n",
       "      <td>3221</td>\n",
       "    </tr>\n",
       "    <tr>\n",
       "      <th>18</th>\n",
       "      <td>movilidad</td>\n",
       "      <td>2021</td>\n",
       "      <td>2001</td>\n",
       "      <td>3178</td>\n",
       "    </tr>\n",
       "    <tr>\n",
       "      <th>19</th>\n",
       "      <td>movilidad</td>\n",
       "      <td>2022</td>\n",
       "      <td>761</td>\n",
       "      <td>1412</td>\n",
       "    </tr>\n",
       "    <tr>\n",
       "      <th>20</th>\n",
       "      <td>seguridad</td>\n",
       "      <td>2019</td>\n",
       "      <td>4729</td>\n",
       "      <td>3748</td>\n",
       "    </tr>\n",
       "    <tr>\n",
       "      <th>21</th>\n",
       "      <td>seguridad</td>\n",
       "      <td>2020</td>\n",
       "      <td>3798</td>\n",
       "      <td>3064</td>\n",
       "    </tr>\n",
       "    <tr>\n",
       "      <th>22</th>\n",
       "      <td>seguridad</td>\n",
       "      <td>2021</td>\n",
       "      <td>3665</td>\n",
       "      <td>4178</td>\n",
       "    </tr>\n",
       "    <tr>\n",
       "      <th>23</th>\n",
       "      <td>seguridad</td>\n",
       "      <td>2022</td>\n",
       "      <td>1797</td>\n",
       "      <td>3471</td>\n",
       "    </tr>\n",
       "    <tr>\n",
       "      <th>24</th>\n",
       "      <td>tecnologia</td>\n",
       "      <td>2019</td>\n",
       "      <td>2042</td>\n",
       "      <td>494</td>\n",
       "    </tr>\n",
       "    <tr>\n",
       "      <th>25</th>\n",
       "      <td>tecnologia</td>\n",
       "      <td>2020</td>\n",
       "      <td>1862</td>\n",
       "      <td>789</td>\n",
       "    </tr>\n",
       "    <tr>\n",
       "      <th>26</th>\n",
       "      <td>tecnologia</td>\n",
       "      <td>2021</td>\n",
       "      <td>951</td>\n",
       "      <td>207</td>\n",
       "    </tr>\n",
       "    <tr>\n",
       "      <th>27</th>\n",
       "      <td>tecnologia</td>\n",
       "      <td>2022</td>\n",
       "      <td>592</td>\n",
       "      <td>143</td>\n",
       "    </tr>\n",
       "    <tr>\n",
       "      <th>28</th>\n",
       "      <td>trabajo</td>\n",
       "      <td>2019</td>\n",
       "      <td>7694</td>\n",
       "      <td>1278</td>\n",
       "    </tr>\n",
       "    <tr>\n",
       "      <th>29</th>\n",
       "      <td>trabajo</td>\n",
       "      <td>2020</td>\n",
       "      <td>8394</td>\n",
       "      <td>2039</td>\n",
       "    </tr>\n",
       "    <tr>\n",
       "      <th>30</th>\n",
       "      <td>trabajo</td>\n",
       "      <td>2021</td>\n",
       "      <td>8396</td>\n",
       "      <td>2829</td>\n",
       "    </tr>\n",
       "    <tr>\n",
       "      <th>31</th>\n",
       "      <td>trabajo</td>\n",
       "      <td>2022</td>\n",
       "      <td>4016</td>\n",
       "      <td>1428</td>\n",
       "    </tr>\n",
       "    <tr>\n",
       "      <th>32</th>\n",
       "      <td>vida</td>\n",
       "      <td>2019</td>\n",
       "      <td>12454</td>\n",
       "      <td>2055</td>\n",
       "    </tr>\n",
       "    <tr>\n",
       "      <th>33</th>\n",
       "      <td>vida</td>\n",
       "      <td>2020</td>\n",
       "      <td>11436</td>\n",
       "      <td>2543</td>\n",
       "    </tr>\n",
       "    <tr>\n",
       "      <th>34</th>\n",
       "      <td>vida</td>\n",
       "      <td>2021</td>\n",
       "      <td>11679</td>\n",
       "      <td>2795</td>\n",
       "    </tr>\n",
       "    <tr>\n",
       "      <th>35</th>\n",
       "      <td>vida</td>\n",
       "      <td>2022</td>\n",
       "      <td>4936</td>\n",
       "      <td>1423</td>\n",
       "    </tr>\n",
       "  </tbody>\n",
       "</table>\n",
       "</div>"
      ],
      "text/plain": [
       "      key_word  year    pos    neg\n",
       "0      cultura  2019   7474   1550\n",
       "1      cultura  2020   6460   1689\n",
       "2      cultura  2021   5088   1057\n",
       "3      cultura  2022   2179    575\n",
       "4      empresa  2019    931   2338\n",
       "5      empresa  2020   1103   4282\n",
       "6      empresa  2021    882   3723\n",
       "7      empresa  2022    360   1735\n",
       "8      jovenes  2019   3992   1543\n",
       "9      jovenes  2020   2674   1118\n",
       "10     jovenes  2021   4866   2588\n",
       "11     jovenes  2022   1686   1249\n",
       "12       metro  2019   3534  10545\n",
       "13       metro  2020   3288   8325\n",
       "14       metro  2021   2707   7230\n",
       "15       metro  2022   1292   3910\n",
       "16   movilidad  2019   4223   4009\n",
       "17   movilidad  2020   2799   3221\n",
       "18   movilidad  2021   2001   3178\n",
       "19   movilidad  2022    761   1412\n",
       "20   seguridad  2019   4729   3748\n",
       "21   seguridad  2020   3798   3064\n",
       "22   seguridad  2021   3665   4178\n",
       "23   seguridad  2022   1797   3471\n",
       "24  tecnologia  2019   2042    494\n",
       "25  tecnologia  2020   1862    789\n",
       "26  tecnologia  2021    951    207\n",
       "27  tecnologia  2022    592    143\n",
       "28     trabajo  2019   7694   1278\n",
       "29     trabajo  2020   8394   2039\n",
       "30     trabajo  2021   8396   2829\n",
       "31     trabajo  2022   4016   1428\n",
       "32        vida  2019  12454   2055\n",
       "33        vida  2020  11436   2543\n",
       "34        vida  2021  11679   2795\n",
       "35        vida  2022   4936   1423"
      ]
     },
     "execution_count": 33,
     "metadata": {},
     "output_type": "execute_result"
    }
   ],
   "source": [
    "df_sent"
   ]
  },
  {
   "cell_type": "code",
   "execution_count": 34,
   "metadata": {},
   "outputs": [],
   "source": [
    "df_sent['freq_pos']=df_sent['pos']/(df_sent['pos']+df_sent['neg'])"
   ]
  },
  {
   "cell_type": "code",
   "execution_count": 35,
   "metadata": {},
   "outputs": [
    {
     "data": {
      "text/html": [
       "<div>\n",
       "<style scoped>\n",
       "    .dataframe tbody tr th:only-of-type {\n",
       "        vertical-align: middle;\n",
       "    }\n",
       "\n",
       "    .dataframe tbody tr th {\n",
       "        vertical-align: top;\n",
       "    }\n",
       "\n",
       "    .dataframe thead th {\n",
       "        text-align: right;\n",
       "    }\n",
       "</style>\n",
       "<table border=\"1\" class=\"dataframe\">\n",
       "  <thead>\n",
       "    <tr style=\"text-align: right;\">\n",
       "      <th></th>\n",
       "      <th>key_word</th>\n",
       "      <th>year</th>\n",
       "      <th>pos</th>\n",
       "      <th>neg</th>\n",
       "      <th>freq_pos</th>\n",
       "    </tr>\n",
       "  </thead>\n",
       "  <tbody>\n",
       "    <tr>\n",
       "      <th>0</th>\n",
       "      <td>cultura</td>\n",
       "      <td>2019</td>\n",
       "      <td>7474</td>\n",
       "      <td>1550</td>\n",
       "      <td>0.828236</td>\n",
       "    </tr>\n",
       "    <tr>\n",
       "      <th>1</th>\n",
       "      <td>cultura</td>\n",
       "      <td>2020</td>\n",
       "      <td>6460</td>\n",
       "      <td>1689</td>\n",
       "      <td>0.792735</td>\n",
       "    </tr>\n",
       "    <tr>\n",
       "      <th>2</th>\n",
       "      <td>cultura</td>\n",
       "      <td>2021</td>\n",
       "      <td>5088</td>\n",
       "      <td>1057</td>\n",
       "      <td>0.827990</td>\n",
       "    </tr>\n",
       "    <tr>\n",
       "      <th>3</th>\n",
       "      <td>cultura</td>\n",
       "      <td>2022</td>\n",
       "      <td>2179</td>\n",
       "      <td>575</td>\n",
       "      <td>0.791213</td>\n",
       "    </tr>\n",
       "    <tr>\n",
       "      <th>4</th>\n",
       "      <td>empresa</td>\n",
       "      <td>2019</td>\n",
       "      <td>931</td>\n",
       "      <td>2338</td>\n",
       "      <td>0.284797</td>\n",
       "    </tr>\n",
       "    <tr>\n",
       "      <th>5</th>\n",
       "      <td>empresa</td>\n",
       "      <td>2020</td>\n",
       "      <td>1103</td>\n",
       "      <td>4282</td>\n",
       "      <td>0.204828</td>\n",
       "    </tr>\n",
       "    <tr>\n",
       "      <th>6</th>\n",
       "      <td>empresa</td>\n",
       "      <td>2021</td>\n",
       "      <td>882</td>\n",
       "      <td>3723</td>\n",
       "      <td>0.191531</td>\n",
       "    </tr>\n",
       "    <tr>\n",
       "      <th>7</th>\n",
       "      <td>empresa</td>\n",
       "      <td>2022</td>\n",
       "      <td>360</td>\n",
       "      <td>1735</td>\n",
       "      <td>0.171838</td>\n",
       "    </tr>\n",
       "    <tr>\n",
       "      <th>8</th>\n",
       "      <td>jovenes</td>\n",
       "      <td>2019</td>\n",
       "      <td>3992</td>\n",
       "      <td>1543</td>\n",
       "      <td>0.721229</td>\n",
       "    </tr>\n",
       "    <tr>\n",
       "      <th>9</th>\n",
       "      <td>jovenes</td>\n",
       "      <td>2020</td>\n",
       "      <td>2674</td>\n",
       "      <td>1118</td>\n",
       "      <td>0.705169</td>\n",
       "    </tr>\n",
       "    <tr>\n",
       "      <th>10</th>\n",
       "      <td>jovenes</td>\n",
       "      <td>2021</td>\n",
       "      <td>4866</td>\n",
       "      <td>2588</td>\n",
       "      <td>0.652804</td>\n",
       "    </tr>\n",
       "    <tr>\n",
       "      <th>11</th>\n",
       "      <td>jovenes</td>\n",
       "      <td>2022</td>\n",
       "      <td>1686</td>\n",
       "      <td>1249</td>\n",
       "      <td>0.574446</td>\n",
       "    </tr>\n",
       "    <tr>\n",
       "      <th>12</th>\n",
       "      <td>metro</td>\n",
       "      <td>2019</td>\n",
       "      <td>3534</td>\n",
       "      <td>10545</td>\n",
       "      <td>0.251012</td>\n",
       "    </tr>\n",
       "    <tr>\n",
       "      <th>13</th>\n",
       "      <td>metro</td>\n",
       "      <td>2020</td>\n",
       "      <td>3288</td>\n",
       "      <td>8325</td>\n",
       "      <td>0.283131</td>\n",
       "    </tr>\n",
       "    <tr>\n",
       "      <th>14</th>\n",
       "      <td>metro</td>\n",
       "      <td>2021</td>\n",
       "      <td>2707</td>\n",
       "      <td>7230</td>\n",
       "      <td>0.272416</td>\n",
       "    </tr>\n",
       "    <tr>\n",
       "      <th>15</th>\n",
       "      <td>metro</td>\n",
       "      <td>2022</td>\n",
       "      <td>1292</td>\n",
       "      <td>3910</td>\n",
       "      <td>0.248366</td>\n",
       "    </tr>\n",
       "    <tr>\n",
       "      <th>16</th>\n",
       "      <td>movilidad</td>\n",
       "      <td>2019</td>\n",
       "      <td>4223</td>\n",
       "      <td>4009</td>\n",
       "      <td>0.512998</td>\n",
       "    </tr>\n",
       "    <tr>\n",
       "      <th>17</th>\n",
       "      <td>movilidad</td>\n",
       "      <td>2020</td>\n",
       "      <td>2799</td>\n",
       "      <td>3221</td>\n",
       "      <td>0.464950</td>\n",
       "    </tr>\n",
       "    <tr>\n",
       "      <th>18</th>\n",
       "      <td>movilidad</td>\n",
       "      <td>2021</td>\n",
       "      <td>2001</td>\n",
       "      <td>3178</td>\n",
       "      <td>0.386368</td>\n",
       "    </tr>\n",
       "    <tr>\n",
       "      <th>19</th>\n",
       "      <td>movilidad</td>\n",
       "      <td>2022</td>\n",
       "      <td>761</td>\n",
       "      <td>1412</td>\n",
       "      <td>0.350207</td>\n",
       "    </tr>\n",
       "    <tr>\n",
       "      <th>20</th>\n",
       "      <td>seguridad</td>\n",
       "      <td>2019</td>\n",
       "      <td>4729</td>\n",
       "      <td>3748</td>\n",
       "      <td>0.557862</td>\n",
       "    </tr>\n",
       "    <tr>\n",
       "      <th>21</th>\n",
       "      <td>seguridad</td>\n",
       "      <td>2020</td>\n",
       "      <td>3798</td>\n",
       "      <td>3064</td>\n",
       "      <td>0.553483</td>\n",
       "    </tr>\n",
       "    <tr>\n",
       "      <th>22</th>\n",
       "      <td>seguridad</td>\n",
       "      <td>2021</td>\n",
       "      <td>3665</td>\n",
       "      <td>4178</td>\n",
       "      <td>0.467296</td>\n",
       "    </tr>\n",
       "    <tr>\n",
       "      <th>23</th>\n",
       "      <td>seguridad</td>\n",
       "      <td>2022</td>\n",
       "      <td>1797</td>\n",
       "      <td>3471</td>\n",
       "      <td>0.341116</td>\n",
       "    </tr>\n",
       "    <tr>\n",
       "      <th>24</th>\n",
       "      <td>tecnologia</td>\n",
       "      <td>2019</td>\n",
       "      <td>2042</td>\n",
       "      <td>494</td>\n",
       "      <td>0.805205</td>\n",
       "    </tr>\n",
       "    <tr>\n",
       "      <th>25</th>\n",
       "      <td>tecnologia</td>\n",
       "      <td>2020</td>\n",
       "      <td>1862</td>\n",
       "      <td>789</td>\n",
       "      <td>0.702376</td>\n",
       "    </tr>\n",
       "    <tr>\n",
       "      <th>26</th>\n",
       "      <td>tecnologia</td>\n",
       "      <td>2021</td>\n",
       "      <td>951</td>\n",
       "      <td>207</td>\n",
       "      <td>0.821244</td>\n",
       "    </tr>\n",
       "    <tr>\n",
       "      <th>27</th>\n",
       "      <td>tecnologia</td>\n",
       "      <td>2022</td>\n",
       "      <td>592</td>\n",
       "      <td>143</td>\n",
       "      <td>0.805442</td>\n",
       "    </tr>\n",
       "    <tr>\n",
       "      <th>28</th>\n",
       "      <td>trabajo</td>\n",
       "      <td>2019</td>\n",
       "      <td>7694</td>\n",
       "      <td>1278</td>\n",
       "      <td>0.857557</td>\n",
       "    </tr>\n",
       "    <tr>\n",
       "      <th>29</th>\n",
       "      <td>trabajo</td>\n",
       "      <td>2020</td>\n",
       "      <td>8394</td>\n",
       "      <td>2039</td>\n",
       "      <td>0.804562</td>\n",
       "    </tr>\n",
       "    <tr>\n",
       "      <th>30</th>\n",
       "      <td>trabajo</td>\n",
       "      <td>2021</td>\n",
       "      <td>8396</td>\n",
       "      <td>2829</td>\n",
       "      <td>0.747973</td>\n",
       "    </tr>\n",
       "    <tr>\n",
       "      <th>31</th>\n",
       "      <td>trabajo</td>\n",
       "      <td>2022</td>\n",
       "      <td>4016</td>\n",
       "      <td>1428</td>\n",
       "      <td>0.737693</td>\n",
       "    </tr>\n",
       "    <tr>\n",
       "      <th>32</th>\n",
       "      <td>vida</td>\n",
       "      <td>2019</td>\n",
       "      <td>12454</td>\n",
       "      <td>2055</td>\n",
       "      <td>0.858364</td>\n",
       "    </tr>\n",
       "    <tr>\n",
       "      <th>33</th>\n",
       "      <td>vida</td>\n",
       "      <td>2020</td>\n",
       "      <td>11436</td>\n",
       "      <td>2543</td>\n",
       "      <td>0.818084</td>\n",
       "    </tr>\n",
       "    <tr>\n",
       "      <th>34</th>\n",
       "      <td>vida</td>\n",
       "      <td>2021</td>\n",
       "      <td>11679</td>\n",
       "      <td>2795</td>\n",
       "      <td>0.806895</td>\n",
       "    </tr>\n",
       "    <tr>\n",
       "      <th>35</th>\n",
       "      <td>vida</td>\n",
       "      <td>2022</td>\n",
       "      <td>4936</td>\n",
       "      <td>1423</td>\n",
       "      <td>0.776223</td>\n",
       "    </tr>\n",
       "  </tbody>\n",
       "</table>\n",
       "</div>"
      ],
      "text/plain": [
       "      key_word  year    pos    neg  freq_pos\n",
       "0      cultura  2019   7474   1550  0.828236\n",
       "1      cultura  2020   6460   1689  0.792735\n",
       "2      cultura  2021   5088   1057  0.827990\n",
       "3      cultura  2022   2179    575  0.791213\n",
       "4      empresa  2019    931   2338  0.284797\n",
       "5      empresa  2020   1103   4282  0.204828\n",
       "6      empresa  2021    882   3723  0.191531\n",
       "7      empresa  2022    360   1735  0.171838\n",
       "8      jovenes  2019   3992   1543  0.721229\n",
       "9      jovenes  2020   2674   1118  0.705169\n",
       "10     jovenes  2021   4866   2588  0.652804\n",
       "11     jovenes  2022   1686   1249  0.574446\n",
       "12       metro  2019   3534  10545  0.251012\n",
       "13       metro  2020   3288   8325  0.283131\n",
       "14       metro  2021   2707   7230  0.272416\n",
       "15       metro  2022   1292   3910  0.248366\n",
       "16   movilidad  2019   4223   4009  0.512998\n",
       "17   movilidad  2020   2799   3221  0.464950\n",
       "18   movilidad  2021   2001   3178  0.386368\n",
       "19   movilidad  2022    761   1412  0.350207\n",
       "20   seguridad  2019   4729   3748  0.557862\n",
       "21   seguridad  2020   3798   3064  0.553483\n",
       "22   seguridad  2021   3665   4178  0.467296\n",
       "23   seguridad  2022   1797   3471  0.341116\n",
       "24  tecnologia  2019   2042    494  0.805205\n",
       "25  tecnologia  2020   1862    789  0.702376\n",
       "26  tecnologia  2021    951    207  0.821244\n",
       "27  tecnologia  2022    592    143  0.805442\n",
       "28     trabajo  2019   7694   1278  0.857557\n",
       "29     trabajo  2020   8394   2039  0.804562\n",
       "30     trabajo  2021   8396   2829  0.747973\n",
       "31     trabajo  2022   4016   1428  0.737693\n",
       "32        vida  2019  12454   2055  0.858364\n",
       "33        vida  2020  11436   2543  0.818084\n",
       "34        vida  2021  11679   2795  0.806895\n",
       "35        vida  2022   4936   1423  0.776223"
      ]
     },
     "execution_count": 35,
     "metadata": {},
     "output_type": "execute_result"
    }
   ],
   "source": [
    "df_sent"
   ]
  },
  {
   "cell_type": "code",
   "execution_count": 43,
   "metadata": {},
   "outputs": [
    {
     "data": {
      "application/vnd.plotly.v1+json": {
       "config": {
        "plotlyServerURL": "https://plot.ly"
       },
       "data": [
        {
         "hovertemplate": "key_word=cultura<br>year=%{x}<br>freq_pos=%{y}<extra></extra>",
         "legendgroup": "cultura",
         "line": {
          "color": "#636efa",
          "dash": "solid"
         },
         "marker": {
          "symbol": "circle"
         },
         "mode": "lines",
         "name": "cultura",
         "orientation": "v",
         "showlegend": true,
         "type": "scatter",
         "x": [
          2019,
          2020,
          2021,
          2022
         ],
         "xaxis": "x",
         "y": [
          0.8282358156028369,
          0.7927353049453921,
          0.8279902359641985,
          0.7912127814088599
         ],
         "yaxis": "y"
        },
        {
         "hovertemplate": "key_word=empresa<br>year=%{x}<br>freq_pos=%{y}<extra></extra>",
         "legendgroup": "empresa",
         "line": {
          "color": "#EF553B",
          "dash": "solid"
         },
         "marker": {
          "symbol": "circle"
         },
         "mode": "lines",
         "name": "empresa",
         "orientation": "v",
         "showlegend": true,
         "type": "scatter",
         "x": [
          2019,
          2020,
          2021,
          2022
         ],
         "xaxis": "x",
         "y": [
          0.284796573875803,
          0.20482822655524605,
          0.19153094462540718,
          0.1718377088305489
         ],
         "yaxis": "y"
        },
        {
         "hovertemplate": "key_word=jovenes<br>year=%{x}<br>freq_pos=%{y}<extra></extra>",
         "legendgroup": "jovenes",
         "line": {
          "color": "#00cc96",
          "dash": "solid"
         },
         "marker": {
          "symbol": "circle"
         },
         "mode": "lines",
         "name": "jovenes",
         "orientation": "v",
         "showlegend": true,
         "type": "scatter",
         "x": [
          2019,
          2020,
          2021,
          2022
         ],
         "xaxis": "x",
         "y": [
          0.7212285456187896,
          0.705168776371308,
          0.6528038636973437,
          0.5744463373083475
         ],
         "yaxis": "y"
        },
        {
         "hovertemplate": "key_word=metro<br>year=%{x}<br>freq_pos=%{y}<extra></extra>",
         "legendgroup": "metro",
         "line": {
          "color": "#ab63fa",
          "dash": "solid"
         },
         "marker": {
          "symbol": "circle"
         },
         "mode": "lines",
         "name": "metro",
         "orientation": "v",
         "showlegend": true,
         "type": "scatter",
         "x": [
          2019,
          2020,
          2021,
          2022
         ],
         "xaxis": "x",
         "y": [
          0.25101214574898784,
          0.28313097390855074,
          0.2724162221998591,
          0.24836601307189543
         ],
         "yaxis": "y"
        },
        {
         "hovertemplate": "key_word=movilidad<br>year=%{x}<br>freq_pos=%{y}<extra></extra>",
         "legendgroup": "movilidad",
         "line": {
          "color": "#FFA15A",
          "dash": "solid"
         },
         "marker": {
          "symbol": "circle"
         },
         "mode": "lines",
         "name": "movilidad",
         "orientation": "v",
         "showlegend": true,
         "type": "scatter",
         "x": [
          2019,
          2020,
          2021,
          2022
         ],
         "xaxis": "x",
         "y": [
          0.5129980563654033,
          0.4649501661129568,
          0.386368024715196,
          0.35020708697653014
         ],
         "yaxis": "y"
        },
        {
         "hovertemplate": "key_word=seguridad<br>year=%{x}<br>freq_pos=%{y}<extra></extra>",
         "legendgroup": "seguridad",
         "line": {
          "color": "#19d3f3",
          "dash": "solid"
         },
         "marker": {
          "symbol": "circle"
         },
         "mode": "lines",
         "name": "seguridad",
         "orientation": "v",
         "showlegend": true,
         "type": "scatter",
         "x": [
          2019,
          2020,
          2021,
          2022
         ],
         "xaxis": "x",
         "y": [
          0.5578624513389171,
          0.5534829495773826,
          0.4672956776743593,
          0.34111617312072895
         ],
         "yaxis": "y"
        },
        {
         "hovertemplate": "key_word=tecnologia<br>year=%{x}<br>freq_pos=%{y}<extra></extra>",
         "legendgroup": "tecnologia",
         "line": {
          "color": "#FF6692",
          "dash": "solid"
         },
         "marker": {
          "symbol": "circle"
         },
         "mode": "lines",
         "name": "tecnologia",
         "orientation": "v",
         "showlegend": true,
         "type": "scatter",
         "x": [
          2019,
          2020,
          2021,
          2022
         ],
         "xaxis": "x",
         "y": [
          0.805205047318612,
          0.7023764617125613,
          0.8212435233160622,
          0.8054421768707483
         ],
         "yaxis": "y"
        },
        {
         "hovertemplate": "key_word=trabajo<br>year=%{x}<br>freq_pos=%{y}<extra></extra>",
         "legendgroup": "trabajo",
         "line": {
          "color": "#B6E880",
          "dash": "solid"
         },
         "marker": {
          "symbol": "circle"
         },
         "mode": "lines",
         "name": "trabajo",
         "orientation": "v",
         "showlegend": true,
         "type": "scatter",
         "x": [
          2019,
          2020,
          2021,
          2022
         ],
         "xaxis": "x",
         "y": [
          0.857556843513152,
          0.8045624460845394,
          0.7479732739420936,
          0.7376928728875827
         ],
         "yaxis": "y"
        },
        {
         "hovertemplate": "key_word=vida<br>year=%{x}<br>freq_pos=%{y}<extra></extra>",
         "legendgroup": "vida",
         "line": {
          "color": "#FF97FF",
          "dash": "solid"
         },
         "marker": {
          "symbol": "circle"
         },
         "mode": "lines",
         "name": "vida",
         "orientation": "v",
         "showlegend": true,
         "type": "scatter",
         "x": [
          2019,
          2020,
          2021,
          2022
         ],
         "xaxis": "x",
         "y": [
          0.8583637742091116,
          0.8180842692610344,
          0.806895122288241,
          0.7762226765214656
         ],
         "yaxis": "y"
        }
       ],
       "layout": {
        "legend": {
         "title": {
          "text": "key_word"
         },
         "tracegroupgap": 0
        },
        "template": {
         "data": {
          "bar": [
           {
            "error_x": {
             "color": "#2a3f5f"
            },
            "error_y": {
             "color": "#2a3f5f"
            },
            "marker": {
             "line": {
              "color": "#E5ECF6",
              "width": 0.5
             },
             "pattern": {
              "fillmode": "overlay",
              "size": 10,
              "solidity": 0.2
             }
            },
            "type": "bar"
           }
          ],
          "barpolar": [
           {
            "marker": {
             "line": {
              "color": "#E5ECF6",
              "width": 0.5
             },
             "pattern": {
              "fillmode": "overlay",
              "size": 10,
              "solidity": 0.2
             }
            },
            "type": "barpolar"
           }
          ],
          "carpet": [
           {
            "aaxis": {
             "endlinecolor": "#2a3f5f",
             "gridcolor": "white",
             "linecolor": "white",
             "minorgridcolor": "white",
             "startlinecolor": "#2a3f5f"
            },
            "baxis": {
             "endlinecolor": "#2a3f5f",
             "gridcolor": "white",
             "linecolor": "white",
             "minorgridcolor": "white",
             "startlinecolor": "#2a3f5f"
            },
            "type": "carpet"
           }
          ],
          "choropleth": [
           {
            "colorbar": {
             "outlinewidth": 0,
             "ticks": ""
            },
            "type": "choropleth"
           }
          ],
          "contour": [
           {
            "colorbar": {
             "outlinewidth": 0,
             "ticks": ""
            },
            "colorscale": [
             [
              0,
              "#0d0887"
             ],
             [
              0.1111111111111111,
              "#46039f"
             ],
             [
              0.2222222222222222,
              "#7201a8"
             ],
             [
              0.3333333333333333,
              "#9c179e"
             ],
             [
              0.4444444444444444,
              "#bd3786"
             ],
             [
              0.5555555555555556,
              "#d8576b"
             ],
             [
              0.6666666666666666,
              "#ed7953"
             ],
             [
              0.7777777777777778,
              "#fb9f3a"
             ],
             [
              0.8888888888888888,
              "#fdca26"
             ],
             [
              1,
              "#f0f921"
             ]
            ],
            "type": "contour"
           }
          ],
          "contourcarpet": [
           {
            "colorbar": {
             "outlinewidth": 0,
             "ticks": ""
            },
            "type": "contourcarpet"
           }
          ],
          "heatmap": [
           {
            "colorbar": {
             "outlinewidth": 0,
             "ticks": ""
            },
            "colorscale": [
             [
              0,
              "#0d0887"
             ],
             [
              0.1111111111111111,
              "#46039f"
             ],
             [
              0.2222222222222222,
              "#7201a8"
             ],
             [
              0.3333333333333333,
              "#9c179e"
             ],
             [
              0.4444444444444444,
              "#bd3786"
             ],
             [
              0.5555555555555556,
              "#d8576b"
             ],
             [
              0.6666666666666666,
              "#ed7953"
             ],
             [
              0.7777777777777778,
              "#fb9f3a"
             ],
             [
              0.8888888888888888,
              "#fdca26"
             ],
             [
              1,
              "#f0f921"
             ]
            ],
            "type": "heatmap"
           }
          ],
          "heatmapgl": [
           {
            "colorbar": {
             "outlinewidth": 0,
             "ticks": ""
            },
            "colorscale": [
             [
              0,
              "#0d0887"
             ],
             [
              0.1111111111111111,
              "#46039f"
             ],
             [
              0.2222222222222222,
              "#7201a8"
             ],
             [
              0.3333333333333333,
              "#9c179e"
             ],
             [
              0.4444444444444444,
              "#bd3786"
             ],
             [
              0.5555555555555556,
              "#d8576b"
             ],
             [
              0.6666666666666666,
              "#ed7953"
             ],
             [
              0.7777777777777778,
              "#fb9f3a"
             ],
             [
              0.8888888888888888,
              "#fdca26"
             ],
             [
              1,
              "#f0f921"
             ]
            ],
            "type": "heatmapgl"
           }
          ],
          "histogram": [
           {
            "marker": {
             "pattern": {
              "fillmode": "overlay",
              "size": 10,
              "solidity": 0.2
             }
            },
            "type": "histogram"
           }
          ],
          "histogram2d": [
           {
            "colorbar": {
             "outlinewidth": 0,
             "ticks": ""
            },
            "colorscale": [
             [
              0,
              "#0d0887"
             ],
             [
              0.1111111111111111,
              "#46039f"
             ],
             [
              0.2222222222222222,
              "#7201a8"
             ],
             [
              0.3333333333333333,
              "#9c179e"
             ],
             [
              0.4444444444444444,
              "#bd3786"
             ],
             [
              0.5555555555555556,
              "#d8576b"
             ],
             [
              0.6666666666666666,
              "#ed7953"
             ],
             [
              0.7777777777777778,
              "#fb9f3a"
             ],
             [
              0.8888888888888888,
              "#fdca26"
             ],
             [
              1,
              "#f0f921"
             ]
            ],
            "type": "histogram2d"
           }
          ],
          "histogram2dcontour": [
           {
            "colorbar": {
             "outlinewidth": 0,
             "ticks": ""
            },
            "colorscale": [
             [
              0,
              "#0d0887"
             ],
             [
              0.1111111111111111,
              "#46039f"
             ],
             [
              0.2222222222222222,
              "#7201a8"
             ],
             [
              0.3333333333333333,
              "#9c179e"
             ],
             [
              0.4444444444444444,
              "#bd3786"
             ],
             [
              0.5555555555555556,
              "#d8576b"
             ],
             [
              0.6666666666666666,
              "#ed7953"
             ],
             [
              0.7777777777777778,
              "#fb9f3a"
             ],
             [
              0.8888888888888888,
              "#fdca26"
             ],
             [
              1,
              "#f0f921"
             ]
            ],
            "type": "histogram2dcontour"
           }
          ],
          "mesh3d": [
           {
            "colorbar": {
             "outlinewidth": 0,
             "ticks": ""
            },
            "type": "mesh3d"
           }
          ],
          "parcoords": [
           {
            "line": {
             "colorbar": {
              "outlinewidth": 0,
              "ticks": ""
             }
            },
            "type": "parcoords"
           }
          ],
          "pie": [
           {
            "automargin": true,
            "type": "pie"
           }
          ],
          "scatter": [
           {
            "fillpattern": {
             "fillmode": "overlay",
             "size": 10,
             "solidity": 0.2
            },
            "type": "scatter"
           }
          ],
          "scatter3d": [
           {
            "line": {
             "colorbar": {
              "outlinewidth": 0,
              "ticks": ""
             }
            },
            "marker": {
             "colorbar": {
              "outlinewidth": 0,
              "ticks": ""
             }
            },
            "type": "scatter3d"
           }
          ],
          "scattercarpet": [
           {
            "marker": {
             "colorbar": {
              "outlinewidth": 0,
              "ticks": ""
             }
            },
            "type": "scattercarpet"
           }
          ],
          "scattergeo": [
           {
            "marker": {
             "colorbar": {
              "outlinewidth": 0,
              "ticks": ""
             }
            },
            "type": "scattergeo"
           }
          ],
          "scattergl": [
           {
            "marker": {
             "colorbar": {
              "outlinewidth": 0,
              "ticks": ""
             }
            },
            "type": "scattergl"
           }
          ],
          "scattermapbox": [
           {
            "marker": {
             "colorbar": {
              "outlinewidth": 0,
              "ticks": ""
             }
            },
            "type": "scattermapbox"
           }
          ],
          "scatterpolar": [
           {
            "marker": {
             "colorbar": {
              "outlinewidth": 0,
              "ticks": ""
             }
            },
            "type": "scatterpolar"
           }
          ],
          "scatterpolargl": [
           {
            "marker": {
             "colorbar": {
              "outlinewidth": 0,
              "ticks": ""
             }
            },
            "type": "scatterpolargl"
           }
          ],
          "scatterternary": [
           {
            "marker": {
             "colorbar": {
              "outlinewidth": 0,
              "ticks": ""
             }
            },
            "type": "scatterternary"
           }
          ],
          "surface": [
           {
            "colorbar": {
             "outlinewidth": 0,
             "ticks": ""
            },
            "colorscale": [
             [
              0,
              "#0d0887"
             ],
             [
              0.1111111111111111,
              "#46039f"
             ],
             [
              0.2222222222222222,
              "#7201a8"
             ],
             [
              0.3333333333333333,
              "#9c179e"
             ],
             [
              0.4444444444444444,
              "#bd3786"
             ],
             [
              0.5555555555555556,
              "#d8576b"
             ],
             [
              0.6666666666666666,
              "#ed7953"
             ],
             [
              0.7777777777777778,
              "#fb9f3a"
             ],
             [
              0.8888888888888888,
              "#fdca26"
             ],
             [
              1,
              "#f0f921"
             ]
            ],
            "type": "surface"
           }
          ],
          "table": [
           {
            "cells": {
             "fill": {
              "color": "#EBF0F8"
             },
             "line": {
              "color": "white"
             }
            },
            "header": {
             "fill": {
              "color": "#C8D4E3"
             },
             "line": {
              "color": "white"
             }
            },
            "type": "table"
           }
          ]
         },
         "layout": {
          "annotationdefaults": {
           "arrowcolor": "#2a3f5f",
           "arrowhead": 0,
           "arrowwidth": 1
          },
          "autotypenumbers": "strict",
          "coloraxis": {
           "colorbar": {
            "outlinewidth": 0,
            "ticks": ""
           }
          },
          "colorscale": {
           "diverging": [
            [
             0,
             "#8e0152"
            ],
            [
             0.1,
             "#c51b7d"
            ],
            [
             0.2,
             "#de77ae"
            ],
            [
             0.3,
             "#f1b6da"
            ],
            [
             0.4,
             "#fde0ef"
            ],
            [
             0.5,
             "#f7f7f7"
            ],
            [
             0.6,
             "#e6f5d0"
            ],
            [
             0.7,
             "#b8e186"
            ],
            [
             0.8,
             "#7fbc41"
            ],
            [
             0.9,
             "#4d9221"
            ],
            [
             1,
             "#276419"
            ]
           ],
           "sequential": [
            [
             0,
             "#0d0887"
            ],
            [
             0.1111111111111111,
             "#46039f"
            ],
            [
             0.2222222222222222,
             "#7201a8"
            ],
            [
             0.3333333333333333,
             "#9c179e"
            ],
            [
             0.4444444444444444,
             "#bd3786"
            ],
            [
             0.5555555555555556,
             "#d8576b"
            ],
            [
             0.6666666666666666,
             "#ed7953"
            ],
            [
             0.7777777777777778,
             "#fb9f3a"
            ],
            [
             0.8888888888888888,
             "#fdca26"
            ],
            [
             1,
             "#f0f921"
            ]
           ],
           "sequentialminus": [
            [
             0,
             "#0d0887"
            ],
            [
             0.1111111111111111,
             "#46039f"
            ],
            [
             0.2222222222222222,
             "#7201a8"
            ],
            [
             0.3333333333333333,
             "#9c179e"
            ],
            [
             0.4444444444444444,
             "#bd3786"
            ],
            [
             0.5555555555555556,
             "#d8576b"
            ],
            [
             0.6666666666666666,
             "#ed7953"
            ],
            [
             0.7777777777777778,
             "#fb9f3a"
            ],
            [
             0.8888888888888888,
             "#fdca26"
            ],
            [
             1,
             "#f0f921"
            ]
           ]
          },
          "colorway": [
           "#636efa",
           "#EF553B",
           "#00cc96",
           "#ab63fa",
           "#FFA15A",
           "#19d3f3",
           "#FF6692",
           "#B6E880",
           "#FF97FF",
           "#FECB52"
          ],
          "font": {
           "color": "#2a3f5f"
          },
          "geo": {
           "bgcolor": "white",
           "lakecolor": "white",
           "landcolor": "#E5ECF6",
           "showlakes": true,
           "showland": true,
           "subunitcolor": "white"
          },
          "hoverlabel": {
           "align": "left"
          },
          "hovermode": "closest",
          "mapbox": {
           "style": "light"
          },
          "paper_bgcolor": "white",
          "plot_bgcolor": "#E5ECF6",
          "polar": {
           "angularaxis": {
            "gridcolor": "white",
            "linecolor": "white",
            "ticks": ""
           },
           "bgcolor": "#E5ECF6",
           "radialaxis": {
            "gridcolor": "white",
            "linecolor": "white",
            "ticks": ""
           }
          },
          "scene": {
           "xaxis": {
            "backgroundcolor": "#E5ECF6",
            "gridcolor": "white",
            "gridwidth": 2,
            "linecolor": "white",
            "showbackground": true,
            "ticks": "",
            "zerolinecolor": "white"
           },
           "yaxis": {
            "backgroundcolor": "#E5ECF6",
            "gridcolor": "white",
            "gridwidth": 2,
            "linecolor": "white",
            "showbackground": true,
            "ticks": "",
            "zerolinecolor": "white"
           },
           "zaxis": {
            "backgroundcolor": "#E5ECF6",
            "gridcolor": "white",
            "gridwidth": 2,
            "linecolor": "white",
            "showbackground": true,
            "ticks": "",
            "zerolinecolor": "white"
           }
          },
          "shapedefaults": {
           "line": {
            "color": "#2a3f5f"
           }
          },
          "ternary": {
           "aaxis": {
            "gridcolor": "white",
            "linecolor": "white",
            "ticks": ""
           },
           "baxis": {
            "gridcolor": "white",
            "linecolor": "white",
            "ticks": ""
           },
           "bgcolor": "#E5ECF6",
           "caxis": {
            "gridcolor": "white",
            "linecolor": "white",
            "ticks": ""
           }
          },
          "title": {
           "x": 0.05
          },
          "xaxis": {
           "automargin": true,
           "gridcolor": "white",
           "linecolor": "white",
           "ticks": "",
           "title": {
            "standoff": 15
           },
           "zerolinecolor": "white",
           "zerolinewidth": 2
          },
          "yaxis": {
           "automargin": true,
           "gridcolor": "white",
           "linecolor": "white",
           "ticks": "",
           "title": {
            "standoff": 15
           },
           "zerolinecolor": "white",
           "zerolinewidth": 2
          }
         }
        },
        "title": {
         "text": "Frequency of Positive Tweets"
        },
        "width": 600,
        "xaxis": {
         "anchor": "y",
         "domain": [
          0,
          1
         ],
         "title": {
          "text": "year"
         }
        },
        "yaxis": {
         "anchor": "x",
         "domain": [
          0,
          1
         ],
         "title": {
          "text": "freq_pos"
         }
        }
       }
      }
     },
     "metadata": {},
     "output_type": "display_data"
    }
   ],
   "source": [
    "px.line(df_sent, x='year', y='freq_pos', color='key_word', title='Frequency of Positive Tweets',width=600)"
   ]
  }
 ],
 "metadata": {
  "kernelspec": {
   "display_name": "Python 3.8.8 ('base')",
   "language": "python",
   "name": "python3"
  },
  "language_info": {
   "codemirror_mode": {
    "name": "ipython",
    "version": 3
   },
   "file_extension": ".py",
   "mimetype": "text/x-python",
   "name": "python",
   "nbconvert_exporter": "python",
   "pygments_lexer": "ipython3",
   "version": "3.8.8"
  },
  "orig_nbformat": 4,
  "vscode": {
   "interpreter": {
    "hash": "40d3a090f54c6569ab1632332b64b2c03c39dcf918b08424e98f38b5ae0af88f"
   }
  }
 },
 "nbformat": 4,
 "nbformat_minor": 2
}
