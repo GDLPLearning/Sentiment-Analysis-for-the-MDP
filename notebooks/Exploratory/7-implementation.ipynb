{
 "cells": [
  {
   "cell_type": "markdown",
   "metadata": {},
   "source": [
    "# IMPLEMENTATION"
   ]
  },
  {
   "cell_type": "code",
   "execution_count": 1,
   "metadata": {},
   "outputs": [],
   "source": [
    "import pandas as pd\n",
    "import numpy as np\n",
    "import matplotlib.pyplot as plt\n",
    "import seaborn as sns\n",
    "import pylab as pl  \n",
    "import plotly.express as px"
   ]
  },
  {
   "cell_type": "code",
   "execution_count": 2,
   "metadata": {},
   "outputs": [],
   "source": [
    "from sklearn.model_selection import train_test_split\n",
    "from sklearn.linear_model import LogisticRegression\n",
    "from sklearn.metrics import accuracy_score\n",
    "from sklearn.metrics import f1_score\n",
    "from sklearn.metrics import confusion_matrix\n",
    "from sklearn.feature_extraction.text import TfidfVectorizer\n",
    "from sklearn.feature_extraction.text import HashingVectorizer\n",
    "from sklearn.feature_extraction.text import CountVectorizer"
   ]
  },
  {
   "cell_type": "code",
   "execution_count": 3,
   "metadata": {},
   "outputs": [],
   "source": [
    "from other import tools"
   ]
  },
  {
   "cell_type": "code",
   "execution_count": 4,
   "metadata": {},
   "outputs": [],
   "source": [
    "df_rating=pd.read_csv('https://raw.githubusercontent.com/GDLPLearning/Sentiment-Analysis-for-the-MDP/master/notebooks/Exploratory/data/sentiment.csv')"
   ]
  },
  {
   "cell_type": "code",
   "execution_count": 5,
   "metadata": {},
   "outputs": [
    {
     "data": {
      "text/html": [
       "<div>\n",
       "<style scoped>\n",
       "    .dataframe tbody tr th:only-of-type {\n",
       "        vertical-align: middle;\n",
       "    }\n",
       "\n",
       "    .dataframe tbody tr th {\n",
       "        vertical-align: top;\n",
       "    }\n",
       "\n",
       "    .dataframe thead th {\n",
       "        text-align: right;\n",
       "    }\n",
       "</style>\n",
       "<table border=\"1\" class=\"dataframe\">\n",
       "  <thead>\n",
       "    <tr style=\"text-align: right;\">\n",
       "      <th></th>\n",
       "      <th>full_text</th>\n",
       "      <th>sentiment</th>\n",
       "    </tr>\n",
       "  </thead>\n",
       "  <tbody>\n",
       "    <tr>\n",
       "      <th>0</th>\n",
       "      <td>@camipaisa1 @Marbelle30 Soy antioqueño de nac...</td>\n",
       "      <td>0</td>\n",
       "    </tr>\n",
       "    <tr>\n",
       "      <th>1</th>\n",
       "      <td>@AlejaLoC Medellin lastimosamente a vivido en ...</td>\n",
       "      <td>0</td>\n",
       "    </tr>\n",
       "    <tr>\n",
       "      <th>2</th>\n",
       "      <td>Señora acomplejada nosotros los paisas no la ...</td>\n",
       "      <td>0</td>\n",
       "    </tr>\n",
       "    <tr>\n",
       "      <th>3</th>\n",
       "      <td>@cocoa_nini @diamaov La cultura traqueta de M...</td>\n",
       "      <td>0</td>\n",
       "    </tr>\n",
       "    <tr>\n",
       "      <th>4</th>\n",
       "      <td>@PinoCalad Los efectos de la cultura traqueta ...</td>\n",
       "      <td>0</td>\n",
       "    </tr>\n",
       "  </tbody>\n",
       "</table>\n",
       "</div>"
      ],
      "text/plain": [
       "                                           full_text  sentiment\n",
       "0   @camipaisa1 @Marbelle30 Soy antioqueño de nac...          0\n",
       "1  @AlejaLoC Medellin lastimosamente a vivido en ...          0\n",
       "2   Señora acomplejada nosotros los paisas no la ...          0\n",
       "3   @cocoa_nini @diamaov La cultura traqueta de M...          0\n",
       "4  @PinoCalad Los efectos de la cultura traqueta ...          0"
      ]
     },
     "execution_count": 5,
     "metadata": {},
     "output_type": "execute_result"
    }
   ],
   "source": [
    "df_rating.head()"
   ]
  },
  {
   "cell_type": "code",
   "execution_count": 6,
   "metadata": {},
   "outputs": [],
   "source": [
    "# clean the tweet and save it on a new column\n",
    "\n",
    "def clean_tweet(tweet):\n",
    "\n",
    "  new_tweet = ''\n",
    "  words = tweet.split()\n",
    "  for w in words:\n",
    "    wl = w.lower() # word in lower case\n",
    "    \n",
    "    # replace numbers\n",
    "    for number, new_value in tools.replace_numbers_dict.items():\n",
    "      wl = str(wl).replace(number,new_value)\n",
    "\n",
    "    # replace some punctuations mark to keep only words\n",
    "    for punctuation, new_value in tools.replace_punctuation_dict.items():\n",
    "      wl = wl.replace(punctuation,new_value)\n",
    "    \n",
    "    # replace accent mark \n",
    "    for accent, new_value in tools.replace_accent_dict.items():\n",
    "      wl = wl.replace(accent,new_value)\n",
    "\n",
    "    if wl not in tools.model_stop_wprds:\n",
    "      new_tweet += f'{wl} '\n",
    "  \n",
    "  return new_tweet[:-1]"
   ]
  },
  {
   "cell_type": "code",
   "execution_count": 7,
   "metadata": {},
   "outputs": [],
   "source": [
    "df_rating['tweet'] = df_rating['full_text'].apply(clean_tweet)"
   ]
  },
  {
   "cell_type": "code",
   "execution_count": 8,
   "metadata": {},
   "outputs": [
    {
     "data": {
      "text/html": [
       "<div>\n",
       "<style scoped>\n",
       "    .dataframe tbody tr th:only-of-type {\n",
       "        vertical-align: middle;\n",
       "    }\n",
       "\n",
       "    .dataframe tbody tr th {\n",
       "        vertical-align: top;\n",
       "    }\n",
       "\n",
       "    .dataframe thead th {\n",
       "        text-align: right;\n",
       "    }\n",
       "</style>\n",
       "<table border=\"1\" class=\"dataframe\">\n",
       "  <thead>\n",
       "    <tr style=\"text-align: right;\">\n",
       "      <th></th>\n",
       "      <th>full_text</th>\n",
       "      <th>sentiment</th>\n",
       "      <th>tweet</th>\n",
       "    </tr>\n",
       "  </thead>\n",
       "  <tbody>\n",
       "    <tr>\n",
       "      <th>0</th>\n",
       "      <td>@camipaisa1 @Marbelle30 Soy antioqueño de nac...</td>\n",
       "      <td>0</td>\n",
       "      <td>camipaisa marbelle antioqueño nacimiento verda...</td>\n",
       "    </tr>\n",
       "    <tr>\n",
       "      <th>1</th>\n",
       "      <td>@AlejaLoC Medellin lastimosamente a vivido en ...</td>\n",
       "      <td>0</td>\n",
       "      <td>alejaloc medellin lastimosamente vivido cultur...</td>\n",
       "    </tr>\n",
       "    <tr>\n",
       "      <th>2</th>\n",
       "      <td>Señora acomplejada nosotros los paisas no la ...</td>\n",
       "      <td>0</td>\n",
       "      <td>señora acomplejada nosotros paisas queremos me...</td>\n",
       "    </tr>\n",
       "    <tr>\n",
       "      <th>3</th>\n",
       "      <td>@cocoa_nini @diamaov La cultura traqueta de M...</td>\n",
       "      <td>0</td>\n",
       "      <td>cocoanini diamaov cultura traqueta medellin se...</td>\n",
       "    </tr>\n",
       "    <tr>\n",
       "      <th>4</th>\n",
       "      <td>@PinoCalad Los efectos de la cultura traqueta ...</td>\n",
       "      <td>0</td>\n",
       "      <td>pinocalad efectos cultura traqueta dejo escoba...</td>\n",
       "    </tr>\n",
       "    <tr>\n",
       "      <th>5</th>\n",
       "      <td>@karinin7986 Soy de Medellín y la cultura pais...</td>\n",
       "      <td>0</td>\n",
       "      <td>karinin medellin cultura paisa asco verguenza</td>\n",
       "    </tr>\n",
       "    <tr>\n",
       "      <th>6</th>\n",
       "      <td>Para nadie es un secreto que la sociedad Pais...</td>\n",
       "      <td>0</td>\n",
       "      <td>nadie secreto sociedad paisa medellin valle ab...</td>\n",
       "    </tr>\n",
       "    <tr>\n",
       "      <th>7</th>\n",
       "      <td>Esa cultura traqueta que carcome a medellín y ...</td>\n",
       "      <td>0</td>\n",
       "      <td>cultura traqueta carcome medellin aun sigue vi...</td>\n",
       "    </tr>\n",
       "    <tr>\n",
       "      <th>8</th>\n",
       "      <td>cansadita de la gente de Medellín, y la cultu...</td>\n",
       "      <td>0</td>\n",
       "      <td>cansadita gente medellin cultura paisa</td>\n",
       "    </tr>\n",
       "    <tr>\n",
       "      <th>9</th>\n",
       "      <td>@nocontextSebs En Medellín no están lejos de p...</td>\n",
       "      <td>0</td>\n",
       "      <td>nocontextsebs medellin lejos pensar superiorid...</td>\n",
       "    </tr>\n",
       "  </tbody>\n",
       "</table>\n",
       "</div>"
      ],
      "text/plain": [
       "                                           full_text  sentiment  \\\n",
       "0   @camipaisa1 @Marbelle30 Soy antioqueño de nac...          0   \n",
       "1  @AlejaLoC Medellin lastimosamente a vivido en ...          0   \n",
       "2   Señora acomplejada nosotros los paisas no la ...          0   \n",
       "3   @cocoa_nini @diamaov La cultura traqueta de M...          0   \n",
       "4  @PinoCalad Los efectos de la cultura traqueta ...          0   \n",
       "5  @karinin7986 Soy de Medellín y la cultura pais...          0   \n",
       "6   Para nadie es un secreto que la sociedad Pais...          0   \n",
       "7  Esa cultura traqueta que carcome a medellín y ...          0   \n",
       "8   cansadita de la gente de Medellín, y la cultu...          0   \n",
       "9  @nocontextSebs En Medellín no están lejos de p...          0   \n",
       "\n",
       "                                               tweet  \n",
       "0  camipaisa marbelle antioqueño nacimiento verda...  \n",
       "1  alejaloc medellin lastimosamente vivido cultur...  \n",
       "2  señora acomplejada nosotros paisas queremos me...  \n",
       "3  cocoanini diamaov cultura traqueta medellin se...  \n",
       "4  pinocalad efectos cultura traqueta dejo escoba...  \n",
       "5      karinin medellin cultura paisa asco verguenza  \n",
       "6  nadie secreto sociedad paisa medellin valle ab...  \n",
       "7  cultura traqueta carcome medellin aun sigue vi...  \n",
       "8             cansadita gente medellin cultura paisa  \n",
       "9  nocontextsebs medellin lejos pensar superiorid...  "
      ]
     },
     "execution_count": 8,
     "metadata": {},
     "output_type": "execute_result"
    }
   ],
   "source": [
    "df_rating.head(10)"
   ]
  },
  {
   "cell_type": "code",
   "execution_count": 9,
   "metadata": {},
   "outputs": [],
   "source": [
    "# make a copy of the data\n",
    "df_ml = df_rating.copy()"
   ]
  },
  {
   "cell_type": "code",
   "execution_count": 10,
   "metadata": {},
   "outputs": [],
   "source": [
    "# split the data into train and test data\n",
    "tweets_train, tweets_test = train_test_split(df_rating, test_size=0.2, random_state=0)"
   ]
  },
  {
   "cell_type": "code",
   "execution_count": 11,
   "metadata": {},
   "outputs": [],
   "source": [
    "# creating the instance of CountVectorizer() to use it in the dataset\n",
    "vectorizer = CountVectorizer()"
   ]
  },
  {
   "cell_type": "code",
   "execution_count": 12,
   "metadata": {},
   "outputs": [],
   "source": [
    "x_train_bow = vectorizer.fit_transform(tweets_train['tweet'])\n",
    "x_test_bow = vectorizer.transform(tweets_test['tweet'])"
   ]
  },
  {
   "cell_type": "code",
   "execution_count": 13,
   "metadata": {},
   "outputs": [],
   "source": [
    "y_train_bow = tweets_train['sentiment']\n",
    "y_test_bow = tweets_test['sentiment']"
   ]
  },
  {
   "cell_type": "code",
   "execution_count": 14,
   "metadata": {},
   "outputs": [
    {
     "data": {
      "text/plain": [
       "0    0.611465\n",
       "1    0.388535\n",
       "Name: sentiment, dtype: float64"
      ]
     },
     "execution_count": 14,
     "metadata": {},
     "output_type": "execute_result"
    }
   ],
   "source": [
    "# percentage of positive and negative reviews\n",
    "y_test_bow.value_counts() / y_test_bow.shape[0]"
   ]
  },
  {
   "cell_type": "code",
   "execution_count": 15,
   "metadata": {},
   "outputs": [],
   "source": [
    "# Training the model \n",
    "lr_model_all = LogisticRegression(C=1, solver=\"liblinear\")\n",
    "lr_model_all.fit(x_train_bow, y_train_bow)\n",
    "# Predicting the output\n",
    "test_pred_lr_prob = lr_model_all.predict_proba(x_test_bow)\n",
    "test_pred_lr_all = lr_model_all.predict(x_test_bow)"
   ]
  },
  {
   "cell_type": "code",
   "execution_count": 21,
   "metadata": {},
   "outputs": [
    {
     "name": "stdout",
     "output_type": "stream",
     "text": [
      "The sentiment of the tweet is negative\n",
      "The probability of the tweet being negative is 6.030574322319115 %\n"
     ]
    }
   ],
   "source": [
    "text=input(\"Enter a tweet: \")\n",
    "text=clean_tweet(text)\n",
    "text=vectorizer.transform([text])\n",
    "text=text.toarray()\n",
    "text=text.reshape(1,-1)\n",
    "prediction=lr_model_all.predict(text)[0]\n",
    "probability=lr_model_all.predict_proba(text)[0,1]\n",
    "if prediction==0:\n",
    "    print(\"The sentiment of the tweet is negative\")\n",
    "    print(\"The probability of the tweet being negative is\",-100*(2*probability-1),\"%\")\n",
    "else:\n",
    "    print(\"The sentiment of the tweet is positive\")\n",
    "    print(\"The probability of the tweet being positive is\",100*(2*probability-1),\"%\")"
   ]
  }
 ],
 "metadata": {
  "kernelspec": {
   "display_name": "Python 3.8.8 ('base')",
   "language": "python",
   "name": "python3"
  },
  "language_info": {
   "codemirror_mode": {
    "name": "ipython",
    "version": 3
   },
   "file_extension": ".py",
   "mimetype": "text/x-python",
   "name": "python",
   "nbconvert_exporter": "python",
   "pygments_lexer": "ipython3",
   "version": "3.8.8"
  },
  "orig_nbformat": 4,
  "vscode": {
   "interpreter": {
    "hash": "40d3a090f54c6569ab1632332b64b2c03c39dcf918b08424e98f38b5ae0af88f"
   }
  }
 },
 "nbformat": 4,
 "nbformat_minor": 2
}
