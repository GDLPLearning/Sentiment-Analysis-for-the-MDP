{
 "cells": [
  {
   "cell_type": "markdown",
   "metadata": {},
   "source": [
    "# EVALUATION"
   ]
  },
  {
   "cell_type": "code",
   "execution_count": 1,
   "metadata": {},
   "outputs": [],
   "source": [
    "import pandas as pd\n",
    "import numpy as np\n",
    "import matplotlib.pyplot as plt\n",
    "import seaborn as sns\n",
    "import pylab as pl  \n",
    "import plotly.express as px"
   ]
  },
  {
   "cell_type": "code",
   "execution_count": 2,
   "metadata": {},
   "outputs": [],
   "source": [
    "from sklearn.model_selection import train_test_split\n",
    "from sklearn.linear_model import LogisticRegression\n",
    "from sklearn.metrics import accuracy_score\n",
    "from sklearn.metrics import f1_score\n",
    "from sklearn.metrics import confusion_matrix\n",
    "from sklearn.feature_extraction.text import TfidfVectorizer\n",
    "from sklearn.feature_extraction.text import HashingVectorizer\n",
    "from sklearn.feature_extraction.text import CountVectorizer"
   ]
  },
  {
   "cell_type": "code",
   "execution_count": 3,
   "metadata": {},
   "outputs": [],
   "source": [
    "from other import tools"
   ]
  },
  {
   "cell_type": "code",
   "execution_count": 4,
   "metadata": {},
   "outputs": [],
   "source": [
    "# clean the tweet and save it on a new column\n",
    "\n",
    "def clean_tweet(tweet):\n",
    "\n",
    "  new_tweet = ''\n",
    "  words = tweet.split()\n",
    "  for w in words:\n",
    "    wl = w.lower() # word in lower case\n",
    "    \n",
    "    # replace numbers\n",
    "    for number, new_value in tools.replace_numbers_dict.items():\n",
    "      wl = str(wl).replace(number,new_value)\n",
    "\n",
    "    # replace some punctuations mark to keep only words\n",
    "    for punctuation, new_value in tools.replace_punctuation_dict.items():\n",
    "      wl = wl.replace(punctuation,new_value)\n",
    "    \n",
    "    # replace accent mark \n",
    "    for accent, new_value in tools.replace_accent_dict.items():\n",
    "      wl = wl.replace(accent,new_value)\n",
    "\n",
    "    if wl not in tools.model_stop_wprds:\n",
    "      new_tweet += f'{wl} '\n",
    "  \n",
    "  return new_tweet[:-1]"
   ]
  },
  {
   "cell_type": "code",
   "execution_count": 5,
   "metadata": {},
   "outputs": [],
   "source": [
    "df_rating=pd.read_csv('data/sentiment_1_0.csv')\n",
    "df_sent = pd.read_csv('https://raw.githubusercontent.com/GDLPLearning/Sentiment-Analysis-for-the-MDP/master/notebooks/Exploratory/data/tweets_interim.csv')"
   ]
  },
  {
   "cell_type": "code",
   "execution_count": 6,
   "metadata": {},
   "outputs": [],
   "source": [
    "df_rating['tweet'] = df_rating['full_text'].apply(clean_tweet)\n",
    "df_sent['tweet'] = df_sent['full_text'].apply(clean_tweet)"
   ]
  },
  {
   "cell_type": "code",
   "execution_count": 7,
   "metadata": {},
   "outputs": [],
   "source": [
    "# split the data into train and test data\n",
    "tweets_train, tweets_test = train_test_split(df_rating, test_size=0.2, random_state=0)"
   ]
  },
  {
   "cell_type": "code",
   "execution_count": 8,
   "metadata": {},
   "outputs": [],
   "source": [
    "vectorizer = CountVectorizer()\n",
    "x_train_bow = vectorizer.fit_transform(tweets_train['tweet'])\n",
    "y_train_bow = tweets_train['sentiment']"
   ]
  },
  {
   "cell_type": "code",
   "execution_count": 9,
   "metadata": {},
   "outputs": [
    {
     "data": {
      "text/plain": [
       "LogisticRegression(C=1, solver='liblinear')"
      ]
     },
     "execution_count": 9,
     "metadata": {},
     "output_type": "execute_result"
    }
   ],
   "source": [
    "# Training the model \n",
    "lr_model_all = LogisticRegression(C=1, solver=\"liblinear\")\n",
    "lr_model_all.fit(x_train_bow, y_train_bow)"
   ]
  },
  {
   "cell_type": "code",
   "execution_count": 10,
   "metadata": {},
   "outputs": [],
   "source": [
    "vectorizer = CountVectorizer()\n",
    "x_train_bow = vectorizer.fit_transform(tweets_train['tweet'])\n",
    "x_predic_bow = vectorizer.transform(df_sent['tweet'])"
   ]
  },
  {
   "cell_type": "code",
   "execution_count": 11,
   "metadata": {},
   "outputs": [],
   "source": [
    "# Predicting the output\n",
    "hist_pred_lr_prob = lr_model_all.predict_proba(x_predic_bow)\n",
    "hist_pred_lr_all = lr_model_all.predict(x_predic_bow)"
   ]
  },
  {
   "cell_type": "code",
   "execution_count": 12,
   "metadata": {},
   "outputs": [],
   "source": [
    "probabilities = [each[1] for each in hist_pred_lr_prob]"
   ]
  },
  {
   "cell_type": "code",
   "execution_count": 13,
   "metadata": {},
   "outputs": [],
   "source": [
    "df_sent['predicted_sentiment'] = hist_pred_lr_all\n",
    "df_sent['Predicted_probability'] = probabilities"
   ]
  },
  {
   "cell_type": "code",
   "execution_count": 14,
   "metadata": {},
   "outputs": [
    {
     "data": {
      "text/html": [
       "<div>\n",
       "<style scoped>\n",
       "    .dataframe tbody tr th:only-of-type {\n",
       "        vertical-align: middle;\n",
       "    }\n",
       "\n",
       "    .dataframe tbody tr th {\n",
       "        vertical-align: top;\n",
       "    }\n",
       "\n",
       "    .dataframe thead th {\n",
       "        text-align: right;\n",
       "    }\n",
       "</style>\n",
       "<table border=\"1\" class=\"dataframe\">\n",
       "  <thead>\n",
       "    <tr style=\"text-align: right;\">\n",
       "      <th></th>\n",
       "      <th>full_text</th>\n",
       "      <th>key_word</th>\n",
       "      <th>hour</th>\n",
       "      <th>day_of_week</th>\n",
       "      <th>month</th>\n",
       "      <th>year</th>\n",
       "      <th>tweet</th>\n",
       "      <th>predicted_sentiment</th>\n",
       "      <th>Predicted_probability</th>\n",
       "    </tr>\n",
       "  </thead>\n",
       "  <tbody>\n",
       "    <tr>\n",
       "      <th>0</th>\n",
       "      <td>Me acordé que a los colombianos de mi ex trab...</td>\n",
       "      <td>trabajo</td>\n",
       "      <td>22</td>\n",
       "      <td>4</td>\n",
       "      <td>1</td>\n",
       "      <td>2020</td>\n",
       "      <td>acorde colombianos ex trabajo gustaba medellin...</td>\n",
       "      <td>1</td>\n",
       "      <td>0.552759</td>\n",
       "    </tr>\n",
       "    <tr>\n",
       "      <th>1</th>\n",
       "      <td>@JoseFBarriosG @VLADDO @Uber Como van a apoya...</td>\n",
       "      <td>trabajo</td>\n",
       "      <td>22</td>\n",
       "      <td>4</td>\n",
       "      <td>1</td>\n",
       "      <td>2020</td>\n",
       "      <td>josefbarriosg vladdo uber apoyar uber disminuy...</td>\n",
       "      <td>1</td>\n",
       "      <td>0.577848</td>\n",
       "    </tr>\n",
       "    <tr>\n",
       "      <th>2</th>\n",
       "      <td>En Tierragro sabemos que la labor en el campo...</td>\n",
       "      <td>trabajo</td>\n",
       "      <td>19</td>\n",
       "      <td>4</td>\n",
       "      <td>1</td>\n",
       "      <td>2020</td>\n",
       "      <td>tierragro sabemos labor campo implica tener bu...</td>\n",
       "      <td>0</td>\n",
       "      <td>0.491671</td>\n",
       "    </tr>\n",
       "    <tr>\n",
       "      <th>3</th>\n",
       "      <td>@seguridadmed PARA NADIE ES UN SECRETO GENERA...</td>\n",
       "      <td>trabajo</td>\n",
       "      <td>19</td>\n",
       "      <td>4</td>\n",
       "      <td>1</td>\n",
       "      <td>2020</td>\n",
       "      <td>seguridadmed nadie secreto general mas facil c...</td>\n",
       "      <td>0</td>\n",
       "      <td>0.353633</td>\n",
       "    </tr>\n",
       "    <tr>\n",
       "      <th>4</th>\n",
       "      <td>@kmilohurtado_81 @SaqueLargoWin Tengo casi un...</td>\n",
       "      <td>trabajo</td>\n",
       "      <td>18</td>\n",
       "      <td>4</td>\n",
       "      <td>1</td>\n",
       "      <td>2020</td>\n",
       "      <td>kmilohurtado saquelargowin tengo casi decena a...</td>\n",
       "      <td>0</td>\n",
       "      <td>0.398427</td>\n",
       "    </tr>\n",
       "    <tr>\n",
       "      <th>...</th>\n",
       "      <td>...</td>\n",
       "      <td>...</td>\n",
       "      <td>...</td>\n",
       "      <td>...</td>\n",
       "      <td>...</td>\n",
       "      <td>...</td>\n",
       "      <td>...</td>\n",
       "      <td>...</td>\n",
       "      <td>...</td>\n",
       "    </tr>\n",
       "    <tr>\n",
       "      <th>244497</th>\n",
       "      <td>@lumalo El desorden en todo lo relacionado a ...</td>\n",
       "      <td>movilidad</td>\n",
       "      <td>15</td>\n",
       "      <td>5</td>\n",
       "      <td>5</td>\n",
       "      <td>2022</td>\n",
       "      <td>lumalo desorden relacionado movilidad transito...</td>\n",
       "      <td>0</td>\n",
       "      <td>0.412423</td>\n",
       "    </tr>\n",
       "    <tr>\n",
       "      <th>244498</th>\n",
       "      <td>#Movilidad ¡Taxista! Así rotará el pico y pla...</td>\n",
       "      <td>movilidad</td>\n",
       "      <td>15</td>\n",
       "      <td>5</td>\n",
       "      <td>5</td>\n",
       "      <td>2022</td>\n",
       "      <td>movilidad taxista rotara pico placa medellin s...</td>\n",
       "      <td>0</td>\n",
       "      <td>0.330331</td>\n",
       "    </tr>\n",
       "    <tr>\n",
       "      <th>244499</th>\n",
       "      <td>Faltan días para dar inicio a nuestras giras ...</td>\n",
       "      <td>movilidad</td>\n",
       "      <td>1</td>\n",
       "      <td>5</td>\n",
       "      <td>5</td>\n",
       "      <td>2022</td>\n",
       "      <td>faltan dar inicio nuestras giras presenciales ...</td>\n",
       "      <td>1</td>\n",
       "      <td>0.501993</td>\n",
       "    </tr>\n",
       "    <tr>\n",
       "      <th>244500</th>\n",
       "      <td>@sttmed señores secretaria de la movilidad de...</td>\n",
       "      <td>movilidad</td>\n",
       "      <td>0</td>\n",
       "      <td>5</td>\n",
       "      <td>5</td>\n",
       "      <td>2022</td>\n",
       "      <td>sttmed señores movilidad ciudad medellin pregu...</td>\n",
       "      <td>0</td>\n",
       "      <td>0.418485</td>\n",
       "    </tr>\n",
       "    <tr>\n",
       "      <th>244501</th>\n",
       "      <td>@sttmed Se nota la inoperancia de la secretar...</td>\n",
       "      <td>movilidad</td>\n",
       "      <td>0</td>\n",
       "      <td>5</td>\n",
       "      <td>5</td>\n",
       "      <td>2022</td>\n",
       "      <td>sttmed nota inoperancia sector occidente caos ...</td>\n",
       "      <td>0</td>\n",
       "      <td>0.099331</td>\n",
       "    </tr>\n",
       "  </tbody>\n",
       "</table>\n",
       "<p>244502 rows × 9 columns</p>\n",
       "</div>"
      ],
      "text/plain": [
       "                                                full_text   key_word  hour  \\\n",
       "0        Me acordé que a los colombianos de mi ex trab...    trabajo    22   \n",
       "1        @JoseFBarriosG @VLADDO @Uber Como van a apoya...    trabajo    22   \n",
       "2        En Tierragro sabemos que la labor en el campo...    trabajo    19   \n",
       "3        @seguridadmed PARA NADIE ES UN SECRETO GENERA...    trabajo    19   \n",
       "4        @kmilohurtado_81 @SaqueLargoWin Tengo casi un...    trabajo    18   \n",
       "...                                                   ...        ...   ...   \n",
       "244497   @lumalo El desorden en todo lo relacionado a ...  movilidad    15   \n",
       "244498   #Movilidad ¡Taxista! Así rotará el pico y pla...  movilidad    15   \n",
       "244499   Faltan días para dar inicio a nuestras giras ...  movilidad     1   \n",
       "244500   @sttmed señores secretaria de la movilidad de...  movilidad     0   \n",
       "244501   @sttmed Se nota la inoperancia de la secretar...  movilidad     0   \n",
       "\n",
       "        day_of_week  month  year  \\\n",
       "0                 4      1  2020   \n",
       "1                 4      1  2020   \n",
       "2                 4      1  2020   \n",
       "3                 4      1  2020   \n",
       "4                 4      1  2020   \n",
       "...             ...    ...   ...   \n",
       "244497            5      5  2022   \n",
       "244498            5      5  2022   \n",
       "244499            5      5  2022   \n",
       "244500            5      5  2022   \n",
       "244501            5      5  2022   \n",
       "\n",
       "                                                    tweet  \\\n",
       "0       acorde colombianos ex trabajo gustaba medellin...   \n",
       "1       josefbarriosg vladdo uber apoyar uber disminuy...   \n",
       "2       tierragro sabemos labor campo implica tener bu...   \n",
       "3       seguridadmed nadie secreto general mas facil c...   \n",
       "4       kmilohurtado saquelargowin tengo casi decena a...   \n",
       "...                                                   ...   \n",
       "244497  lumalo desorden relacionado movilidad transito...   \n",
       "244498  movilidad taxista rotara pico placa medellin s...   \n",
       "244499  faltan dar inicio nuestras giras presenciales ...   \n",
       "244500  sttmed señores movilidad ciudad medellin pregu...   \n",
       "244501  sttmed nota inoperancia sector occidente caos ...   \n",
       "\n",
       "        predicted_sentiment  Predicted_probability  \n",
       "0                         1               0.552759  \n",
       "1                         1               0.577848  \n",
       "2                         0               0.491671  \n",
       "3                         0               0.353633  \n",
       "4                         0               0.398427  \n",
       "...                     ...                    ...  \n",
       "244497                    0               0.412423  \n",
       "244498                    0               0.330331  \n",
       "244499                    1               0.501993  \n",
       "244500                    0               0.418485  \n",
       "244501                    0               0.099331  \n",
       "\n",
       "[244502 rows x 9 columns]"
      ]
     },
     "execution_count": 14,
     "metadata": {},
     "output_type": "execute_result"
    }
   ],
   "source": [
    "df_sent"
   ]
  }
 ],
 "metadata": {
  "kernelspec": {
   "display_name": "Python 3.8.8 ('base')",
   "language": "python",
   "name": "python3"
  },
  "language_info": {
   "codemirror_mode": {
    "name": "ipython",
    "version": 3
   },
   "file_extension": ".py",
   "mimetype": "text/x-python",
   "name": "python",
   "nbconvert_exporter": "python",
   "pygments_lexer": "ipython3",
   "version": "3.8.8"
  },
  "orig_nbformat": 4,
  "vscode": {
   "interpreter": {
    "hash": "40d3a090f54c6569ab1632332b64b2c03c39dcf918b08424e98f38b5ae0af88f"
   }
  }
 },
 "nbformat": 4,
 "nbformat_minor": 2
}
