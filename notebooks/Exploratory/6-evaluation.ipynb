{
 "cells": [
  {
   "cell_type": "markdown",
   "metadata": {},
   "source": [
    "# EVALUATION"
   ]
  },
  {
   "cell_type": "code",
   "execution_count": 14,
   "metadata": {},
   "outputs": [],
   "source": [
    "import pandas as pd\n",
    "import numpy as np\n",
    "import matplotlib.pyplot as plt\n",
    "import seaborn as sns\n",
    "import pylab as pl  \n",
    "import plotly.express as px"
   ]
  },
  {
   "cell_type": "code",
   "execution_count": 15,
   "metadata": {},
   "outputs": [],
   "source": [
    "from sklearn.model_selection import train_test_split\n",
    "from sklearn.linear_model import LogisticRegression\n",
    "from sklearn.metrics import accuracy_score\n",
    "from sklearn.metrics import f1_score\n",
    "from sklearn.metrics import confusion_matrix\n",
    "from sklearn.feature_extraction.text import TfidfVectorizer\n",
    "from sklearn.feature_extraction.text import HashingVectorizer\n",
    "from sklearn.feature_extraction.text import CountVectorizer"
   ]
  },
  {
   "cell_type": "code",
   "execution_count": 16,
   "metadata": {},
   "outputs": [],
   "source": [
    "from other import tools"
   ]
  },
  {
   "cell_type": "code",
   "execution_count": 17,
   "metadata": {},
   "outputs": [],
   "source": [
    "# clean the tweet and save it on a new column\n",
    "\n",
    "def clean_tweet(tweet):\n",
    "\n",
    "  new_tweet = ''\n",
    "  words = tweet.split()\n",
    "  for w in words:\n",
    "    wl = w.lower() # word in lower case\n",
    "    \n",
    "    # replace numbers\n",
    "    for number, new_value in tools.replace_numbers_dict.items():\n",
    "      wl = str(wl).replace(number,new_value)\n",
    "\n",
    "    # replace some punctuations mark to keep only words\n",
    "    for punctuation, new_value in tools.replace_punctuation_dict.items():\n",
    "      wl = wl.replace(punctuation,new_value)\n",
    "    \n",
    "    # replace accent mark \n",
    "    for accent, new_value in tools.replace_accent_dict.items():\n",
    "      wl = wl.replace(accent,new_value)\n",
    "\n",
    "    if wl not in tools.model_stop_wprds:\n",
    "      new_tweet += f'{wl} '\n",
    "  \n",
    "  return new_tweet[:-1]"
   ]
  },
  {
   "cell_type": "code",
   "execution_count": 18,
   "metadata": {},
   "outputs": [],
   "source": [
    "df_rating=pd.read_csv('data/sentiment_1_0.csv')\n",
    "df = pd.read_csv('https://raw.githubusercontent.com/GDLPLearning/Sentiment-Analysis-for-the-MDP/master/notebooks/Exploratory/data/tweets_interim.csv')"
   ]
  },
  {
   "cell_type": "code",
   "execution_count": 19,
   "metadata": {},
   "outputs": [],
   "source": [
    "df_rating['tweet'] = df_rating['full_text'].apply(clean_tweet)\n",
    "df['tweet'] = df['full_text'].apply(clean_tweet)"
   ]
  },
  {
   "cell_type": "code",
   "execution_count": 20,
   "metadata": {},
   "outputs": [],
   "source": [
    "# split the data into train and test data\n",
    "tweets_train, tweets_test = train_test_split(df_rating, test_size=0.2, random_state=0)"
   ]
  },
  {
   "cell_type": "code",
   "execution_count": 21,
   "metadata": {},
   "outputs": [],
   "source": [
    "vectorizer = CountVectorizer()\n",
    "x_train_bow = vectorizer.fit_transform(tweets_train['tweet'])\n",
    "y_train_bow = tweets_train['sentiment']"
   ]
  },
  {
   "cell_type": "code",
   "execution_count": 22,
   "metadata": {},
   "outputs": [
    {
     "data": {
      "text/plain": [
       "LogisticRegression(C=1, solver='liblinear')"
      ]
     },
     "execution_count": 22,
     "metadata": {},
     "output_type": "execute_result"
    }
   ],
   "source": [
    "# Training the model \n",
    "lr_model_all = LogisticRegression(C=1, solver=\"liblinear\")\n",
    "lr_model_all.fit(x_train_bow, y_train_bow)"
   ]
  },
  {
   "cell_type": "code",
   "execution_count": 24,
   "metadata": {},
   "outputs": [],
   "source": [
    "vectorizer = CountVectorizer()\n",
    "x_train_bow = vectorizer.fit_transform(tweets_train['tweet'])\n",
    "x_predic_bow = vectorizer.transform(df['tweet'])"
   ]
  },
  {
   "cell_type": "code",
   "execution_count": 25,
   "metadata": {},
   "outputs": [],
   "source": [
    "# Predicting the output\n",
    "hist_pred_lr_prob = lr_model_all.predict_proba(x_predic_bow)\n",
    "hist_pred_lr_all = lr_model_all.predict(x_predic_bow)"
   ]
  },
  {
   "cell_type": "code",
   "execution_count": 26,
   "metadata": {},
   "outputs": [],
   "source": [
    "probabilities = [each[1] for each in hist_pred_lr_prob]"
   ]
  },
  {
   "cell_type": "code",
   "execution_count": 27,
   "metadata": {},
   "outputs": [],
   "source": [
    "df['predicted_sentiment'] = hist_pred_lr_all\n",
    "df['Predicted_probability'] = probabilities"
   ]
  },
  {
   "cell_type": "code",
   "execution_count": 28,
   "metadata": {},
   "outputs": [
    {
     "data": {
      "text/html": [
       "<div>\n",
       "<style scoped>\n",
       "    .dataframe tbody tr th:only-of-type {\n",
       "        vertical-align: middle;\n",
       "    }\n",
       "\n",
       "    .dataframe tbody tr th {\n",
       "        vertical-align: top;\n",
       "    }\n",
       "\n",
       "    .dataframe thead th {\n",
       "        text-align: right;\n",
       "    }\n",
       "</style>\n",
       "<table border=\"1\" class=\"dataframe\">\n",
       "  <thead>\n",
       "    <tr style=\"text-align: right;\">\n",
       "      <th></th>\n",
       "      <th>full_text</th>\n",
       "      <th>key_word</th>\n",
       "      <th>date</th>\n",
       "      <th>hour</th>\n",
       "      <th>day</th>\n",
       "      <th>day_of_week</th>\n",
       "      <th>month</th>\n",
       "      <th>year</th>\n",
       "      <th>tweet</th>\n",
       "      <th>predicted_sentiment</th>\n",
       "      <th>Predicted_probability</th>\n",
       "    </tr>\n",
       "  </thead>\n",
       "  <tbody>\n",
       "    <tr>\n",
       "      <th>0</th>\n",
       "      <td>Me acordé que a los colombianos de mi ex trab...</td>\n",
       "      <td>trabajo</td>\n",
       "      <td>2020-01-10 22:51:09+00:00</td>\n",
       "      <td>22</td>\n",
       "      <td>10</td>\n",
       "      <td>4</td>\n",
       "      <td>1</td>\n",
       "      <td>2020</td>\n",
       "      <td>acorde colombianos ex trabajo gustaba medellin...</td>\n",
       "      <td>1</td>\n",
       "      <td>0.552759</td>\n",
       "    </tr>\n",
       "    <tr>\n",
       "      <th>1</th>\n",
       "      <td>@JoseFBarriosG @VLADDO @Uber Como van a apoya...</td>\n",
       "      <td>trabajo</td>\n",
       "      <td>2020-01-10 22:06:30+00:00</td>\n",
       "      <td>22</td>\n",
       "      <td>10</td>\n",
       "      <td>4</td>\n",
       "      <td>1</td>\n",
       "      <td>2020</td>\n",
       "      <td>josefbarriosg vladdo uber apoyar uber disminuy...</td>\n",
       "      <td>1</td>\n",
       "      <td>0.577848</td>\n",
       "    </tr>\n",
       "    <tr>\n",
       "      <th>2</th>\n",
       "      <td>En Tierragro sabemos que la labor en el campo...</td>\n",
       "      <td>trabajo</td>\n",
       "      <td>2020-01-10 19:59:40+00:00</td>\n",
       "      <td>19</td>\n",
       "      <td>10</td>\n",
       "      <td>4</td>\n",
       "      <td>1</td>\n",
       "      <td>2020</td>\n",
       "      <td>tierragro sabemos labor campo implica tener bu...</td>\n",
       "      <td>0</td>\n",
       "      <td>0.491671</td>\n",
       "    </tr>\n",
       "    <tr>\n",
       "      <th>3</th>\n",
       "      <td>@seguridadmed PARA NADIE ES UN SECRETO GENERA...</td>\n",
       "      <td>trabajo</td>\n",
       "      <td>2020-01-10 19:17:54+00:00</td>\n",
       "      <td>19</td>\n",
       "      <td>10</td>\n",
       "      <td>4</td>\n",
       "      <td>1</td>\n",
       "      <td>2020</td>\n",
       "      <td>seguridadmed nadie secreto general mas facil c...</td>\n",
       "      <td>0</td>\n",
       "      <td>0.353633</td>\n",
       "    </tr>\n",
       "    <tr>\n",
       "      <th>4</th>\n",
       "      <td>@kmilohurtado_81 @SaqueLargoWin Tengo casi un...</td>\n",
       "      <td>trabajo</td>\n",
       "      <td>2020-01-10 18:09:24+00:00</td>\n",
       "      <td>18</td>\n",
       "      <td>10</td>\n",
       "      <td>4</td>\n",
       "      <td>1</td>\n",
       "      <td>2020</td>\n",
       "      <td>kmilohurtado saquelargowin tengo casi decena a...</td>\n",
       "      <td>0</td>\n",
       "      <td>0.398427</td>\n",
       "    </tr>\n",
       "    <tr>\n",
       "      <th>...</th>\n",
       "      <td>...</td>\n",
       "      <td>...</td>\n",
       "      <td>...</td>\n",
       "      <td>...</td>\n",
       "      <td>...</td>\n",
       "      <td>...</td>\n",
       "      <td>...</td>\n",
       "      <td>...</td>\n",
       "      <td>...</td>\n",
       "      <td>...</td>\n",
       "      <td>...</td>\n",
       "    </tr>\n",
       "    <tr>\n",
       "      <th>244497</th>\n",
       "      <td>@lumalo El desorden en todo lo relacionado a ...</td>\n",
       "      <td>movilidad</td>\n",
       "      <td>2022-05-21 15:39:13+00:00</td>\n",
       "      <td>15</td>\n",
       "      <td>21</td>\n",
       "      <td>5</td>\n",
       "      <td>5</td>\n",
       "      <td>2022</td>\n",
       "      <td>lumalo desorden relacionado movilidad transito...</td>\n",
       "      <td>0</td>\n",
       "      <td>0.412423</td>\n",
       "    </tr>\n",
       "    <tr>\n",
       "      <th>244498</th>\n",
       "      <td>#Movilidad ¡Taxista! Así rotará el pico y pla...</td>\n",
       "      <td>movilidad</td>\n",
       "      <td>2022-05-21 15:13:26+00:00</td>\n",
       "      <td>15</td>\n",
       "      <td>21</td>\n",
       "      <td>5</td>\n",
       "      <td>5</td>\n",
       "      <td>2022</td>\n",
       "      <td>movilidad taxista rotara pico placa medellin s...</td>\n",
       "      <td>0</td>\n",
       "      <td>0.330331</td>\n",
       "    </tr>\n",
       "    <tr>\n",
       "      <th>244499</th>\n",
       "      <td>Faltan días para dar inicio a nuestras giras ...</td>\n",
       "      <td>movilidad</td>\n",
       "      <td>2022-05-21 01:29:49+00:00</td>\n",
       "      <td>1</td>\n",
       "      <td>21</td>\n",
       "      <td>5</td>\n",
       "      <td>5</td>\n",
       "      <td>2022</td>\n",
       "      <td>faltan dar inicio nuestras giras presenciales ...</td>\n",
       "      <td>1</td>\n",
       "      <td>0.501993</td>\n",
       "    </tr>\n",
       "    <tr>\n",
       "      <th>244500</th>\n",
       "      <td>@sttmed señores secretaria de la movilidad de...</td>\n",
       "      <td>movilidad</td>\n",
       "      <td>2022-05-21 00:25:54+00:00</td>\n",
       "      <td>0</td>\n",
       "      <td>21</td>\n",
       "      <td>5</td>\n",
       "      <td>5</td>\n",
       "      <td>2022</td>\n",
       "      <td>sttmed señores movilidad ciudad medellin pregu...</td>\n",
       "      <td>0</td>\n",
       "      <td>0.418485</td>\n",
       "    </tr>\n",
       "    <tr>\n",
       "      <th>244501</th>\n",
       "      <td>@sttmed Se nota la inoperancia de la secretar...</td>\n",
       "      <td>movilidad</td>\n",
       "      <td>2022-05-21 00:19:48+00:00</td>\n",
       "      <td>0</td>\n",
       "      <td>21</td>\n",
       "      <td>5</td>\n",
       "      <td>5</td>\n",
       "      <td>2022</td>\n",
       "      <td>sttmed nota inoperancia sector occidente caos ...</td>\n",
       "      <td>0</td>\n",
       "      <td>0.099331</td>\n",
       "    </tr>\n",
       "  </tbody>\n",
       "</table>\n",
       "<p>244502 rows × 11 columns</p>\n",
       "</div>"
      ],
      "text/plain": [
       "                                                full_text   key_word  \\\n",
       "0        Me acordé que a los colombianos de mi ex trab...    trabajo   \n",
       "1        @JoseFBarriosG @VLADDO @Uber Como van a apoya...    trabajo   \n",
       "2        En Tierragro sabemos que la labor en el campo...    trabajo   \n",
       "3        @seguridadmed PARA NADIE ES UN SECRETO GENERA...    trabajo   \n",
       "4        @kmilohurtado_81 @SaqueLargoWin Tengo casi un...    trabajo   \n",
       "...                                                   ...        ...   \n",
       "244497   @lumalo El desorden en todo lo relacionado a ...  movilidad   \n",
       "244498   #Movilidad ¡Taxista! Así rotará el pico y pla...  movilidad   \n",
       "244499   Faltan días para dar inicio a nuestras giras ...  movilidad   \n",
       "244500   @sttmed señores secretaria de la movilidad de...  movilidad   \n",
       "244501   @sttmed Se nota la inoperancia de la secretar...  movilidad   \n",
       "\n",
       "                             date  hour  day  day_of_week  month  year  \\\n",
       "0       2020-01-10 22:51:09+00:00    22   10            4      1  2020   \n",
       "1       2020-01-10 22:06:30+00:00    22   10            4      1  2020   \n",
       "2       2020-01-10 19:59:40+00:00    19   10            4      1  2020   \n",
       "3       2020-01-10 19:17:54+00:00    19   10            4      1  2020   \n",
       "4       2020-01-10 18:09:24+00:00    18   10            4      1  2020   \n",
       "...                           ...   ...  ...          ...    ...   ...   \n",
       "244497  2022-05-21 15:39:13+00:00    15   21            5      5  2022   \n",
       "244498  2022-05-21 15:13:26+00:00    15   21            5      5  2022   \n",
       "244499  2022-05-21 01:29:49+00:00     1   21            5      5  2022   \n",
       "244500  2022-05-21 00:25:54+00:00     0   21            5      5  2022   \n",
       "244501  2022-05-21 00:19:48+00:00     0   21            5      5  2022   \n",
       "\n",
       "                                                    tweet  \\\n",
       "0       acorde colombianos ex trabajo gustaba medellin...   \n",
       "1       josefbarriosg vladdo uber apoyar uber disminuy...   \n",
       "2       tierragro sabemos labor campo implica tener bu...   \n",
       "3       seguridadmed nadie secreto general mas facil c...   \n",
       "4       kmilohurtado saquelargowin tengo casi decena a...   \n",
       "...                                                   ...   \n",
       "244497  lumalo desorden relacionado movilidad transito...   \n",
       "244498  movilidad taxista rotara pico placa medellin s...   \n",
       "244499  faltan dar inicio nuestras giras presenciales ...   \n",
       "244500  sttmed señores movilidad ciudad medellin pregu...   \n",
       "244501  sttmed nota inoperancia sector occidente caos ...   \n",
       "\n",
       "        predicted_sentiment  Predicted_probability  \n",
       "0                         1               0.552759  \n",
       "1                         1               0.577848  \n",
       "2                         0               0.491671  \n",
       "3                         0               0.353633  \n",
       "4                         0               0.398427  \n",
       "...                     ...                    ...  \n",
       "244497                    0               0.412423  \n",
       "244498                    0               0.330331  \n",
       "244499                    1               0.501993  \n",
       "244500                    0               0.418485  \n",
       "244501                    0               0.099331  \n",
       "\n",
       "[244502 rows x 11 columns]"
      ]
     },
     "execution_count": 28,
     "metadata": {},
     "output_type": "execute_result"
    }
   ],
   "source": [
    "df"
   ]
  },
  {
   "cell_type": "code",
   "execution_count": 29,
   "metadata": {},
   "outputs": [],
   "source": [
    "#df_sent.replace({'predicted_sentiment': {0: 'Negative', 1: 'Positive'}}, inplace=True)"
   ]
  },
  {
   "cell_type": "code",
   "execution_count": 30,
   "metadata": {},
   "outputs": [
    {
     "data": {
      "text/html": [
       "<div>\n",
       "<style scoped>\n",
       "    .dataframe tbody tr th:only-of-type {\n",
       "        vertical-align: middle;\n",
       "    }\n",
       "\n",
       "    .dataframe tbody tr th {\n",
       "        vertical-align: top;\n",
       "    }\n",
       "\n",
       "    .dataframe thead th {\n",
       "        text-align: right;\n",
       "    }\n",
       "</style>\n",
       "<table border=\"1\" class=\"dataframe\">\n",
       "  <thead>\n",
       "    <tr style=\"text-align: right;\">\n",
       "      <th></th>\n",
       "      <th>full_text</th>\n",
       "      <th>key_word</th>\n",
       "      <th>date</th>\n",
       "      <th>hour</th>\n",
       "      <th>day</th>\n",
       "      <th>day_of_week</th>\n",
       "      <th>month</th>\n",
       "      <th>year</th>\n",
       "      <th>tweet</th>\n",
       "      <th>predicted_sentiment</th>\n",
       "      <th>Predicted_probability</th>\n",
       "    </tr>\n",
       "  </thead>\n",
       "  <tbody>\n",
       "    <tr>\n",
       "      <th>0</th>\n",
       "      <td>Me acordé que a los colombianos de mi ex trab...</td>\n",
       "      <td>trabajo</td>\n",
       "      <td>2020-01-10 22:51:09+00:00</td>\n",
       "      <td>22</td>\n",
       "      <td>10</td>\n",
       "      <td>4</td>\n",
       "      <td>1</td>\n",
       "      <td>2020</td>\n",
       "      <td>acorde colombianos ex trabajo gustaba medellin...</td>\n",
       "      <td>1</td>\n",
       "      <td>0.552759</td>\n",
       "    </tr>\n",
       "    <tr>\n",
       "      <th>1</th>\n",
       "      <td>@JoseFBarriosG @VLADDO @Uber Como van a apoya...</td>\n",
       "      <td>trabajo</td>\n",
       "      <td>2020-01-10 22:06:30+00:00</td>\n",
       "      <td>22</td>\n",
       "      <td>10</td>\n",
       "      <td>4</td>\n",
       "      <td>1</td>\n",
       "      <td>2020</td>\n",
       "      <td>josefbarriosg vladdo uber apoyar uber disminuy...</td>\n",
       "      <td>1</td>\n",
       "      <td>0.577848</td>\n",
       "    </tr>\n",
       "    <tr>\n",
       "      <th>2</th>\n",
       "      <td>En Tierragro sabemos que la labor en el campo...</td>\n",
       "      <td>trabajo</td>\n",
       "      <td>2020-01-10 19:59:40+00:00</td>\n",
       "      <td>19</td>\n",
       "      <td>10</td>\n",
       "      <td>4</td>\n",
       "      <td>1</td>\n",
       "      <td>2020</td>\n",
       "      <td>tierragro sabemos labor campo implica tener bu...</td>\n",
       "      <td>0</td>\n",
       "      <td>0.491671</td>\n",
       "    </tr>\n",
       "    <tr>\n",
       "      <th>3</th>\n",
       "      <td>@seguridadmed PARA NADIE ES UN SECRETO GENERA...</td>\n",
       "      <td>trabajo</td>\n",
       "      <td>2020-01-10 19:17:54+00:00</td>\n",
       "      <td>19</td>\n",
       "      <td>10</td>\n",
       "      <td>4</td>\n",
       "      <td>1</td>\n",
       "      <td>2020</td>\n",
       "      <td>seguridadmed nadie secreto general mas facil c...</td>\n",
       "      <td>0</td>\n",
       "      <td>0.353633</td>\n",
       "    </tr>\n",
       "    <tr>\n",
       "      <th>4</th>\n",
       "      <td>@kmilohurtado_81 @SaqueLargoWin Tengo casi un...</td>\n",
       "      <td>trabajo</td>\n",
       "      <td>2020-01-10 18:09:24+00:00</td>\n",
       "      <td>18</td>\n",
       "      <td>10</td>\n",
       "      <td>4</td>\n",
       "      <td>1</td>\n",
       "      <td>2020</td>\n",
       "      <td>kmilohurtado saquelargowin tengo casi decena a...</td>\n",
       "      <td>0</td>\n",
       "      <td>0.398427</td>\n",
       "    </tr>\n",
       "  </tbody>\n",
       "</table>\n",
       "</div>"
      ],
      "text/plain": [
       "                                           full_text key_word  \\\n",
       "0   Me acordé que a los colombianos de mi ex trab...  trabajo   \n",
       "1   @JoseFBarriosG @VLADDO @Uber Como van a apoya...  trabajo   \n",
       "2   En Tierragro sabemos que la labor en el campo...  trabajo   \n",
       "3   @seguridadmed PARA NADIE ES UN SECRETO GENERA...  trabajo   \n",
       "4   @kmilohurtado_81 @SaqueLargoWin Tengo casi un...  trabajo   \n",
       "\n",
       "                        date  hour  day  day_of_week  month  year  \\\n",
       "0  2020-01-10 22:51:09+00:00    22   10            4      1  2020   \n",
       "1  2020-01-10 22:06:30+00:00    22   10            4      1  2020   \n",
       "2  2020-01-10 19:59:40+00:00    19   10            4      1  2020   \n",
       "3  2020-01-10 19:17:54+00:00    19   10            4      1  2020   \n",
       "4  2020-01-10 18:09:24+00:00    18   10            4      1  2020   \n",
       "\n",
       "                                               tweet  predicted_sentiment  \\\n",
       "0  acorde colombianos ex trabajo gustaba medellin...                    1   \n",
       "1  josefbarriosg vladdo uber apoyar uber disminuy...                    1   \n",
       "2  tierragro sabemos labor campo implica tener bu...                    0   \n",
       "3  seguridadmed nadie secreto general mas facil c...                    0   \n",
       "4  kmilohurtado saquelargowin tengo casi decena a...                    0   \n",
       "\n",
       "   Predicted_probability  \n",
       "0               0.552759  \n",
       "1               0.577848  \n",
       "2               0.491671  \n",
       "3               0.353633  \n",
       "4               0.398427  "
      ]
     },
     "execution_count": 30,
     "metadata": {},
     "output_type": "execute_result"
    }
   ],
   "source": [
    "df.head()"
   ]
  },
  {
   "cell_type": "code",
   "execution_count": 31,
   "metadata": {},
   "outputs": [
    {
     "data": {
      "text/html": [
       "<div>\n",
       "<style scoped>\n",
       "    .dataframe tbody tr th:only-of-type {\n",
       "        vertical-align: middle;\n",
       "    }\n",
       "\n",
       "    .dataframe tbody tr th {\n",
       "        vertical-align: top;\n",
       "    }\n",
       "\n",
       "    .dataframe thead th {\n",
       "        text-align: right;\n",
       "    }\n",
       "</style>\n",
       "<table border=\"1\" class=\"dataframe\">\n",
       "  <thead>\n",
       "    <tr style=\"text-align: right;\">\n",
       "      <th></th>\n",
       "      <th>month</th>\n",
       "      <th>year</th>\n",
       "      <th>key_word</th>\n",
       "      <th>predicted_sentiment</th>\n",
       "      <th>frequency</th>\n",
       "    </tr>\n",
       "  </thead>\n",
       "  <tbody>\n",
       "    <tr>\n",
       "      <th>0</th>\n",
       "      <td>1</td>\n",
       "      <td>2019</td>\n",
       "      <td>cultura</td>\n",
       "      <td>0</td>\n",
       "      <td>189</td>\n",
       "    </tr>\n",
       "    <tr>\n",
       "      <th>1</th>\n",
       "      <td>1</td>\n",
       "      <td>2019</td>\n",
       "      <td>cultura</td>\n",
       "      <td>1</td>\n",
       "      <td>308</td>\n",
       "    </tr>\n",
       "    <tr>\n",
       "      <th>2</th>\n",
       "      <td>1</td>\n",
       "      <td>2019</td>\n",
       "      <td>empresa</td>\n",
       "      <td>0</td>\n",
       "      <td>273</td>\n",
       "    </tr>\n",
       "    <tr>\n",
       "      <th>3</th>\n",
       "      <td>1</td>\n",
       "      <td>2019</td>\n",
       "      <td>empresa</td>\n",
       "      <td>1</td>\n",
       "      <td>35</td>\n",
       "    </tr>\n",
       "    <tr>\n",
       "      <th>4</th>\n",
       "      <td>1</td>\n",
       "      <td>2019</td>\n",
       "      <td>jovenes</td>\n",
       "      <td>0</td>\n",
       "      <td>131</td>\n",
       "    </tr>\n",
       "    <tr>\n",
       "      <th>...</th>\n",
       "      <td>...</td>\n",
       "      <td>...</td>\n",
       "      <td>...</td>\n",
       "      <td>...</td>\n",
       "      <td>...</td>\n",
       "    </tr>\n",
       "    <tr>\n",
       "      <th>719</th>\n",
       "      <td>12</td>\n",
       "      <td>2021</td>\n",
       "      <td>tecnologia</td>\n",
       "      <td>1</td>\n",
       "      <td>82</td>\n",
       "    </tr>\n",
       "    <tr>\n",
       "      <th>720</th>\n",
       "      <td>12</td>\n",
       "      <td>2021</td>\n",
       "      <td>trabajo</td>\n",
       "      <td>0</td>\n",
       "      <td>386</td>\n",
       "    </tr>\n",
       "    <tr>\n",
       "      <th>721</th>\n",
       "      <td>12</td>\n",
       "      <td>2021</td>\n",
       "      <td>trabajo</td>\n",
       "      <td>1</td>\n",
       "      <td>574</td>\n",
       "    </tr>\n",
       "    <tr>\n",
       "      <th>722</th>\n",
       "      <td>12</td>\n",
       "      <td>2021</td>\n",
       "      <td>vida</td>\n",
       "      <td>0</td>\n",
       "      <td>568</td>\n",
       "    </tr>\n",
       "    <tr>\n",
       "      <th>723</th>\n",
       "      <td>12</td>\n",
       "      <td>2021</td>\n",
       "      <td>vida</td>\n",
       "      <td>1</td>\n",
       "      <td>781</td>\n",
       "    </tr>\n",
       "  </tbody>\n",
       "</table>\n",
       "<p>724 rows × 5 columns</p>\n",
       "</div>"
      ],
      "text/plain": [
       "     month  year    key_word  predicted_sentiment  frequency\n",
       "0        1  2019     cultura                    0        189\n",
       "1        1  2019     cultura                    1        308\n",
       "2        1  2019     empresa                    0        273\n",
       "3        1  2019     empresa                    1         35\n",
       "4        1  2019     jovenes                    0        131\n",
       "..     ...   ...         ...                  ...        ...\n",
       "719     12  2021  tecnologia                    1         82\n",
       "720     12  2021     trabajo                    0        386\n",
       "721     12  2021     trabajo                    1        574\n",
       "722     12  2021        vida                    0        568\n",
       "723     12  2021        vida                    1        781\n",
       "\n",
       "[724 rows x 5 columns]"
      ]
     },
     "execution_count": 31,
     "metadata": {},
     "output_type": "execute_result"
    }
   ],
   "source": [
    "df.groupby(['month','year','key_word','predicted_sentiment']).size().to_frame().reset_index().rename(columns={0: 'frequency'})"
   ]
  },
  {
   "cell_type": "code",
   "execution_count": 32,
   "metadata": {},
   "outputs": [
    {
     "data": {
      "text/html": [
       "<div>\n",
       "<style scoped>\n",
       "    .dataframe tbody tr th:only-of-type {\n",
       "        vertical-align: middle;\n",
       "    }\n",
       "\n",
       "    .dataframe tbody tr th {\n",
       "        vertical-align: top;\n",
       "    }\n",
       "\n",
       "    .dataframe thead th {\n",
       "        text-align: right;\n",
       "    }\n",
       "</style>\n",
       "<table border=\"1\" class=\"dataframe\">\n",
       "  <thead>\n",
       "    <tr style=\"text-align: right;\">\n",
       "      <th></th>\n",
       "      <th>full_text</th>\n",
       "      <th>key_word</th>\n",
       "      <th>date</th>\n",
       "      <th>hour</th>\n",
       "      <th>day</th>\n",
       "      <th>day_of_week</th>\n",
       "      <th>month</th>\n",
       "      <th>year</th>\n",
       "      <th>tweet</th>\n",
       "      <th>predicted_sentiment</th>\n",
       "      <th>Predicted_probability</th>\n",
       "    </tr>\n",
       "  </thead>\n",
       "  <tbody>\n",
       "    <tr>\n",
       "      <th>0</th>\n",
       "      <td>Me acordé que a los colombianos de mi ex trab...</td>\n",
       "      <td>trabajo</td>\n",
       "      <td>2020-01-10 22:51:09+00:00</td>\n",
       "      <td>22</td>\n",
       "      <td>10</td>\n",
       "      <td>4</td>\n",
       "      <td>1</td>\n",
       "      <td>2020</td>\n",
       "      <td>acorde colombianos ex trabajo gustaba medellin...</td>\n",
       "      <td>1</td>\n",
       "      <td>0.552759</td>\n",
       "    </tr>\n",
       "    <tr>\n",
       "      <th>1</th>\n",
       "      <td>@JoseFBarriosG @VLADDO @Uber Como van a apoya...</td>\n",
       "      <td>trabajo</td>\n",
       "      <td>2020-01-10 22:06:30+00:00</td>\n",
       "      <td>22</td>\n",
       "      <td>10</td>\n",
       "      <td>4</td>\n",
       "      <td>1</td>\n",
       "      <td>2020</td>\n",
       "      <td>josefbarriosg vladdo uber apoyar uber disminuy...</td>\n",
       "      <td>1</td>\n",
       "      <td>0.577848</td>\n",
       "    </tr>\n",
       "    <tr>\n",
       "      <th>2</th>\n",
       "      <td>En Tierragro sabemos que la labor en el campo...</td>\n",
       "      <td>trabajo</td>\n",
       "      <td>2020-01-10 19:59:40+00:00</td>\n",
       "      <td>19</td>\n",
       "      <td>10</td>\n",
       "      <td>4</td>\n",
       "      <td>1</td>\n",
       "      <td>2020</td>\n",
       "      <td>tierragro sabemos labor campo implica tener bu...</td>\n",
       "      <td>0</td>\n",
       "      <td>0.491671</td>\n",
       "    </tr>\n",
       "    <tr>\n",
       "      <th>3</th>\n",
       "      <td>@seguridadmed PARA NADIE ES UN SECRETO GENERA...</td>\n",
       "      <td>trabajo</td>\n",
       "      <td>2020-01-10 19:17:54+00:00</td>\n",
       "      <td>19</td>\n",
       "      <td>10</td>\n",
       "      <td>4</td>\n",
       "      <td>1</td>\n",
       "      <td>2020</td>\n",
       "      <td>seguridadmed nadie secreto general mas facil c...</td>\n",
       "      <td>0</td>\n",
       "      <td>0.353633</td>\n",
       "    </tr>\n",
       "    <tr>\n",
       "      <th>4</th>\n",
       "      <td>@kmilohurtado_81 @SaqueLargoWin Tengo casi un...</td>\n",
       "      <td>trabajo</td>\n",
       "      <td>2020-01-10 18:09:24+00:00</td>\n",
       "      <td>18</td>\n",
       "      <td>10</td>\n",
       "      <td>4</td>\n",
       "      <td>1</td>\n",
       "      <td>2020</td>\n",
       "      <td>kmilohurtado saquelargowin tengo casi decena a...</td>\n",
       "      <td>0</td>\n",
       "      <td>0.398427</td>\n",
       "    </tr>\n",
       "  </tbody>\n",
       "</table>\n",
       "</div>"
      ],
      "text/plain": [
       "                                           full_text key_word  \\\n",
       "0   Me acordé que a los colombianos de mi ex trab...  trabajo   \n",
       "1   @JoseFBarriosG @VLADDO @Uber Como van a apoya...  trabajo   \n",
       "2   En Tierragro sabemos que la labor en el campo...  trabajo   \n",
       "3   @seguridadmed PARA NADIE ES UN SECRETO GENERA...  trabajo   \n",
       "4   @kmilohurtado_81 @SaqueLargoWin Tengo casi un...  trabajo   \n",
       "\n",
       "                        date  hour  day  day_of_week  month  year  \\\n",
       "0  2020-01-10 22:51:09+00:00    22   10            4      1  2020   \n",
       "1  2020-01-10 22:06:30+00:00    22   10            4      1  2020   \n",
       "2  2020-01-10 19:59:40+00:00    19   10            4      1  2020   \n",
       "3  2020-01-10 19:17:54+00:00    19   10            4      1  2020   \n",
       "4  2020-01-10 18:09:24+00:00    18   10            4      1  2020   \n",
       "\n",
       "                                               tweet  predicted_sentiment  \\\n",
       "0  acorde colombianos ex trabajo gustaba medellin...                    1   \n",
       "1  josefbarriosg vladdo uber apoyar uber disminuy...                    1   \n",
       "2  tierragro sabemos labor campo implica tener bu...                    0   \n",
       "3  seguridadmed nadie secreto general mas facil c...                    0   \n",
       "4  kmilohurtado saquelargowin tengo casi decena a...                    0   \n",
       "\n",
       "   Predicted_probability  \n",
       "0               0.552759  \n",
       "1               0.577848  \n",
       "2               0.491671  \n",
       "3               0.353633  \n",
       "4               0.398427  "
      ]
     },
     "execution_count": 32,
     "metadata": {},
     "output_type": "execute_result"
    }
   ],
   "source": [
    "df.head()"
   ]
  },
  {
   "cell_type": "code",
   "execution_count": 33,
   "metadata": {},
   "outputs": [
    {
     "data": {
      "application/vnd.plotly.v1+json": {
       "config": {
        "plotlyServerURL": "https://plot.ly"
       },
       "data": [
        {
         "hovertemplate": "key_word=cultura<br>year=%{x}<br>porc_pos=%{y}<extra></extra>",
         "legendgroup": "cultura",
         "line": {
          "color": "#636efa",
          "dash": "solid"
         },
         "marker": {
          "symbol": "circle"
         },
         "mode": "lines",
         "name": "cultura",
         "orientation": "v",
         "showlegend": true,
         "type": "scatter",
         "x": [
          2019,
          2020,
          2021,
          2022
         ],
         "xaxis": "x",
         "y": [
          0.6361923758865248,
          0.6268253773469137,
          0.6633034987794956,
          0.6100217864923747
         ],
         "yaxis": "y"
        },
        {
         "hovertemplate": "key_word=empresa<br>year=%{x}<br>porc_pos=%{y}<extra></extra>",
         "legendgroup": "empresa",
         "line": {
          "color": "#EF553B",
          "dash": "solid"
         },
         "marker": {
          "symbol": "circle"
         },
         "mode": "lines",
         "name": "empresa",
         "orientation": "v",
         "showlegend": true,
         "type": "scatter",
         "x": [
          2019,
          2020,
          2021,
          2022
         ],
         "xaxis": "x",
         "y": [
          0.15539920464973997,
          0.09916434540389972,
          0.08512486427795873,
          0.08400954653937948
         ],
         "yaxis": "y"
        },
        {
         "hovertemplate": "key_word=jovenes<br>year=%{x}<br>porc_pos=%{y}<extra></extra>",
         "legendgroup": "jovenes",
         "line": {
          "color": "#00cc96",
          "dash": "solid"
         },
         "marker": {
          "symbol": "circle"
         },
         "mode": "lines",
         "name": "jovenes",
         "orientation": "v",
         "showlegend": true,
         "type": "scatter",
         "x": [
          2019,
          2020,
          2021,
          2022
         ],
         "xaxis": "x",
         "y": [
          0.6348690153568203,
          0.6075949367088608,
          0.5584920847866917,
          0.48517887563884154
         ],
         "yaxis": "y"
        },
        {
         "hovertemplate": "key_word=metro<br>year=%{x}<br>porc_pos=%{y}<extra></extra>",
         "legendgroup": "metro",
         "line": {
          "color": "#ab63fa",
          "dash": "solid"
         },
         "marker": {
          "symbol": "circle"
         },
         "mode": "lines",
         "name": "metro",
         "orientation": "v",
         "showlegend": true,
         "type": "scatter",
         "x": [
          2019,
          2020,
          2021,
          2022
         ],
         "xaxis": "x",
         "y": [
          0.11634349030470914,
          0.12709894084215964,
          0.11603099527020228,
          0.09919261822376009
         ],
         "yaxis": "y"
        },
        {
         "hovertemplate": "key_word=movilidad<br>year=%{x}<br>porc_pos=%{y}<extra></extra>",
         "legendgroup": "movilidad",
         "line": {
          "color": "#FFA15A",
          "dash": "solid"
         },
         "marker": {
          "symbol": "circle"
         },
         "mode": "lines",
         "name": "movilidad",
         "orientation": "v",
         "showlegend": true,
         "type": "scatter",
         "x": [
          2019,
          2020,
          2021,
          2022
         ],
         "xaxis": "x",
         "y": [
          0.3336977648202138,
          0.28604651162790695,
          0.22996717513033405,
          0.20800736309249884
         ],
         "yaxis": "y"
        },
        {
         "hovertemplate": "key_word=seguridad<br>year=%{x}<br>porc_pos=%{y}<extra></extra>",
         "legendgroup": "seguridad",
         "line": {
          "color": "#19d3f3",
          "dash": "solid"
         },
         "marker": {
          "symbol": "circle"
         },
         "mode": "lines",
         "name": "seguridad",
         "orientation": "v",
         "showlegend": true,
         "type": "scatter",
         "x": [
          2019,
          2020,
          2021,
          2022
         ],
         "xaxis": "x",
         "y": [
          0.314616019818332,
          0.3171087146604489,
          0.25627948489098556,
          0.170083523158694
         ],
         "yaxis": "y"
        },
        {
         "hovertemplate": "key_word=tecnologia<br>year=%{x}<br>porc_pos=%{y}<extra></extra>",
         "legendgroup": "tecnologia",
         "line": {
          "color": "#FF6692",
          "dash": "solid"
         },
         "marker": {
          "symbol": "circle"
         },
         "mode": "lines",
         "name": "tecnologia",
         "orientation": "v",
         "showlegend": true,
         "type": "scatter",
         "x": [
          2019,
          2020,
          2021,
          2022
         ],
         "xaxis": "x",
         "y": [
          0.6742902208201893,
          0.5318747642399094,
          0.6770293609671848,
          0.7129251700680272
         ],
         "yaxis": "y"
        },
        {
         "hovertemplate": "key_word=trabajo<br>year=%{x}<br>porc_pos=%{y}<extra></extra>",
         "legendgroup": "trabajo",
         "line": {
          "color": "#B6E880",
          "dash": "solid"
         },
         "marker": {
          "symbol": "circle"
         },
         "mode": "lines",
         "name": "trabajo",
         "orientation": "v",
         "showlegend": true,
         "type": "scatter",
         "x": [
          2019,
          2020,
          2021,
          2022
         ],
         "xaxis": "x",
         "y": [
          0.7186803388319215,
          0.6329914693760184,
          0.5898440979955456,
          0.5606171932402645
         ],
         "yaxis": "y"
        },
        {
         "hovertemplate": "key_word=vida<br>year=%{x}<br>porc_pos=%{y}<extra></extra>",
         "legendgroup": "vida",
         "line": {
          "color": "#FF97FF",
          "dash": "solid"
         },
         "marker": {
          "symbol": "circle"
         },
         "mode": "lines",
         "name": "vida",
         "orientation": "v",
         "showlegend": true,
         "type": "scatter",
         "x": [
          2019,
          2020,
          2021,
          2022
         ],
         "xaxis": "x",
         "y": [
          0.6877110758839341,
          0.6412475856642106,
          0.6186955920961724,
          0.5736751061487655
         ],
         "yaxis": "y"
        }
       ],
       "layout": {
        "legend": {
         "title": {
          "text": "key_word"
         },
         "tracegroupgap": 0
        },
        "template": {
         "data": {
          "bar": [
           {
            "error_x": {
             "color": "#2a3f5f"
            },
            "error_y": {
             "color": "#2a3f5f"
            },
            "marker": {
             "line": {
              "color": "#E5ECF6",
              "width": 0.5
             },
             "pattern": {
              "fillmode": "overlay",
              "size": 10,
              "solidity": 0.2
             }
            },
            "type": "bar"
           }
          ],
          "barpolar": [
           {
            "marker": {
             "line": {
              "color": "#E5ECF6",
              "width": 0.5
             },
             "pattern": {
              "fillmode": "overlay",
              "size": 10,
              "solidity": 0.2
             }
            },
            "type": "barpolar"
           }
          ],
          "carpet": [
           {
            "aaxis": {
             "endlinecolor": "#2a3f5f",
             "gridcolor": "white",
             "linecolor": "white",
             "minorgridcolor": "white",
             "startlinecolor": "#2a3f5f"
            },
            "baxis": {
             "endlinecolor": "#2a3f5f",
             "gridcolor": "white",
             "linecolor": "white",
             "minorgridcolor": "white",
             "startlinecolor": "#2a3f5f"
            },
            "type": "carpet"
           }
          ],
          "choropleth": [
           {
            "colorbar": {
             "outlinewidth": 0,
             "ticks": ""
            },
            "type": "choropleth"
           }
          ],
          "contour": [
           {
            "colorbar": {
             "outlinewidth": 0,
             "ticks": ""
            },
            "colorscale": [
             [
              0,
              "#0d0887"
             ],
             [
              0.1111111111111111,
              "#46039f"
             ],
             [
              0.2222222222222222,
              "#7201a8"
             ],
             [
              0.3333333333333333,
              "#9c179e"
             ],
             [
              0.4444444444444444,
              "#bd3786"
             ],
             [
              0.5555555555555556,
              "#d8576b"
             ],
             [
              0.6666666666666666,
              "#ed7953"
             ],
             [
              0.7777777777777778,
              "#fb9f3a"
             ],
             [
              0.8888888888888888,
              "#fdca26"
             ],
             [
              1,
              "#f0f921"
             ]
            ],
            "type": "contour"
           }
          ],
          "contourcarpet": [
           {
            "colorbar": {
             "outlinewidth": 0,
             "ticks": ""
            },
            "type": "contourcarpet"
           }
          ],
          "heatmap": [
           {
            "colorbar": {
             "outlinewidth": 0,
             "ticks": ""
            },
            "colorscale": [
             [
              0,
              "#0d0887"
             ],
             [
              0.1111111111111111,
              "#46039f"
             ],
             [
              0.2222222222222222,
              "#7201a8"
             ],
             [
              0.3333333333333333,
              "#9c179e"
             ],
             [
              0.4444444444444444,
              "#bd3786"
             ],
             [
              0.5555555555555556,
              "#d8576b"
             ],
             [
              0.6666666666666666,
              "#ed7953"
             ],
             [
              0.7777777777777778,
              "#fb9f3a"
             ],
             [
              0.8888888888888888,
              "#fdca26"
             ],
             [
              1,
              "#f0f921"
             ]
            ],
            "type": "heatmap"
           }
          ],
          "heatmapgl": [
           {
            "colorbar": {
             "outlinewidth": 0,
             "ticks": ""
            },
            "colorscale": [
             [
              0,
              "#0d0887"
             ],
             [
              0.1111111111111111,
              "#46039f"
             ],
             [
              0.2222222222222222,
              "#7201a8"
             ],
             [
              0.3333333333333333,
              "#9c179e"
             ],
             [
              0.4444444444444444,
              "#bd3786"
             ],
             [
              0.5555555555555556,
              "#d8576b"
             ],
             [
              0.6666666666666666,
              "#ed7953"
             ],
             [
              0.7777777777777778,
              "#fb9f3a"
             ],
             [
              0.8888888888888888,
              "#fdca26"
             ],
             [
              1,
              "#f0f921"
             ]
            ],
            "type": "heatmapgl"
           }
          ],
          "histogram": [
           {
            "marker": {
             "pattern": {
              "fillmode": "overlay",
              "size": 10,
              "solidity": 0.2
             }
            },
            "type": "histogram"
           }
          ],
          "histogram2d": [
           {
            "colorbar": {
             "outlinewidth": 0,
             "ticks": ""
            },
            "colorscale": [
             [
              0,
              "#0d0887"
             ],
             [
              0.1111111111111111,
              "#46039f"
             ],
             [
              0.2222222222222222,
              "#7201a8"
             ],
             [
              0.3333333333333333,
              "#9c179e"
             ],
             [
              0.4444444444444444,
              "#bd3786"
             ],
             [
              0.5555555555555556,
              "#d8576b"
             ],
             [
              0.6666666666666666,
              "#ed7953"
             ],
             [
              0.7777777777777778,
              "#fb9f3a"
             ],
             [
              0.8888888888888888,
              "#fdca26"
             ],
             [
              1,
              "#f0f921"
             ]
            ],
            "type": "histogram2d"
           }
          ],
          "histogram2dcontour": [
           {
            "colorbar": {
             "outlinewidth": 0,
             "ticks": ""
            },
            "colorscale": [
             [
              0,
              "#0d0887"
             ],
             [
              0.1111111111111111,
              "#46039f"
             ],
             [
              0.2222222222222222,
              "#7201a8"
             ],
             [
              0.3333333333333333,
              "#9c179e"
             ],
             [
              0.4444444444444444,
              "#bd3786"
             ],
             [
              0.5555555555555556,
              "#d8576b"
             ],
             [
              0.6666666666666666,
              "#ed7953"
             ],
             [
              0.7777777777777778,
              "#fb9f3a"
             ],
             [
              0.8888888888888888,
              "#fdca26"
             ],
             [
              1,
              "#f0f921"
             ]
            ],
            "type": "histogram2dcontour"
           }
          ],
          "mesh3d": [
           {
            "colorbar": {
             "outlinewidth": 0,
             "ticks": ""
            },
            "type": "mesh3d"
           }
          ],
          "parcoords": [
           {
            "line": {
             "colorbar": {
              "outlinewidth": 0,
              "ticks": ""
             }
            },
            "type": "parcoords"
           }
          ],
          "pie": [
           {
            "automargin": true,
            "type": "pie"
           }
          ],
          "scatter": [
           {
            "fillpattern": {
             "fillmode": "overlay",
             "size": 10,
             "solidity": 0.2
            },
            "type": "scatter"
           }
          ],
          "scatter3d": [
           {
            "line": {
             "colorbar": {
              "outlinewidth": 0,
              "ticks": ""
             }
            },
            "marker": {
             "colorbar": {
              "outlinewidth": 0,
              "ticks": ""
             }
            },
            "type": "scatter3d"
           }
          ],
          "scattercarpet": [
           {
            "marker": {
             "colorbar": {
              "outlinewidth": 0,
              "ticks": ""
             }
            },
            "type": "scattercarpet"
           }
          ],
          "scattergeo": [
           {
            "marker": {
             "colorbar": {
              "outlinewidth": 0,
              "ticks": ""
             }
            },
            "type": "scattergeo"
           }
          ],
          "scattergl": [
           {
            "marker": {
             "colorbar": {
              "outlinewidth": 0,
              "ticks": ""
             }
            },
            "type": "scattergl"
           }
          ],
          "scattermapbox": [
           {
            "marker": {
             "colorbar": {
              "outlinewidth": 0,
              "ticks": ""
             }
            },
            "type": "scattermapbox"
           }
          ],
          "scatterpolar": [
           {
            "marker": {
             "colorbar": {
              "outlinewidth": 0,
              "ticks": ""
             }
            },
            "type": "scatterpolar"
           }
          ],
          "scatterpolargl": [
           {
            "marker": {
             "colorbar": {
              "outlinewidth": 0,
              "ticks": ""
             }
            },
            "type": "scatterpolargl"
           }
          ],
          "scatterternary": [
           {
            "marker": {
             "colorbar": {
              "outlinewidth": 0,
              "ticks": ""
             }
            },
            "type": "scatterternary"
           }
          ],
          "surface": [
           {
            "colorbar": {
             "outlinewidth": 0,
             "ticks": ""
            },
            "colorscale": [
             [
              0,
              "#0d0887"
             ],
             [
              0.1111111111111111,
              "#46039f"
             ],
             [
              0.2222222222222222,
              "#7201a8"
             ],
             [
              0.3333333333333333,
              "#9c179e"
             ],
             [
              0.4444444444444444,
              "#bd3786"
             ],
             [
              0.5555555555555556,
              "#d8576b"
             ],
             [
              0.6666666666666666,
              "#ed7953"
             ],
             [
              0.7777777777777778,
              "#fb9f3a"
             ],
             [
              0.8888888888888888,
              "#fdca26"
             ],
             [
              1,
              "#f0f921"
             ]
            ],
            "type": "surface"
           }
          ],
          "table": [
           {
            "cells": {
             "fill": {
              "color": "#EBF0F8"
             },
             "line": {
              "color": "white"
             }
            },
            "header": {
             "fill": {
              "color": "#C8D4E3"
             },
             "line": {
              "color": "white"
             }
            },
            "type": "table"
           }
          ]
         },
         "layout": {
          "annotationdefaults": {
           "arrowcolor": "#2a3f5f",
           "arrowhead": 0,
           "arrowwidth": 1
          },
          "autotypenumbers": "strict",
          "coloraxis": {
           "colorbar": {
            "outlinewidth": 0,
            "ticks": ""
           }
          },
          "colorscale": {
           "diverging": [
            [
             0,
             "#8e0152"
            ],
            [
             0.1,
             "#c51b7d"
            ],
            [
             0.2,
             "#de77ae"
            ],
            [
             0.3,
             "#f1b6da"
            ],
            [
             0.4,
             "#fde0ef"
            ],
            [
             0.5,
             "#f7f7f7"
            ],
            [
             0.6,
             "#e6f5d0"
            ],
            [
             0.7,
             "#b8e186"
            ],
            [
             0.8,
             "#7fbc41"
            ],
            [
             0.9,
             "#4d9221"
            ],
            [
             1,
             "#276419"
            ]
           ],
           "sequential": [
            [
             0,
             "#0d0887"
            ],
            [
             0.1111111111111111,
             "#46039f"
            ],
            [
             0.2222222222222222,
             "#7201a8"
            ],
            [
             0.3333333333333333,
             "#9c179e"
            ],
            [
             0.4444444444444444,
             "#bd3786"
            ],
            [
             0.5555555555555556,
             "#d8576b"
            ],
            [
             0.6666666666666666,
             "#ed7953"
            ],
            [
             0.7777777777777778,
             "#fb9f3a"
            ],
            [
             0.8888888888888888,
             "#fdca26"
            ],
            [
             1,
             "#f0f921"
            ]
           ],
           "sequentialminus": [
            [
             0,
             "#0d0887"
            ],
            [
             0.1111111111111111,
             "#46039f"
            ],
            [
             0.2222222222222222,
             "#7201a8"
            ],
            [
             0.3333333333333333,
             "#9c179e"
            ],
            [
             0.4444444444444444,
             "#bd3786"
            ],
            [
             0.5555555555555556,
             "#d8576b"
            ],
            [
             0.6666666666666666,
             "#ed7953"
            ],
            [
             0.7777777777777778,
             "#fb9f3a"
            ],
            [
             0.8888888888888888,
             "#fdca26"
            ],
            [
             1,
             "#f0f921"
            ]
           ]
          },
          "colorway": [
           "#636efa",
           "#EF553B",
           "#00cc96",
           "#ab63fa",
           "#FFA15A",
           "#19d3f3",
           "#FF6692",
           "#B6E880",
           "#FF97FF",
           "#FECB52"
          ],
          "font": {
           "color": "#2a3f5f"
          },
          "geo": {
           "bgcolor": "white",
           "lakecolor": "white",
           "landcolor": "#E5ECF6",
           "showlakes": true,
           "showland": true,
           "subunitcolor": "white"
          },
          "hoverlabel": {
           "align": "left"
          },
          "hovermode": "closest",
          "mapbox": {
           "style": "light"
          },
          "paper_bgcolor": "white",
          "plot_bgcolor": "#E5ECF6",
          "polar": {
           "angularaxis": {
            "gridcolor": "white",
            "linecolor": "white",
            "ticks": ""
           },
           "bgcolor": "#E5ECF6",
           "radialaxis": {
            "gridcolor": "white",
            "linecolor": "white",
            "ticks": ""
           }
          },
          "scene": {
           "xaxis": {
            "backgroundcolor": "#E5ECF6",
            "gridcolor": "white",
            "gridwidth": 2,
            "linecolor": "white",
            "showbackground": true,
            "ticks": "",
            "zerolinecolor": "white"
           },
           "yaxis": {
            "backgroundcolor": "#E5ECF6",
            "gridcolor": "white",
            "gridwidth": 2,
            "linecolor": "white",
            "showbackground": true,
            "ticks": "",
            "zerolinecolor": "white"
           },
           "zaxis": {
            "backgroundcolor": "#E5ECF6",
            "gridcolor": "white",
            "gridwidth": 2,
            "linecolor": "white",
            "showbackground": true,
            "ticks": "",
            "zerolinecolor": "white"
           }
          },
          "shapedefaults": {
           "line": {
            "color": "#2a3f5f"
           }
          },
          "ternary": {
           "aaxis": {
            "gridcolor": "white",
            "linecolor": "white",
            "ticks": ""
           },
           "baxis": {
            "gridcolor": "white",
            "linecolor": "white",
            "ticks": ""
           },
           "bgcolor": "#E5ECF6",
           "caxis": {
            "gridcolor": "white",
            "linecolor": "white",
            "ticks": ""
           }
          },
          "title": {
           "x": 0.05
          },
          "xaxis": {
           "automargin": true,
           "gridcolor": "white",
           "linecolor": "white",
           "ticks": "",
           "title": {
            "standoff": 15
           },
           "zerolinecolor": "white",
           "zerolinewidth": 2
          },
          "yaxis": {
           "automargin": true,
           "gridcolor": "white",
           "linecolor": "white",
           "ticks": "",
           "title": {
            "standoff": 15
           },
           "zerolinecolor": "white",
           "zerolinewidth": 2
          }
         }
        },
        "title": {
         "text": "Frequency of Keywords in the Tweets"
        },
        "width": 500,
        "xaxis": {
         "anchor": "y",
         "domain": [
          0,
          1
         ],
         "title": {
          "text": "year"
         }
        },
        "yaxis": {
         "anchor": "x",
         "domain": [
          0,
          1
         ],
         "title": {
          "text": "porc_pos"
         }
        }
       }
      }
     },
     "metadata": {},
     "output_type": "display_data"
    }
   ],
   "source": [
    "df_sent_freq=pd.DataFrame()\n",
    "for year in df['year'].unique():\n",
    "    df_cross=pd.crosstab(df[df['year']==year]['key_word'],df[df['year']==year]['predicted_sentiment']).reset_index()\n",
    "    df_cross['total']=df_cross.sum(axis=1)\n",
    "    df_cross['year']=year\n",
    "    df_cross['porc_pos']=df_cross[1]/df_cross['total']\n",
    "    df_cross=df_cross[['year','key_word','porc_pos']]\n",
    "    df_sent_freq=df_sent_freq.append(df_cross)\n",
    "df_sent_freq.reset_index(drop=True,inplace=True)\n",
    "df_sent_freq=df_sent_freq.sort_values(by=['year','key_word'],ascending=True)\n",
    "px.line(df_sent_freq, x='year', y='porc_pos',color='key_word' ,title='Frequency of Keywords in the Tweets',width=500)\n",
    "    "
   ]
  },
  {
   "cell_type": "code",
   "execution_count": 34,
   "metadata": {},
   "outputs": [],
   "source": [
    "df.replace({'key_word':{'cultura':1,'empresa':2,'jovenes':3,'metro':4,'movilidad':5,'seguridad':6,'tecnologia':7,'trabajo':8,'vida':9}},inplace=True)"
   ]
  },
  {
   "cell_type": "code",
   "execution_count": 50,
   "metadata": {},
   "outputs": [
    {
     "data": {
      "text/html": [
       "<div>\n",
       "<style scoped>\n",
       "    .dataframe tbody tr th:only-of-type {\n",
       "        vertical-align: middle;\n",
       "    }\n",
       "\n",
       "    .dataframe tbody tr th {\n",
       "        vertical-align: top;\n",
       "    }\n",
       "\n",
       "    .dataframe thead th {\n",
       "        text-align: right;\n",
       "    }\n",
       "</style>\n",
       "<table border=\"1\" class=\"dataframe\">\n",
       "  <thead>\n",
       "    <tr style=\"text-align: right;\">\n",
       "      <th></th>\n",
       "      <th>full_text</th>\n",
       "      <th>key_word</th>\n",
       "      <th>date</th>\n",
       "      <th>hour</th>\n",
       "      <th>day</th>\n",
       "      <th>day_of_week</th>\n",
       "      <th>month</th>\n",
       "      <th>year</th>\n",
       "      <th>tweet</th>\n",
       "      <th>predicted_sentiment</th>\n",
       "      <th>Predicted_probability</th>\n",
       "    </tr>\n",
       "  </thead>\n",
       "  <tbody>\n",
       "    <tr>\n",
       "      <th>0</th>\n",
       "      <td>Me acordé que a los colombianos de mi ex trab...</td>\n",
       "      <td>8</td>\n",
       "      <td>2020-01-10 22:51:09+00:00</td>\n",
       "      <td>22</td>\n",
       "      <td>10</td>\n",
       "      <td>4</td>\n",
       "      <td>1</td>\n",
       "      <td>2020</td>\n",
       "      <td>acorde colombianos ex trabajo gustaba medellin...</td>\n",
       "      <td>1</td>\n",
       "      <td>0.552759</td>\n",
       "    </tr>\n",
       "    <tr>\n",
       "      <th>1</th>\n",
       "      <td>@JoseFBarriosG @VLADDO @Uber Como van a apoya...</td>\n",
       "      <td>8</td>\n",
       "      <td>2020-01-10 22:06:30+00:00</td>\n",
       "      <td>22</td>\n",
       "      <td>10</td>\n",
       "      <td>4</td>\n",
       "      <td>1</td>\n",
       "      <td>2020</td>\n",
       "      <td>josefbarriosg vladdo uber apoyar uber disminuy...</td>\n",
       "      <td>1</td>\n",
       "      <td>0.577848</td>\n",
       "    </tr>\n",
       "    <tr>\n",
       "      <th>2</th>\n",
       "      <td>En Tierragro sabemos que la labor en el campo...</td>\n",
       "      <td>8</td>\n",
       "      <td>2020-01-10 19:59:40+00:00</td>\n",
       "      <td>19</td>\n",
       "      <td>10</td>\n",
       "      <td>4</td>\n",
       "      <td>1</td>\n",
       "      <td>2020</td>\n",
       "      <td>tierragro sabemos labor campo implica tener bu...</td>\n",
       "      <td>0</td>\n",
       "      <td>0.491671</td>\n",
       "    </tr>\n",
       "    <tr>\n",
       "      <th>3</th>\n",
       "      <td>@seguridadmed PARA NADIE ES UN SECRETO GENERA...</td>\n",
       "      <td>8</td>\n",
       "      <td>2020-01-10 19:17:54+00:00</td>\n",
       "      <td>19</td>\n",
       "      <td>10</td>\n",
       "      <td>4</td>\n",
       "      <td>1</td>\n",
       "      <td>2020</td>\n",
       "      <td>seguridadmed nadie secreto general mas facil c...</td>\n",
       "      <td>0</td>\n",
       "      <td>0.353633</td>\n",
       "    </tr>\n",
       "    <tr>\n",
       "      <th>4</th>\n",
       "      <td>@kmilohurtado_81 @SaqueLargoWin Tengo casi un...</td>\n",
       "      <td>8</td>\n",
       "      <td>2020-01-10 18:09:24+00:00</td>\n",
       "      <td>18</td>\n",
       "      <td>10</td>\n",
       "      <td>4</td>\n",
       "      <td>1</td>\n",
       "      <td>2020</td>\n",
       "      <td>kmilohurtado saquelargowin tengo casi decena a...</td>\n",
       "      <td>0</td>\n",
       "      <td>0.398427</td>\n",
       "    </tr>\n",
       "  </tbody>\n",
       "</table>\n",
       "</div>"
      ],
      "text/plain": [
       "                                           full_text  key_word  \\\n",
       "0   Me acordé que a los colombianos de mi ex trab...         8   \n",
       "1   @JoseFBarriosG @VLADDO @Uber Como van a apoya...         8   \n",
       "2   En Tierragro sabemos que la labor en el campo...         8   \n",
       "3   @seguridadmed PARA NADIE ES UN SECRETO GENERA...         8   \n",
       "4   @kmilohurtado_81 @SaqueLargoWin Tengo casi un...         8   \n",
       "\n",
       "                        date  hour  day  day_of_week  month  year  \\\n",
       "0  2020-01-10 22:51:09+00:00    22   10            4      1  2020   \n",
       "1  2020-01-10 22:06:30+00:00    22   10            4      1  2020   \n",
       "2  2020-01-10 19:59:40+00:00    19   10            4      1  2020   \n",
       "3  2020-01-10 19:17:54+00:00    19   10            4      1  2020   \n",
       "4  2020-01-10 18:09:24+00:00    18   10            4      1  2020   \n",
       "\n",
       "                                               tweet  predicted_sentiment  \\\n",
       "0  acorde colombianos ex trabajo gustaba medellin...                    1   \n",
       "1  josefbarriosg vladdo uber apoyar uber disminuy...                    1   \n",
       "2  tierragro sabemos labor campo implica tener bu...                    0   \n",
       "3  seguridadmed nadie secreto general mas facil c...                    0   \n",
       "4  kmilohurtado saquelargowin tengo casi decena a...                    0   \n",
       "\n",
       "   Predicted_probability  \n",
       "0               0.552759  \n",
       "1               0.577848  \n",
       "2               0.491671  \n",
       "3               0.353633  \n",
       "4               0.398427  "
      ]
     },
     "execution_count": 50,
     "metadata": {},
     "output_type": "execute_result"
    }
   ],
   "source": [
    "df.head()"
   ]
  },
  {
   "cell_type": "code",
   "execution_count": 53,
   "metadata": {},
   "outputs": [],
   "source": [
    "def plotly_month_keyword(year,keyword):\n",
    "    df_sent_freq=pd.DataFrame()\n",
    "    df_plot=df[(df['year']==year)]\n",
    "    for months in df_plot['month'].unique():\n",
    "        df_cross=pd.crosstab(df_plot[df_plot['month']==months]['key_word'],df_plot[df_plot['month']==months]['predicted_sentiment']).reset_index()\n",
    "        df_cross['total']=df_cross.sum(axis=1)\n",
    "        df_cross['month']=months\n",
    "        df_cross['porc_pos']=df_cross[1]/df_cross['total']\n",
    "        df_cross=df_cross[['month','key_word','porc_pos']]\n",
    "        df_sent_freq=pd.concat([df_sent_freq,df_cross])\n",
    "    df_sent_freq.reset_index(drop=True,inplace=True)\n",
    "    df_sent_freq=df_sent_freq.sort_values(by=['month','key_word'],ascending=True)\n",
    "    fig=px.line(df_sent_freq[df_sent_freq['key_word'].isin(keyword)], x='month', y='porc_pos',color='key_word' ,title='Frequency of Keywords in the Tweets',width=500) \n",
    "    newnames = {'1': 'Cultura', '2': 'Empresa', '3': 'Jovenes', '4': 'Metro', '5': 'Movilidad', '6': 'Seguridad', '7': 'Tecnologia', '8': 'Trabajo', '9': 'Vida'}\n",
    "    fig.for_each_trace(lambda t: t.update(name = newnames[t.name],\n",
    "                                      legendgroup = newnames[t.name],\n",
    "                                      hovertemplate = t.hovertemplate.replace(t.name, newnames[t.name])\n",
    "                                     )\n",
    "                  ) \n",
    "    return fig "
   ]
  },
  {
   "cell_type": "code",
   "execution_count": 54,
   "metadata": {},
   "outputs": [
    {
     "data": {
      "application/vnd.plotly.v1+json": {
       "config": {
        "plotlyServerURL": "https://plot.ly"
       },
       "data": [
        {
         "hovertemplate": "key_word=Cultura<br>month=%{x}<br>porc_pos=%{y}<extra></extra>",
         "legendgroup": "Cultura",
         "line": {
          "color": "#636efa",
          "dash": "solid"
         },
         "marker": {
          "symbol": "circle"
         },
         "mode": "lines",
         "name": "Cultura",
         "orientation": "v",
         "showlegend": true,
         "type": "scatter",
         "x": [
          1,
          2,
          3,
          4,
          5
         ],
         "xaxis": "x",
         "y": [
          0.5790378006872853,
          0.6945169712793734,
          0.6794055201698513,
          0.6308851224105462,
          0.5328282828282829
         ],
         "yaxis": "y"
        },
        {
         "hovertemplate": "key_word=Jovenes<br>month=%{x}<br>porc_pos=%{y}<extra></extra>",
         "legendgroup": "Jovenes",
         "line": {
          "color": "#EF553B",
          "dash": "solid"
         },
         "marker": {
          "symbol": "circle"
         },
         "mode": "lines",
         "name": "Jovenes",
         "orientation": "v",
         "showlegend": true,
         "type": "scatter",
         "x": [
          1,
          2,
          3,
          4,
          5
         ],
         "xaxis": "x",
         "y": [
          0.4652777777777778,
          0.6234817813765182,
          0.47938931297709925,
          0.4799301919720768,
          0.40954773869346733
         ],
         "yaxis": "y"
        }
       ],
       "layout": {
        "legend": {
         "title": {
          "text": "key_word"
         },
         "tracegroupgap": 0
        },
        "template": {
         "data": {
          "bar": [
           {
            "error_x": {
             "color": "#2a3f5f"
            },
            "error_y": {
             "color": "#2a3f5f"
            },
            "marker": {
             "line": {
              "color": "#E5ECF6",
              "width": 0.5
             },
             "pattern": {
              "fillmode": "overlay",
              "size": 10,
              "solidity": 0.2
             }
            },
            "type": "bar"
           }
          ],
          "barpolar": [
           {
            "marker": {
             "line": {
              "color": "#E5ECF6",
              "width": 0.5
             },
             "pattern": {
              "fillmode": "overlay",
              "size": 10,
              "solidity": 0.2
             }
            },
            "type": "barpolar"
           }
          ],
          "carpet": [
           {
            "aaxis": {
             "endlinecolor": "#2a3f5f",
             "gridcolor": "white",
             "linecolor": "white",
             "minorgridcolor": "white",
             "startlinecolor": "#2a3f5f"
            },
            "baxis": {
             "endlinecolor": "#2a3f5f",
             "gridcolor": "white",
             "linecolor": "white",
             "minorgridcolor": "white",
             "startlinecolor": "#2a3f5f"
            },
            "type": "carpet"
           }
          ],
          "choropleth": [
           {
            "colorbar": {
             "outlinewidth": 0,
             "ticks": ""
            },
            "type": "choropleth"
           }
          ],
          "contour": [
           {
            "colorbar": {
             "outlinewidth": 0,
             "ticks": ""
            },
            "colorscale": [
             [
              0,
              "#0d0887"
             ],
             [
              0.1111111111111111,
              "#46039f"
             ],
             [
              0.2222222222222222,
              "#7201a8"
             ],
             [
              0.3333333333333333,
              "#9c179e"
             ],
             [
              0.4444444444444444,
              "#bd3786"
             ],
             [
              0.5555555555555556,
              "#d8576b"
             ],
             [
              0.6666666666666666,
              "#ed7953"
             ],
             [
              0.7777777777777778,
              "#fb9f3a"
             ],
             [
              0.8888888888888888,
              "#fdca26"
             ],
             [
              1,
              "#f0f921"
             ]
            ],
            "type": "contour"
           }
          ],
          "contourcarpet": [
           {
            "colorbar": {
             "outlinewidth": 0,
             "ticks": ""
            },
            "type": "contourcarpet"
           }
          ],
          "heatmap": [
           {
            "colorbar": {
             "outlinewidth": 0,
             "ticks": ""
            },
            "colorscale": [
             [
              0,
              "#0d0887"
             ],
             [
              0.1111111111111111,
              "#46039f"
             ],
             [
              0.2222222222222222,
              "#7201a8"
             ],
             [
              0.3333333333333333,
              "#9c179e"
             ],
             [
              0.4444444444444444,
              "#bd3786"
             ],
             [
              0.5555555555555556,
              "#d8576b"
             ],
             [
              0.6666666666666666,
              "#ed7953"
             ],
             [
              0.7777777777777778,
              "#fb9f3a"
             ],
             [
              0.8888888888888888,
              "#fdca26"
             ],
             [
              1,
              "#f0f921"
             ]
            ],
            "type": "heatmap"
           }
          ],
          "heatmapgl": [
           {
            "colorbar": {
             "outlinewidth": 0,
             "ticks": ""
            },
            "colorscale": [
             [
              0,
              "#0d0887"
             ],
             [
              0.1111111111111111,
              "#46039f"
             ],
             [
              0.2222222222222222,
              "#7201a8"
             ],
             [
              0.3333333333333333,
              "#9c179e"
             ],
             [
              0.4444444444444444,
              "#bd3786"
             ],
             [
              0.5555555555555556,
              "#d8576b"
             ],
             [
              0.6666666666666666,
              "#ed7953"
             ],
             [
              0.7777777777777778,
              "#fb9f3a"
             ],
             [
              0.8888888888888888,
              "#fdca26"
             ],
             [
              1,
              "#f0f921"
             ]
            ],
            "type": "heatmapgl"
           }
          ],
          "histogram": [
           {
            "marker": {
             "pattern": {
              "fillmode": "overlay",
              "size": 10,
              "solidity": 0.2
             }
            },
            "type": "histogram"
           }
          ],
          "histogram2d": [
           {
            "colorbar": {
             "outlinewidth": 0,
             "ticks": ""
            },
            "colorscale": [
             [
              0,
              "#0d0887"
             ],
             [
              0.1111111111111111,
              "#46039f"
             ],
             [
              0.2222222222222222,
              "#7201a8"
             ],
             [
              0.3333333333333333,
              "#9c179e"
             ],
             [
              0.4444444444444444,
              "#bd3786"
             ],
             [
              0.5555555555555556,
              "#d8576b"
             ],
             [
              0.6666666666666666,
              "#ed7953"
             ],
             [
              0.7777777777777778,
              "#fb9f3a"
             ],
             [
              0.8888888888888888,
              "#fdca26"
             ],
             [
              1,
              "#f0f921"
             ]
            ],
            "type": "histogram2d"
           }
          ],
          "histogram2dcontour": [
           {
            "colorbar": {
             "outlinewidth": 0,
             "ticks": ""
            },
            "colorscale": [
             [
              0,
              "#0d0887"
             ],
             [
              0.1111111111111111,
              "#46039f"
             ],
             [
              0.2222222222222222,
              "#7201a8"
             ],
             [
              0.3333333333333333,
              "#9c179e"
             ],
             [
              0.4444444444444444,
              "#bd3786"
             ],
             [
              0.5555555555555556,
              "#d8576b"
             ],
             [
              0.6666666666666666,
              "#ed7953"
             ],
             [
              0.7777777777777778,
              "#fb9f3a"
             ],
             [
              0.8888888888888888,
              "#fdca26"
             ],
             [
              1,
              "#f0f921"
             ]
            ],
            "type": "histogram2dcontour"
           }
          ],
          "mesh3d": [
           {
            "colorbar": {
             "outlinewidth": 0,
             "ticks": ""
            },
            "type": "mesh3d"
           }
          ],
          "parcoords": [
           {
            "line": {
             "colorbar": {
              "outlinewidth": 0,
              "ticks": ""
             }
            },
            "type": "parcoords"
           }
          ],
          "pie": [
           {
            "automargin": true,
            "type": "pie"
           }
          ],
          "scatter": [
           {
            "fillpattern": {
             "fillmode": "overlay",
             "size": 10,
             "solidity": 0.2
            },
            "type": "scatter"
           }
          ],
          "scatter3d": [
           {
            "line": {
             "colorbar": {
              "outlinewidth": 0,
              "ticks": ""
             }
            },
            "marker": {
             "colorbar": {
              "outlinewidth": 0,
              "ticks": ""
             }
            },
            "type": "scatter3d"
           }
          ],
          "scattercarpet": [
           {
            "marker": {
             "colorbar": {
              "outlinewidth": 0,
              "ticks": ""
             }
            },
            "type": "scattercarpet"
           }
          ],
          "scattergeo": [
           {
            "marker": {
             "colorbar": {
              "outlinewidth": 0,
              "ticks": ""
             }
            },
            "type": "scattergeo"
           }
          ],
          "scattergl": [
           {
            "marker": {
             "colorbar": {
              "outlinewidth": 0,
              "ticks": ""
             }
            },
            "type": "scattergl"
           }
          ],
          "scattermapbox": [
           {
            "marker": {
             "colorbar": {
              "outlinewidth": 0,
              "ticks": ""
             }
            },
            "type": "scattermapbox"
           }
          ],
          "scatterpolar": [
           {
            "marker": {
             "colorbar": {
              "outlinewidth": 0,
              "ticks": ""
             }
            },
            "type": "scatterpolar"
           }
          ],
          "scatterpolargl": [
           {
            "marker": {
             "colorbar": {
              "outlinewidth": 0,
              "ticks": ""
             }
            },
            "type": "scatterpolargl"
           }
          ],
          "scatterternary": [
           {
            "marker": {
             "colorbar": {
              "outlinewidth": 0,
              "ticks": ""
             }
            },
            "type": "scatterternary"
           }
          ],
          "surface": [
           {
            "colorbar": {
             "outlinewidth": 0,
             "ticks": ""
            },
            "colorscale": [
             [
              0,
              "#0d0887"
             ],
             [
              0.1111111111111111,
              "#46039f"
             ],
             [
              0.2222222222222222,
              "#7201a8"
             ],
             [
              0.3333333333333333,
              "#9c179e"
             ],
             [
              0.4444444444444444,
              "#bd3786"
             ],
             [
              0.5555555555555556,
              "#d8576b"
             ],
             [
              0.6666666666666666,
              "#ed7953"
             ],
             [
              0.7777777777777778,
              "#fb9f3a"
             ],
             [
              0.8888888888888888,
              "#fdca26"
             ],
             [
              1,
              "#f0f921"
             ]
            ],
            "type": "surface"
           }
          ],
          "table": [
           {
            "cells": {
             "fill": {
              "color": "#EBF0F8"
             },
             "line": {
              "color": "white"
             }
            },
            "header": {
             "fill": {
              "color": "#C8D4E3"
             },
             "line": {
              "color": "white"
             }
            },
            "type": "table"
           }
          ]
         },
         "layout": {
          "annotationdefaults": {
           "arrowcolor": "#2a3f5f",
           "arrowhead": 0,
           "arrowwidth": 1
          },
          "autotypenumbers": "strict",
          "coloraxis": {
           "colorbar": {
            "outlinewidth": 0,
            "ticks": ""
           }
          },
          "colorscale": {
           "diverging": [
            [
             0,
             "#8e0152"
            ],
            [
             0.1,
             "#c51b7d"
            ],
            [
             0.2,
             "#de77ae"
            ],
            [
             0.3,
             "#f1b6da"
            ],
            [
             0.4,
             "#fde0ef"
            ],
            [
             0.5,
             "#f7f7f7"
            ],
            [
             0.6,
             "#e6f5d0"
            ],
            [
             0.7,
             "#b8e186"
            ],
            [
             0.8,
             "#7fbc41"
            ],
            [
             0.9,
             "#4d9221"
            ],
            [
             1,
             "#276419"
            ]
           ],
           "sequential": [
            [
             0,
             "#0d0887"
            ],
            [
             0.1111111111111111,
             "#46039f"
            ],
            [
             0.2222222222222222,
             "#7201a8"
            ],
            [
             0.3333333333333333,
             "#9c179e"
            ],
            [
             0.4444444444444444,
             "#bd3786"
            ],
            [
             0.5555555555555556,
             "#d8576b"
            ],
            [
             0.6666666666666666,
             "#ed7953"
            ],
            [
             0.7777777777777778,
             "#fb9f3a"
            ],
            [
             0.8888888888888888,
             "#fdca26"
            ],
            [
             1,
             "#f0f921"
            ]
           ],
           "sequentialminus": [
            [
             0,
             "#0d0887"
            ],
            [
             0.1111111111111111,
             "#46039f"
            ],
            [
             0.2222222222222222,
             "#7201a8"
            ],
            [
             0.3333333333333333,
             "#9c179e"
            ],
            [
             0.4444444444444444,
             "#bd3786"
            ],
            [
             0.5555555555555556,
             "#d8576b"
            ],
            [
             0.6666666666666666,
             "#ed7953"
            ],
            [
             0.7777777777777778,
             "#fb9f3a"
            ],
            [
             0.8888888888888888,
             "#fdca26"
            ],
            [
             1,
             "#f0f921"
            ]
           ]
          },
          "colorway": [
           "#636efa",
           "#EF553B",
           "#00cc96",
           "#ab63fa",
           "#FFA15A",
           "#19d3f3",
           "#FF6692",
           "#B6E880",
           "#FF97FF",
           "#FECB52"
          ],
          "font": {
           "color": "#2a3f5f"
          },
          "geo": {
           "bgcolor": "white",
           "lakecolor": "white",
           "landcolor": "#E5ECF6",
           "showlakes": true,
           "showland": true,
           "subunitcolor": "white"
          },
          "hoverlabel": {
           "align": "left"
          },
          "hovermode": "closest",
          "mapbox": {
           "style": "light"
          },
          "paper_bgcolor": "white",
          "plot_bgcolor": "#E5ECF6",
          "polar": {
           "angularaxis": {
            "gridcolor": "white",
            "linecolor": "white",
            "ticks": ""
           },
           "bgcolor": "#E5ECF6",
           "radialaxis": {
            "gridcolor": "white",
            "linecolor": "white",
            "ticks": ""
           }
          },
          "scene": {
           "xaxis": {
            "backgroundcolor": "#E5ECF6",
            "gridcolor": "white",
            "gridwidth": 2,
            "linecolor": "white",
            "showbackground": true,
            "ticks": "",
            "zerolinecolor": "white"
           },
           "yaxis": {
            "backgroundcolor": "#E5ECF6",
            "gridcolor": "white",
            "gridwidth": 2,
            "linecolor": "white",
            "showbackground": true,
            "ticks": "",
            "zerolinecolor": "white"
           },
           "zaxis": {
            "backgroundcolor": "#E5ECF6",
            "gridcolor": "white",
            "gridwidth": 2,
            "linecolor": "white",
            "showbackground": true,
            "ticks": "",
            "zerolinecolor": "white"
           }
          },
          "shapedefaults": {
           "line": {
            "color": "#2a3f5f"
           }
          },
          "ternary": {
           "aaxis": {
            "gridcolor": "white",
            "linecolor": "white",
            "ticks": ""
           },
           "baxis": {
            "gridcolor": "white",
            "linecolor": "white",
            "ticks": ""
           },
           "bgcolor": "#E5ECF6",
           "caxis": {
            "gridcolor": "white",
            "linecolor": "white",
            "ticks": ""
           }
          },
          "title": {
           "x": 0.05
          },
          "xaxis": {
           "automargin": true,
           "gridcolor": "white",
           "linecolor": "white",
           "ticks": "",
           "title": {
            "standoff": 15
           },
           "zerolinecolor": "white",
           "zerolinewidth": 2
          },
          "yaxis": {
           "automargin": true,
           "gridcolor": "white",
           "linecolor": "white",
           "ticks": "",
           "title": {
            "standoff": 15
           },
           "zerolinecolor": "white",
           "zerolinewidth": 2
          }
         }
        },
        "title": {
         "text": "Frequency of Keywords in the Tweets"
        },
        "width": 500,
        "xaxis": {
         "anchor": "y",
         "domain": [
          0,
          1
         ],
         "title": {
          "text": "month"
         }
        },
        "yaxis": {
         "anchor": "x",
         "domain": [
          0,
          1
         ],
         "title": {
          "text": "porc_pos"
         }
        }
       }
      }
     },
     "metadata": {},
     "output_type": "display_data"
    }
   ],
   "source": [
    "plotly_month_keyword(2022,[1,3])"
   ]
  }
 ],
 "metadata": {
  "kernelspec": {
   "display_name": "Python 3.8.8 ('base')",
   "language": "python",
   "name": "python3"
  },
  "language_info": {
   "codemirror_mode": {
    "name": "ipython",
    "version": 3
   },
   "file_extension": ".py",
   "mimetype": "text/x-python",
   "name": "python",
   "nbconvert_exporter": "python",
   "pygments_lexer": "ipython3",
   "version": "3.8.8"
  },
  "orig_nbformat": 4,
  "vscode": {
   "interpreter": {
    "hash": "40d3a090f54c6569ab1632332b64b2c03c39dcf918b08424e98f38b5ae0af88f"
   }
  }
 },
 "nbformat": 4,
 "nbformat_minor": 2
}
