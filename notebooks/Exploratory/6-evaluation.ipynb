{
 "cells": [
  {
   "cell_type": "markdown",
   "metadata": {},
   "source": [
    "# EVALUATION"
   ]
  },
  {
   "cell_type": "code",
   "execution_count": 70,
   "metadata": {},
   "outputs": [],
   "source": [
    "import pandas as pd\n",
    "import numpy as np\n",
    "import matplotlib.pyplot as plt\n",
    "import seaborn as sns\n",
    "import pylab as pl  \n",
    "import plotly.express as px"
   ]
  },
  {
   "cell_type": "code",
   "execution_count": 71,
   "metadata": {},
   "outputs": [],
   "source": [
    "from sklearn.model_selection import train_test_split\n",
    "from sklearn.linear_model import LogisticRegression\n",
    "from sklearn.metrics import accuracy_score\n",
    "from sklearn.metrics import f1_score\n",
    "from sklearn.metrics import confusion_matrix\n",
    "from sklearn.feature_extraction.text import TfidfVectorizer\n",
    "from sklearn.feature_extraction.text import HashingVectorizer\n",
    "from sklearn.feature_extraction.text import CountVectorizer"
   ]
  },
  {
   "cell_type": "code",
   "execution_count": 72,
   "metadata": {},
   "outputs": [],
   "source": [
    "from other import tools"
   ]
  },
  {
   "cell_type": "code",
   "execution_count": 73,
   "metadata": {},
   "outputs": [],
   "source": [
    "# clean the tweet and save it on a new column\n",
    "\n",
    "def clean_tweet(tweet):\n",
    "\n",
    "  new_tweet = ''\n",
    "  words = tweet.split()\n",
    "  for w in words:\n",
    "    wl = w.lower() # word in lower case\n",
    "    \n",
    "    # replace numbers\n",
    "    for number, new_value in tools.replace_numbers_dict.items():\n",
    "      wl = str(wl).replace(number,new_value)\n",
    "\n",
    "    # replace some punctuations mark to keep only words\n",
    "    for punctuation, new_value in tools.replace_punctuation_dict.items():\n",
    "      wl = wl.replace(punctuation,new_value)\n",
    "    \n",
    "    # replace accent mark \n",
    "    for accent, new_value in tools.replace_accent_dict.items():\n",
    "      wl = wl.replace(accent,new_value)\n",
    "\n",
    "    if wl not in tools.model_stop_wprds:\n",
    "      new_tweet += f'{wl} '\n",
    "  \n",
    "  return new_tweet[:-1]"
   ]
  },
  {
   "cell_type": "code",
   "execution_count": 74,
   "metadata": {},
   "outputs": [],
   "source": [
    "df_rating=pd.read_csv('data/sentiment_1_0.csv')\n",
    "df = pd.read_csv('https://raw.githubusercontent.com/GDLPLearning/Sentiment-Analysis-for-the-MDP/master/notebooks/Exploratory/data/tweets_interim.csv')"
   ]
  },
  {
   "cell_type": "code",
   "execution_count": 75,
   "metadata": {},
   "outputs": [],
   "source": [
    "df_rating['tweet'] = df_rating['full_text'].apply(clean_tweet)\n",
    "df['tweet'] = df['full_text'].apply(clean_tweet)"
   ]
  },
  {
   "cell_type": "code",
   "execution_count": 76,
   "metadata": {},
   "outputs": [],
   "source": [
    "# split the data into train and test data\n",
    "tweets_train, tweets_test = train_test_split(df_rating, test_size=0.2, random_state=0)"
   ]
  },
  {
   "cell_type": "code",
   "execution_count": 77,
   "metadata": {},
   "outputs": [],
   "source": [
    "vectorizer = CountVectorizer()\n",
    "x_train_bow = vectorizer.fit_transform(tweets_train['tweet'])\n",
    "y_train_bow = tweets_train['sentiment']"
   ]
  },
  {
   "cell_type": "code",
   "execution_count": 78,
   "metadata": {},
   "outputs": [
    {
     "data": {
      "text/plain": [
       "LogisticRegression(C=1, solver='liblinear')"
      ]
     },
     "execution_count": 78,
     "metadata": {},
     "output_type": "execute_result"
    }
   ],
   "source": [
    "# Training the model \n",
    "lr_model_all = LogisticRegression(C=1, solver=\"liblinear\")\n",
    "lr_model_all.fit(x_train_bow, y_train_bow)"
   ]
  },
  {
   "cell_type": "code",
   "execution_count": 79,
   "metadata": {},
   "outputs": [],
   "source": [
    "vectorizer = CountVectorizer()\n",
    "x_train_bow = vectorizer.fit_transform(tweets_train['tweet'])\n",
    "x_predic_bow = vectorizer.transform(df_sent['tweet'])"
   ]
  },
  {
   "cell_type": "code",
   "execution_count": 80,
   "metadata": {},
   "outputs": [],
   "source": [
    "# Predicting the output\n",
    "hist_pred_lr_prob = lr_model_all.predict_proba(x_predic_bow)\n",
    "hist_pred_lr_all = lr_model_all.predict(x_predic_bow)"
   ]
  },
  {
   "cell_type": "code",
   "execution_count": 81,
   "metadata": {},
   "outputs": [],
   "source": [
    "probabilities = [each[1] for each in hist_pred_lr_prob]"
   ]
  },
  {
   "cell_type": "code",
   "execution_count": 82,
   "metadata": {},
   "outputs": [],
   "source": [
    "df['predicted_sentiment'] = hist_pred_lr_all\n",
    "df['Predicted_probability'] = probabilities"
   ]
  },
  {
   "cell_type": "code",
   "execution_count": 83,
   "metadata": {},
   "outputs": [
    {
     "data": {
      "text/html": [
       "<div>\n",
       "<style scoped>\n",
       "    .dataframe tbody tr th:only-of-type {\n",
       "        vertical-align: middle;\n",
       "    }\n",
       "\n",
       "    .dataframe tbody tr th {\n",
       "        vertical-align: top;\n",
       "    }\n",
       "\n",
       "    .dataframe thead th {\n",
       "        text-align: right;\n",
       "    }\n",
       "</style>\n",
       "<table border=\"1\" class=\"dataframe\">\n",
       "  <thead>\n",
       "    <tr style=\"text-align: right;\">\n",
       "      <th></th>\n",
       "      <th>full_text</th>\n",
       "      <th>key_word</th>\n",
       "      <th>date</th>\n",
       "      <th>hour</th>\n",
       "      <th>day</th>\n",
       "      <th>day_of_week</th>\n",
       "      <th>month</th>\n",
       "      <th>year</th>\n",
       "      <th>tweet</th>\n",
       "      <th>predicted_sentiment</th>\n",
       "      <th>Predicted_probability</th>\n",
       "    </tr>\n",
       "  </thead>\n",
       "  <tbody>\n",
       "    <tr>\n",
       "      <th>0</th>\n",
       "      <td>Me acordé que a los colombianos de mi ex trab...</td>\n",
       "      <td>trabajo</td>\n",
       "      <td>2020-01-10 22:51:09+00:00</td>\n",
       "      <td>22</td>\n",
       "      <td>10</td>\n",
       "      <td>4</td>\n",
       "      <td>1</td>\n",
       "      <td>2020</td>\n",
       "      <td>acorde colombianos ex trabajo gustaba medellin...</td>\n",
       "      <td>1</td>\n",
       "      <td>0.552759</td>\n",
       "    </tr>\n",
       "    <tr>\n",
       "      <th>1</th>\n",
       "      <td>@JoseFBarriosG @VLADDO @Uber Como van a apoya...</td>\n",
       "      <td>trabajo</td>\n",
       "      <td>2020-01-10 22:06:30+00:00</td>\n",
       "      <td>22</td>\n",
       "      <td>10</td>\n",
       "      <td>4</td>\n",
       "      <td>1</td>\n",
       "      <td>2020</td>\n",
       "      <td>josefbarriosg vladdo uber apoyar uber disminuy...</td>\n",
       "      <td>1</td>\n",
       "      <td>0.577848</td>\n",
       "    </tr>\n",
       "    <tr>\n",
       "      <th>2</th>\n",
       "      <td>En Tierragro sabemos que la labor en el campo...</td>\n",
       "      <td>trabajo</td>\n",
       "      <td>2020-01-10 19:59:40+00:00</td>\n",
       "      <td>19</td>\n",
       "      <td>10</td>\n",
       "      <td>4</td>\n",
       "      <td>1</td>\n",
       "      <td>2020</td>\n",
       "      <td>tierragro sabemos labor campo implica tener bu...</td>\n",
       "      <td>0</td>\n",
       "      <td>0.491671</td>\n",
       "    </tr>\n",
       "    <tr>\n",
       "      <th>3</th>\n",
       "      <td>@seguridadmed PARA NADIE ES UN SECRETO GENERA...</td>\n",
       "      <td>trabajo</td>\n",
       "      <td>2020-01-10 19:17:54+00:00</td>\n",
       "      <td>19</td>\n",
       "      <td>10</td>\n",
       "      <td>4</td>\n",
       "      <td>1</td>\n",
       "      <td>2020</td>\n",
       "      <td>seguridadmed nadie secreto general mas facil c...</td>\n",
       "      <td>0</td>\n",
       "      <td>0.353633</td>\n",
       "    </tr>\n",
       "    <tr>\n",
       "      <th>4</th>\n",
       "      <td>@kmilohurtado_81 @SaqueLargoWin Tengo casi un...</td>\n",
       "      <td>trabajo</td>\n",
       "      <td>2020-01-10 18:09:24+00:00</td>\n",
       "      <td>18</td>\n",
       "      <td>10</td>\n",
       "      <td>4</td>\n",
       "      <td>1</td>\n",
       "      <td>2020</td>\n",
       "      <td>kmilohurtado saquelargowin tengo casi decena a...</td>\n",
       "      <td>0</td>\n",
       "      <td>0.398427</td>\n",
       "    </tr>\n",
       "    <tr>\n",
       "      <th>...</th>\n",
       "      <td>...</td>\n",
       "      <td>...</td>\n",
       "      <td>...</td>\n",
       "      <td>...</td>\n",
       "      <td>...</td>\n",
       "      <td>...</td>\n",
       "      <td>...</td>\n",
       "      <td>...</td>\n",
       "      <td>...</td>\n",
       "      <td>...</td>\n",
       "      <td>...</td>\n",
       "    </tr>\n",
       "    <tr>\n",
       "      <th>244497</th>\n",
       "      <td>@lumalo El desorden en todo lo relacionado a ...</td>\n",
       "      <td>movilidad</td>\n",
       "      <td>2022-05-21 15:39:13+00:00</td>\n",
       "      <td>15</td>\n",
       "      <td>21</td>\n",
       "      <td>5</td>\n",
       "      <td>5</td>\n",
       "      <td>2022</td>\n",
       "      <td>lumalo desorden relacionado movilidad transito...</td>\n",
       "      <td>0</td>\n",
       "      <td>0.412423</td>\n",
       "    </tr>\n",
       "    <tr>\n",
       "      <th>244498</th>\n",
       "      <td>#Movilidad ¡Taxista! Así rotará el pico y pla...</td>\n",
       "      <td>movilidad</td>\n",
       "      <td>2022-05-21 15:13:26+00:00</td>\n",
       "      <td>15</td>\n",
       "      <td>21</td>\n",
       "      <td>5</td>\n",
       "      <td>5</td>\n",
       "      <td>2022</td>\n",
       "      <td>movilidad taxista rotara pico placa medellin s...</td>\n",
       "      <td>0</td>\n",
       "      <td>0.330331</td>\n",
       "    </tr>\n",
       "    <tr>\n",
       "      <th>244499</th>\n",
       "      <td>Faltan días para dar inicio a nuestras giras ...</td>\n",
       "      <td>movilidad</td>\n",
       "      <td>2022-05-21 01:29:49+00:00</td>\n",
       "      <td>1</td>\n",
       "      <td>21</td>\n",
       "      <td>5</td>\n",
       "      <td>5</td>\n",
       "      <td>2022</td>\n",
       "      <td>faltan dar inicio nuestras giras presenciales ...</td>\n",
       "      <td>1</td>\n",
       "      <td>0.501993</td>\n",
       "    </tr>\n",
       "    <tr>\n",
       "      <th>244500</th>\n",
       "      <td>@sttmed señores secretaria de la movilidad de...</td>\n",
       "      <td>movilidad</td>\n",
       "      <td>2022-05-21 00:25:54+00:00</td>\n",
       "      <td>0</td>\n",
       "      <td>21</td>\n",
       "      <td>5</td>\n",
       "      <td>5</td>\n",
       "      <td>2022</td>\n",
       "      <td>sttmed señores movilidad ciudad medellin pregu...</td>\n",
       "      <td>0</td>\n",
       "      <td>0.418485</td>\n",
       "    </tr>\n",
       "    <tr>\n",
       "      <th>244501</th>\n",
       "      <td>@sttmed Se nota la inoperancia de la secretar...</td>\n",
       "      <td>movilidad</td>\n",
       "      <td>2022-05-21 00:19:48+00:00</td>\n",
       "      <td>0</td>\n",
       "      <td>21</td>\n",
       "      <td>5</td>\n",
       "      <td>5</td>\n",
       "      <td>2022</td>\n",
       "      <td>sttmed nota inoperancia sector occidente caos ...</td>\n",
       "      <td>0</td>\n",
       "      <td>0.099331</td>\n",
       "    </tr>\n",
       "  </tbody>\n",
       "</table>\n",
       "<p>244502 rows × 11 columns</p>\n",
       "</div>"
      ],
      "text/plain": [
       "                                                full_text   key_word  \\\n",
       "0        Me acordé que a los colombianos de mi ex trab...    trabajo   \n",
       "1        @JoseFBarriosG @VLADDO @Uber Como van a apoya...    trabajo   \n",
       "2        En Tierragro sabemos que la labor en el campo...    trabajo   \n",
       "3        @seguridadmed PARA NADIE ES UN SECRETO GENERA...    trabajo   \n",
       "4        @kmilohurtado_81 @SaqueLargoWin Tengo casi un...    trabajo   \n",
       "...                                                   ...        ...   \n",
       "244497   @lumalo El desorden en todo lo relacionado a ...  movilidad   \n",
       "244498   #Movilidad ¡Taxista! Así rotará el pico y pla...  movilidad   \n",
       "244499   Faltan días para dar inicio a nuestras giras ...  movilidad   \n",
       "244500   @sttmed señores secretaria de la movilidad de...  movilidad   \n",
       "244501   @sttmed Se nota la inoperancia de la secretar...  movilidad   \n",
       "\n",
       "                             date  hour  day  day_of_week  month  year  \\\n",
       "0       2020-01-10 22:51:09+00:00    22   10            4      1  2020   \n",
       "1       2020-01-10 22:06:30+00:00    22   10            4      1  2020   \n",
       "2       2020-01-10 19:59:40+00:00    19   10            4      1  2020   \n",
       "3       2020-01-10 19:17:54+00:00    19   10            4      1  2020   \n",
       "4       2020-01-10 18:09:24+00:00    18   10            4      1  2020   \n",
       "...                           ...   ...  ...          ...    ...   ...   \n",
       "244497  2022-05-21 15:39:13+00:00    15   21            5      5  2022   \n",
       "244498  2022-05-21 15:13:26+00:00    15   21            5      5  2022   \n",
       "244499  2022-05-21 01:29:49+00:00     1   21            5      5  2022   \n",
       "244500  2022-05-21 00:25:54+00:00     0   21            5      5  2022   \n",
       "244501  2022-05-21 00:19:48+00:00     0   21            5      5  2022   \n",
       "\n",
       "                                                    tweet  \\\n",
       "0       acorde colombianos ex trabajo gustaba medellin...   \n",
       "1       josefbarriosg vladdo uber apoyar uber disminuy...   \n",
       "2       tierragro sabemos labor campo implica tener bu...   \n",
       "3       seguridadmed nadie secreto general mas facil c...   \n",
       "4       kmilohurtado saquelargowin tengo casi decena a...   \n",
       "...                                                   ...   \n",
       "244497  lumalo desorden relacionado movilidad transito...   \n",
       "244498  movilidad taxista rotara pico placa medellin s...   \n",
       "244499  faltan dar inicio nuestras giras presenciales ...   \n",
       "244500  sttmed señores movilidad ciudad medellin pregu...   \n",
       "244501  sttmed nota inoperancia sector occidente caos ...   \n",
       "\n",
       "        predicted_sentiment  Predicted_probability  \n",
       "0                         1               0.552759  \n",
       "1                         1               0.577848  \n",
       "2                         0               0.491671  \n",
       "3                         0               0.353633  \n",
       "4                         0               0.398427  \n",
       "...                     ...                    ...  \n",
       "244497                    0               0.412423  \n",
       "244498                    0               0.330331  \n",
       "244499                    1               0.501993  \n",
       "244500                    0               0.418485  \n",
       "244501                    0               0.099331  \n",
       "\n",
       "[244502 rows x 11 columns]"
      ]
     },
     "execution_count": 83,
     "metadata": {},
     "output_type": "execute_result"
    }
   ],
   "source": [
    "df"
   ]
  },
  {
   "cell_type": "code",
   "execution_count": 84,
   "metadata": {},
   "outputs": [],
   "source": [
    "#df_sent.replace({'predicted_sentiment': {0: 'Negative', 1: 'Positive'}}, inplace=True)"
   ]
  },
  {
   "cell_type": "code",
   "execution_count": 85,
   "metadata": {},
   "outputs": [
    {
     "data": {
      "text/html": [
       "<div>\n",
       "<style scoped>\n",
       "    .dataframe tbody tr th:only-of-type {\n",
       "        vertical-align: middle;\n",
       "    }\n",
       "\n",
       "    .dataframe tbody tr th {\n",
       "        vertical-align: top;\n",
       "    }\n",
       "\n",
       "    .dataframe thead th {\n",
       "        text-align: right;\n",
       "    }\n",
       "</style>\n",
       "<table border=\"1\" class=\"dataframe\">\n",
       "  <thead>\n",
       "    <tr style=\"text-align: right;\">\n",
       "      <th></th>\n",
       "      <th>full_text</th>\n",
       "      <th>key_word</th>\n",
       "      <th>date</th>\n",
       "      <th>hour</th>\n",
       "      <th>day</th>\n",
       "      <th>day_of_week</th>\n",
       "      <th>month</th>\n",
       "      <th>year</th>\n",
       "      <th>tweet</th>\n",
       "      <th>predicted_sentiment</th>\n",
       "      <th>Predicted_probability</th>\n",
       "    </tr>\n",
       "  </thead>\n",
       "  <tbody>\n",
       "    <tr>\n",
       "      <th>0</th>\n",
       "      <td>Me acordé que a los colombianos de mi ex trab...</td>\n",
       "      <td>trabajo</td>\n",
       "      <td>2020-01-10 22:51:09+00:00</td>\n",
       "      <td>22</td>\n",
       "      <td>10</td>\n",
       "      <td>4</td>\n",
       "      <td>1</td>\n",
       "      <td>2020</td>\n",
       "      <td>acorde colombianos ex trabajo gustaba medellin...</td>\n",
       "      <td>1</td>\n",
       "      <td>0.552759</td>\n",
       "    </tr>\n",
       "    <tr>\n",
       "      <th>1</th>\n",
       "      <td>@JoseFBarriosG @VLADDO @Uber Como van a apoya...</td>\n",
       "      <td>trabajo</td>\n",
       "      <td>2020-01-10 22:06:30+00:00</td>\n",
       "      <td>22</td>\n",
       "      <td>10</td>\n",
       "      <td>4</td>\n",
       "      <td>1</td>\n",
       "      <td>2020</td>\n",
       "      <td>josefbarriosg vladdo uber apoyar uber disminuy...</td>\n",
       "      <td>1</td>\n",
       "      <td>0.577848</td>\n",
       "    </tr>\n",
       "    <tr>\n",
       "      <th>2</th>\n",
       "      <td>En Tierragro sabemos que la labor en el campo...</td>\n",
       "      <td>trabajo</td>\n",
       "      <td>2020-01-10 19:59:40+00:00</td>\n",
       "      <td>19</td>\n",
       "      <td>10</td>\n",
       "      <td>4</td>\n",
       "      <td>1</td>\n",
       "      <td>2020</td>\n",
       "      <td>tierragro sabemos labor campo implica tener bu...</td>\n",
       "      <td>0</td>\n",
       "      <td>0.491671</td>\n",
       "    </tr>\n",
       "    <tr>\n",
       "      <th>3</th>\n",
       "      <td>@seguridadmed PARA NADIE ES UN SECRETO GENERA...</td>\n",
       "      <td>trabajo</td>\n",
       "      <td>2020-01-10 19:17:54+00:00</td>\n",
       "      <td>19</td>\n",
       "      <td>10</td>\n",
       "      <td>4</td>\n",
       "      <td>1</td>\n",
       "      <td>2020</td>\n",
       "      <td>seguridadmed nadie secreto general mas facil c...</td>\n",
       "      <td>0</td>\n",
       "      <td>0.353633</td>\n",
       "    </tr>\n",
       "    <tr>\n",
       "      <th>4</th>\n",
       "      <td>@kmilohurtado_81 @SaqueLargoWin Tengo casi un...</td>\n",
       "      <td>trabajo</td>\n",
       "      <td>2020-01-10 18:09:24+00:00</td>\n",
       "      <td>18</td>\n",
       "      <td>10</td>\n",
       "      <td>4</td>\n",
       "      <td>1</td>\n",
       "      <td>2020</td>\n",
       "      <td>kmilohurtado saquelargowin tengo casi decena a...</td>\n",
       "      <td>0</td>\n",
       "      <td>0.398427</td>\n",
       "    </tr>\n",
       "  </tbody>\n",
       "</table>\n",
       "</div>"
      ],
      "text/plain": [
       "                                           full_text key_word  \\\n",
       "0   Me acordé que a los colombianos de mi ex trab...  trabajo   \n",
       "1   @JoseFBarriosG @VLADDO @Uber Como van a apoya...  trabajo   \n",
       "2   En Tierragro sabemos que la labor en el campo...  trabajo   \n",
       "3   @seguridadmed PARA NADIE ES UN SECRETO GENERA...  trabajo   \n",
       "4   @kmilohurtado_81 @SaqueLargoWin Tengo casi un...  trabajo   \n",
       "\n",
       "                        date  hour  day  day_of_week  month  year  \\\n",
       "0  2020-01-10 22:51:09+00:00    22   10            4      1  2020   \n",
       "1  2020-01-10 22:06:30+00:00    22   10            4      1  2020   \n",
       "2  2020-01-10 19:59:40+00:00    19   10            4      1  2020   \n",
       "3  2020-01-10 19:17:54+00:00    19   10            4      1  2020   \n",
       "4  2020-01-10 18:09:24+00:00    18   10            4      1  2020   \n",
       "\n",
       "                                               tweet  predicted_sentiment  \\\n",
       "0  acorde colombianos ex trabajo gustaba medellin...                    1   \n",
       "1  josefbarriosg vladdo uber apoyar uber disminuy...                    1   \n",
       "2  tierragro sabemos labor campo implica tener bu...                    0   \n",
       "3  seguridadmed nadie secreto general mas facil c...                    0   \n",
       "4  kmilohurtado saquelargowin tengo casi decena a...                    0   \n",
       "\n",
       "   Predicted_probability  \n",
       "0               0.552759  \n",
       "1               0.577848  \n",
       "2               0.491671  \n",
       "3               0.353633  \n",
       "4               0.398427  "
      ]
     },
     "execution_count": 85,
     "metadata": {},
     "output_type": "execute_result"
    }
   ],
   "source": [
    "df.head()"
   ]
  },
  {
   "cell_type": "code",
   "execution_count": 86,
   "metadata": {},
   "outputs": [
    {
     "data": {
      "text/html": [
       "<div>\n",
       "<style scoped>\n",
       "    .dataframe tbody tr th:only-of-type {\n",
       "        vertical-align: middle;\n",
       "    }\n",
       "\n",
       "    .dataframe tbody tr th {\n",
       "        vertical-align: top;\n",
       "    }\n",
       "\n",
       "    .dataframe thead th {\n",
       "        text-align: right;\n",
       "    }\n",
       "</style>\n",
       "<table border=\"1\" class=\"dataframe\">\n",
       "  <thead>\n",
       "    <tr style=\"text-align: right;\">\n",
       "      <th></th>\n",
       "      <th>month</th>\n",
       "      <th>year</th>\n",
       "      <th>key_word</th>\n",
       "      <th>predicted_sentiment</th>\n",
       "      <th>frequency</th>\n",
       "    </tr>\n",
       "  </thead>\n",
       "  <tbody>\n",
       "    <tr>\n",
       "      <th>0</th>\n",
       "      <td>1</td>\n",
       "      <td>2019</td>\n",
       "      <td>cultura</td>\n",
       "      <td>0</td>\n",
       "      <td>189</td>\n",
       "    </tr>\n",
       "    <tr>\n",
       "      <th>1</th>\n",
       "      <td>1</td>\n",
       "      <td>2019</td>\n",
       "      <td>cultura</td>\n",
       "      <td>1</td>\n",
       "      <td>308</td>\n",
       "    </tr>\n",
       "    <tr>\n",
       "      <th>2</th>\n",
       "      <td>1</td>\n",
       "      <td>2019</td>\n",
       "      <td>empresa</td>\n",
       "      <td>0</td>\n",
       "      <td>273</td>\n",
       "    </tr>\n",
       "    <tr>\n",
       "      <th>3</th>\n",
       "      <td>1</td>\n",
       "      <td>2019</td>\n",
       "      <td>empresa</td>\n",
       "      <td>1</td>\n",
       "      <td>35</td>\n",
       "    </tr>\n",
       "    <tr>\n",
       "      <th>4</th>\n",
       "      <td>1</td>\n",
       "      <td>2019</td>\n",
       "      <td>jovenes</td>\n",
       "      <td>0</td>\n",
       "      <td>131</td>\n",
       "    </tr>\n",
       "    <tr>\n",
       "      <th>...</th>\n",
       "      <td>...</td>\n",
       "      <td>...</td>\n",
       "      <td>...</td>\n",
       "      <td>...</td>\n",
       "      <td>...</td>\n",
       "    </tr>\n",
       "    <tr>\n",
       "      <th>719</th>\n",
       "      <td>12</td>\n",
       "      <td>2021</td>\n",
       "      <td>tecnologia</td>\n",
       "      <td>1</td>\n",
       "      <td>82</td>\n",
       "    </tr>\n",
       "    <tr>\n",
       "      <th>720</th>\n",
       "      <td>12</td>\n",
       "      <td>2021</td>\n",
       "      <td>trabajo</td>\n",
       "      <td>0</td>\n",
       "      <td>386</td>\n",
       "    </tr>\n",
       "    <tr>\n",
       "      <th>721</th>\n",
       "      <td>12</td>\n",
       "      <td>2021</td>\n",
       "      <td>trabajo</td>\n",
       "      <td>1</td>\n",
       "      <td>574</td>\n",
       "    </tr>\n",
       "    <tr>\n",
       "      <th>722</th>\n",
       "      <td>12</td>\n",
       "      <td>2021</td>\n",
       "      <td>vida</td>\n",
       "      <td>0</td>\n",
       "      <td>568</td>\n",
       "    </tr>\n",
       "    <tr>\n",
       "      <th>723</th>\n",
       "      <td>12</td>\n",
       "      <td>2021</td>\n",
       "      <td>vida</td>\n",
       "      <td>1</td>\n",
       "      <td>781</td>\n",
       "    </tr>\n",
       "  </tbody>\n",
       "</table>\n",
       "<p>724 rows × 5 columns</p>\n",
       "</div>"
      ],
      "text/plain": [
       "     month  year    key_word  predicted_sentiment  frequency\n",
       "0        1  2019     cultura                    0        189\n",
       "1        1  2019     cultura                    1        308\n",
       "2        1  2019     empresa                    0        273\n",
       "3        1  2019     empresa                    1         35\n",
       "4        1  2019     jovenes                    0        131\n",
       "..     ...   ...         ...                  ...        ...\n",
       "719     12  2021  tecnologia                    1         82\n",
       "720     12  2021     trabajo                    0        386\n",
       "721     12  2021     trabajo                    1        574\n",
       "722     12  2021        vida                    0        568\n",
       "723     12  2021        vida                    1        781\n",
       "\n",
       "[724 rows x 5 columns]"
      ]
     },
     "execution_count": 86,
     "metadata": {},
     "output_type": "execute_result"
    }
   ],
   "source": [
    "df.groupby(['month','year','key_word','predicted_sentiment']).size().to_frame().reset_index().rename(columns={0: 'frequency'})"
   ]
  },
  {
   "cell_type": "code",
   "execution_count": 87,
   "metadata": {},
   "outputs": [
    {
     "data": {
      "text/html": [
       "<div>\n",
       "<style scoped>\n",
       "    .dataframe tbody tr th:only-of-type {\n",
       "        vertical-align: middle;\n",
       "    }\n",
       "\n",
       "    .dataframe tbody tr th {\n",
       "        vertical-align: top;\n",
       "    }\n",
       "\n",
       "    .dataframe thead th {\n",
       "        text-align: right;\n",
       "    }\n",
       "</style>\n",
       "<table border=\"1\" class=\"dataframe\">\n",
       "  <thead>\n",
       "    <tr style=\"text-align: right;\">\n",
       "      <th></th>\n",
       "      <th>full_text</th>\n",
       "      <th>key_word</th>\n",
       "      <th>date</th>\n",
       "      <th>hour</th>\n",
       "      <th>day</th>\n",
       "      <th>day_of_week</th>\n",
       "      <th>month</th>\n",
       "      <th>year</th>\n",
       "      <th>tweet</th>\n",
       "      <th>predicted_sentiment</th>\n",
       "      <th>Predicted_probability</th>\n",
       "    </tr>\n",
       "  </thead>\n",
       "  <tbody>\n",
       "    <tr>\n",
       "      <th>0</th>\n",
       "      <td>Me acordé que a los colombianos de mi ex trab...</td>\n",
       "      <td>trabajo</td>\n",
       "      <td>2020-01-10 22:51:09+00:00</td>\n",
       "      <td>22</td>\n",
       "      <td>10</td>\n",
       "      <td>4</td>\n",
       "      <td>1</td>\n",
       "      <td>2020</td>\n",
       "      <td>acorde colombianos ex trabajo gustaba medellin...</td>\n",
       "      <td>1</td>\n",
       "      <td>0.552759</td>\n",
       "    </tr>\n",
       "    <tr>\n",
       "      <th>1</th>\n",
       "      <td>@JoseFBarriosG @VLADDO @Uber Como van a apoya...</td>\n",
       "      <td>trabajo</td>\n",
       "      <td>2020-01-10 22:06:30+00:00</td>\n",
       "      <td>22</td>\n",
       "      <td>10</td>\n",
       "      <td>4</td>\n",
       "      <td>1</td>\n",
       "      <td>2020</td>\n",
       "      <td>josefbarriosg vladdo uber apoyar uber disminuy...</td>\n",
       "      <td>1</td>\n",
       "      <td>0.577848</td>\n",
       "    </tr>\n",
       "    <tr>\n",
       "      <th>2</th>\n",
       "      <td>En Tierragro sabemos que la labor en el campo...</td>\n",
       "      <td>trabajo</td>\n",
       "      <td>2020-01-10 19:59:40+00:00</td>\n",
       "      <td>19</td>\n",
       "      <td>10</td>\n",
       "      <td>4</td>\n",
       "      <td>1</td>\n",
       "      <td>2020</td>\n",
       "      <td>tierragro sabemos labor campo implica tener bu...</td>\n",
       "      <td>0</td>\n",
       "      <td>0.491671</td>\n",
       "    </tr>\n",
       "    <tr>\n",
       "      <th>3</th>\n",
       "      <td>@seguridadmed PARA NADIE ES UN SECRETO GENERA...</td>\n",
       "      <td>trabajo</td>\n",
       "      <td>2020-01-10 19:17:54+00:00</td>\n",
       "      <td>19</td>\n",
       "      <td>10</td>\n",
       "      <td>4</td>\n",
       "      <td>1</td>\n",
       "      <td>2020</td>\n",
       "      <td>seguridadmed nadie secreto general mas facil c...</td>\n",
       "      <td>0</td>\n",
       "      <td>0.353633</td>\n",
       "    </tr>\n",
       "    <tr>\n",
       "      <th>4</th>\n",
       "      <td>@kmilohurtado_81 @SaqueLargoWin Tengo casi un...</td>\n",
       "      <td>trabajo</td>\n",
       "      <td>2020-01-10 18:09:24+00:00</td>\n",
       "      <td>18</td>\n",
       "      <td>10</td>\n",
       "      <td>4</td>\n",
       "      <td>1</td>\n",
       "      <td>2020</td>\n",
       "      <td>kmilohurtado saquelargowin tengo casi decena a...</td>\n",
       "      <td>0</td>\n",
       "      <td>0.398427</td>\n",
       "    </tr>\n",
       "  </tbody>\n",
       "</table>\n",
       "</div>"
      ],
      "text/plain": [
       "                                           full_text key_word  \\\n",
       "0   Me acordé que a los colombianos de mi ex trab...  trabajo   \n",
       "1   @JoseFBarriosG @VLADDO @Uber Como van a apoya...  trabajo   \n",
       "2   En Tierragro sabemos que la labor en el campo...  trabajo   \n",
       "3   @seguridadmed PARA NADIE ES UN SECRETO GENERA...  trabajo   \n",
       "4   @kmilohurtado_81 @SaqueLargoWin Tengo casi un...  trabajo   \n",
       "\n",
       "                        date  hour  day  day_of_week  month  year  \\\n",
       "0  2020-01-10 22:51:09+00:00    22   10            4      1  2020   \n",
       "1  2020-01-10 22:06:30+00:00    22   10            4      1  2020   \n",
       "2  2020-01-10 19:59:40+00:00    19   10            4      1  2020   \n",
       "3  2020-01-10 19:17:54+00:00    19   10            4      1  2020   \n",
       "4  2020-01-10 18:09:24+00:00    18   10            4      1  2020   \n",
       "\n",
       "                                               tweet  predicted_sentiment  \\\n",
       "0  acorde colombianos ex trabajo gustaba medellin...                    1   \n",
       "1  josefbarriosg vladdo uber apoyar uber disminuy...                    1   \n",
       "2  tierragro sabemos labor campo implica tener bu...                    0   \n",
       "3  seguridadmed nadie secreto general mas facil c...                    0   \n",
       "4  kmilohurtado saquelargowin tengo casi decena a...                    0   \n",
       "\n",
       "   Predicted_probability  \n",
       "0               0.552759  \n",
       "1               0.577848  \n",
       "2               0.491671  \n",
       "3               0.353633  \n",
       "4               0.398427  "
      ]
     },
     "execution_count": 87,
     "metadata": {},
     "output_type": "execute_result"
    }
   ],
   "source": [
    "df.head()"
   ]
  },
  {
   "cell_type": "code",
   "execution_count": 88,
   "metadata": {},
   "outputs": [
    {
     "data": {
      "application/vnd.plotly.v1+json": {
       "config": {
        "plotlyServerURL": "https://plot.ly"
       },
       "data": [
        {
         "hovertemplate": "key_word=cultura<br>year=%{x}<br>porc_pos=%{y}<extra></extra>",
         "legendgroup": "cultura",
         "line": {
          "color": "#636efa",
          "dash": "solid"
         },
         "marker": {
          "symbol": "circle"
         },
         "mode": "lines",
         "name": "cultura",
         "orientation": "v",
         "showlegend": true,
         "type": "scatter",
         "x": [
          2019,
          2020,
          2021,
          2022
         ],
         "xaxis": "x",
         "y": [
          0.6361923758865248,
          0.6268253773469137,
          0.6633034987794956,
          0.6100217864923747
         ],
         "yaxis": "y"
        },
        {
         "hovertemplate": "key_word=empresa<br>year=%{x}<br>porc_pos=%{y}<extra></extra>",
         "legendgroup": "empresa",
         "line": {
          "color": "#EF553B",
          "dash": "solid"
         },
         "marker": {
          "symbol": "circle"
         },
         "mode": "lines",
         "name": "empresa",
         "orientation": "v",
         "showlegend": true,
         "type": "scatter",
         "x": [
          2019,
          2020,
          2021,
          2022
         ],
         "xaxis": "x",
         "y": [
          0.15539920464973997,
          0.09916434540389972,
          0.08512486427795873,
          0.08400954653937948
         ],
         "yaxis": "y"
        },
        {
         "hovertemplate": "key_word=jovenes<br>year=%{x}<br>porc_pos=%{y}<extra></extra>",
         "legendgroup": "jovenes",
         "line": {
          "color": "#00cc96",
          "dash": "solid"
         },
         "marker": {
          "symbol": "circle"
         },
         "mode": "lines",
         "name": "jovenes",
         "orientation": "v",
         "showlegend": true,
         "type": "scatter",
         "x": [
          2019,
          2020,
          2021,
          2022
         ],
         "xaxis": "x",
         "y": [
          0.6348690153568203,
          0.6075949367088608,
          0.5584920847866917,
          0.48517887563884154
         ],
         "yaxis": "y"
        },
        {
         "hovertemplate": "key_word=metro<br>year=%{x}<br>porc_pos=%{y}<extra></extra>",
         "legendgroup": "metro",
         "line": {
          "color": "#ab63fa",
          "dash": "solid"
         },
         "marker": {
          "symbol": "circle"
         },
         "mode": "lines",
         "name": "metro",
         "orientation": "v",
         "showlegend": true,
         "type": "scatter",
         "x": [
          2019,
          2020,
          2021,
          2022
         ],
         "xaxis": "x",
         "y": [
          0.11634349030470914,
          0.12709894084215964,
          0.11603099527020228,
          0.09919261822376009
         ],
         "yaxis": "y"
        },
        {
         "hovertemplate": "key_word=movilidad<br>year=%{x}<br>porc_pos=%{y}<extra></extra>",
         "legendgroup": "movilidad",
         "line": {
          "color": "#FFA15A",
          "dash": "solid"
         },
         "marker": {
          "symbol": "circle"
         },
         "mode": "lines",
         "name": "movilidad",
         "orientation": "v",
         "showlegend": true,
         "type": "scatter",
         "x": [
          2019,
          2020,
          2021,
          2022
         ],
         "xaxis": "x",
         "y": [
          0.3336977648202138,
          0.28604651162790695,
          0.22996717513033405,
          0.20800736309249884
         ],
         "yaxis": "y"
        },
        {
         "hovertemplate": "key_word=seguridad<br>year=%{x}<br>porc_pos=%{y}<extra></extra>",
         "legendgroup": "seguridad",
         "line": {
          "color": "#19d3f3",
          "dash": "solid"
         },
         "marker": {
          "symbol": "circle"
         },
         "mode": "lines",
         "name": "seguridad",
         "orientation": "v",
         "showlegend": true,
         "type": "scatter",
         "x": [
          2019,
          2020,
          2021,
          2022
         ],
         "xaxis": "x",
         "y": [
          0.314616019818332,
          0.3171087146604489,
          0.25627948489098556,
          0.170083523158694
         ],
         "yaxis": "y"
        },
        {
         "hovertemplate": "key_word=tecnologia<br>year=%{x}<br>porc_pos=%{y}<extra></extra>",
         "legendgroup": "tecnologia",
         "line": {
          "color": "#FF6692",
          "dash": "solid"
         },
         "marker": {
          "symbol": "circle"
         },
         "mode": "lines",
         "name": "tecnologia",
         "orientation": "v",
         "showlegend": true,
         "type": "scatter",
         "x": [
          2019,
          2020,
          2021,
          2022
         ],
         "xaxis": "x",
         "y": [
          0.6742902208201893,
          0.5318747642399094,
          0.6770293609671848,
          0.7129251700680272
         ],
         "yaxis": "y"
        },
        {
         "hovertemplate": "key_word=trabajo<br>year=%{x}<br>porc_pos=%{y}<extra></extra>",
         "legendgroup": "trabajo",
         "line": {
          "color": "#B6E880",
          "dash": "solid"
         },
         "marker": {
          "symbol": "circle"
         },
         "mode": "lines",
         "name": "trabajo",
         "orientation": "v",
         "showlegend": true,
         "type": "scatter",
         "x": [
          2019,
          2020,
          2021,
          2022
         ],
         "xaxis": "x",
         "y": [
          0.7186803388319215,
          0.6329914693760184,
          0.5898440979955456,
          0.5606171932402645
         ],
         "yaxis": "y"
        },
        {
         "hovertemplate": "key_word=vida<br>year=%{x}<br>porc_pos=%{y}<extra></extra>",
         "legendgroup": "vida",
         "line": {
          "color": "#FF97FF",
          "dash": "solid"
         },
         "marker": {
          "symbol": "circle"
         },
         "mode": "lines",
         "name": "vida",
         "orientation": "v",
         "showlegend": true,
         "type": "scatter",
         "x": [
          2019,
          2020,
          2021,
          2022
         ],
         "xaxis": "x",
         "y": [
          0.6877110758839341,
          0.6412475856642106,
          0.6186955920961724,
          0.5736751061487655
         ],
         "yaxis": "y"
        }
       ],
       "layout": {
        "legend": {
         "title": {
          "text": "key_word"
         },
         "tracegroupgap": 0
        },
        "template": {
         "data": {
          "bar": [
           {
            "error_x": {
             "color": "#2a3f5f"
            },
            "error_y": {
             "color": "#2a3f5f"
            },
            "marker": {
             "line": {
              "color": "#E5ECF6",
              "width": 0.5
             },
             "pattern": {
              "fillmode": "overlay",
              "size": 10,
              "solidity": 0.2
             }
            },
            "type": "bar"
           }
          ],
          "barpolar": [
           {
            "marker": {
             "line": {
              "color": "#E5ECF6",
              "width": 0.5
             },
             "pattern": {
              "fillmode": "overlay",
              "size": 10,
              "solidity": 0.2
             }
            },
            "type": "barpolar"
           }
          ],
          "carpet": [
           {
            "aaxis": {
             "endlinecolor": "#2a3f5f",
             "gridcolor": "white",
             "linecolor": "white",
             "minorgridcolor": "white",
             "startlinecolor": "#2a3f5f"
            },
            "baxis": {
             "endlinecolor": "#2a3f5f",
             "gridcolor": "white",
             "linecolor": "white",
             "minorgridcolor": "white",
             "startlinecolor": "#2a3f5f"
            },
            "type": "carpet"
           }
          ],
          "choropleth": [
           {
            "colorbar": {
             "outlinewidth": 0,
             "ticks": ""
            },
            "type": "choropleth"
           }
          ],
          "contour": [
           {
            "colorbar": {
             "outlinewidth": 0,
             "ticks": ""
            },
            "colorscale": [
             [
              0,
              "#0d0887"
             ],
             [
              0.1111111111111111,
              "#46039f"
             ],
             [
              0.2222222222222222,
              "#7201a8"
             ],
             [
              0.3333333333333333,
              "#9c179e"
             ],
             [
              0.4444444444444444,
              "#bd3786"
             ],
             [
              0.5555555555555556,
              "#d8576b"
             ],
             [
              0.6666666666666666,
              "#ed7953"
             ],
             [
              0.7777777777777778,
              "#fb9f3a"
             ],
             [
              0.8888888888888888,
              "#fdca26"
             ],
             [
              1,
              "#f0f921"
             ]
            ],
            "type": "contour"
           }
          ],
          "contourcarpet": [
           {
            "colorbar": {
             "outlinewidth": 0,
             "ticks": ""
            },
            "type": "contourcarpet"
           }
          ],
          "heatmap": [
           {
            "colorbar": {
             "outlinewidth": 0,
             "ticks": ""
            },
            "colorscale": [
             [
              0,
              "#0d0887"
             ],
             [
              0.1111111111111111,
              "#46039f"
             ],
             [
              0.2222222222222222,
              "#7201a8"
             ],
             [
              0.3333333333333333,
              "#9c179e"
             ],
             [
              0.4444444444444444,
              "#bd3786"
             ],
             [
              0.5555555555555556,
              "#d8576b"
             ],
             [
              0.6666666666666666,
              "#ed7953"
             ],
             [
              0.7777777777777778,
              "#fb9f3a"
             ],
             [
              0.8888888888888888,
              "#fdca26"
             ],
             [
              1,
              "#f0f921"
             ]
            ],
            "type": "heatmap"
           }
          ],
          "heatmapgl": [
           {
            "colorbar": {
             "outlinewidth": 0,
             "ticks": ""
            },
            "colorscale": [
             [
              0,
              "#0d0887"
             ],
             [
              0.1111111111111111,
              "#46039f"
             ],
             [
              0.2222222222222222,
              "#7201a8"
             ],
             [
              0.3333333333333333,
              "#9c179e"
             ],
             [
              0.4444444444444444,
              "#bd3786"
             ],
             [
              0.5555555555555556,
              "#d8576b"
             ],
             [
              0.6666666666666666,
              "#ed7953"
             ],
             [
              0.7777777777777778,
              "#fb9f3a"
             ],
             [
              0.8888888888888888,
              "#fdca26"
             ],
             [
              1,
              "#f0f921"
             ]
            ],
            "type": "heatmapgl"
           }
          ],
          "histogram": [
           {
            "marker": {
             "pattern": {
              "fillmode": "overlay",
              "size": 10,
              "solidity": 0.2
             }
            },
            "type": "histogram"
           }
          ],
          "histogram2d": [
           {
            "colorbar": {
             "outlinewidth": 0,
             "ticks": ""
            },
            "colorscale": [
             [
              0,
              "#0d0887"
             ],
             [
              0.1111111111111111,
              "#46039f"
             ],
             [
              0.2222222222222222,
              "#7201a8"
             ],
             [
              0.3333333333333333,
              "#9c179e"
             ],
             [
              0.4444444444444444,
              "#bd3786"
             ],
             [
              0.5555555555555556,
              "#d8576b"
             ],
             [
              0.6666666666666666,
              "#ed7953"
             ],
             [
              0.7777777777777778,
              "#fb9f3a"
             ],
             [
              0.8888888888888888,
              "#fdca26"
             ],
             [
              1,
              "#f0f921"
             ]
            ],
            "type": "histogram2d"
           }
          ],
          "histogram2dcontour": [
           {
            "colorbar": {
             "outlinewidth": 0,
             "ticks": ""
            },
            "colorscale": [
             [
              0,
              "#0d0887"
             ],
             [
              0.1111111111111111,
              "#46039f"
             ],
             [
              0.2222222222222222,
              "#7201a8"
             ],
             [
              0.3333333333333333,
              "#9c179e"
             ],
             [
              0.4444444444444444,
              "#bd3786"
             ],
             [
              0.5555555555555556,
              "#d8576b"
             ],
             [
              0.6666666666666666,
              "#ed7953"
             ],
             [
              0.7777777777777778,
              "#fb9f3a"
             ],
             [
              0.8888888888888888,
              "#fdca26"
             ],
             [
              1,
              "#f0f921"
             ]
            ],
            "type": "histogram2dcontour"
           }
          ],
          "mesh3d": [
           {
            "colorbar": {
             "outlinewidth": 0,
             "ticks": ""
            },
            "type": "mesh3d"
           }
          ],
          "parcoords": [
           {
            "line": {
             "colorbar": {
              "outlinewidth": 0,
              "ticks": ""
             }
            },
            "type": "parcoords"
           }
          ],
          "pie": [
           {
            "automargin": true,
            "type": "pie"
           }
          ],
          "scatter": [
           {
            "fillpattern": {
             "fillmode": "overlay",
             "size": 10,
             "solidity": 0.2
            },
            "type": "scatter"
           }
          ],
          "scatter3d": [
           {
            "line": {
             "colorbar": {
              "outlinewidth": 0,
              "ticks": ""
             }
            },
            "marker": {
             "colorbar": {
              "outlinewidth": 0,
              "ticks": ""
             }
            },
            "type": "scatter3d"
           }
          ],
          "scattercarpet": [
           {
            "marker": {
             "colorbar": {
              "outlinewidth": 0,
              "ticks": ""
             }
            },
            "type": "scattercarpet"
           }
          ],
          "scattergeo": [
           {
            "marker": {
             "colorbar": {
              "outlinewidth": 0,
              "ticks": ""
             }
            },
            "type": "scattergeo"
           }
          ],
          "scattergl": [
           {
            "marker": {
             "colorbar": {
              "outlinewidth": 0,
              "ticks": ""
             }
            },
            "type": "scattergl"
           }
          ],
          "scattermapbox": [
           {
            "marker": {
             "colorbar": {
              "outlinewidth": 0,
              "ticks": ""
             }
            },
            "type": "scattermapbox"
           }
          ],
          "scatterpolar": [
           {
            "marker": {
             "colorbar": {
              "outlinewidth": 0,
              "ticks": ""
             }
            },
            "type": "scatterpolar"
           }
          ],
          "scatterpolargl": [
           {
            "marker": {
             "colorbar": {
              "outlinewidth": 0,
              "ticks": ""
             }
            },
            "type": "scatterpolargl"
           }
          ],
          "scatterternary": [
           {
            "marker": {
             "colorbar": {
              "outlinewidth": 0,
              "ticks": ""
             }
            },
            "type": "scatterternary"
           }
          ],
          "surface": [
           {
            "colorbar": {
             "outlinewidth": 0,
             "ticks": ""
            },
            "colorscale": [
             [
              0,
              "#0d0887"
             ],
             [
              0.1111111111111111,
              "#46039f"
             ],
             [
              0.2222222222222222,
              "#7201a8"
             ],
             [
              0.3333333333333333,
              "#9c179e"
             ],
             [
              0.4444444444444444,
              "#bd3786"
             ],
             [
              0.5555555555555556,
              "#d8576b"
             ],
             [
              0.6666666666666666,
              "#ed7953"
             ],
             [
              0.7777777777777778,
              "#fb9f3a"
             ],
             [
              0.8888888888888888,
              "#fdca26"
             ],
             [
              1,
              "#f0f921"
             ]
            ],
            "type": "surface"
           }
          ],
          "table": [
           {
            "cells": {
             "fill": {
              "color": "#EBF0F8"
             },
             "line": {
              "color": "white"
             }
            },
            "header": {
             "fill": {
              "color": "#C8D4E3"
             },
             "line": {
              "color": "white"
             }
            },
            "type": "table"
           }
          ]
         },
         "layout": {
          "annotationdefaults": {
           "arrowcolor": "#2a3f5f",
           "arrowhead": 0,
           "arrowwidth": 1
          },
          "autotypenumbers": "strict",
          "coloraxis": {
           "colorbar": {
            "outlinewidth": 0,
            "ticks": ""
           }
          },
          "colorscale": {
           "diverging": [
            [
             0,
             "#8e0152"
            ],
            [
             0.1,
             "#c51b7d"
            ],
            [
             0.2,
             "#de77ae"
            ],
            [
             0.3,
             "#f1b6da"
            ],
            [
             0.4,
             "#fde0ef"
            ],
            [
             0.5,
             "#f7f7f7"
            ],
            [
             0.6,
             "#e6f5d0"
            ],
            [
             0.7,
             "#b8e186"
            ],
            [
             0.8,
             "#7fbc41"
            ],
            [
             0.9,
             "#4d9221"
            ],
            [
             1,
             "#276419"
            ]
           ],
           "sequential": [
            [
             0,
             "#0d0887"
            ],
            [
             0.1111111111111111,
             "#46039f"
            ],
            [
             0.2222222222222222,
             "#7201a8"
            ],
            [
             0.3333333333333333,
             "#9c179e"
            ],
            [
             0.4444444444444444,
             "#bd3786"
            ],
            [
             0.5555555555555556,
             "#d8576b"
            ],
            [
             0.6666666666666666,
             "#ed7953"
            ],
            [
             0.7777777777777778,
             "#fb9f3a"
            ],
            [
             0.8888888888888888,
             "#fdca26"
            ],
            [
             1,
             "#f0f921"
            ]
           ],
           "sequentialminus": [
            [
             0,
             "#0d0887"
            ],
            [
             0.1111111111111111,
             "#46039f"
            ],
            [
             0.2222222222222222,
             "#7201a8"
            ],
            [
             0.3333333333333333,
             "#9c179e"
            ],
            [
             0.4444444444444444,
             "#bd3786"
            ],
            [
             0.5555555555555556,
             "#d8576b"
            ],
            [
             0.6666666666666666,
             "#ed7953"
            ],
            [
             0.7777777777777778,
             "#fb9f3a"
            ],
            [
             0.8888888888888888,
             "#fdca26"
            ],
            [
             1,
             "#f0f921"
            ]
           ]
          },
          "colorway": [
           "#636efa",
           "#EF553B",
           "#00cc96",
           "#ab63fa",
           "#FFA15A",
           "#19d3f3",
           "#FF6692",
           "#B6E880",
           "#FF97FF",
           "#FECB52"
          ],
          "font": {
           "color": "#2a3f5f"
          },
          "geo": {
           "bgcolor": "white",
           "lakecolor": "white",
           "landcolor": "#E5ECF6",
           "showlakes": true,
           "showland": true,
           "subunitcolor": "white"
          },
          "hoverlabel": {
           "align": "left"
          },
          "hovermode": "closest",
          "mapbox": {
           "style": "light"
          },
          "paper_bgcolor": "white",
          "plot_bgcolor": "#E5ECF6",
          "polar": {
           "angularaxis": {
            "gridcolor": "white",
            "linecolor": "white",
            "ticks": ""
           },
           "bgcolor": "#E5ECF6",
           "radialaxis": {
            "gridcolor": "white",
            "linecolor": "white",
            "ticks": ""
           }
          },
          "scene": {
           "xaxis": {
            "backgroundcolor": "#E5ECF6",
            "gridcolor": "white",
            "gridwidth": 2,
            "linecolor": "white",
            "showbackground": true,
            "ticks": "",
            "zerolinecolor": "white"
           },
           "yaxis": {
            "backgroundcolor": "#E5ECF6",
            "gridcolor": "white",
            "gridwidth": 2,
            "linecolor": "white",
            "showbackground": true,
            "ticks": "",
            "zerolinecolor": "white"
           },
           "zaxis": {
            "backgroundcolor": "#E5ECF6",
            "gridcolor": "white",
            "gridwidth": 2,
            "linecolor": "white",
            "showbackground": true,
            "ticks": "",
            "zerolinecolor": "white"
           }
          },
          "shapedefaults": {
           "line": {
            "color": "#2a3f5f"
           }
          },
          "ternary": {
           "aaxis": {
            "gridcolor": "white",
            "linecolor": "white",
            "ticks": ""
           },
           "baxis": {
            "gridcolor": "white",
            "linecolor": "white",
            "ticks": ""
           },
           "bgcolor": "#E5ECF6",
           "caxis": {
            "gridcolor": "white",
            "linecolor": "white",
            "ticks": ""
           }
          },
          "title": {
           "x": 0.05
          },
          "xaxis": {
           "automargin": true,
           "gridcolor": "white",
           "linecolor": "white",
           "ticks": "",
           "title": {
            "standoff": 15
           },
           "zerolinecolor": "white",
           "zerolinewidth": 2
          },
          "yaxis": {
           "automargin": true,
           "gridcolor": "white",
           "linecolor": "white",
           "ticks": "",
           "title": {
            "standoff": 15
           },
           "zerolinecolor": "white",
           "zerolinewidth": 2
          }
         }
        },
        "title": {
         "text": "Frequency of Keywords in the Tweets"
        },
        "width": 500,
        "xaxis": {
         "anchor": "y",
         "domain": [
          0,
          1
         ],
         "title": {
          "text": "year"
         }
        },
        "yaxis": {
         "anchor": "x",
         "domain": [
          0,
          1
         ],
         "title": {
          "text": "porc_pos"
         }
        }
       }
      }
     },
     "metadata": {},
     "output_type": "display_data"
    }
   ],
   "source": [
    "df_sent_freq=pd.DataFrame()\n",
    "for year in df['year'].unique():\n",
    "    df_cross=pd.crosstab(df[df['year']==year]['key_word'],df[df['year']==year]['predicted_sentiment']).reset_index()\n",
    "    df_cross['total']=df_cross.sum(axis=1)\n",
    "    df_cross['year']=year\n",
    "    df_cross['porc_pos']=df_cross[1]/df_cross['total']\n",
    "    df_cross=df_cross[['year','key_word','porc_pos']]\n",
    "    df_sent_freq=df_sent_freq.append(df_cross)\n",
    "df_sent_freq.reset_index(drop=True,inplace=True)\n",
    "df_sent_freq=df_sent_freq.sort_values(by=['year','key_word'],ascending=True)\n",
    "px.line(df_sent_freq, x='year', y='porc_pos',color='key_word' ,title='Frequency of Keywords in the Tweets',width=500)\n",
    "    "
   ]
  },
  {
   "cell_type": "code",
   "execution_count": 115,
   "metadata": {},
   "outputs": [],
   "source": [
    "df.replace({'key_word':{'cultura':1,'empresa':2,'jovenes':3,'metro':4,'movilidad':5,'seguridad':6,'tecnologia':7,'trabajo':8,'vida':9}},inplace=True)"
   ]
  },
  {
   "cell_type": "code",
   "execution_count": 116,
   "metadata": {},
   "outputs": [
    {
     "data": {
      "text/html": [
       "<div>\n",
       "<style scoped>\n",
       "    .dataframe tbody tr th:only-of-type {\n",
       "        vertical-align: middle;\n",
       "    }\n",
       "\n",
       "    .dataframe tbody tr th {\n",
       "        vertical-align: top;\n",
       "    }\n",
       "\n",
       "    .dataframe thead th {\n",
       "        text-align: right;\n",
       "    }\n",
       "</style>\n",
       "<table border=\"1\" class=\"dataframe\">\n",
       "  <thead>\n",
       "    <tr style=\"text-align: right;\">\n",
       "      <th></th>\n",
       "      <th>full_text</th>\n",
       "      <th>key_word</th>\n",
       "      <th>date</th>\n",
       "      <th>hour</th>\n",
       "      <th>day</th>\n",
       "      <th>day_of_week</th>\n",
       "      <th>month</th>\n",
       "      <th>year</th>\n",
       "      <th>tweet</th>\n",
       "      <th>predicted_sentiment</th>\n",
       "      <th>Predicted_probability</th>\n",
       "    </tr>\n",
       "  </thead>\n",
       "  <tbody>\n",
       "    <tr>\n",
       "      <th>0</th>\n",
       "      <td>Me acordé que a los colombianos de mi ex trab...</td>\n",
       "      <td>8</td>\n",
       "      <td>2020-01-10 22:51:09+00:00</td>\n",
       "      <td>22</td>\n",
       "      <td>10</td>\n",
       "      <td>4</td>\n",
       "      <td>1</td>\n",
       "      <td>2020</td>\n",
       "      <td>acorde colombianos ex trabajo gustaba medellin...</td>\n",
       "      <td>1</td>\n",
       "      <td>0.552759</td>\n",
       "    </tr>\n",
       "    <tr>\n",
       "      <th>1</th>\n",
       "      <td>@JoseFBarriosG @VLADDO @Uber Como van a apoya...</td>\n",
       "      <td>8</td>\n",
       "      <td>2020-01-10 22:06:30+00:00</td>\n",
       "      <td>22</td>\n",
       "      <td>10</td>\n",
       "      <td>4</td>\n",
       "      <td>1</td>\n",
       "      <td>2020</td>\n",
       "      <td>josefbarriosg vladdo uber apoyar uber disminuy...</td>\n",
       "      <td>1</td>\n",
       "      <td>0.577848</td>\n",
       "    </tr>\n",
       "    <tr>\n",
       "      <th>2</th>\n",
       "      <td>En Tierragro sabemos que la labor en el campo...</td>\n",
       "      <td>8</td>\n",
       "      <td>2020-01-10 19:59:40+00:00</td>\n",
       "      <td>19</td>\n",
       "      <td>10</td>\n",
       "      <td>4</td>\n",
       "      <td>1</td>\n",
       "      <td>2020</td>\n",
       "      <td>tierragro sabemos labor campo implica tener bu...</td>\n",
       "      <td>0</td>\n",
       "      <td>0.491671</td>\n",
       "    </tr>\n",
       "    <tr>\n",
       "      <th>3</th>\n",
       "      <td>@seguridadmed PARA NADIE ES UN SECRETO GENERA...</td>\n",
       "      <td>8</td>\n",
       "      <td>2020-01-10 19:17:54+00:00</td>\n",
       "      <td>19</td>\n",
       "      <td>10</td>\n",
       "      <td>4</td>\n",
       "      <td>1</td>\n",
       "      <td>2020</td>\n",
       "      <td>seguridadmed nadie secreto general mas facil c...</td>\n",
       "      <td>0</td>\n",
       "      <td>0.353633</td>\n",
       "    </tr>\n",
       "    <tr>\n",
       "      <th>4</th>\n",
       "      <td>@kmilohurtado_81 @SaqueLargoWin Tengo casi un...</td>\n",
       "      <td>8</td>\n",
       "      <td>2020-01-10 18:09:24+00:00</td>\n",
       "      <td>18</td>\n",
       "      <td>10</td>\n",
       "      <td>4</td>\n",
       "      <td>1</td>\n",
       "      <td>2020</td>\n",
       "      <td>kmilohurtado saquelargowin tengo casi decena a...</td>\n",
       "      <td>0</td>\n",
       "      <td>0.398427</td>\n",
       "    </tr>\n",
       "  </tbody>\n",
       "</table>\n",
       "</div>"
      ],
      "text/plain": [
       "                                           full_text  key_word  \\\n",
       "0   Me acordé que a los colombianos de mi ex trab...         8   \n",
       "1   @JoseFBarriosG @VLADDO @Uber Como van a apoya...         8   \n",
       "2   En Tierragro sabemos que la labor en el campo...         8   \n",
       "3   @seguridadmed PARA NADIE ES UN SECRETO GENERA...         8   \n",
       "4   @kmilohurtado_81 @SaqueLargoWin Tengo casi un...         8   \n",
       "\n",
       "                        date  hour  day  day_of_week  month  year  \\\n",
       "0  2020-01-10 22:51:09+00:00    22   10            4      1  2020   \n",
       "1  2020-01-10 22:06:30+00:00    22   10            4      1  2020   \n",
       "2  2020-01-10 19:59:40+00:00    19   10            4      1  2020   \n",
       "3  2020-01-10 19:17:54+00:00    19   10            4      1  2020   \n",
       "4  2020-01-10 18:09:24+00:00    18   10            4      1  2020   \n",
       "\n",
       "                                               tweet  predicted_sentiment  \\\n",
       "0  acorde colombianos ex trabajo gustaba medellin...                    1   \n",
       "1  josefbarriosg vladdo uber apoyar uber disminuy...                    1   \n",
       "2  tierragro sabemos labor campo implica tener bu...                    0   \n",
       "3  seguridadmed nadie secreto general mas facil c...                    0   \n",
       "4  kmilohurtado saquelargowin tengo casi decena a...                    0   \n",
       "\n",
       "   Predicted_probability  \n",
       "0               0.552759  \n",
       "1               0.577848  \n",
       "2               0.491671  \n",
       "3               0.353633  \n",
       "4               0.398427  "
      ]
     },
     "execution_count": 116,
     "metadata": {},
     "output_type": "execute_result"
    }
   ],
   "source": [
    "df.head()"
   ]
  },
  {
   "cell_type": "code",
   "execution_count": 118,
   "metadata": {},
   "outputs": [
    {
     "data": {
      "application/vnd.plotly.v1+json": {
       "config": {
        "plotlyServerURL": "https://plot.ly"
       },
       "data": [
        {
         "hovertemplate": "key_word=2<br>month=%{x}<br>freq_pos=%{y}<extra></extra>",
         "legendgroup": "2",
         "line": {
          "color": "#636efa",
          "dash": "solid"
         },
         "marker": {
          "symbol": "circle"
         },
         "mode": "lines",
         "name": "2",
         "orientation": "v",
         "showlegend": true,
         "type": "scatter",
         "x": [
          1,
          2,
          3,
          4,
          5
         ],
         "xaxis": "x",
         "y": [
          0.07414829659318638,
          0.06896551724137931,
          0.08823529411764706,
          0.08310991957104558,
          0.09618573797678276
         ],
         "yaxis": "y"
        }
       ],
       "layout": {
        "legend": {
         "title": {
          "text": "key_word"
         },
         "tracegroupgap": 0
        },
        "template": {
         "data": {
          "bar": [
           {
            "error_x": {
             "color": "#2a3f5f"
            },
            "error_y": {
             "color": "#2a3f5f"
            },
            "marker": {
             "line": {
              "color": "#E5ECF6",
              "width": 0.5
             },
             "pattern": {
              "fillmode": "overlay",
              "size": 10,
              "solidity": 0.2
             }
            },
            "type": "bar"
           }
          ],
          "barpolar": [
           {
            "marker": {
             "line": {
              "color": "#E5ECF6",
              "width": 0.5
             },
             "pattern": {
              "fillmode": "overlay",
              "size": 10,
              "solidity": 0.2
             }
            },
            "type": "barpolar"
           }
          ],
          "carpet": [
           {
            "aaxis": {
             "endlinecolor": "#2a3f5f",
             "gridcolor": "white",
             "linecolor": "white",
             "minorgridcolor": "white",
             "startlinecolor": "#2a3f5f"
            },
            "baxis": {
             "endlinecolor": "#2a3f5f",
             "gridcolor": "white",
             "linecolor": "white",
             "minorgridcolor": "white",
             "startlinecolor": "#2a3f5f"
            },
            "type": "carpet"
           }
          ],
          "choropleth": [
           {
            "colorbar": {
             "outlinewidth": 0,
             "ticks": ""
            },
            "type": "choropleth"
           }
          ],
          "contour": [
           {
            "colorbar": {
             "outlinewidth": 0,
             "ticks": ""
            },
            "colorscale": [
             [
              0,
              "#0d0887"
             ],
             [
              0.1111111111111111,
              "#46039f"
             ],
             [
              0.2222222222222222,
              "#7201a8"
             ],
             [
              0.3333333333333333,
              "#9c179e"
             ],
             [
              0.4444444444444444,
              "#bd3786"
             ],
             [
              0.5555555555555556,
              "#d8576b"
             ],
             [
              0.6666666666666666,
              "#ed7953"
             ],
             [
              0.7777777777777778,
              "#fb9f3a"
             ],
             [
              0.8888888888888888,
              "#fdca26"
             ],
             [
              1,
              "#f0f921"
             ]
            ],
            "type": "contour"
           }
          ],
          "contourcarpet": [
           {
            "colorbar": {
             "outlinewidth": 0,
             "ticks": ""
            },
            "type": "contourcarpet"
           }
          ],
          "heatmap": [
           {
            "colorbar": {
             "outlinewidth": 0,
             "ticks": ""
            },
            "colorscale": [
             [
              0,
              "#0d0887"
             ],
             [
              0.1111111111111111,
              "#46039f"
             ],
             [
              0.2222222222222222,
              "#7201a8"
             ],
             [
              0.3333333333333333,
              "#9c179e"
             ],
             [
              0.4444444444444444,
              "#bd3786"
             ],
             [
              0.5555555555555556,
              "#d8576b"
             ],
             [
              0.6666666666666666,
              "#ed7953"
             ],
             [
              0.7777777777777778,
              "#fb9f3a"
             ],
             [
              0.8888888888888888,
              "#fdca26"
             ],
             [
              1,
              "#f0f921"
             ]
            ],
            "type": "heatmap"
           }
          ],
          "heatmapgl": [
           {
            "colorbar": {
             "outlinewidth": 0,
             "ticks": ""
            },
            "colorscale": [
             [
              0,
              "#0d0887"
             ],
             [
              0.1111111111111111,
              "#46039f"
             ],
             [
              0.2222222222222222,
              "#7201a8"
             ],
             [
              0.3333333333333333,
              "#9c179e"
             ],
             [
              0.4444444444444444,
              "#bd3786"
             ],
             [
              0.5555555555555556,
              "#d8576b"
             ],
             [
              0.6666666666666666,
              "#ed7953"
             ],
             [
              0.7777777777777778,
              "#fb9f3a"
             ],
             [
              0.8888888888888888,
              "#fdca26"
             ],
             [
              1,
              "#f0f921"
             ]
            ],
            "type": "heatmapgl"
           }
          ],
          "histogram": [
           {
            "marker": {
             "pattern": {
              "fillmode": "overlay",
              "size": 10,
              "solidity": 0.2
             }
            },
            "type": "histogram"
           }
          ],
          "histogram2d": [
           {
            "colorbar": {
             "outlinewidth": 0,
             "ticks": ""
            },
            "colorscale": [
             [
              0,
              "#0d0887"
             ],
             [
              0.1111111111111111,
              "#46039f"
             ],
             [
              0.2222222222222222,
              "#7201a8"
             ],
             [
              0.3333333333333333,
              "#9c179e"
             ],
             [
              0.4444444444444444,
              "#bd3786"
             ],
             [
              0.5555555555555556,
              "#d8576b"
             ],
             [
              0.6666666666666666,
              "#ed7953"
             ],
             [
              0.7777777777777778,
              "#fb9f3a"
             ],
             [
              0.8888888888888888,
              "#fdca26"
             ],
             [
              1,
              "#f0f921"
             ]
            ],
            "type": "histogram2d"
           }
          ],
          "histogram2dcontour": [
           {
            "colorbar": {
             "outlinewidth": 0,
             "ticks": ""
            },
            "colorscale": [
             [
              0,
              "#0d0887"
             ],
             [
              0.1111111111111111,
              "#46039f"
             ],
             [
              0.2222222222222222,
              "#7201a8"
             ],
             [
              0.3333333333333333,
              "#9c179e"
             ],
             [
              0.4444444444444444,
              "#bd3786"
             ],
             [
              0.5555555555555556,
              "#d8576b"
             ],
             [
              0.6666666666666666,
              "#ed7953"
             ],
             [
              0.7777777777777778,
              "#fb9f3a"
             ],
             [
              0.8888888888888888,
              "#fdca26"
             ],
             [
              1,
              "#f0f921"
             ]
            ],
            "type": "histogram2dcontour"
           }
          ],
          "mesh3d": [
           {
            "colorbar": {
             "outlinewidth": 0,
             "ticks": ""
            },
            "type": "mesh3d"
           }
          ],
          "parcoords": [
           {
            "line": {
             "colorbar": {
              "outlinewidth": 0,
              "ticks": ""
             }
            },
            "type": "parcoords"
           }
          ],
          "pie": [
           {
            "automargin": true,
            "type": "pie"
           }
          ],
          "scatter": [
           {
            "fillpattern": {
             "fillmode": "overlay",
             "size": 10,
             "solidity": 0.2
            },
            "type": "scatter"
           }
          ],
          "scatter3d": [
           {
            "line": {
             "colorbar": {
              "outlinewidth": 0,
              "ticks": ""
             }
            },
            "marker": {
             "colorbar": {
              "outlinewidth": 0,
              "ticks": ""
             }
            },
            "type": "scatter3d"
           }
          ],
          "scattercarpet": [
           {
            "marker": {
             "colorbar": {
              "outlinewidth": 0,
              "ticks": ""
             }
            },
            "type": "scattercarpet"
           }
          ],
          "scattergeo": [
           {
            "marker": {
             "colorbar": {
              "outlinewidth": 0,
              "ticks": ""
             }
            },
            "type": "scattergeo"
           }
          ],
          "scattergl": [
           {
            "marker": {
             "colorbar": {
              "outlinewidth": 0,
              "ticks": ""
             }
            },
            "type": "scattergl"
           }
          ],
          "scattermapbox": [
           {
            "marker": {
             "colorbar": {
              "outlinewidth": 0,
              "ticks": ""
             }
            },
            "type": "scattermapbox"
           }
          ],
          "scatterpolar": [
           {
            "marker": {
             "colorbar": {
              "outlinewidth": 0,
              "ticks": ""
             }
            },
            "type": "scatterpolar"
           }
          ],
          "scatterpolargl": [
           {
            "marker": {
             "colorbar": {
              "outlinewidth": 0,
              "ticks": ""
             }
            },
            "type": "scatterpolargl"
           }
          ],
          "scatterternary": [
           {
            "marker": {
             "colorbar": {
              "outlinewidth": 0,
              "ticks": ""
             }
            },
            "type": "scatterternary"
           }
          ],
          "surface": [
           {
            "colorbar": {
             "outlinewidth": 0,
             "ticks": ""
            },
            "colorscale": [
             [
              0,
              "#0d0887"
             ],
             [
              0.1111111111111111,
              "#46039f"
             ],
             [
              0.2222222222222222,
              "#7201a8"
             ],
             [
              0.3333333333333333,
              "#9c179e"
             ],
             [
              0.4444444444444444,
              "#bd3786"
             ],
             [
              0.5555555555555556,
              "#d8576b"
             ],
             [
              0.6666666666666666,
              "#ed7953"
             ],
             [
              0.7777777777777778,
              "#fb9f3a"
             ],
             [
              0.8888888888888888,
              "#fdca26"
             ],
             [
              1,
              "#f0f921"
             ]
            ],
            "type": "surface"
           }
          ],
          "table": [
           {
            "cells": {
             "fill": {
              "color": "#EBF0F8"
             },
             "line": {
              "color": "white"
             }
            },
            "header": {
             "fill": {
              "color": "#C8D4E3"
             },
             "line": {
              "color": "white"
             }
            },
            "type": "table"
           }
          ]
         },
         "layout": {
          "annotationdefaults": {
           "arrowcolor": "#2a3f5f",
           "arrowhead": 0,
           "arrowwidth": 1
          },
          "autotypenumbers": "strict",
          "coloraxis": {
           "colorbar": {
            "outlinewidth": 0,
            "ticks": ""
           }
          },
          "colorscale": {
           "diverging": [
            [
             0,
             "#8e0152"
            ],
            [
             0.1,
             "#c51b7d"
            ],
            [
             0.2,
             "#de77ae"
            ],
            [
             0.3,
             "#f1b6da"
            ],
            [
             0.4,
             "#fde0ef"
            ],
            [
             0.5,
             "#f7f7f7"
            ],
            [
             0.6,
             "#e6f5d0"
            ],
            [
             0.7,
             "#b8e186"
            ],
            [
             0.8,
             "#7fbc41"
            ],
            [
             0.9,
             "#4d9221"
            ],
            [
             1,
             "#276419"
            ]
           ],
           "sequential": [
            [
             0,
             "#0d0887"
            ],
            [
             0.1111111111111111,
             "#46039f"
            ],
            [
             0.2222222222222222,
             "#7201a8"
            ],
            [
             0.3333333333333333,
             "#9c179e"
            ],
            [
             0.4444444444444444,
             "#bd3786"
            ],
            [
             0.5555555555555556,
             "#d8576b"
            ],
            [
             0.6666666666666666,
             "#ed7953"
            ],
            [
             0.7777777777777778,
             "#fb9f3a"
            ],
            [
             0.8888888888888888,
             "#fdca26"
            ],
            [
             1,
             "#f0f921"
            ]
           ],
           "sequentialminus": [
            [
             0,
             "#0d0887"
            ],
            [
             0.1111111111111111,
             "#46039f"
            ],
            [
             0.2222222222222222,
             "#7201a8"
            ],
            [
             0.3333333333333333,
             "#9c179e"
            ],
            [
             0.4444444444444444,
             "#bd3786"
            ],
            [
             0.5555555555555556,
             "#d8576b"
            ],
            [
             0.6666666666666666,
             "#ed7953"
            ],
            [
             0.7777777777777778,
             "#fb9f3a"
            ],
            [
             0.8888888888888888,
             "#fdca26"
            ],
            [
             1,
             "#f0f921"
            ]
           ]
          },
          "colorway": [
           "#636efa",
           "#EF553B",
           "#00cc96",
           "#ab63fa",
           "#FFA15A",
           "#19d3f3",
           "#FF6692",
           "#B6E880",
           "#FF97FF",
           "#FECB52"
          ],
          "font": {
           "color": "#2a3f5f"
          },
          "geo": {
           "bgcolor": "white",
           "lakecolor": "white",
           "landcolor": "#E5ECF6",
           "showlakes": true,
           "showland": true,
           "subunitcolor": "white"
          },
          "hoverlabel": {
           "align": "left"
          },
          "hovermode": "closest",
          "mapbox": {
           "style": "light"
          },
          "paper_bgcolor": "white",
          "plot_bgcolor": "#E5ECF6",
          "polar": {
           "angularaxis": {
            "gridcolor": "white",
            "linecolor": "white",
            "ticks": ""
           },
           "bgcolor": "#E5ECF6",
           "radialaxis": {
            "gridcolor": "white",
            "linecolor": "white",
            "ticks": ""
           }
          },
          "scene": {
           "xaxis": {
            "backgroundcolor": "#E5ECF6",
            "gridcolor": "white",
            "gridwidth": 2,
            "linecolor": "white",
            "showbackground": true,
            "ticks": "",
            "zerolinecolor": "white"
           },
           "yaxis": {
            "backgroundcolor": "#E5ECF6",
            "gridcolor": "white",
            "gridwidth": 2,
            "linecolor": "white",
            "showbackground": true,
            "ticks": "",
            "zerolinecolor": "white"
           },
           "zaxis": {
            "backgroundcolor": "#E5ECF6",
            "gridcolor": "white",
            "gridwidth": 2,
            "linecolor": "white",
            "showbackground": true,
            "ticks": "",
            "zerolinecolor": "white"
           }
          },
          "shapedefaults": {
           "line": {
            "color": "#2a3f5f"
           }
          },
          "ternary": {
           "aaxis": {
            "gridcolor": "white",
            "linecolor": "white",
            "ticks": ""
           },
           "baxis": {
            "gridcolor": "white",
            "linecolor": "white",
            "ticks": ""
           },
           "bgcolor": "#E5ECF6",
           "caxis": {
            "gridcolor": "white",
            "linecolor": "white",
            "ticks": ""
           }
          },
          "title": {
           "x": 0.05
          },
          "xaxis": {
           "automargin": true,
           "gridcolor": "white",
           "linecolor": "white",
           "ticks": "",
           "title": {
            "standoff": 15
           },
           "zerolinecolor": "white",
           "zerolinewidth": 2
          },
          "yaxis": {
           "automargin": true,
           "gridcolor": "white",
           "linecolor": "white",
           "ticks": "",
           "title": {
            "standoff": 15
           },
           "zerolinecolor": "white",
           "zerolinewidth": 2
          }
         }
        },
        "title": {
         "text": "Frequency of Keywords in the Tweets"
        },
        "width": 500,
        "xaxis": {
         "anchor": "y",
         "domain": [
          0,
          1
         ],
         "title": {
          "text": "month"
         }
        },
        "yaxis": {
         "anchor": "x",
         "domain": [
          0,
          1
         ],
         "title": {
          "text": "freq_pos"
         }
        }
       }
      }
     },
     "metadata": {},
     "output_type": "display_data"
    }
   ],
   "source": [
    "def plotly_month_keyword(year):\n",
    "    df_sent_freq=pd.DataFrame()\n",
    "    df_plot=df[(df['year']==year)]\n",
    "    for months in df_plot['month'].unique():\n",
    "        df_cross=pd.crosstab(df_plot[df_plot['month']==months]['key_word'],df_plot[df_plot['month']==months]['predicted_sentiment']).reset_index()\n",
    "        df_cross['total']=df_cross.sum(axis=1)\n",
    "        df_cross['month']=months\n",
    "        df_cross['freq_pos']=df_cross[1]/df_cross['total']\n",
    "        df_cross=df_cross[['month','key_word','freq_pos']]\n",
    "        df_sent_freq=df_sent_freq.append(df_cross)\n",
    "    df_sent_freq.reset_index(drop=True,inplace=True)\n",
    "    df_sent_freq=df_sent_freq.sort_values(by=['month','key_word'],ascending=True)\n",
    "    return df_sent_freq\n",
    "px.line(plotly_month_keyword(2022)[plotly_month_keyword(2022)['key_word']==2], x='month', y='freq_pos',color='key_word',title='Frequency of Keywords in the Tweets',width=500)\n",
    "    "
   ]
  },
  {
   "cell_type": "code",
   "execution_count": 103,
   "metadata": {},
   "outputs": [
    {
     "ename": "KeyboardInterrupt",
     "evalue": "",
     "output_type": "error",
     "traceback": [
      "\u001b[0;31m---------------------------------------------------------------------------\u001b[0m",
      "\u001b[0;31mKeyboardInterrupt\u001b[0m                         Traceback (most recent call last)",
      "\u001b[1;32m/Users/gustavovergara238/Library/Mobile Documents/com~apple~CloudDocs/DS4A/Project/Sentiment-Analysis-for-the-MDP/notebooks/Exploratory/6-evaluation.ipynb Cell 22'\u001b[0m in \u001b[0;36m<cell line: 1>\u001b[0;34m()\u001b[0m\n\u001b[0;32m----> <a href='vscode-notebook-cell:/Users/gustavovergara238/Library/Mobile%20Documents/com~apple~CloudDocs/DS4A/Project/Sentiment-Analysis-for-the-MDP/notebooks/Exploratory/6-evaluation.ipynb#ch0000023?line=0'>1</a>\u001b[0m plotly_month_keyword(\u001b[39m2021\u001b[39;49m)\n",
      "\u001b[1;32m/Users/gustavovergara238/Library/Mobile Documents/com~apple~CloudDocs/DS4A/Project/Sentiment-Analysis-for-the-MDP/notebooks/Exploratory/6-evaluation.ipynb Cell 21'\u001b[0m in \u001b[0;36mplotly_month_keyword\u001b[0;34m(year)\u001b[0m\n\u001b[1;32m     <a href='vscode-notebook-cell:/Users/gustavovergara238/Library/Mobile%20Documents/com~apple~CloudDocs/DS4A/Project/Sentiment-Analysis-for-the-MDP/notebooks/Exploratory/6-evaluation.ipynb#ch0000021?line=10'>11</a>\u001b[0m df_sent_freq\u001b[39m.\u001b[39mreset_index(drop\u001b[39m=\u001b[39m\u001b[39mTrue\u001b[39;00m,inplace\u001b[39m=\u001b[39m\u001b[39mTrue\u001b[39;00m)\n\u001b[1;32m     <a href='vscode-notebook-cell:/Users/gustavovergara238/Library/Mobile%20Documents/com~apple~CloudDocs/DS4A/Project/Sentiment-Analysis-for-the-MDP/notebooks/Exploratory/6-evaluation.ipynb#ch0000021?line=11'>12</a>\u001b[0m df_sent_freq\u001b[39m=\u001b[39mdf_sent_freq\u001b[39m.\u001b[39msort_values(by\u001b[39m=\u001b[39m[\u001b[39m'\u001b[39m\u001b[39mmonth\u001b[39m\u001b[39m'\u001b[39m,\u001b[39m'\u001b[39m\u001b[39mkey_word\u001b[39m\u001b[39m'\u001b[39m],ascending\u001b[39m=\u001b[39m\u001b[39mTrue\u001b[39;00m)\n\u001b[0;32m---> <a href='vscode-notebook-cell:/Users/gustavovergara238/Library/Mobile%20Documents/com~apple~CloudDocs/DS4A/Project/Sentiment-Analysis-for-the-MDP/notebooks/Exploratory/6-evaluation.ipynb#ch0000021?line=12'>13</a>\u001b[0m px\u001b[39m.\u001b[39mline(plotly_month_keyword(year)[plotly_month_keyword(year)[\u001b[39m'\u001b[39m\u001b[39mkey_word\u001b[39m\u001b[39m'\u001b[39m]\u001b[39m.\u001b[39misin[\u001b[39m'\u001b[39m\u001b[39mvida\u001b[39m\u001b[39m'\u001b[39m,\u001b[39m'\u001b[39m\u001b[39mcultura\u001b[39m\u001b[39m'\u001b[39m]], x\u001b[39m=\u001b[39m\u001b[39m'\u001b[39m\u001b[39mmonth\u001b[39m\u001b[39m'\u001b[39m, y\u001b[39m=\u001b[39m\u001b[39m'\u001b[39m\u001b[39mfreq_pos\u001b[39m\u001b[39m'\u001b[39m,color\u001b[39m=\u001b[39m\u001b[39m'\u001b[39m\u001b[39mkey_word\u001b[39m\u001b[39m'\u001b[39m,title\u001b[39m=\u001b[39m\u001b[39m'\u001b[39m\u001b[39mFrequency of Keywords in the Tweets\u001b[39m\u001b[39m'\u001b[39m,width\u001b[39m=\u001b[39m\u001b[39m500\u001b[39m)\n",
      "\u001b[1;32m/Users/gustavovergara238/Library/Mobile Documents/com~apple~CloudDocs/DS4A/Project/Sentiment-Analysis-for-the-MDP/notebooks/Exploratory/6-evaluation.ipynb Cell 21'\u001b[0m in \u001b[0;36mplotly_month_keyword\u001b[0;34m(year)\u001b[0m\n\u001b[1;32m     <a href='vscode-notebook-cell:/Users/gustavovergara238/Library/Mobile%20Documents/com~apple~CloudDocs/DS4A/Project/Sentiment-Analysis-for-the-MDP/notebooks/Exploratory/6-evaluation.ipynb#ch0000021?line=10'>11</a>\u001b[0m df_sent_freq\u001b[39m.\u001b[39mreset_index(drop\u001b[39m=\u001b[39m\u001b[39mTrue\u001b[39;00m,inplace\u001b[39m=\u001b[39m\u001b[39mTrue\u001b[39;00m)\n\u001b[1;32m     <a href='vscode-notebook-cell:/Users/gustavovergara238/Library/Mobile%20Documents/com~apple~CloudDocs/DS4A/Project/Sentiment-Analysis-for-the-MDP/notebooks/Exploratory/6-evaluation.ipynb#ch0000021?line=11'>12</a>\u001b[0m df_sent_freq\u001b[39m=\u001b[39mdf_sent_freq\u001b[39m.\u001b[39msort_values(by\u001b[39m=\u001b[39m[\u001b[39m'\u001b[39m\u001b[39mmonth\u001b[39m\u001b[39m'\u001b[39m,\u001b[39m'\u001b[39m\u001b[39mkey_word\u001b[39m\u001b[39m'\u001b[39m],ascending\u001b[39m=\u001b[39m\u001b[39mTrue\u001b[39;00m)\n\u001b[0;32m---> <a href='vscode-notebook-cell:/Users/gustavovergara238/Library/Mobile%20Documents/com~apple~CloudDocs/DS4A/Project/Sentiment-Analysis-for-the-MDP/notebooks/Exploratory/6-evaluation.ipynb#ch0000021?line=12'>13</a>\u001b[0m px\u001b[39m.\u001b[39mline(plotly_month_keyword(year)[plotly_month_keyword(year)[\u001b[39m'\u001b[39m\u001b[39mkey_word\u001b[39m\u001b[39m'\u001b[39m]\u001b[39m.\u001b[39misin[\u001b[39m'\u001b[39m\u001b[39mvida\u001b[39m\u001b[39m'\u001b[39m,\u001b[39m'\u001b[39m\u001b[39mcultura\u001b[39m\u001b[39m'\u001b[39m]], x\u001b[39m=\u001b[39m\u001b[39m'\u001b[39m\u001b[39mmonth\u001b[39m\u001b[39m'\u001b[39m, y\u001b[39m=\u001b[39m\u001b[39m'\u001b[39m\u001b[39mfreq_pos\u001b[39m\u001b[39m'\u001b[39m,color\u001b[39m=\u001b[39m\u001b[39m'\u001b[39m\u001b[39mkey_word\u001b[39m\u001b[39m'\u001b[39m,title\u001b[39m=\u001b[39m\u001b[39m'\u001b[39m\u001b[39mFrequency of Keywords in the Tweets\u001b[39m\u001b[39m'\u001b[39m,width\u001b[39m=\u001b[39m\u001b[39m500\u001b[39m)\n",
      "    \u001b[0;31m[... skipping similar frames: plotly_month_keyword at line 13 (278 times)]\u001b[0m\n",
      "\u001b[1;32m/Users/gustavovergara238/Library/Mobile Documents/com~apple~CloudDocs/DS4A/Project/Sentiment-Analysis-for-the-MDP/notebooks/Exploratory/6-evaluation.ipynb Cell 21'\u001b[0m in \u001b[0;36mplotly_month_keyword\u001b[0;34m(year)\u001b[0m\n\u001b[1;32m     <a href='vscode-notebook-cell:/Users/gustavovergara238/Library/Mobile%20Documents/com~apple~CloudDocs/DS4A/Project/Sentiment-Analysis-for-the-MDP/notebooks/Exploratory/6-evaluation.ipynb#ch0000021?line=10'>11</a>\u001b[0m df_sent_freq\u001b[39m.\u001b[39mreset_index(drop\u001b[39m=\u001b[39m\u001b[39mTrue\u001b[39;00m,inplace\u001b[39m=\u001b[39m\u001b[39mTrue\u001b[39;00m)\n\u001b[1;32m     <a href='vscode-notebook-cell:/Users/gustavovergara238/Library/Mobile%20Documents/com~apple~CloudDocs/DS4A/Project/Sentiment-Analysis-for-the-MDP/notebooks/Exploratory/6-evaluation.ipynb#ch0000021?line=11'>12</a>\u001b[0m df_sent_freq\u001b[39m=\u001b[39mdf_sent_freq\u001b[39m.\u001b[39msort_values(by\u001b[39m=\u001b[39m[\u001b[39m'\u001b[39m\u001b[39mmonth\u001b[39m\u001b[39m'\u001b[39m,\u001b[39m'\u001b[39m\u001b[39mkey_word\u001b[39m\u001b[39m'\u001b[39m],ascending\u001b[39m=\u001b[39m\u001b[39mTrue\u001b[39;00m)\n\u001b[0;32m---> <a href='vscode-notebook-cell:/Users/gustavovergara238/Library/Mobile%20Documents/com~apple~CloudDocs/DS4A/Project/Sentiment-Analysis-for-the-MDP/notebooks/Exploratory/6-evaluation.ipynb#ch0000021?line=12'>13</a>\u001b[0m px\u001b[39m.\u001b[39mline(plotly_month_keyword(year)[plotly_month_keyword(year)[\u001b[39m'\u001b[39m\u001b[39mkey_word\u001b[39m\u001b[39m'\u001b[39m]\u001b[39m.\u001b[39misin[\u001b[39m'\u001b[39m\u001b[39mvida\u001b[39m\u001b[39m'\u001b[39m,\u001b[39m'\u001b[39m\u001b[39mcultura\u001b[39m\u001b[39m'\u001b[39m]], x\u001b[39m=\u001b[39m\u001b[39m'\u001b[39m\u001b[39mmonth\u001b[39m\u001b[39m'\u001b[39m, y\u001b[39m=\u001b[39m\u001b[39m'\u001b[39m\u001b[39mfreq_pos\u001b[39m\u001b[39m'\u001b[39m,color\u001b[39m=\u001b[39m\u001b[39m'\u001b[39m\u001b[39mkey_word\u001b[39m\u001b[39m'\u001b[39m,title\u001b[39m=\u001b[39m\u001b[39m'\u001b[39m\u001b[39mFrequency of Keywords in the Tweets\u001b[39m\u001b[39m'\u001b[39m,width\u001b[39m=\u001b[39m\u001b[39m500\u001b[39m)\n",
      "\u001b[1;32m/Users/gustavovergara238/Library/Mobile Documents/com~apple~CloudDocs/DS4A/Project/Sentiment-Analysis-for-the-MDP/notebooks/Exploratory/6-evaluation.ipynb Cell 21'\u001b[0m in \u001b[0;36mplotly_month_keyword\u001b[0;34m(year)\u001b[0m\n\u001b[1;32m      <a href='vscode-notebook-cell:/Users/gustavovergara238/Library/Mobile%20Documents/com~apple~CloudDocs/DS4A/Project/Sentiment-Analysis-for-the-MDP/notebooks/Exploratory/6-evaluation.ipynb#ch0000021?line=2'>3</a>\u001b[0m df_plot\u001b[39m=\u001b[39mdf[(df[\u001b[39m'\u001b[39m\u001b[39myear\u001b[39m\u001b[39m'\u001b[39m]\u001b[39m==\u001b[39myear)]\n\u001b[1;32m      <a href='vscode-notebook-cell:/Users/gustavovergara238/Library/Mobile%20Documents/com~apple~CloudDocs/DS4A/Project/Sentiment-Analysis-for-the-MDP/notebooks/Exploratory/6-evaluation.ipynb#ch0000021?line=3'>4</a>\u001b[0m \u001b[39mfor\u001b[39;00m months \u001b[39min\u001b[39;00m df_plot[\u001b[39m'\u001b[39m\u001b[39mmonth\u001b[39m\u001b[39m'\u001b[39m]\u001b[39m.\u001b[39munique():\n\u001b[0;32m----> <a href='vscode-notebook-cell:/Users/gustavovergara238/Library/Mobile%20Documents/com~apple~CloudDocs/DS4A/Project/Sentiment-Analysis-for-the-MDP/notebooks/Exploratory/6-evaluation.ipynb#ch0000021?line=4'>5</a>\u001b[0m     df_cross\u001b[39m=\u001b[39mpd\u001b[39m.\u001b[39;49mcrosstab(df_plot[df_plot[\u001b[39m'\u001b[39;49m\u001b[39mmonth\u001b[39;49m\u001b[39m'\u001b[39;49m]\u001b[39m==\u001b[39;49mmonths][\u001b[39m'\u001b[39;49m\u001b[39mkey_word\u001b[39;49m\u001b[39m'\u001b[39;49m],df_plot[df_plot[\u001b[39m'\u001b[39;49m\u001b[39mmonth\u001b[39;49m\u001b[39m'\u001b[39;49m]\u001b[39m==\u001b[39;49mmonths][\u001b[39m'\u001b[39;49m\u001b[39mpredicted_sentiment\u001b[39;49m\u001b[39m'\u001b[39;49m])\u001b[39m.\u001b[39mreset_index()\n\u001b[1;32m      <a href='vscode-notebook-cell:/Users/gustavovergara238/Library/Mobile%20Documents/com~apple~CloudDocs/DS4A/Project/Sentiment-Analysis-for-the-MDP/notebooks/Exploratory/6-evaluation.ipynb#ch0000021?line=5'>6</a>\u001b[0m     df_cross[\u001b[39m'\u001b[39m\u001b[39mtotal\u001b[39m\u001b[39m'\u001b[39m]\u001b[39m=\u001b[39mdf_cross\u001b[39m.\u001b[39msum(axis\u001b[39m=\u001b[39m\u001b[39m1\u001b[39m)\n\u001b[1;32m      <a href='vscode-notebook-cell:/Users/gustavovergara238/Library/Mobile%20Documents/com~apple~CloudDocs/DS4A/Project/Sentiment-Analysis-for-the-MDP/notebooks/Exploratory/6-evaluation.ipynb#ch0000021?line=6'>7</a>\u001b[0m     df_cross[\u001b[39m'\u001b[39m\u001b[39mmonth\u001b[39m\u001b[39m'\u001b[39m]\u001b[39m=\u001b[39mmonths\n",
      "File \u001b[0;32m/opt/anaconda3/lib/python3.8/site-packages/pandas/core/reshape/pivot.py:608\u001b[0m, in \u001b[0;36mcrosstab\u001b[0;34m(index, columns, values, rownames, colnames, aggfunc, margins, margins_name, dropna, normalize)\u001b[0m\n\u001b[1;32m    605\u001b[0m     df[\u001b[39m\"\u001b[39m\u001b[39m__dummy__\u001b[39m\u001b[39m\"\u001b[39m] \u001b[39m=\u001b[39m values\n\u001b[1;32m    606\u001b[0m     kwargs \u001b[39m=\u001b[39m {\u001b[39m\"\u001b[39m\u001b[39maggfunc\u001b[39m\u001b[39m\"\u001b[39m: aggfunc}\n\u001b[0;32m--> 608\u001b[0m table \u001b[39m=\u001b[39m df\u001b[39m.\u001b[39;49mpivot_table(\n\u001b[1;32m    609\u001b[0m     [\u001b[39m\"\u001b[39;49m\u001b[39m__dummy__\u001b[39;49m\u001b[39m\"\u001b[39;49m],\n\u001b[1;32m    610\u001b[0m     index\u001b[39m=\u001b[39;49munique_rownames,\n\u001b[1;32m    611\u001b[0m     columns\u001b[39m=\u001b[39;49munique_colnames,\n\u001b[1;32m    612\u001b[0m     margins\u001b[39m=\u001b[39;49mmargins,\n\u001b[1;32m    613\u001b[0m     margins_name\u001b[39m=\u001b[39;49mmargins_name,\n\u001b[1;32m    614\u001b[0m     dropna\u001b[39m=\u001b[39;49mdropna,\n\u001b[1;32m    615\u001b[0m     \u001b[39m*\u001b[39;49m\u001b[39m*\u001b[39;49mkwargs,\n\u001b[1;32m    616\u001b[0m )\n\u001b[1;32m    618\u001b[0m \u001b[39m# GH18321, after pivoting, an extra top level of column index of `__dummy__` is\u001b[39;00m\n\u001b[1;32m    619\u001b[0m \u001b[39m# created, and this extra level should not be included in the further steps\u001b[39;00m\n\u001b[1;32m    620\u001b[0m \u001b[39mif\u001b[39;00m \u001b[39mnot\u001b[39;00m table\u001b[39m.\u001b[39mempty:\n",
      "File \u001b[0;32m/opt/anaconda3/lib/python3.8/site-packages/pandas/core/frame.py:7031\u001b[0m, in \u001b[0;36mDataFrame.pivot_table\u001b[0;34m(self, values, index, columns, aggfunc, fill_value, margins, dropna, margins_name, observed)\u001b[0m\n\u001b[1;32m   7015\u001b[0m \u001b[39m@Substitution\u001b[39m(\u001b[39m\"\u001b[39m\u001b[39m\"\u001b[39m)\n\u001b[1;32m   7016\u001b[0m \u001b[39m@Appender\u001b[39m(_shared_docs[\u001b[39m\"\u001b[39m\u001b[39mpivot_table\u001b[39m\u001b[39m\"\u001b[39m])\n\u001b[1;32m   7017\u001b[0m \u001b[39mdef\u001b[39;00m \u001b[39mpivot_table\u001b[39m(\n\u001b[0;32m   (...)\u001b[0m\n\u001b[1;32m   7027\u001b[0m     observed\u001b[39m=\u001b[39m\u001b[39mFalse\u001b[39;00m,\n\u001b[1;32m   7028\u001b[0m ) \u001b[39m-\u001b[39m\u001b[39m>\u001b[39m DataFrame:\n\u001b[1;32m   7029\u001b[0m     \u001b[39mfrom\u001b[39;00m \u001b[39mpandas\u001b[39;00m\u001b[39m.\u001b[39;00m\u001b[39mcore\u001b[39;00m\u001b[39m.\u001b[39;00m\u001b[39mreshape\u001b[39;00m\u001b[39m.\u001b[39;00m\u001b[39mpivot\u001b[39;00m \u001b[39mimport\u001b[39;00m pivot_table\n\u001b[0;32m-> 7031\u001b[0m     \u001b[39mreturn\u001b[39;00m pivot_table(\n\u001b[1;32m   7032\u001b[0m         \u001b[39mself\u001b[39;49m,\n\u001b[1;32m   7033\u001b[0m         values\u001b[39m=\u001b[39;49mvalues,\n\u001b[1;32m   7034\u001b[0m         index\u001b[39m=\u001b[39;49mindex,\n\u001b[1;32m   7035\u001b[0m         columns\u001b[39m=\u001b[39;49mcolumns,\n\u001b[1;32m   7036\u001b[0m         aggfunc\u001b[39m=\u001b[39;49maggfunc,\n\u001b[1;32m   7037\u001b[0m         fill_value\u001b[39m=\u001b[39;49mfill_value,\n\u001b[1;32m   7038\u001b[0m         margins\u001b[39m=\u001b[39;49mmargins,\n\u001b[1;32m   7039\u001b[0m         dropna\u001b[39m=\u001b[39;49mdropna,\n\u001b[1;32m   7040\u001b[0m         margins_name\u001b[39m=\u001b[39;49mmargins_name,\n\u001b[1;32m   7041\u001b[0m         observed\u001b[39m=\u001b[39;49mobserved,\n\u001b[1;32m   7042\u001b[0m     )\n",
      "File \u001b[0;32m/opt/anaconda3/lib/python3.8/site-packages/pandas/core/reshape/pivot.py:113\u001b[0m, in \u001b[0;36mpivot_table\u001b[0;34m(data, values, index, columns, aggfunc, fill_value, margins, dropna, margins_name, observed)\u001b[0m\n\u001b[1;32m    110\u001b[0m     values \u001b[39m=\u001b[39m \u001b[39mlist\u001b[39m(values)\n\u001b[1;32m    112\u001b[0m grouped \u001b[39m=\u001b[39m data\u001b[39m.\u001b[39mgroupby(keys, observed\u001b[39m=\u001b[39mobserved)\n\u001b[0;32m--> 113\u001b[0m agged \u001b[39m=\u001b[39m grouped\u001b[39m.\u001b[39;49magg(aggfunc)\n\u001b[1;32m    114\u001b[0m \u001b[39mif\u001b[39;00m dropna \u001b[39mand\u001b[39;00m \u001b[39misinstance\u001b[39m(agged, ABCDataFrame) \u001b[39mand\u001b[39;00m \u001b[39mlen\u001b[39m(agged\u001b[39m.\u001b[39mcolumns):\n\u001b[1;32m    115\u001b[0m     agged \u001b[39m=\u001b[39m agged\u001b[39m.\u001b[39mdropna(how\u001b[39m=\u001b[39m\u001b[39m\"\u001b[39m\u001b[39mall\u001b[39m\u001b[39m\"\u001b[39m)\n",
      "File \u001b[0;32m/opt/anaconda3/lib/python3.8/site-packages/pandas/core/groupby/generic.py:953\u001b[0m, in \u001b[0;36mDataFrameGroupBy.aggregate\u001b[0;34m(self, func, engine, engine_kwargs, *args, **kwargs)\u001b[0m\n\u001b[1;32m    949\u001b[0m \u001b[39mif\u001b[39;00m result \u001b[39mis\u001b[39;00m \u001b[39mNone\u001b[39;00m:\n\u001b[1;32m    950\u001b[0m \n\u001b[1;32m    951\u001b[0m     \u001b[39m# grouper specific aggregations\u001b[39;00m\n\u001b[1;32m    952\u001b[0m     \u001b[39mif\u001b[39;00m \u001b[39mself\u001b[39m\u001b[39m.\u001b[39mgrouper\u001b[39m.\u001b[39mnkeys \u001b[39m>\u001b[39m \u001b[39m1\u001b[39m:\n\u001b[0;32m--> 953\u001b[0m         \u001b[39mreturn\u001b[39;00m \u001b[39mself\u001b[39;49m\u001b[39m.\u001b[39;49m_python_agg_general(func, \u001b[39m*\u001b[39;49margs, \u001b[39m*\u001b[39;49m\u001b[39m*\u001b[39;49mkwargs)\n\u001b[1;32m    954\u001b[0m     \u001b[39melif\u001b[39;00m args \u001b[39mor\u001b[39;00m kwargs:\n\u001b[1;32m    955\u001b[0m         result \u001b[39m=\u001b[39m \u001b[39mself\u001b[39m\u001b[39m.\u001b[39m_aggregate_frame(func, \u001b[39m*\u001b[39margs, \u001b[39m*\u001b[39m\u001b[39m*\u001b[39mkwargs)\n",
      "File \u001b[0;32m/opt/anaconda3/lib/python3.8/site-packages/pandas/core/groupby/groupby.py:1198\u001b[0m, in \u001b[0;36mBaseGroupBy._python_agg_general\u001b[0;34m(self, func, *args, **kwargs)\u001b[0m\n\u001b[1;32m   1195\u001b[0m \u001b[39mif\u001b[39;00m \u001b[39mnot\u001b[39;00m output:\n\u001b[1;32m   1196\u001b[0m     \u001b[39mreturn\u001b[39;00m \u001b[39mself\u001b[39m\u001b[39m.\u001b[39m_python_apply_general(f, \u001b[39mself\u001b[39m\u001b[39m.\u001b[39m_selected_obj)\n\u001b[0;32m-> 1198\u001b[0m \u001b[39mreturn\u001b[39;00m \u001b[39mself\u001b[39;49m\u001b[39m.\u001b[39;49m_wrap_aggregated_output(output, index\u001b[39m=\u001b[39;49m\u001b[39mself\u001b[39;49m\u001b[39m.\u001b[39;49mgrouper\u001b[39m.\u001b[39;49mresult_index)\n",
      "File \u001b[0;32m/opt/anaconda3/lib/python3.8/site-packages/pandas/core/groupby/generic.py:1642\u001b[0m, in \u001b[0;36mDataFrameGroupBy._wrap_aggregated_output\u001b[0;34m(self, output, index)\u001b[0m\n\u001b[1;32m   1640\u001b[0m indexed_output \u001b[39m=\u001b[39m {key\u001b[39m.\u001b[39mposition: val \u001b[39mfor\u001b[39;00m key, val \u001b[39min\u001b[39;00m output\u001b[39m.\u001b[39mitems()}\n\u001b[1;32m   1641\u001b[0m columns \u001b[39m=\u001b[39m Index([key\u001b[39m.\u001b[39mlabel \u001b[39mfor\u001b[39;00m key \u001b[39min\u001b[39;00m output])\n\u001b[0;32m-> 1642\u001b[0m columns\u001b[39m.\u001b[39m_set_names(\u001b[39mself\u001b[39;49m\u001b[39m.\u001b[39;49m_obj_with_exclusions\u001b[39m.\u001b[39m_get_axis(\u001b[39m1\u001b[39m \u001b[39m-\u001b[39m \u001b[39mself\u001b[39m\u001b[39m.\u001b[39maxis)\u001b[39m.\u001b[39mnames)\n\u001b[1;32m   1644\u001b[0m result \u001b[39m=\u001b[39m \u001b[39mself\u001b[39m\u001b[39m.\u001b[39mobj\u001b[39m.\u001b[39m_constructor(indexed_output)\n\u001b[1;32m   1645\u001b[0m result\u001b[39m.\u001b[39mcolumns \u001b[39m=\u001b[39m columns\n",
      "File \u001b[0;32mpandas/_libs/properties.pyx:33\u001b[0m, in \u001b[0;36mpandas._libs.properties.CachedProperty.__get__\u001b[0;34m()\u001b[0m\n",
      "File \u001b[0;32m/opt/anaconda3/lib/python3.8/site-packages/pandas/core/base.py:247\u001b[0m, in \u001b[0;36mSelectionMixin._obj_with_exclusions\u001b[0;34m(self)\u001b[0m\n\u001b[1;32m    239\u001b[0m \u001b[39m# pandas\\core\\base.py:207: error: \"SelectionMixin\" has no attribute\u001b[39;00m\n\u001b[1;32m    240\u001b[0m \u001b[39m# \"exclusions\"  [attr-defined]\u001b[39;00m\n\u001b[1;32m    241\u001b[0m \u001b[39mif\u001b[39;00m \u001b[39mlen\u001b[39m(\u001b[39mself\u001b[39m\u001b[39m.\u001b[39mexclusions) \u001b[39m>\u001b[39m \u001b[39m0\u001b[39m:  \u001b[39m# type: ignore[attr-defined]\u001b[39;00m\n\u001b[1;32m    242\u001b[0m     \u001b[39m# pandas\\core\\base.py:208: error: \"SelectionMixin\" has no attribute\u001b[39;00m\n\u001b[1;32m    243\u001b[0m     \u001b[39m# \"obj\"  [attr-defined]\u001b[39;00m\n\u001b[1;32m    244\u001b[0m \n\u001b[1;32m    245\u001b[0m     \u001b[39m# pandas\\core\\base.py:208: error: \"SelectionMixin\" has no attribute\u001b[39;00m\n\u001b[1;32m    246\u001b[0m     \u001b[39m# \"exclusions\"  [attr-defined]\u001b[39;00m\n\u001b[0;32m--> 247\u001b[0m     \u001b[39mreturn\u001b[39;00m \u001b[39mself\u001b[39;49m\u001b[39m.\u001b[39;49mobj\u001b[39m.\u001b[39;49mdrop(\u001b[39mself\u001b[39;49m\u001b[39m.\u001b[39;49mexclusions, axis\u001b[39m=\u001b[39;49m\u001b[39m1\u001b[39;49m)  \u001b[39m# type: ignore[attr-defined]\u001b[39;00m\n\u001b[1;32m    248\u001b[0m \u001b[39melse\u001b[39;00m:\n\u001b[1;32m    249\u001b[0m     \u001b[39m# pandas\\core\\base.py:210: error: \"SelectionMixin\" has no attribute\u001b[39;00m\n\u001b[1;32m    250\u001b[0m     \u001b[39m# \"obj\"  [attr-defined]\u001b[39;00m\n\u001b[1;32m    251\u001b[0m     \u001b[39mreturn\u001b[39;00m \u001b[39mself\u001b[39m\u001b[39m.\u001b[39mobj\n",
      "File \u001b[0;32m/opt/anaconda3/lib/python3.8/site-packages/pandas/core/frame.py:4308\u001b[0m, in \u001b[0;36mDataFrame.drop\u001b[0;34m(self, labels, axis, index, columns, level, inplace, errors)\u001b[0m\n\u001b[1;32m   4178\u001b[0m \u001b[39mdef\u001b[39;00m \u001b[39mdrop\u001b[39m(\n\u001b[1;32m   4179\u001b[0m     \u001b[39mself\u001b[39m,\n\u001b[1;32m   4180\u001b[0m     labels\u001b[39m=\u001b[39m\u001b[39mNone\u001b[39;00m,\n\u001b[0;32m   (...)\u001b[0m\n\u001b[1;32m   4186\u001b[0m     errors\u001b[39m=\u001b[39m\u001b[39m\"\u001b[39m\u001b[39mraise\u001b[39m\u001b[39m\"\u001b[39m,\n\u001b[1;32m   4187\u001b[0m ):\n\u001b[1;32m   4188\u001b[0m     \u001b[39m\"\"\"\u001b[39;00m\n\u001b[1;32m   4189\u001b[0m \u001b[39m    Drop specified labels from rows or columns.\u001b[39;00m\n\u001b[1;32m   4190\u001b[0m \n\u001b[0;32m   (...)\u001b[0m\n\u001b[1;32m   4306\u001b[0m \u001b[39m            weight  1.0     0.8\u001b[39;00m\n\u001b[1;32m   4307\u001b[0m \u001b[39m    \"\"\"\u001b[39;00m\n\u001b[0;32m-> 4308\u001b[0m     \u001b[39mreturn\u001b[39;00m \u001b[39msuper\u001b[39;49m()\u001b[39m.\u001b[39;49mdrop(\n\u001b[1;32m   4309\u001b[0m         labels\u001b[39m=\u001b[39;49mlabels,\n\u001b[1;32m   4310\u001b[0m         axis\u001b[39m=\u001b[39;49maxis,\n\u001b[1;32m   4311\u001b[0m         index\u001b[39m=\u001b[39;49mindex,\n\u001b[1;32m   4312\u001b[0m         columns\u001b[39m=\u001b[39;49mcolumns,\n\u001b[1;32m   4313\u001b[0m         level\u001b[39m=\u001b[39;49mlevel,\n\u001b[1;32m   4314\u001b[0m         inplace\u001b[39m=\u001b[39;49minplace,\n\u001b[1;32m   4315\u001b[0m         errors\u001b[39m=\u001b[39;49merrors,\n\u001b[1;32m   4316\u001b[0m     )\n",
      "File \u001b[0;32m/opt/anaconda3/lib/python3.8/site-packages/pandas/core/generic.py:4153\u001b[0m, in \u001b[0;36mNDFrame.drop\u001b[0;34m(self, labels, axis, index, columns, level, inplace, errors)\u001b[0m\n\u001b[1;32m   4151\u001b[0m \u001b[39mfor\u001b[39;00m axis, labels \u001b[39min\u001b[39;00m axes\u001b[39m.\u001b[39mitems():\n\u001b[1;32m   4152\u001b[0m     \u001b[39mif\u001b[39;00m labels \u001b[39mis\u001b[39;00m \u001b[39mnot\u001b[39;00m \u001b[39mNone\u001b[39;00m:\n\u001b[0;32m-> 4153\u001b[0m         obj \u001b[39m=\u001b[39m obj\u001b[39m.\u001b[39;49m_drop_axis(labels, axis, level\u001b[39m=\u001b[39;49mlevel, errors\u001b[39m=\u001b[39;49merrors)\n\u001b[1;32m   4155\u001b[0m \u001b[39mif\u001b[39;00m inplace:\n\u001b[1;32m   4156\u001b[0m     \u001b[39mself\u001b[39m\u001b[39m.\u001b[39m_update_inplace(obj)\n",
      "File \u001b[0;32m/opt/anaconda3/lib/python3.8/site-packages/pandas/core/generic.py:4189\u001b[0m, in \u001b[0;36mNDFrame._drop_axis\u001b[0;34m(self, labels, axis, level, errors)\u001b[0m\n\u001b[1;32m   4187\u001b[0m     \u001b[39melse\u001b[39;00m:\n\u001b[1;32m   4188\u001b[0m         new_axis \u001b[39m=\u001b[39m axis\u001b[39m.\u001b[39mdrop(labels, errors\u001b[39m=\u001b[39merrors)\n\u001b[0;32m-> 4189\u001b[0m     result \u001b[39m=\u001b[39m \u001b[39mself\u001b[39;49m\u001b[39m.\u001b[39;49mreindex(\u001b[39m*\u001b[39;49m\u001b[39m*\u001b[39;49m{axis_name: new_axis})\n\u001b[1;32m   4191\u001b[0m \u001b[39m# Case for non-unique axis\u001b[39;00m\n\u001b[1;32m   4192\u001b[0m \u001b[39melse\u001b[39;00m:\n\u001b[1;32m   4193\u001b[0m     labels \u001b[39m=\u001b[39m ensure_object(com\u001b[39m.\u001b[39mindex_labels_to_array(labels))\n",
      "File \u001b[0;32m/opt/anaconda3/lib/python3.8/site-packages/pandas/util/_decorators.py:312\u001b[0m, in \u001b[0;36mrewrite_axis_style_signature.<locals>.decorate.<locals>.wrapper\u001b[0;34m(*args, **kwargs)\u001b[0m\n\u001b[1;32m    310\u001b[0m \u001b[39m@wraps\u001b[39m(func)\n\u001b[1;32m    311\u001b[0m \u001b[39mdef\u001b[39;00m \u001b[39mwrapper\u001b[39m(\u001b[39m*\u001b[39margs, \u001b[39m*\u001b[39m\u001b[39m*\u001b[39mkwargs) \u001b[39m-\u001b[39m\u001b[39m>\u001b[39m Callable[\u001b[39m.\u001b[39m\u001b[39m.\u001b[39m\u001b[39m.\u001b[39m, Any]:\n\u001b[0;32m--> 312\u001b[0m     \u001b[39mreturn\u001b[39;00m func(\u001b[39m*\u001b[39;49margs, \u001b[39m*\u001b[39;49m\u001b[39m*\u001b[39;49mkwargs)\n",
      "File \u001b[0;32m/opt/anaconda3/lib/python3.8/site-packages/pandas/core/frame.py:4176\u001b[0m, in \u001b[0;36mDataFrame.reindex\u001b[0;34m(self, *args, **kwargs)\u001b[0m\n\u001b[1;32m   4174\u001b[0m kwargs\u001b[39m.\u001b[39mpop(\u001b[39m\"\u001b[39m\u001b[39maxis\u001b[39m\u001b[39m\"\u001b[39m, \u001b[39mNone\u001b[39;00m)\n\u001b[1;32m   4175\u001b[0m kwargs\u001b[39m.\u001b[39mpop(\u001b[39m\"\u001b[39m\u001b[39mlabels\u001b[39m\u001b[39m\"\u001b[39m, \u001b[39mNone\u001b[39;00m)\n\u001b[0;32m-> 4176\u001b[0m \u001b[39mreturn\u001b[39;00m \u001b[39msuper\u001b[39;49m()\u001b[39m.\u001b[39;49mreindex(\u001b[39m*\u001b[39;49m\u001b[39m*\u001b[39;49mkwargs)\n",
      "File \u001b[0;32m/opt/anaconda3/lib/python3.8/site-packages/pandas/core/generic.py:4811\u001b[0m, in \u001b[0;36mNDFrame.reindex\u001b[0;34m(self, *args, **kwargs)\u001b[0m\n\u001b[1;32m   4808\u001b[0m     \u001b[39mreturn\u001b[39;00m \u001b[39mself\u001b[39m\u001b[39m.\u001b[39m_reindex_multi(axes, copy, fill_value)\n\u001b[1;32m   4810\u001b[0m \u001b[39m# perform the reindex on the axes\u001b[39;00m\n\u001b[0;32m-> 4811\u001b[0m \u001b[39mreturn\u001b[39;00m \u001b[39mself\u001b[39;49m\u001b[39m.\u001b[39;49m_reindex_axes(\n\u001b[1;32m   4812\u001b[0m     axes, level, limit, tolerance, method, fill_value, copy\n\u001b[1;32m   4813\u001b[0m )\u001b[39m.\u001b[39m__finalize__(\u001b[39mself\u001b[39m, method\u001b[39m=\u001b[39m\u001b[39m\"\u001b[39m\u001b[39mreindex\u001b[39m\u001b[39m\"\u001b[39m)\n",
      "File \u001b[0;32m/opt/anaconda3/lib/python3.8/site-packages/pandas/core/frame.py:4016\u001b[0m, in \u001b[0;36mDataFrame._reindex_axes\u001b[0;34m(self, axes, level, limit, tolerance, method, fill_value, copy)\u001b[0m\n\u001b[1;32m   4014\u001b[0m columns \u001b[39m=\u001b[39m axes[\u001b[39m\"\u001b[39m\u001b[39mcolumns\u001b[39m\u001b[39m\"\u001b[39m]\n\u001b[1;32m   4015\u001b[0m \u001b[39mif\u001b[39;00m columns \u001b[39mis\u001b[39;00m \u001b[39mnot\u001b[39;00m \u001b[39mNone\u001b[39;00m:\n\u001b[0;32m-> 4016\u001b[0m     frame \u001b[39m=\u001b[39m frame\u001b[39m.\u001b[39;49m_reindex_columns(\n\u001b[1;32m   4017\u001b[0m         columns, method, copy, level, fill_value, limit, tolerance\n\u001b[1;32m   4018\u001b[0m     )\n\u001b[1;32m   4020\u001b[0m index \u001b[39m=\u001b[39m axes[\u001b[39m\"\u001b[39m\u001b[39mindex\u001b[39m\u001b[39m\"\u001b[39m]\n\u001b[1;32m   4021\u001b[0m \u001b[39mif\u001b[39;00m index \u001b[39mis\u001b[39;00m \u001b[39mnot\u001b[39;00m \u001b[39mNone\u001b[39;00m:\n",
      "File \u001b[0;32m/opt/anaconda3/lib/python3.8/site-packages/pandas/core/frame.py:4058\u001b[0m, in \u001b[0;36mDataFrame._reindex_columns\u001b[0;34m(self, new_columns, method, copy, level, fill_value, limit, tolerance)\u001b[0m\n\u001b[1;32m   4048\u001b[0m \u001b[39mdef\u001b[39;00m \u001b[39m_reindex_columns\u001b[39m(\n\u001b[1;32m   4049\u001b[0m     \u001b[39mself\u001b[39m,\n\u001b[1;32m   4050\u001b[0m     new_columns,\n\u001b[0;32m   (...)\u001b[0m\n\u001b[1;32m   4056\u001b[0m     tolerance\u001b[39m=\u001b[39m\u001b[39mNone\u001b[39;00m,\n\u001b[1;32m   4057\u001b[0m ):\n\u001b[0;32m-> 4058\u001b[0m     new_columns, indexer \u001b[39m=\u001b[39m \u001b[39mself\u001b[39;49m\u001b[39m.\u001b[39;49mcolumns\u001b[39m.\u001b[39;49mreindex(\n\u001b[1;32m   4059\u001b[0m         new_columns, method\u001b[39m=\u001b[39;49mmethod, level\u001b[39m=\u001b[39;49mlevel, limit\u001b[39m=\u001b[39;49mlimit, tolerance\u001b[39m=\u001b[39;49mtolerance\n\u001b[1;32m   4060\u001b[0m     )\n\u001b[1;32m   4061\u001b[0m     \u001b[39mreturn\u001b[39;00m \u001b[39mself\u001b[39m\u001b[39m.\u001b[39m_reindex_with_indexers(\n\u001b[1;32m   4062\u001b[0m         {\u001b[39m1\u001b[39m: [new_columns, indexer]},\n\u001b[1;32m   4063\u001b[0m         copy\u001b[39m=\u001b[39mcopy,\n\u001b[1;32m   4064\u001b[0m         fill_value\u001b[39m=\u001b[39mfill_value,\n\u001b[1;32m   4065\u001b[0m         allow_dups\u001b[39m=\u001b[39m\u001b[39mFalse\u001b[39;00m,\n\u001b[1;32m   4066\u001b[0m     )\n",
      "File \u001b[0;32m/opt/anaconda3/lib/python3.8/site-packages/pandas/core/indexes/base.py:3516\u001b[0m, in \u001b[0;36mIndex.reindex\u001b[0;34m(self, target, method, level, limit, tolerance)\u001b[0m\n\u001b[1;32m   3514\u001b[0m \u001b[39melse\u001b[39;00m:\n\u001b[1;32m   3515\u001b[0m     \u001b[39mif\u001b[39;00m \u001b[39mself\u001b[39m\u001b[39m.\u001b[39m_index_as_unique:\n\u001b[0;32m-> 3516\u001b[0m         indexer \u001b[39m=\u001b[39m \u001b[39mself\u001b[39;49m\u001b[39m.\u001b[39;49mget_indexer(\n\u001b[1;32m   3517\u001b[0m             target, method\u001b[39m=\u001b[39;49mmethod, limit\u001b[39m=\u001b[39;49mlimit, tolerance\u001b[39m=\u001b[39;49mtolerance\n\u001b[1;32m   3518\u001b[0m         )\n\u001b[1;32m   3519\u001b[0m     \u001b[39melse\u001b[39;00m:\n\u001b[1;32m   3520\u001b[0m         \u001b[39mif\u001b[39;00m method \u001b[39mis\u001b[39;00m \u001b[39mnot\u001b[39;00m \u001b[39mNone\u001b[39;00m \u001b[39mor\u001b[39;00m limit \u001b[39mis\u001b[39;00m \u001b[39mnot\u001b[39;00m \u001b[39mNone\u001b[39;00m:\n",
      "File \u001b[0;32m/opt/anaconda3/lib/python3.8/site-packages/pandas/core/indexes/base.py:3191\u001b[0m, in \u001b[0;36mIndex.get_indexer\u001b[0;34m(self, target, method, limit, tolerance)\u001b[0m\n\u001b[1;32m   3185\u001b[0m     \u001b[39mif\u001b[39;00m limit \u001b[39mis\u001b[39;00m \u001b[39mnot\u001b[39;00m \u001b[39mNone\u001b[39;00m:\n\u001b[1;32m   3186\u001b[0m         \u001b[39mraise\u001b[39;00m \u001b[39mValueError\u001b[39;00m(\n\u001b[1;32m   3187\u001b[0m             \u001b[39m\"\u001b[39m\u001b[39mlimit argument only valid if doing pad, \u001b[39m\u001b[39m\"\u001b[39m\n\u001b[1;32m   3188\u001b[0m             \u001b[39m\"\u001b[39m\u001b[39mbackfill or nearest reindexing\u001b[39m\u001b[39m\"\u001b[39m\n\u001b[1;32m   3189\u001b[0m         )\n\u001b[0;32m-> 3191\u001b[0m     indexer \u001b[39m=\u001b[39m \u001b[39mself\u001b[39;49m\u001b[39m.\u001b[39;49m_engine\u001b[39m.\u001b[39;49mget_indexer(target\u001b[39m.\u001b[39;49m_get_engine_target())\n\u001b[1;32m   3193\u001b[0m \u001b[39mreturn\u001b[39;00m ensure_platform_int(indexer)\n",
      "File \u001b[0;32mpandas/_libs/index.pyx:258\u001b[0m, in \u001b[0;36mpandas._libs.index.IndexEngine.get_indexer\u001b[0;34m()\u001b[0m\n",
      "File \u001b[0;32mpandas/_libs/hashtable_class_helper.pxi:4611\u001b[0m, in \u001b[0;36mpandas._libs.hashtable.PyObjectHashTable.lookup\u001b[0;34m()\u001b[0m\n",
      "File \u001b[0;32m/opt/anaconda3/lib/python3.8/site-packages/numpy/core/_asarray.py:23\u001b[0m, in \u001b[0;36masarray\u001b[0;34m(a, dtype, order, like)\u001b[0m\n\u001b[1;32m     19\u001b[0m \u001b[39mdef\u001b[39;00m \u001b[39m_asarray_dispatcher\u001b[39m(a, dtype\u001b[39m=\u001b[39m\u001b[39mNone\u001b[39;00m, order\u001b[39m=\u001b[39m\u001b[39mNone\u001b[39;00m, \u001b[39m*\u001b[39m, like\u001b[39m=\u001b[39m\u001b[39mNone\u001b[39;00m):\n\u001b[1;32m     20\u001b[0m     \u001b[39mreturn\u001b[39;00m (like,)\n\u001b[0;32m---> 23\u001b[0m \u001b[39m@set_array_function_like_doc\u001b[39m\n\u001b[1;32m     24\u001b[0m \u001b[39m@set_module\u001b[39m(\u001b[39m'\u001b[39m\u001b[39mnumpy\u001b[39m\u001b[39m'\u001b[39m)\n\u001b[1;32m     25\u001b[0m \u001b[39mdef\u001b[39;00m \u001b[39masarray\u001b[39m(a, dtype\u001b[39m=\u001b[39m\u001b[39mNone\u001b[39;00m, order\u001b[39m=\u001b[39m\u001b[39mNone\u001b[39;00m, \u001b[39m*\u001b[39m, like\u001b[39m=\u001b[39m\u001b[39mNone\u001b[39;00m):\n\u001b[1;32m     26\u001b[0m     \u001b[39m\"\"\"Convert the input to an array.\u001b[39;00m\n\u001b[1;32m     27\u001b[0m \n\u001b[1;32m     28\u001b[0m \u001b[39m    Parameters\u001b[39;00m\n\u001b[0;32m   (...)\u001b[0m\n\u001b[1;32m     97\u001b[0m \n\u001b[1;32m     98\u001b[0m \u001b[39m    \"\"\"\u001b[39;00m\n\u001b[1;32m     99\u001b[0m     \u001b[39mif\u001b[39;00m like \u001b[39mis\u001b[39;00m \u001b[39mnot\u001b[39;00m \u001b[39mNone\u001b[39;00m:\n",
      "\u001b[0;31mKeyboardInterrupt\u001b[0m: "
     ]
    }
   ],
   "source": [
    "plotly_month_keyword(2021)"
   ]
  }
 ],
 "metadata": {
  "kernelspec": {
   "display_name": "Python 3.8.8 ('base')",
   "language": "python",
   "name": "python3"
  },
  "language_info": {
   "codemirror_mode": {
    "name": "ipython",
    "version": 3
   },
   "file_extension": ".py",
   "mimetype": "text/x-python",
   "name": "python",
   "nbconvert_exporter": "python",
   "pygments_lexer": "ipython3",
   "version": "3.8.8"
  },
  "orig_nbformat": 4,
  "vscode": {
   "interpreter": {
    "hash": "40d3a090f54c6569ab1632332b64b2c03c39dcf918b08424e98f38b5ae0af88f"
   }
  }
 },
 "nbformat": 4,
 "nbformat_minor": 2
}
