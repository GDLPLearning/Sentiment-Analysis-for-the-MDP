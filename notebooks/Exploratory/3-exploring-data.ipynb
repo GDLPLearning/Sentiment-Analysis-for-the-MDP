{
 "cells": [
  {
   "cell_type": "code",
   "execution_count": 1,
   "metadata": {},
   "outputs": [
    {
     "name": "stderr",
     "output_type": "stream",
     "text": [
      "[nltk_data] Downloading package punkt to\n",
      "[nltk_data]     /Users/gustavovergara238/nltk_data...\n",
      "[nltk_data]   Package punkt is already up-to-date!\n",
      "[nltk_data] Downloading package stopwords to\n",
      "[nltk_data]     /Users/gustavovergara238/nltk_data...\n",
      "[nltk_data]   Package stopwords is already up-to-date!\n"
     ]
    }
   ],
   "source": [
    "# libraries to describe de data\n",
    "\n",
    "import pandas as pd\n",
    "import numpy as np\n",
    "import matplotlib.pyplot as plt\n",
    "import nltk # imports the natural language toolkit\n",
    "nltk.download('punkt')\n",
    "nltk.download('stopwords')\n",
    "import string\n",
    "from nltk.stem import PorterStemmer \n",
    "import seaborn as sns\n",
    "from wordcloud import WordCloud\n",
    "from datetime import datetime\n",
    "from PIL import Image\n",
    "from nltk.probability import FreqDist\n",
    "\n",
    "plt.style.use('ggplot')"
   ]
  },
  {
   "cell_type": "markdown",
   "metadata": {},
   "source": [
    "## Data understanding"
   ]
  },
  {
   "cell_type": "markdown",
   "metadata": {},
   "source": [
    "### EDA: Tweets 2019"
   ]
  },
  {
   "cell_type": "markdown",
   "metadata": {},
   "source": [
    "`Ideas:`\n",
    "1. Que describa el uso del dataset.\n",
    "2. Estadistica descriptiva del texto del tweet por `caracter` (mean, max y min). Descripción de la distribución.\n",
    "3. Estadistica descriptiva del texto del tweet por palabra (mean, max y min). Descripción de la distribución. Definir que es `palabra`.\n",
    "4. Comparación entre las dos distribuciones: La distribución de los caracteres es más angulosa a valores superiores a la mediana. Esto podría responder a que dentro del texto del tweet podemos encontrar cadenas de emoticonos. Este comportamiento es diferente al observar la distribucion de palabras. Es por eso el comportamiento suave y descendiente a partir del percentil 50.\n",
    "5. Seleccionar los tweets con dos palabras o menos."
   ]
  },
  {
   "cell_type": "code",
   "execution_count": 2,
   "metadata": {},
   "outputs": [],
   "source": [
    "df_tweets = pd.read_csv('data/2019.csv') # read the csv file"
   ]
  },
  {
   "cell_type": "code",
   "execution_count": 3,
   "metadata": {},
   "outputs": [
    {
     "data": {
      "text/plain": [
       "(17698, 9)"
      ]
     },
     "execution_count": 3,
     "metadata": {},
     "output_type": "execute_result"
    }
   ],
   "source": [
    "df_tweets.shape # shows the number of rows and columns"
   ]
  },
  {
   "cell_type": "code",
   "execution_count": 4,
   "metadata": {},
   "outputs": [
    {
     "name": "stdout",
     "output_type": "stream",
     "text": [
      "<class 'pandas.core.frame.DataFrame'>\n",
      "RangeIndex: 17698 entries, 0 to 17697\n",
      "Data columns (total 9 columns):\n",
      " #   Column           Non-Null Count  Dtype \n",
      "---  ------           --------------  ----- \n",
      " 0   full_text        17698 non-null  object\n",
      " 1   user             17698 non-null  object\n",
      " 2   location         17698 non-null  object\n",
      " 3   date             17698 non-null  object\n",
      " 4   tweet_id         17698 non-null  int64 \n",
      " 5   number_rt        17698 non-null  int64 \n",
      " 6   number_likes     17698 non-null  int64 \n",
      " 7   number_reply     17698 non-null  int64 \n",
      " 8   conversation_id  17698 non-null  int64 \n",
      "dtypes: int64(5), object(4)\n",
      "memory usage: 1.2+ MB\n"
     ]
    }
   ],
   "source": [
    "df_tweets.info() # shows the data types of each column"
   ]
  },
  {
   "cell_type": "code",
   "execution_count": 5,
   "metadata": {},
   "outputs": [
    {
     "data": {
      "text/html": [
       "<div>\n",
       "<style scoped>\n",
       "    .dataframe tbody tr th:only-of-type {\n",
       "        vertical-align: middle;\n",
       "    }\n",
       "\n",
       "    .dataframe tbody tr th {\n",
       "        vertical-align: top;\n",
       "    }\n",
       "\n",
       "    .dataframe thead th {\n",
       "        text-align: right;\n",
       "    }\n",
       "</style>\n",
       "<table border=\"1\" class=\"dataframe\">\n",
       "  <thead>\n",
       "    <tr style=\"text-align: right;\">\n",
       "      <th></th>\n",
       "      <th>tweet_id</th>\n",
       "      <th>number_rt</th>\n",
       "      <th>number_likes</th>\n",
       "      <th>number_reply</th>\n",
       "      <th>conversation_id</th>\n",
       "    </tr>\n",
       "  </thead>\n",
       "  <tbody>\n",
       "    <tr>\n",
       "      <th>count</th>\n",
       "      <td>1.769800e+04</td>\n",
       "      <td>17698.000000</td>\n",
       "      <td>17698.000000</td>\n",
       "      <td>17698.000000</td>\n",
       "      <td>1.769800e+04</td>\n",
       "    </tr>\n",
       "    <tr>\n",
       "      <th>mean</th>\n",
       "      <td>1.147017e+18</td>\n",
       "      <td>2.145101</td>\n",
       "      <td>7.685614</td>\n",
       "      <td>0.606848</td>\n",
       "      <td>1.146736e+18</td>\n",
       "    </tr>\n",
       "    <tr>\n",
       "      <th>std</th>\n",
       "      <td>3.824295e+16</td>\n",
       "      <td>25.705813</td>\n",
       "      <td>97.046305</td>\n",
       "      <td>7.947419</td>\n",
       "      <td>3.908216e+16</td>\n",
       "    </tr>\n",
       "    <tr>\n",
       "      <th>min</th>\n",
       "      <td>1.083115e+18</td>\n",
       "      <td>0.000000</td>\n",
       "      <td>0.000000</td>\n",
       "      <td>0.000000</td>\n",
       "      <td>6.265645e+17</td>\n",
       "    </tr>\n",
       "    <tr>\n",
       "      <th>25%</th>\n",
       "      <td>1.111778e+18</td>\n",
       "      <td>0.000000</td>\n",
       "      <td>0.000000</td>\n",
       "      <td>0.000000</td>\n",
       "      <td>1.111776e+18</td>\n",
       "    </tr>\n",
       "    <tr>\n",
       "      <th>50%</th>\n",
       "      <td>1.145119e+18</td>\n",
       "      <td>0.000000</td>\n",
       "      <td>0.000000</td>\n",
       "      <td>0.000000</td>\n",
       "      <td>1.145118e+18</td>\n",
       "    </tr>\n",
       "    <tr>\n",
       "      <th>75%</th>\n",
       "      <td>1.178459e+18</td>\n",
       "      <td>0.000000</td>\n",
       "      <td>2.000000</td>\n",
       "      <td>0.000000</td>\n",
       "      <td>1.178457e+18</td>\n",
       "    </tr>\n",
       "    <tr>\n",
       "      <th>max</th>\n",
       "      <td>1.244776e+18</td>\n",
       "      <td>1650.000000</td>\n",
       "      <td>6946.000000</td>\n",
       "      <td>794.000000</td>\n",
       "      <td>1.244776e+18</td>\n",
       "    </tr>\n",
       "  </tbody>\n",
       "</table>\n",
       "</div>"
      ],
      "text/plain": [
       "           tweet_id     number_rt  number_likes  number_reply  conversation_id\n",
       "count  1.769800e+04  17698.000000  17698.000000  17698.000000     1.769800e+04\n",
       "mean   1.147017e+18      2.145101      7.685614      0.606848     1.146736e+18\n",
       "std    3.824295e+16     25.705813     97.046305      7.947419     3.908216e+16\n",
       "min    1.083115e+18      0.000000      0.000000      0.000000     6.265645e+17\n",
       "25%    1.111778e+18      0.000000      0.000000      0.000000     1.111776e+18\n",
       "50%    1.145119e+18      0.000000      0.000000      0.000000     1.145118e+18\n",
       "75%    1.178459e+18      0.000000      2.000000      0.000000     1.178457e+18\n",
       "max    1.244776e+18   1650.000000   6946.000000    794.000000     1.244776e+18"
      ]
     },
     "execution_count": 5,
     "metadata": {},
     "output_type": "execute_result"
    }
   ],
   "source": [
    "df_tweets.describe() # shows the mean, std, min, max, etc. of each column"
   ]
  },
  {
   "cell_type": "markdown",
   "metadata": {},
   "source": [
    "#### Full text analysis variable"
   ]
  },
  {
   "cell_type": "code",
   "execution_count": 6,
   "metadata": {},
   "outputs": [
    {
     "data": {
      "text/plain": [
       "count    17698.000000\n",
       "mean       142.696293\n",
       "std         79.503198\n",
       "min          7.000000\n",
       "25%         77.000000\n",
       "50%        126.000000\n",
       "75%        208.000000\n",
       "max        689.000000\n",
       "Name: full_text, dtype: float64"
      ]
     },
     "execution_count": 6,
     "metadata": {},
     "output_type": "execute_result"
    }
   ],
   "source": [
    "df_tweets['full_text'].str.len().describe()"
   ]
  },
  {
   "cell_type": "markdown",
   "metadata": {},
   "source": [
    "In terms of tweet text length measured in characters, we found an average of 143 characters, a maximum of 689 characters and a minimum of 7 characters."
   ]
  },
  {
   "cell_type": "code",
   "execution_count": 3,
   "metadata": {},
   "outputs": [],
   "source": [
    "full_text_char = df_tweets['full_text'].str.len()"
   ]
  },
  {
   "cell_type": "code",
   "execution_count": 8,
   "metadata": {},
   "outputs": [
    {
     "name": "stdout",
     "output_type": "stream",
     "text": [
      "37.0\n",
      "77.0\n",
      "126.0\n",
      "208.0\n",
      "278.0\n"
     ]
    }
   ],
   "source": [
    "print(full_text_char.quantile(0.05))\n",
    "print(full_text_char.quantile(0.25))\n",
    "print(full_text_char.quantile(0.5))\n",
    "print(full_text_char.quantile(0.75))\n",
    "print(full_text_char.quantile(0.95))"
   ]
  },
  {
   "cell_type": "code",
   "execution_count": 9,
   "metadata": {},
   "outputs": [
    {
     "data": {
      "image/png": "[encoded data removed]",
      "text/plain": [
       "<Figure size 432x288 with 1 Axes>"
      ]
     },
     "metadata": {},
     "output_type": "display_data"
    }
   ],
   "source": [
    "fig, ax = plt.subplots(figsize = (6,4))\n",
    "\n",
    "\n",
    "# Plot\n",
    "    # Plot histogram\n",
    "full_text_char.plot(kind = \"hist\", density = True, alpha = 0.65, bins = 15,color='#5BC0BE') # change density to true, because KDE uses density\n",
    "\n",
    "full_text_char.plot(kind = \"kde\",color='#1C2541')\n",
    "\n",
    "# Calculate percentiles\n",
    "quant_5, quant_25, quant_50, quant_75, quant_95 = full_text_char.quantile(0.05), full_text_char.quantile(0.25), full_text_char.quantile(0.5), full_text_char.quantile(0.75), full_text_char.quantile(0.95)\n",
    "# [quantile, opacity, length]\n",
    "quants = [[quant_5, 0.6, 0.16], [quant_25, 0.8, 0.26], [quant_50, 1, 0.36],  [quant_75, 0.8, 0.46], [quant_95, 0.6, 0.56]]\n",
    "# Plot the lines with a loop\n",
    "for i in quants:\n",
    "    ax.axvline(i[0], alpha = i[1], ymax = i[2], linestyle = \":\")\n",
    "# Text on the lines\n",
    "ax.text(quant_5-10, 0.001, \"5th\", size = 10, alpha = 0.8)\n",
    "ax.text(quant_25-13, 0.0017, \"25th\", size = 11, alpha = 0.85)\n",
    "ax.text(quant_50-13, 0.0024, \"50th\", size = 12, alpha = 1)\n",
    "ax.text(quant_75-13, 0.0033, \"75th\", size = 11, alpha = 0.85)\n",
    "ax.text(quant_95-25, 0.0036, \"95th Percentile\", size = 10, alpha =.8) \n",
    "\n",
    "\n",
    "# X #\n",
    "ax.set_xlabel(\"Character Length\",size = 10) \n",
    "ax.set_xlim(0, 700)\n",
    "\n",
    "# Y #\n",
    "#ax.set_ylim(0, 1)\n",
    "\n",
    "# Overall #\n",
    "#ax.set_title(\"Character Length Distribution\",size=14, pad=20)\n",
    "\n",
    "# Remove y ticks\n",
    "ax.set_yticks([])\n",
    "    # Relabel the axis as \"Frequency\"\n",
    "ax.set_ylabel(\"\")\n",
    "\n",
    "# Later in the code\n",
    "ax.grid(False)\n",
    "ax.set_facecolor('xkcd:white')\n",
    "\n",
    "plt.style.use(\"bmh\") \n",
    "\n",
    "# Remove ticks and spines\n",
    "ax.tick_params(left = False, bottom = False)\n",
    "for ax, spine in ax.spines.items():\n",
    "    spine.set_visible(False)\n",
    "\n",
    "   \n",
    "plt.show()"
   ]
  },
  {
   "cell_type": "markdown",
   "metadata": {},
   "source": [
    "According to the graph above, we can find that the distribution is skewed to the right. There are more sensitive or controversial topics that require a greater extension of characters. For this, we move on to analyze the words within the tweet."
   ]
  },
  {
   "cell_type": "code",
   "execution_count": 10,
   "metadata": {},
   "outputs": [],
   "source": [
    "full_text_words=df_tweets['full_text'].str.split().str.len()"
   ]
  },
  {
   "cell_type": "code",
   "execution_count": 11,
   "metadata": {},
   "outputs": [
    {
     "data": {
      "text/plain": [
       "count    17698.000000\n",
       "mean        21.930105\n",
       "std         12.619929\n",
       "min          1.000000\n",
       "25%         12.000000\n",
       "50%         19.000000\n",
       "75%         31.000000\n",
       "max         75.000000\n",
       "Name: full_text, dtype: float64"
      ]
     },
     "execution_count": 11,
     "metadata": {},
     "output_type": "execute_result"
    }
   ],
   "source": [
    "full_text_words.describe()"
   ]
  },
  {
   "cell_type": "code",
   "execution_count": 12,
   "metadata": {},
   "outputs": [
    {
     "data": {
      "image/png": "[encoded data removed]",
      "text/plain": [
       "<Figure size 432x288 with 1 Axes>"
      ]
     },
     "metadata": {},
     "output_type": "display_data"
    }
   ],
   "source": [
    "fig, ax = plt.subplots(figsize = (6,4))\n",
    "\n",
    "\n",
    "# Plot\n",
    "    # Plot histogram\n",
    "full_text_words.plot(kind = \"hist\", density = True, alpha = 0.65, bins = 15,color='#5BC0BE') # change density to true, because KDE uses density\n",
    "#5BC0BE\n",
    "#6FFFE9\n",
    "#CCC9DC\n",
    "\n",
    "#kde\n",
    "full_text_words.plot(kind = \"kde\",color='#1C2541')\n",
    "#0C1821\n",
    "#1B2A41\n",
    "#1C2541\n",
    "\n",
    "# Calculate percentiles\n",
    "quant_5, quant_25, quant_50, quant_75, quant_95 = full_text_words.quantile(0.05), full_text_words.quantile(0.25), full_text_words.quantile(0.5), full_text_words.quantile(0.75), full_text_words.quantile(0.95)\n",
    "# [quantile, opacity, length]\n",
    "quants = [[quant_5, 0.6, 0.16], [quant_25, 0.8, 0.26], [quant_50, 1, 0.36],  [quant_75, 0.8, 0.46], [quant_95, 0.6, 0.56]]\n",
    "# Plot the lines with a loop\n",
    "for i in quants:\n",
    "    ax.axvline(i[0], alpha = i[1], ymax = i[2], linestyle = \":\")\n",
    "# Text on the lines\n",
    "ax.text(quant_5-1, 0.007, \"5th\", size = 10, alpha = 0.8)\n",
    "ax.text(quant_25-1, 0.011, \"25th\", size = 11, alpha = 0.85)\n",
    "ax.text(quant_50-1, 0.016, \"50th\", size = 12, alpha = 1)\n",
    "ax.text(quant_75-1, 0.020, \"75th\", size = 11, alpha = 0.85)\n",
    "ax.text(quant_95-2, 0.024, \"95th Percentile\", size = 10, alpha =.8) \n",
    "\n",
    "\n",
    "# X #\n",
    "ax.set_xlabel(\"Word Length\",size = 10) \n",
    "ax.set_xlim(0, 75)\n",
    "\n",
    "# Y #\n",
    "#ax.set_ylim(0, 1)\n",
    "\n",
    "# Overall #\n",
    "#ax.set_title(\"Character Length Distribution\",size=14, pad=20)\n",
    "\n",
    "# Remove y ticks\n",
    "ax.set_yticks([])\n",
    "    # Relabel the axis as \"Frequency\"\n",
    "ax.set_ylabel(\"\")\n",
    "\n",
    "# Later in the code\n",
    "ax.grid(False)\n",
    "ax.set_facecolor('xkcd:white')\n",
    "\n",
    "plt.style.use(\"bmh\") \n",
    "\n",
    "# Remove ticks and spines\n",
    "ax.tick_params(left = False, bottom = False)\n",
    "for ax, spine in ax.spines.items():\n",
    "    spine.set_visible(False)\n",
    "\n",
    "   \n",
    "plt.show()"
   ]
  },
  {
   "cell_type": "code",
   "execution_count": 11,
   "metadata": {},
   "outputs": [
    {
     "data": {
      "text/plain": [
       "<AxesSubplot:ylabel='full_text'>"
      ]
     },
     "execution_count": 11,
     "metadata": {},
     "output_type": "execute_result"
    },
    {
     "data": {
      "image/png": "[encoded data removed]",
      "text/plain": [
       "<Figure size 432x288 with 1 Axes>"
      ]
     },
     "metadata": {},
     "output_type": "display_data"
    }
   ],
   "source": [
    "sns.boxplot(y =full_text_words)"
   ]
  },
  {
   "cell_type": "markdown",
   "metadata": {},
   "source": [
    "In terms of tweet text length measured in words, we found an average of 22 words, a maximum of 75 words and a minimum of 1 word. "
   ]
  },
  {
   "cell_type": "markdown",
   "metadata": {},
   "source": [
    "We observe the same behavior when we look at the distribution in terms of words. We will proceed to review the tweets that contain the minimum and maximum number of words."
   ]
  },
  {
   "cell_type": "code",
   "execution_count": 13,
   "metadata": {},
   "outputs": [],
   "source": [
    "data=df_tweets.copy() # copy the dataframe\n",
    "data['num_words']=df_tweets['full_text'].str.split().str.len() # create a new column with the number of words in each tweet\n",
    "data['num_char']=df_tweets['full_text'].str.len() # create a new column with the number of characters in each tweet"
   ]
  },
  {
   "cell_type": "code",
   "execution_count": 14,
   "metadata": {},
   "outputs": [
    {
     "data": {
      "text/html": [
       "<div>\n",
       "<style scoped>\n",
       "    .dataframe tbody tr th:only-of-type {\n",
       "        vertical-align: middle;\n",
       "    }\n",
       "\n",
       "    .dataframe tbody tr th {\n",
       "        vertical-align: top;\n",
       "    }\n",
       "\n",
       "    .dataframe thead th {\n",
       "        text-align: right;\n",
       "    }\n",
       "</style>\n",
       "<table border=\"1\" class=\"dataframe\">\n",
       "  <thead>\n",
       "    <tr style=\"text-align: right;\">\n",
       "      <th></th>\n",
       "      <th>index</th>\n",
       "      <th>num_words</th>\n",
       "    </tr>\n",
       "  </thead>\n",
       "  <tbody>\n",
       "    <tr>\n",
       "      <th>64</th>\n",
       "      <td>75</td>\n",
       "      <td>1</td>\n",
       "    </tr>\n",
       "    <tr>\n",
       "      <th>63</th>\n",
       "      <td>69</td>\n",
       "      <td>1</td>\n",
       "    </tr>\n",
       "    <tr>\n",
       "      <th>65</th>\n",
       "      <td>67</td>\n",
       "      <td>1</td>\n",
       "    </tr>\n",
       "    <tr>\n",
       "      <th>62</th>\n",
       "      <td>65</td>\n",
       "      <td>1</td>\n",
       "    </tr>\n",
       "    <tr>\n",
       "      <th>59</th>\n",
       "      <td>62</td>\n",
       "      <td>3</td>\n",
       "    </tr>\n",
       "    <tr>\n",
       "      <th>...</th>\n",
       "      <td>...</td>\n",
       "      <td>...</td>\n",
       "    </tr>\n",
       "    <tr>\n",
       "      <th>24</th>\n",
       "      <td>5</td>\n",
       "      <td>323</td>\n",
       "    </tr>\n",
       "    <tr>\n",
       "      <th>31</th>\n",
       "      <td>4</td>\n",
       "      <td>277</td>\n",
       "    </tr>\n",
       "    <tr>\n",
       "      <th>42</th>\n",
       "      <td>3</td>\n",
       "      <td>163</td>\n",
       "    </tr>\n",
       "    <tr>\n",
       "      <th>46</th>\n",
       "      <td>2</td>\n",
       "      <td>123</td>\n",
       "    </tr>\n",
       "    <tr>\n",
       "      <th>54</th>\n",
       "      <td>1</td>\n",
       "      <td>20</td>\n",
       "    </tr>\n",
       "  </tbody>\n",
       "</table>\n",
       "<p>66 rows × 2 columns</p>\n",
       "</div>"
      ],
      "text/plain": [
       "    index  num_words\n",
       "64     75          1\n",
       "63     69          1\n",
       "65     67          1\n",
       "62     65          1\n",
       "59     62          3\n",
       "..    ...        ...\n",
       "24      5        323\n",
       "31      4        277\n",
       "42      3        163\n",
       "46      2        123\n",
       "54      1         20\n",
       "\n",
       "[66 rows x 2 columns]"
      ]
     },
     "execution_count": 14,
     "metadata": {},
     "output_type": "execute_result"
    }
   ],
   "source": [
    "data['num_words'].value_counts().reset_index().sort_values(by='index',ascending=False) # shows the number of words in each tweet"
   ]
  },
  {
   "cell_type": "code",
   "execution_count": 15,
   "metadata": {},
   "outputs": [
    {
     "data": {
      "text/html": [
       "<div>\n",
       "<style scoped>\n",
       "    .dataframe tbody tr th:only-of-type {\n",
       "        vertical-align: middle;\n",
       "    }\n",
       "\n",
       "    .dataframe tbody tr th {\n",
       "        vertical-align: top;\n",
       "    }\n",
       "\n",
       "    .dataframe thead th {\n",
       "        text-align: right;\n",
       "    }\n",
       "</style>\n",
       "<table border=\"1\" class=\"dataframe\">\n",
       "  <thead>\n",
       "    <tr style=\"text-align: right;\">\n",
       "      <th></th>\n",
       "      <th>full_text</th>\n",
       "      <th>num_words</th>\n",
       "    </tr>\n",
       "  </thead>\n",
       "  <tbody>\n",
       "    <tr>\n",
       "      <th>8218</th>\n",
       "      <td>@from__oz Medellín</td>\n",
       "      <td>2</td>\n",
       "    </tr>\n",
       "    <tr>\n",
       "      <th>3254</th>\n",
       "      <td>@SaqueLargoWin Medellín</td>\n",
       "      <td>2</td>\n",
       "    </tr>\n",
       "    <tr>\n",
       "      <th>7731</th>\n",
       "      <td>@Ricardo_Arjona Medellín</td>\n",
       "      <td>2</td>\n",
       "    </tr>\n",
       "    <tr>\n",
       "      <th>9375</th>\n",
       "      <td>@BillieEilishCOL Medellín</td>\n",
       "      <td>2</td>\n",
       "    </tr>\n",
       "    <tr>\n",
       "      <th>10915</th>\n",
       "      <td>Medellín 😍</td>\n",
       "      <td>2</td>\n",
       "    </tr>\n",
       "    <tr>\n",
       "      <th>3327</th>\n",
       "      <td>@SaqueLargoWin Medellín</td>\n",
       "      <td>2</td>\n",
       "    </tr>\n",
       "    <tr>\n",
       "      <th>10308</th>\n",
       "      <td>Medellín!!!! 😘</td>\n",
       "      <td>2</td>\n",
       "    </tr>\n",
       "    <tr>\n",
       "      <th>1537</th>\n",
       "      <td>Medellín, Extremadura</td>\n",
       "      <td>2</td>\n",
       "    </tr>\n",
       "    <tr>\n",
       "      <th>11764</th>\n",
       "      <td>Medellín.</td>\n",
       "      <td>1</td>\n",
       "    </tr>\n",
       "    <tr>\n",
       "      <th>11466</th>\n",
       "      <td>😍 Medellín</td>\n",
       "      <td>2</td>\n",
       "    </tr>\n",
       "  </tbody>\n",
       "</table>\n",
       "</div>"
      ],
      "text/plain": [
       "                        full_text  num_words\n",
       "8218           @from__oz Medellín          2\n",
       "3254      @SaqueLargoWin Medellín          2\n",
       "7731     @Ricardo_Arjona Medellín          2\n",
       "9375    @BillieEilishCOL Medellín          2\n",
       "10915                  Medellín 😍          2\n",
       "3327      @SaqueLargoWin Medellín          2\n",
       "10308              Medellín!!!! 😘          2\n",
       "1537        Medellín, Extremadura          2\n",
       "11764                   Medellín.          1\n",
       "11466                  😍 Medellín          2"
      ]
     },
     "execution_count": 15,
     "metadata": {},
     "output_type": "execute_result"
    }
   ],
   "source": [
    "data[['full_text','num_words']][data['num_words']<=2].sort_values(by='num_words').sample(10, random_state=6)"
   ]
  },
  {
   "cell_type": "code",
   "execution_count": 16,
   "metadata": {},
   "outputs": [
    {
     "data": {
      "text/html": [
       "<div>\n",
       "<style scoped>\n",
       "    .dataframe tbody tr th:only-of-type {\n",
       "        vertical-align: middle;\n",
       "    }\n",
       "\n",
       "    .dataframe tbody tr th {\n",
       "        vertical-align: top;\n",
       "    }\n",
       "\n",
       "    .dataframe thead th {\n",
       "        text-align: right;\n",
       "    }\n",
       "</style>\n",
       "<table border=\"1\" class=\"dataframe\">\n",
       "  <thead>\n",
       "    <tr style=\"text-align: right;\">\n",
       "      <th></th>\n",
       "      <th>full_text</th>\n",
       "      <th>num_words</th>\n",
       "    </tr>\n",
       "  </thead>\n",
       "  <tbody>\n",
       "    <tr>\n",
       "      <th>3310</th>\n",
       "      <td>#CopaCompartida Medellín</td>\n",
       "      <td>2</td>\n",
       "    </tr>\n",
       "    <tr>\n",
       "      <th>2183</th>\n",
       "      <td>Vamos?</td>\n",
       "      <td>1</td>\n",
       "    </tr>\n",
       "    <tr>\n",
       "      <th>15712</th>\n",
       "      <td>@TuCoquetitaFav Medellín!!!!!</td>\n",
       "      <td>2</td>\n",
       "    </tr>\n",
       "    <tr>\n",
       "      <th>14275</th>\n",
       "      <td>en Medellín</td>\n",
       "      <td>2</td>\n",
       "    </tr>\n",
       "    <tr>\n",
       "      <th>6950</th>\n",
       "      <td>Medellín, Colombia</td>\n",
       "      <td>2</td>\n",
       "    </tr>\n",
       "    <tr>\n",
       "      <th>9929</th>\n",
       "      <td>*Aranjuez, Medellín</td>\n",
       "      <td>2</td>\n",
       "    </tr>\n",
       "    <tr>\n",
       "      <th>1442</th>\n",
       "      <td>@nicolekgam MEDELLÍN</td>\n",
       "      <td>2</td>\n",
       "    </tr>\n",
       "    <tr>\n",
       "      <th>5903</th>\n",
       "      <td>Medellín</td>\n",
       "      <td>1</td>\n",
       "    </tr>\n",
       "    <tr>\n",
       "      <th>10299</th>\n",
       "      <td>Medellín 😍</td>\n",
       "      <td>2</td>\n",
       "    </tr>\n",
       "    <tr>\n",
       "      <th>16037</th>\n",
       "      <td>Medellín</td>\n",
       "      <td>1</td>\n",
       "    </tr>\n",
       "  </tbody>\n",
       "</table>\n",
       "</div>"
      ],
      "text/plain": [
       "                            full_text  num_words\n",
       "3310         #CopaCompartida Medellín          2\n",
       "2183                           Vamos?          1\n",
       "15712   @TuCoquetitaFav Medellín!!!!!          2\n",
       "14275                     en Medellín          2\n",
       "6950               Medellín, Colombia          2\n",
       "9929              *Aranjuez, Medellín          2\n",
       "1442             @nicolekgam MEDELLÍN          2\n",
       "5903                         Medellín          1\n",
       "10299                      Medellín 😍          2\n",
       "16037                        Medellín          1"
      ]
     },
     "execution_count": 16,
     "metadata": {},
     "output_type": "execute_result"
    }
   ],
   "source": [
    "data[['full_text','num_words']][data['num_words']<=2].sort_values(by='num_words').sample(10) # shows the tweets with 75 words or 1 word"
   ]
  },
  {
   "cell_type": "markdown",
   "metadata": {},
   "source": [
    "We can observe how the tweets with fewer words (2 or less), the word \"Medellin\" is the most recurrent. This is because it is our main search topic. In the case of tweets with exactly two words, \"Medellin\" appears accompanied by a mention, an emoticon, a year, among others."
   ]
  },
  {
   "cell_type": "code",
   "execution_count": 17,
   "metadata": {},
   "outputs": [
    {
     "data": {
      "text/plain": [
       "' @Alex881490101 @Ceballitos1 @ramirezdo @Angeljosew1 @RadicalEd @lilipiedadvalle @LAPacifiKA @LeilaChujfi @SerHRodriguez @ANNALVAREZG @MiremosaVer @juancadelgado @gener_usuga @MonoMeLlaman @edywfernandez @JAtecor @merv59 @JUANCAELBROKY @ClavijoAndres83 @Marianiniecheve @JohaFuentes @gurozu @MauricioGalin11 @LaMamert4 @DIDASKALOSW @InTweetiva @lbertoortiz @mauronuma @DanielSamperO @Julianaramirez6 @AlvaroUribeVel Esos uribeños que reciclan todo lo que dice su amo me hacen reír mucho. Es como hablar con un lorito. «Angelito quiere cacao» jajajajajaja Debería seguir lavando baños y no perder el tiempo defendiendo a un narcoterrorista excartel de Medellín. Un abrazo a todos!'"
      ]
     },
     "execution_count": 17,
     "metadata": {},
     "output_type": "execute_result"
    }
   ],
   "source": [
    "data.loc[8374,'full_text'] # shows the tweet with the index 8374"
   ]
  },
  {
   "cell_type": "code",
   "execution_count": 18,
   "metadata": {},
   "outputs": [],
   "source": [
    "list=[65,67,69,75]\n",
    "data2=data[['tweet_id','full_text','num_words']][(data['num_words']).isin(list)].sort_values(by='num_words') # shows the tweets with the words 65, 67, 69"
   ]
  },
  {
   "cell_type": "code",
   "execution_count": 19,
   "metadata": {},
   "outputs": [
    {
     "data": {
      "text/html": [
       "<div>\n",
       "<style scoped>\n",
       "    .dataframe tbody tr th:only-of-type {\n",
       "        vertical-align: middle;\n",
       "    }\n",
       "\n",
       "    .dataframe tbody tr th {\n",
       "        vertical-align: top;\n",
       "    }\n",
       "\n",
       "    .dataframe thead th {\n",
       "        text-align: right;\n",
       "    }\n",
       "</style>\n",
       "<table border=\"1\" class=\"dataframe\">\n",
       "  <thead>\n",
       "    <tr style=\"text-align: right;\">\n",
       "      <th></th>\n",
       "      <th>tweet_id</th>\n",
       "      <th>full_text</th>\n",
       "      <th>num_words</th>\n",
       "    </tr>\n",
       "  </thead>\n",
       "  <tbody>\n",
       "    <tr>\n",
       "      <th>15969</th>\n",
       "      <td>1122991773259841536</td>\n",
       "      <td>@baloncentralofi @MillosDColombia @Millonario...</td>\n",
       "      <td>65</td>\n",
       "    </tr>\n",
       "    <tr>\n",
       "      <th>3989</th>\n",
       "      <td>1126634066302984192</td>\n",
       "      <td>@transmetrobaq @UTSistur @pabvic1 @AMBQuilla ...</td>\n",
       "      <td>67</td>\n",
       "    </tr>\n",
       "    <tr>\n",
       "      <th>4809</th>\n",
       "      <td>1130237922073038849</td>\n",
       "      <td>@HerliRodriguez2 @CarrillonavasG @indignada20...</td>\n",
       "      <td>69</td>\n",
       "    </tr>\n",
       "    <tr>\n",
       "      <th>8374</th>\n",
       "      <td>1174791915809792000</td>\n",
       "      <td>@Alex881490101 @Ceballitos1 @ramirezdo @Angel...</td>\n",
       "      <td>75</td>\n",
       "    </tr>\n",
       "  </tbody>\n",
       "</table>\n",
       "</div>"
      ],
      "text/plain": [
       "                  tweet_id                                          full_text  \\\n",
       "15969  1122991773259841536   @baloncentralofi @MillosDColombia @Millonario...   \n",
       "3989   1126634066302984192   @transmetrobaq @UTSistur @pabvic1 @AMBQuilla ...   \n",
       "4809   1130237922073038849   @HerliRodriguez2 @CarrillonavasG @indignada20...   \n",
       "8374   1174791915809792000   @Alex881490101 @Ceballitos1 @ramirezdo @Angel...   \n",
       "\n",
       "       num_words  \n",
       "15969         65  \n",
       "3989          67  \n",
       "4809          69  \n",
       "8374          75  "
      ]
     },
     "execution_count": 19,
     "metadata": {},
     "output_type": "execute_result"
    }
   ],
   "source": [
    "data2"
   ]
  },
  {
   "cell_type": "code",
   "execution_count": 20,
   "metadata": {},
   "outputs": [
    {
     "name": "stdout",
     "output_type": "stream",
     "text": [
      "1122991773259841536 \n",
      "-------------------- 1126634066302984192 \n",
      "-------------------- 1130237922073038849 \n",
      "-------------------- 1174791915809792000\n"
     ]
    }
   ],
   "source": [
    "print(data2.iloc[0,0],\"\\n\"+\"-\"*20,data2.iloc[1,0],\"\\n\"+\"-\"*20,data2.iloc[2,0],\"\\n\"+\"-\"*20,data2.iloc[3,0])"
   ]
  },
  {
   "cell_type": "markdown",
   "metadata": {},
   "source": [
    "When looking at the texts with greater word length, we highlight two points: \n",
    "1. The large use of mentions using the at-word extends the length of the tweet and would not provide relevant information for sentiment analysis so deletion could be considered.\n",
    "2. Something to keep in mind when including Medellin in the text of the tweet is that this may not only refer to the city, but also to the soccer team \"Deportivo Independiente Medellin\" so we must know how to differentiate this if we want to draw conclusions.\n",
    "3. The tweets with fewer words associate their text with the word \"Medellin\" accompanied by something else, this alone would not be relevant for our analysis so it could be given a special treatment. "
   ]
  },
  {
   "cell_type": "markdown",
   "metadata": {},
   "source": [
    "#### Number of likes"
   ]
  },
  {
   "cell_type": "code",
   "execution_count": 21,
   "metadata": {},
   "outputs": [
    {
     "data": {
      "text/html": [
       "<div>\n",
       "<style scoped>\n",
       "    .dataframe tbody tr th:only-of-type {\n",
       "        vertical-align: middle;\n",
       "    }\n",
       "\n",
       "    .dataframe tbody tr th {\n",
       "        vertical-align: top;\n",
       "    }\n",
       "\n",
       "    .dataframe thead th {\n",
       "        text-align: right;\n",
       "    }\n",
       "</style>\n",
       "<table border=\"1\" class=\"dataframe\">\n",
       "  <thead>\n",
       "    <tr style=\"text-align: right;\">\n",
       "      <th></th>\n",
       "      <th>full_text</th>\n",
       "      <th>user</th>\n",
       "      <th>location</th>\n",
       "      <th>date</th>\n",
       "      <th>tweet_id</th>\n",
       "      <th>number_rt</th>\n",
       "      <th>number_likes</th>\n",
       "      <th>number_reply</th>\n",
       "      <th>conversation_id</th>\n",
       "      <th>num_words</th>\n",
       "      <th>num_char</th>\n",
       "    </tr>\n",
       "  </thead>\n",
       "  <tbody>\n",
       "    <tr>\n",
       "      <th>11050</th>\n",
       "      <td>Alejandro Gómez @AlejandroGL2014 es médico y ...</td>\n",
       "      <td>ClaudiaLopez</td>\n",
       "      <td>Bogotá, D.C., Colombia</td>\n",
       "      <td>2019-12-09 22:50:46+00:00</td>\n",
       "      <td>1204171557049901058</td>\n",
       "      <td>821</td>\n",
       "      <td>6946</td>\n",
       "      <td>369</td>\n",
       "      <td>1204171557049901058</td>\n",
       "      <td>45</td>\n",
       "      <td>280</td>\n",
       "    </tr>\n",
       "    <tr>\n",
       "      <th>16498</th>\n",
       "      <td>Miren la diferencia entre una estación de Tra...</td>\n",
       "      <td>luismorales0621</td>\n",
       "      <td>Bogotá, D.C., Colombia</td>\n",
       "      <td>2019-03-29 22:35:48+00:00</td>\n",
       "      <td>1111758887592648705</td>\n",
       "      <td>1650</td>\n",
       "      <td>4283</td>\n",
       "      <td>794</td>\n",
       "      <td>1111758887592648705</td>\n",
       "      <td>28</td>\n",
       "      <td>174</td>\n",
       "    </tr>\n",
       "    <tr>\n",
       "      <th>14388</th>\n",
       "      <td>Nuestra respuesta ante el odio y la homofobia...</td>\n",
       "      <td>justgerson</td>\n",
       "      <td>Sahagún, Colombia</td>\n",
       "      <td>2019-06-29 23:31:59+00:00</td>\n",
       "      <td>1145112709794533377</td>\n",
       "      <td>781</td>\n",
       "      <td>3953</td>\n",
       "      <td>87</td>\n",
       "      <td>1145112709794533377</td>\n",
       "      <td>18</td>\n",
       "      <td>113</td>\n",
       "    </tr>\n",
       "    <tr>\n",
       "      <th>1278</th>\n",
       "      <td>\"Todos debemos tratarnos con amor\": el padre ...</td>\n",
       "      <td>NoticiasRCN</td>\n",
       "      <td>Santa Marta, Colombia</td>\n",
       "      <td>2019-02-09 22:03:19+00:00</td>\n",
       "      <td>1094356094913335296</td>\n",
       "      <td>1129</td>\n",
       "      <td>3934</td>\n",
       "      <td>86</td>\n",
       "      <td>1094356094913335296</td>\n",
       "      <td>21</td>\n",
       "      <td>134</td>\n",
       "    </tr>\n",
       "    <tr>\n",
       "      <th>14266</th>\n",
       "      <td>Quiero una camisa con esta foto. Pareja de ha...</td>\n",
       "      <td>JulianaBoteroM</td>\n",
       "      <td>Sahagún, Colombia</td>\n",
       "      <td>2019-06-29 23:55:47+00:00</td>\n",
       "      <td>1145118695980773382</td>\n",
       "      <td>297</td>\n",
       "      <td>3355</td>\n",
       "      <td>21</td>\n",
       "      <td>1145118695980773382</td>\n",
       "      <td>17</td>\n",
       "      <td>100</td>\n",
       "    </tr>\n",
       "    <tr>\n",
       "      <th>...</th>\n",
       "      <td>...</td>\n",
       "      <td>...</td>\n",
       "      <td>...</td>\n",
       "      <td>...</td>\n",
       "      <td>...</td>\n",
       "      <td>...</td>\n",
       "      <td>...</td>\n",
       "      <td>...</td>\n",
       "      <td>...</td>\n",
       "      <td>...</td>\n",
       "      <td>...</td>\n",
       "    </tr>\n",
       "    <tr>\n",
       "      <th>7490</th>\n",
       "      <td>@AlvaroUribeVel Ese al que no le gustan los t...</td>\n",
       "      <td>johnferreirac</td>\n",
       "      <td>Medellín, Colombia</td>\n",
       "      <td>2019-08-19 23:15:13+00:00</td>\n",
       "      <td>1163590271717838848</td>\n",
       "      <td>0</td>\n",
       "      <td>0</td>\n",
       "      <td>0</td>\n",
       "      <td>1163557394393305088</td>\n",
       "      <td>14</td>\n",
       "      <td>81</td>\n",
       "    </tr>\n",
       "    <tr>\n",
       "      <th>7492</th>\n",
       "      <td>Esta Sonando....Madonna - Medellín...... en e...</td>\n",
       "      <td>DjNuNRadio</td>\n",
       "      <td>Medellín, Colombia</td>\n",
       "      <td>2019-08-19 23:14:53+00:00</td>\n",
       "      <td>1163590186963537921</td>\n",
       "      <td>0</td>\n",
       "      <td>0</td>\n",
       "      <td>0</td>\n",
       "      <td>1163590186963537921</td>\n",
       "      <td>16</td>\n",
       "      <td>132</td>\n",
       "    </tr>\n",
       "    <tr>\n",
       "      <th>7493</th>\n",
       "      <td>GOBERNACIÓN DE ANTIOQUIA: FIRMA PARA QUE EL T...</td>\n",
       "      <td>magaoca8552</td>\n",
       "      <td>Medellín, Colombia</td>\n",
       "      <td>2019-08-19 23:14:52+00:00</td>\n",
       "      <td>1163590181557088256</td>\n",
       "      <td>0</td>\n",
       "      <td>0</td>\n",
       "      <td>0</td>\n",
       "      <td>1163590181557088256</td>\n",
       "      <td>26</td>\n",
       "      <td>154</td>\n",
       "    </tr>\n",
       "    <tr>\n",
       "      <th>7494</th>\n",
       "      <td>You Are Always On My Mind - #ElvisPresley #Es...</td>\n",
       "      <td>MoonWalkers_off</td>\n",
       "      <td>Medellín, Colombia</td>\n",
       "      <td>2019-08-19 23:14:39+00:00</td>\n",
       "      <td>1163590129161789441</td>\n",
       "      <td>1</td>\n",
       "      <td>0</td>\n",
       "      <td>0</td>\n",
       "      <td>1163590129161789441</td>\n",
       "      <td>25</td>\n",
       "      <td>242</td>\n",
       "    </tr>\n",
       "    <tr>\n",
       "      <th>17697</th>\n",
       "      <td>@QuinteroCalle Si yo fuera Alcalde de Medellí...</td>\n",
       "      <td>PazProgreso</td>\n",
       "      <td>Táchira, Venezuela</td>\n",
       "      <td>2019-02-27 20:35:09+00:00</td>\n",
       "      <td>1100856887053115392</td>\n",
       "      <td>0</td>\n",
       "      <td>0</td>\n",
       "      <td>0</td>\n",
       "      <td>1100856887053115392</td>\n",
       "      <td>32</td>\n",
       "      <td>218</td>\n",
       "    </tr>\n",
       "  </tbody>\n",
       "</table>\n",
       "<p>17698 rows × 11 columns</p>\n",
       "</div>"
      ],
      "text/plain": [
       "                                               full_text             user  \\\n",
       "11050   Alejandro Gómez @AlejandroGL2014 es médico y ...     ClaudiaLopez   \n",
       "16498   Miren la diferencia entre una estación de Tra...  luismorales0621   \n",
       "14388   Nuestra respuesta ante el odio y la homofobia...       justgerson   \n",
       "1278    \"Todos debemos tratarnos con amor\": el padre ...      NoticiasRCN   \n",
       "14266   Quiero una camisa con esta foto. Pareja de ha...   JulianaBoteroM   \n",
       "...                                                  ...              ...   \n",
       "7490    @AlvaroUribeVel Ese al que no le gustan los t...    johnferreirac   \n",
       "7492    Esta Sonando....Madonna - Medellín...... en e...       DjNuNRadio   \n",
       "7493    GOBERNACIÓN DE ANTIOQUIA: FIRMA PARA QUE EL T...      magaoca8552   \n",
       "7494    You Are Always On My Mind - #ElvisPresley #Es...  MoonWalkers_off   \n",
       "17697   @QuinteroCalle Si yo fuera Alcalde de Medellí...      PazProgreso   \n",
       "\n",
       "                     location                       date             tweet_id  \\\n",
       "11050  Bogotá, D.C., Colombia  2019-12-09 22:50:46+00:00  1204171557049901058   \n",
       "16498  Bogotá, D.C., Colombia  2019-03-29 22:35:48+00:00  1111758887592648705   \n",
       "14388       Sahagún, Colombia  2019-06-29 23:31:59+00:00  1145112709794533377   \n",
       "1278    Santa Marta, Colombia  2019-02-09 22:03:19+00:00  1094356094913335296   \n",
       "14266       Sahagún, Colombia  2019-06-29 23:55:47+00:00  1145118695980773382   \n",
       "...                       ...                        ...                  ...   \n",
       "7490       Medellín, Colombia  2019-08-19 23:15:13+00:00  1163590271717838848   \n",
       "7492       Medellín, Colombia  2019-08-19 23:14:53+00:00  1163590186963537921   \n",
       "7493       Medellín, Colombia  2019-08-19 23:14:52+00:00  1163590181557088256   \n",
       "7494       Medellín, Colombia  2019-08-19 23:14:39+00:00  1163590129161789441   \n",
       "17697      Táchira, Venezuela  2019-02-27 20:35:09+00:00  1100856887053115392   \n",
       "\n",
       "       number_rt  number_likes  number_reply      conversation_id  num_words  \\\n",
       "11050        821          6946           369  1204171557049901058         45   \n",
       "16498       1650          4283           794  1111758887592648705         28   \n",
       "14388        781          3953            87  1145112709794533377         18   \n",
       "1278        1129          3934            86  1094356094913335296         21   \n",
       "14266        297          3355            21  1145118695980773382         17   \n",
       "...          ...           ...           ...                  ...        ...   \n",
       "7490           0             0             0  1163557394393305088         14   \n",
       "7492           0             0             0  1163590186963537921         16   \n",
       "7493           0             0             0  1163590181557088256         26   \n",
       "7494           1             0             0  1163590129161789441         25   \n",
       "17697          0             0             0  1100856887053115392         32   \n",
       "\n",
       "       num_char  \n",
       "11050       280  \n",
       "16498       174  \n",
       "14388       113  \n",
       "1278        134  \n",
       "14266       100  \n",
       "...         ...  \n",
       "7490         81  \n",
       "7492        132  \n",
       "7493        154  \n",
       "7494        242  \n",
       "17697       218  \n",
       "\n",
       "[17698 rows x 11 columns]"
      ]
     },
     "execution_count": 21,
     "metadata": {},
     "output_type": "execute_result"
    }
   ],
   "source": [
    "data.sort_values(by='number_likes',ascending=False) # sorts the dataframe by the number of words in each tweet"
   ]
  },
  {
   "cell_type": "code",
   "execution_count": 22,
   "metadata": {},
   "outputs": [
    {
     "data": {
      "text/plain": [
       "' Alejandro Gómez @AlejandroGL2014 es médico y especialista en salud y finanzas de EAFIT. Fue director de Salud Pública en Medellín, gerente de la red hospitalaria de esa ciudad, y Director Nacional de Nutrición del ICBF y será el nuevo Secretario de Salud de Bogotá. #BogotáCambia'"
      ]
     },
     "execution_count": 22,
     "metadata": {},
     "output_type": "execute_result"
    }
   ],
   "source": [
    "data.loc[11050,\"full_text\"] # shows the first tweet"
   ]
  },
  {
   "cell_type": "markdown",
   "metadata": {},
   "source": [
    "#### Number of reply"
   ]
  },
  {
   "cell_type": "code",
   "execution_count": 40,
   "metadata": {},
   "outputs": [
    {
     "data": {
      "text/html": [
       "<div>\n",
       "<style scoped>\n",
       "    .dataframe tbody tr th:only-of-type {\n",
       "        vertical-align: middle;\n",
       "    }\n",
       "\n",
       "    .dataframe tbody tr th {\n",
       "        vertical-align: top;\n",
       "    }\n",
       "\n",
       "    .dataframe thead th {\n",
       "        text-align: right;\n",
       "    }\n",
       "</style>\n",
       "<table border=\"1\" class=\"dataframe\">\n",
       "  <thead>\n",
       "    <tr style=\"text-align: right;\">\n",
       "      <th></th>\n",
       "      <th>full_text</th>\n",
       "      <th>user</th>\n",
       "      <th>location</th>\n",
       "      <th>date</th>\n",
       "      <th>tweet_id</th>\n",
       "      <th>number_rt</th>\n",
       "      <th>number_likes</th>\n",
       "      <th>number_reply</th>\n",
       "      <th>conversation_id</th>\n",
       "      <th>num_words</th>\n",
       "      <th>num_char</th>\n",
       "    </tr>\n",
       "  </thead>\n",
       "  <tbody>\n",
       "    <tr>\n",
       "      <th>16498</th>\n",
       "      <td>Miren la diferencia entre una estación de Tra...</td>\n",
       "      <td>luismorales0621</td>\n",
       "      <td>Bogotá, D.C., Colombia</td>\n",
       "      <td>2019-03-29 22:35:48+00:00</td>\n",
       "      <td>1111758887592648705</td>\n",
       "      <td>1650</td>\n",
       "      <td>4283</td>\n",
       "      <td>794</td>\n",
       "      <td>1111758887592648705</td>\n",
       "      <td>28</td>\n",
       "      <td>174</td>\n",
       "    </tr>\n",
       "    <tr>\n",
       "      <th>11050</th>\n",
       "      <td>Alejandro Gómez @AlejandroGL2014 es médico y ...</td>\n",
       "      <td>ClaudiaLopez</td>\n",
       "      <td>Bogotá, D.C., Colombia</td>\n",
       "      <td>2019-12-09 22:50:46+00:00</td>\n",
       "      <td>1204171557049901058</td>\n",
       "      <td>821</td>\n",
       "      <td>6946</td>\n",
       "      <td>369</td>\n",
       "      <td>1204171557049901058</td>\n",
       "      <td>45</td>\n",
       "      <td>280</td>\n",
       "    </tr>\n",
       "    <tr>\n",
       "      <th>8864</th>\n",
       "      <td>En Medellín se avecina un cambio en la políti...</td>\n",
       "      <td>Pfrobledo</td>\n",
       "      <td>Yopal, Colombia</td>\n",
       "      <td>2019-09-09 22:11:17+00:00</td>\n",
       "      <td>1171184325599141889</td>\n",
       "      <td>471</td>\n",
       "      <td>1494</td>\n",
       "      <td>224</td>\n",
       "      <td>1171184325599141889</td>\n",
       "      <td>36</td>\n",
       "      <td>244</td>\n",
       "    </tr>\n",
       "    <tr>\n",
       "      <th>14589</th>\n",
       "      <td>Este es el hombre señalado de destruir la ban...</td>\n",
       "      <td>ELTIEMPO</td>\n",
       "      <td>Sahagún, Colombia</td>\n",
       "      <td>2019-06-29 22:56:40+00:00</td>\n",
       "      <td>1145103818629271552</td>\n",
       "      <td>38</td>\n",
       "      <td>134</td>\n",
       "      <td>211</td>\n",
       "      <td>1145103818629271552</td>\n",
       "      <td>13</td>\n",
       "      <td>74</td>\n",
       "    </tr>\n",
       "    <tr>\n",
       "      <th>6807</th>\n",
       "      <td>La falta que nos ha hecho en Bogotá tener el ...</td>\n",
       "      <td>HassNassar</td>\n",
       "      <td>Retiro, Colombia</td>\n",
       "      <td>2019-07-19 21:55:13+00:00</td>\n",
       "      <td>1152336113148801026</td>\n",
       "      <td>1149</td>\n",
       "      <td>2546</td>\n",
       "      <td>211</td>\n",
       "      <td>1152336113148801026</td>\n",
       "      <td>18</td>\n",
       "      <td>104</td>\n",
       "    </tr>\n",
       "    <tr>\n",
       "      <th>...</th>\n",
       "      <td>...</td>\n",
       "      <td>...</td>\n",
       "      <td>...</td>\n",
       "      <td>...</td>\n",
       "      <td>...</td>\n",
       "      <td>...</td>\n",
       "      <td>...</td>\n",
       "      <td>...</td>\n",
       "      <td>...</td>\n",
       "      <td>...</td>\n",
       "      <td>...</td>\n",
       "    </tr>\n",
       "    <tr>\n",
       "      <th>6501</th>\n",
       "      <td>@comicconcol me traen a Maisie Williams pa la...</td>\n",
       "      <td>taexwins</td>\n",
       "      <td>Retiro, Colombia</td>\n",
       "      <td>2019-07-19 23:28:30+00:00</td>\n",
       "      <td>1152359588777402368</td>\n",
       "      <td>0</td>\n",
       "      <td>0</td>\n",
       "      <td>0</td>\n",
       "      <td>1152359588777402368</td>\n",
       "      <td>18</td>\n",
       "      <td>94</td>\n",
       "    </tr>\n",
       "    <tr>\n",
       "      <th>6502</th>\n",
       "      <td>#Conductor que #arrolló #varias personas en M...</td>\n",
       "      <td>geopoliting</td>\n",
       "      <td>Retiro, Colombia</td>\n",
       "      <td>2019-07-19 23:27:22+00:00</td>\n",
       "      <td>1152359302096654336</td>\n",
       "      <td>0</td>\n",
       "      <td>0</td>\n",
       "      <td>0</td>\n",
       "      <td>1152359302096654336</td>\n",
       "      <td>10</td>\n",
       "      <td>70</td>\n",
       "    </tr>\n",
       "    <tr>\n",
       "      <th>6503</th>\n",
       "      <td>En Medellín Cesar Pérez Gutierrez @GobAntioqu...</td>\n",
       "      <td>frafer143</td>\n",
       "      <td>Retiro, Colombia</td>\n",
       "      <td>2019-07-19 23:27:00+00:00</td>\n",
       "      <td>1152359210488872961</td>\n",
       "      <td>0</td>\n",
       "      <td>0</td>\n",
       "      <td>0</td>\n",
       "      <td>1152359210488872961</td>\n",
       "      <td>45</td>\n",
       "      <td>279</td>\n",
       "    </tr>\n",
       "    <tr>\n",
       "      <th>6504</th>\n",
       "      <td>Durante la segunda mesa de trabajo del progra...</td>\n",
       "      <td>EAFIT_egresados</td>\n",
       "      <td>Retiro, Colombia</td>\n",
       "      <td>2019-07-19 23:26:48+00:00</td>\n",
       "      <td>1152359162334068737</td>\n",
       "      <td>0</td>\n",
       "      <td>0</td>\n",
       "      <td>0</td>\n",
       "      <td>1152359162334068737</td>\n",
       "      <td>34</td>\n",
       "      <td>246</td>\n",
       "    </tr>\n",
       "    <tr>\n",
       "      <th>17697</th>\n",
       "      <td>@QuinteroCalle Si yo fuera Alcalde de Medellí...</td>\n",
       "      <td>PazProgreso</td>\n",
       "      <td>Táchira, Venezuela</td>\n",
       "      <td>2019-02-27 20:35:09+00:00</td>\n",
       "      <td>1100856887053115392</td>\n",
       "      <td>0</td>\n",
       "      <td>0</td>\n",
       "      <td>0</td>\n",
       "      <td>1100856887053115392</td>\n",
       "      <td>32</td>\n",
       "      <td>218</td>\n",
       "    </tr>\n",
       "  </tbody>\n",
       "</table>\n",
       "<p>17698 rows × 11 columns</p>\n",
       "</div>"
      ],
      "text/plain": [
       "                                               full_text             user  \\\n",
       "16498   Miren la diferencia entre una estación de Tra...  luismorales0621   \n",
       "11050   Alejandro Gómez @AlejandroGL2014 es médico y ...     ClaudiaLopez   \n",
       "8864    En Medellín se avecina un cambio en la políti...        Pfrobledo   \n",
       "14589   Este es el hombre señalado de destruir la ban...         ELTIEMPO   \n",
       "6807    La falta que nos ha hecho en Bogotá tener el ...       HassNassar   \n",
       "...                                                  ...              ...   \n",
       "6501    @comicconcol me traen a Maisie Williams pa la...         taexwins   \n",
       "6502    #Conductor que #arrolló #varias personas en M...      geopoliting   \n",
       "6503    En Medellín Cesar Pérez Gutierrez @GobAntioqu...        frafer143   \n",
       "6504    Durante la segunda mesa de trabajo del progra...  EAFIT_egresados   \n",
       "17697   @QuinteroCalle Si yo fuera Alcalde de Medellí...      PazProgreso   \n",
       "\n",
       "                     location                       date             tweet_id  \\\n",
       "16498  Bogotá, D.C., Colombia  2019-03-29 22:35:48+00:00  1111758887592648705   \n",
       "11050  Bogotá, D.C., Colombia  2019-12-09 22:50:46+00:00  1204171557049901058   \n",
       "8864          Yopal, Colombia  2019-09-09 22:11:17+00:00  1171184325599141889   \n",
       "14589       Sahagún, Colombia  2019-06-29 22:56:40+00:00  1145103818629271552   \n",
       "6807         Retiro, Colombia  2019-07-19 21:55:13+00:00  1152336113148801026   \n",
       "...                       ...                        ...                  ...   \n",
       "6501         Retiro, Colombia  2019-07-19 23:28:30+00:00  1152359588777402368   \n",
       "6502         Retiro, Colombia  2019-07-19 23:27:22+00:00  1152359302096654336   \n",
       "6503         Retiro, Colombia  2019-07-19 23:27:00+00:00  1152359210488872961   \n",
       "6504         Retiro, Colombia  2019-07-19 23:26:48+00:00  1152359162334068737   \n",
       "17697      Táchira, Venezuela  2019-02-27 20:35:09+00:00  1100856887053115392   \n",
       "\n",
       "       number_rt  number_likes  number_reply      conversation_id  num_words  \\\n",
       "16498       1650          4283           794  1111758887592648705         28   \n",
       "11050        821          6946           369  1204171557049901058         45   \n",
       "8864         471          1494           224  1171184325599141889         36   \n",
       "14589         38           134           211  1145103818629271552         13   \n",
       "6807        1149          2546           211  1152336113148801026         18   \n",
       "...          ...           ...           ...                  ...        ...   \n",
       "6501           0             0             0  1152359588777402368         18   \n",
       "6502           0             0             0  1152359302096654336         10   \n",
       "6503           0             0             0  1152359210488872961         45   \n",
       "6504           0             0             0  1152359162334068737         34   \n",
       "17697          0             0             0  1100856887053115392         32   \n",
       "\n",
       "       num_char  \n",
       "16498       174  \n",
       "11050       280  \n",
       "8864        244  \n",
       "14589        74  \n",
       "6807        104  \n",
       "...         ...  \n",
       "6501         94  \n",
       "6502         70  \n",
       "6503        279  \n",
       "6504        246  \n",
       "17697       218  \n",
       "\n",
       "[17698 rows x 11 columns]"
      ]
     },
     "execution_count": 40,
     "metadata": {},
     "output_type": "execute_result"
    }
   ],
   "source": [
    "data.sort_values(by='number_reply',ascending=False) # sorts the dataframe by the number of words in each tweet"
   ]
  },
  {
   "cell_type": "code",
   "execution_count": 41,
   "metadata": {},
   "outputs": [
    {
     "data": {
      "text/plain": [
       "' Miren la diferencia entre una estación de Transmilenio Bogotá y otra de Metroplus (el Transmilenio de Medellín). El problema no es el tamaño de la estación... ....es cultura'"
      ]
     },
     "execution_count": 41,
     "metadata": {},
     "output_type": "execute_result"
    }
   ],
   "source": [
    "data.loc[16498,\"full_text\"] # shows the first tweet"
   ]
  },
  {
   "cell_type": "markdown",
   "metadata": {},
   "source": [
    "#### number of retweet"
   ]
  },
  {
   "cell_type": "code",
   "execution_count": 42,
   "metadata": {},
   "outputs": [
    {
     "data": {
      "text/html": [
       "<div>\n",
       "<style scoped>\n",
       "    .dataframe tbody tr th:only-of-type {\n",
       "        vertical-align: middle;\n",
       "    }\n",
       "\n",
       "    .dataframe tbody tr th {\n",
       "        vertical-align: top;\n",
       "    }\n",
       "\n",
       "    .dataframe thead th {\n",
       "        text-align: right;\n",
       "    }\n",
       "</style>\n",
       "<table border=\"1\" class=\"dataframe\">\n",
       "  <thead>\n",
       "    <tr style=\"text-align: right;\">\n",
       "      <th></th>\n",
       "      <th>full_text</th>\n",
       "      <th>user</th>\n",
       "      <th>location</th>\n",
       "      <th>date</th>\n",
       "      <th>tweet_id</th>\n",
       "      <th>number_rt</th>\n",
       "      <th>number_likes</th>\n",
       "      <th>number_reply</th>\n",
       "      <th>conversation_id</th>\n",
       "      <th>num_words</th>\n",
       "      <th>num_char</th>\n",
       "    </tr>\n",
       "  </thead>\n",
       "  <tbody>\n",
       "    <tr>\n",
       "      <th>16498</th>\n",
       "      <td>Miren la diferencia entre una estación de Tra...</td>\n",
       "      <td>luismorales0621</td>\n",
       "      <td>Bogotá, D.C., Colombia</td>\n",
       "      <td>2019-03-29 22:35:48+00:00</td>\n",
       "      <td>1111758887592648705</td>\n",
       "      <td>1650</td>\n",
       "      <td>4283</td>\n",
       "      <td>794</td>\n",
       "      <td>1111758887592648705</td>\n",
       "      <td>28</td>\n",
       "      <td>174</td>\n",
       "    </tr>\n",
       "    <tr>\n",
       "      <th>6807</th>\n",
       "      <td>La falta que nos ha hecho en Bogotá tener el ...</td>\n",
       "      <td>HassNassar</td>\n",
       "      <td>Retiro, Colombia</td>\n",
       "      <td>2019-07-19 21:55:13+00:00</td>\n",
       "      <td>1152336113148801026</td>\n",
       "      <td>1149</td>\n",
       "      <td>2546</td>\n",
       "      <td>211</td>\n",
       "      <td>1152336113148801026</td>\n",
       "      <td>18</td>\n",
       "      <td>104</td>\n",
       "    </tr>\n",
       "    <tr>\n",
       "      <th>1278</th>\n",
       "      <td>\"Todos debemos tratarnos con amor\": el padre ...</td>\n",
       "      <td>NoticiasRCN</td>\n",
       "      <td>Santa Marta, Colombia</td>\n",
       "      <td>2019-02-09 22:03:19+00:00</td>\n",
       "      <td>1094356094913335296</td>\n",
       "      <td>1129</td>\n",
       "      <td>3934</td>\n",
       "      <td>86</td>\n",
       "      <td>1094356094913335296</td>\n",
       "      <td>21</td>\n",
       "      <td>134</td>\n",
       "    </tr>\n",
       "    <tr>\n",
       "      <th>1272</th>\n",
       "      <td>Pájaroterapia Paisa.. Medellín.</td>\n",
       "      <td>felipene20</td>\n",
       "      <td>Santa Marta, Colombia</td>\n",
       "      <td>2019-02-09 22:05:18+00:00</td>\n",
       "      <td>1094356590839382016</td>\n",
       "      <td>1048</td>\n",
       "      <td>3122</td>\n",
       "      <td>29</td>\n",
       "      <td>1094356590839382016</td>\n",
       "      <td>3</td>\n",
       "      <td>32</td>\n",
       "    </tr>\n",
       "    <tr>\n",
       "      <th>11050</th>\n",
       "      <td>Alejandro Gómez @AlejandroGL2014 es médico y ...</td>\n",
       "      <td>ClaudiaLopez</td>\n",
       "      <td>Bogotá, D.C., Colombia</td>\n",
       "      <td>2019-12-09 22:50:46+00:00</td>\n",
       "      <td>1204171557049901058</td>\n",
       "      <td>821</td>\n",
       "      <td>6946</td>\n",
       "      <td>369</td>\n",
       "      <td>1204171557049901058</td>\n",
       "      <td>45</td>\n",
       "      <td>280</td>\n",
       "    </tr>\n",
       "    <tr>\n",
       "      <th>...</th>\n",
       "      <td>...</td>\n",
       "      <td>...</td>\n",
       "      <td>...</td>\n",
       "      <td>...</td>\n",
       "      <td>...</td>\n",
       "      <td>...</td>\n",
       "      <td>...</td>\n",
       "      <td>...</td>\n",
       "      <td>...</td>\n",
       "      <td>...</td>\n",
       "      <td>...</td>\n",
       "    </tr>\n",
       "    <tr>\n",
       "      <th>6605</th>\n",
       "      <td>#Alerta La Chiva #Medellín: A ESTA HORA LAS A...</td>\n",
       "      <td>lachivaalerta</td>\n",
       "      <td>Retiro, Colombia</td>\n",
       "      <td>2019-07-19 23:00:05+00:00</td>\n",
       "      <td>1152352438608904192</td>\n",
       "      <td>0</td>\n",
       "      <td>0</td>\n",
       "      <td>2</td>\n",
       "      <td>1152349356080713730</td>\n",
       "      <td>21</td>\n",
       "      <td>168</td>\n",
       "    </tr>\n",
       "    <tr>\n",
       "      <th>6607</th>\n",
       "      <td>@Fedeortizv Acá en Medellín 32</td>\n",
       "      <td>estebanoliver</td>\n",
       "      <td>Retiro, Colombia</td>\n",
       "      <td>2019-07-19 22:59:34+00:00</td>\n",
       "      <td>1152352309474725889</td>\n",
       "      <td>0</td>\n",
       "      <td>1</td>\n",
       "      <td>0</td>\n",
       "      <td>1152279479085088768</td>\n",
       "      <td>5</td>\n",
       "      <td>31</td>\n",
       "    </tr>\n",
       "    <tr>\n",
       "      <th>6608</th>\n",
       "      <td>Servicio Social en Medellín.</td>\n",
       "      <td>lufega25</td>\n",
       "      <td>Retiro, Colombia</td>\n",
       "      <td>2019-07-19 22:59:33+00:00</td>\n",
       "      <td>1152352303409770496</td>\n",
       "      <td>0</td>\n",
       "      <td>0</td>\n",
       "      <td>0</td>\n",
       "      <td>1152352303409770496</td>\n",
       "      <td>4</td>\n",
       "      <td>29</td>\n",
       "    </tr>\n",
       "    <tr>\n",
       "      <th>6609</th>\n",
       "      <td>@GrinColombia como quieren que uno use las sc...</td>\n",
       "      <td>Marno30</td>\n",
       "      <td>Retiro, Colombia</td>\n",
       "      <td>2019-07-19 22:59:29+00:00</td>\n",
       "      <td>1152352286309568512</td>\n",
       "      <td>0</td>\n",
       "      <td>0</td>\n",
       "      <td>0</td>\n",
       "      <td>1152352286309568512</td>\n",
       "      <td>21</td>\n",
       "      <td>122</td>\n",
       "    </tr>\n",
       "    <tr>\n",
       "      <th>17697</th>\n",
       "      <td>@QuinteroCalle Si yo fuera Alcalde de Medellí...</td>\n",
       "      <td>PazProgreso</td>\n",
       "      <td>Táchira, Venezuela</td>\n",
       "      <td>2019-02-27 20:35:09+00:00</td>\n",
       "      <td>1100856887053115392</td>\n",
       "      <td>0</td>\n",
       "      <td>0</td>\n",
       "      <td>0</td>\n",
       "      <td>1100856887053115392</td>\n",
       "      <td>32</td>\n",
       "      <td>218</td>\n",
       "    </tr>\n",
       "  </tbody>\n",
       "</table>\n",
       "<p>17698 rows × 11 columns</p>\n",
       "</div>"
      ],
      "text/plain": [
       "                                               full_text             user  \\\n",
       "16498   Miren la diferencia entre una estación de Tra...  luismorales0621   \n",
       "6807    La falta que nos ha hecho en Bogotá tener el ...       HassNassar   \n",
       "1278    \"Todos debemos tratarnos con amor\": el padre ...      NoticiasRCN   \n",
       "1272                     Pájaroterapia Paisa.. Medellín.       felipene20   \n",
       "11050   Alejandro Gómez @AlejandroGL2014 es médico y ...     ClaudiaLopez   \n",
       "...                                                  ...              ...   \n",
       "6605    #Alerta La Chiva #Medellín: A ESTA HORA LAS A...    lachivaalerta   \n",
       "6607                      @Fedeortizv Acá en Medellín 32    estebanoliver   \n",
       "6608                        Servicio Social en Medellín.         lufega25   \n",
       "6609    @GrinColombia como quieren que uno use las sc...          Marno30   \n",
       "17697   @QuinteroCalle Si yo fuera Alcalde de Medellí...      PazProgreso   \n",
       "\n",
       "                     location                       date             tweet_id  \\\n",
       "16498  Bogotá, D.C., Colombia  2019-03-29 22:35:48+00:00  1111758887592648705   \n",
       "6807         Retiro, Colombia  2019-07-19 21:55:13+00:00  1152336113148801026   \n",
       "1278    Santa Marta, Colombia  2019-02-09 22:03:19+00:00  1094356094913335296   \n",
       "1272    Santa Marta, Colombia  2019-02-09 22:05:18+00:00  1094356590839382016   \n",
       "11050  Bogotá, D.C., Colombia  2019-12-09 22:50:46+00:00  1204171557049901058   \n",
       "...                       ...                        ...                  ...   \n",
       "6605         Retiro, Colombia  2019-07-19 23:00:05+00:00  1152352438608904192   \n",
       "6607         Retiro, Colombia  2019-07-19 22:59:34+00:00  1152352309474725889   \n",
       "6608         Retiro, Colombia  2019-07-19 22:59:33+00:00  1152352303409770496   \n",
       "6609         Retiro, Colombia  2019-07-19 22:59:29+00:00  1152352286309568512   \n",
       "17697      Táchira, Venezuela  2019-02-27 20:35:09+00:00  1100856887053115392   \n",
       "\n",
       "       number_rt  number_likes  number_reply      conversation_id  num_words  \\\n",
       "16498       1650          4283           794  1111758887592648705         28   \n",
       "6807        1149          2546           211  1152336113148801026         18   \n",
       "1278        1129          3934            86  1094356094913335296         21   \n",
       "1272        1048          3122            29  1094356590839382016          3   \n",
       "11050        821          6946           369  1204171557049901058         45   \n",
       "...          ...           ...           ...                  ...        ...   \n",
       "6605           0             0             2  1152349356080713730         21   \n",
       "6607           0             1             0  1152279479085088768          5   \n",
       "6608           0             0             0  1152352303409770496          4   \n",
       "6609           0             0             0  1152352286309568512         21   \n",
       "17697          0             0             0  1100856887053115392         32   \n",
       "\n",
       "       num_char  \n",
       "16498       174  \n",
       "6807        104  \n",
       "1278        134  \n",
       "1272         32  \n",
       "11050       280  \n",
       "...         ...  \n",
       "6605        168  \n",
       "6607         31  \n",
       "6608         29  \n",
       "6609        122  \n",
       "17697       218  \n",
       "\n",
       "[17698 rows x 11 columns]"
      ]
     },
     "execution_count": 42,
     "metadata": {},
     "output_type": "execute_result"
    }
   ],
   "source": [
    "data.sort_values(by='number_rt',ascending=False) # sorts the dataframe by the number of words in each tweet"
   ]
  },
  {
   "cell_type": "code",
   "execution_count": 43,
   "metadata": {},
   "outputs": [
    {
     "data": {
      "text/plain": [
       "' La falta que nos ha hecho en Bogotá tener el sentido de política pública de Medellín es incuestionable.'"
      ]
     },
     "execution_count": 43,
     "metadata": {},
     "output_type": "execute_result"
    }
   ],
   "source": [
    "data.loc[6807,\"full_text\"] # shows the first tweet']"
   ]
  },
  {
   "cell_type": "markdown",
   "metadata": {},
   "source": [
    "#### Location"
   ]
  },
  {
   "cell_type": "markdown",
   "metadata": {},
   "source": [
    "## Preprocesamiento del texto"
   ]
  },
  {
   "cell_type": "code",
   "execution_count": 23,
   "metadata": {},
   "outputs": [],
   "source": [
    "# import extra code that will help us in our process\n",
    "import tools \n",
    "# import shape for our word cloud\n",
    "char_mask = np.array(Image.open('circulo.png'))"
   ]
  },
  {
   "cell_type": "code",
   "execution_count": 24,
   "metadata": {},
   "outputs": [],
   "source": [
    "# figure size in inches\n",
    "sns.set(rc={'figure.figsize':(17,9)})"
   ]
  },
  {
   "cell_type": "code",
   "execution_count": 25,
   "metadata": {},
   "outputs": [],
   "source": [
    "def twitter_to_words(df, column, stop_words,replace_punctuation_dict,replace_accent_dict):\n",
    "  \"\"\"\n",
    "  clean de data to plot a word cloud with only the relevant information\n",
    "  \"\"\"\n",
    "  wwpawsw = [] #Words_Without_Punctuation_And_Without_Stop_Words\n",
    "\n",
    "  # creating a list with all the words inside all the tweets\n",
    "  for tweet in df_tweets[column]:\n",
    "    words = tweet.split()\n",
    "\n",
    "    # remove punctuation marks\n",
    "    for w in words:\n",
    "      wl = w.lower() # word in lower case\n",
    "      # replace some punctuations mark to keep only words\n",
    "      for punctuation, new_value in replace_punctuation_dict.items():\n",
    "        wl = wl.replace(punctuation,new_value)\n",
    "      \n",
    "      if wl.isalpha(): # skip if the word contains punctuation mark \n",
    "\n",
    "        # replace accent mark \n",
    "        for accent, new_value in replace_accent_dict.items():\n",
    "          wl = wl.replace(accent,new_value)\n",
    "\n",
    "        if wl not in stop_words: # filtering by stop words\n",
    "          wwpawsw.append(wl)\n",
    "  \n",
    "  return wwpawsw"
   ]
  },
  {
   "cell_type": "code",
   "execution_count": 26,
   "metadata": {},
   "outputs": [],
   "source": [
    "# function to plot th word cloud\n",
    "\n",
    "def plot_word_cloud(char_mask, word_fre):\n",
    "  # generating the wordcloud\n",
    "  wordcloud = WordCloud(background_color='white',\n",
    "                        mask=char_mask,\n",
    "                        max_words=50).generate_from_frequencies(word_fre)\n",
    "  # plot the word cloud \n",
    "  plt.figure(figsize=(15,15))\n",
    "  plt.imshow(wordcloud)\n",
    "\n",
    "  #to remove axis value\n",
    "  plt.axis('off')\n",
    "  plt.show()"
   ]
  },
  {
   "cell_type": "code",
   "execution_count": 27,
   "metadata": {},
   "outputs": [
    {
     "name": "stdout",
     "output_type": "stream",
     "text": [
      " Por otro lado La Policía hizo allanamientos en Bogotá, Medellín y Cali a viviendas de personas que hacen parte de movimientos que promueven el #ParoNacional21Nov \"En estos allanamientos las autoridades se llevaron pinceles, pinturas y carteles alusivos al paro.\" \n",
      "\n",
      " CASA EN BELÉN LA GLORIA SOBRE LA AVENIDA 80 en Medellín/Antioquia/Colombia en Venta \n",
      "\n",
      " @matyakdmia @CynDLQ Club Colombia perro. Y el Ron Medellín que tomó hasta @Nahuerc \n",
      "\n",
      " @kenroVlogs Hermoso corazon saludos desde medellin colombia \n",
      "\n",
      " Carechimba, EMPEZÓ A LLOVER JUSTO CUANDO TENGO QUE IR A CLASE, O SEA, NO, MEDELLÍN, ME TENÉS MAMADA MARICA \n",
      "\n",
      " @Der0207 @IamCabezoon Junior le ofreció más q Medellín, lo dijeron en win, pero el burro este solo juega en su dim \n",
      "\n",
      " El aire más enrarecido, el cielo cada vez más gris y unas congestiones insoportables en las vías. La medida del pico y placa ambiental en #Medellín deja mucho que desear hasta que no se tomen soluciones drásticas y de fondo. \n",
      "\n",
      " Una alcaldía con sexto sentido: Ana Cristina quiere ser la primera mujer alcaldesa de Medellín por voto popular \n",
      "\n",
      " @Herman_Cadena @QuinteroCalle Si, @QuinteroCalle es una voz esperanzadora para Medellín, en medio del aterrador ruido de la corrupción y la guerra. \n",
      "\n",
      " @LuisErnestoGL @kikearcinieg Dos líderes arrancaron el mismo día con sendos discursos en el planetario en un momento de verdad de Colombia!. el uno sin ninguna tibieza se enfrentó a la ultraderecha y es alcalde de Medellín. el otro se acobardó y terminó en la comodidad de la tibia mermelada verde!. \n",
      "\n"
     ]
    }
   ],
   "source": [
    "tweet_text=df_tweets['full_text']\n",
    "sample_text=tweet_text.sample(n=10,random_state=10)\n",
    "for text in sample_text:\n",
    "  print(text,\"\\n\")\n"
   ]
  },
  {
   "cell_type": "code",
   "execution_count": 28,
   "metadata": {},
   "outputs": [
    {
     "name": "stdout",
     "output_type": "stream",
     "text": [
      "['Por', 'otro', 'lado', 'La', 'Policía', 'hizo', 'allanamientos', 'en', 'Bogotá,', 'Medellín', 'y', 'Cali', 'a', 'viviendas', 'de', 'personas', 'que', 'hacen', 'parte', 'de', 'movimientos', 'que', 'promueven', 'el', '#ParoNacional21Nov', '\"En', 'estos', 'allanamientos', 'las', 'autoridades', 'se', 'llevaron', 'pinceles,', 'pinturas', 'y', 'carteles', 'alusivos', 'al', 'paro.\"'] \n",
      "\n",
      "['CASA', 'EN', 'BELÉN', 'LA', 'GLORIA', 'SOBRE', 'LA', 'AVENIDA', '80', 'en', 'Medellín/Antioquia/Colombia', 'en', 'Venta'] \n",
      "\n",
      "['@matyakdmia', '@CynDLQ', 'Club', 'Colombia', 'perro.', 'Y', 'el', 'Ron', 'Medellín', 'que', 'tomó', 'hasta', '@Nahuerc'] \n",
      "\n",
      "['@kenroVlogs', 'Hermoso', 'corazon', 'saludos', 'desde', 'medellin', 'colombia'] \n",
      "\n",
      "['Carechimba,', 'EMPEZÓ', 'A', 'LLOVER', 'JUSTO', 'CUANDO', 'TENGO', 'QUE', 'IR', 'A', 'CLASE,', 'O', 'SEA,', 'NO,', 'MEDELLÍN,', 'ME', 'TENÉS', 'MAMADA', 'MARICA'] \n",
      "\n",
      "['@Der0207', '@IamCabezoon', 'Junior', 'le', 'ofreció', 'más', 'q', 'Medellín,', 'lo', 'dijeron', 'en', 'win,', 'pero', 'el', 'burro', 'este', 'solo', 'juega', 'en', 'su', 'dim'] \n",
      "\n",
      "['El', 'aire', 'más', 'enrarecido,', 'el', 'cielo', 'cada', 'vez', 'más', 'gris', 'y', 'unas', 'congestiones', 'insoportables', 'en', 'las', 'vías.', 'La', 'medida', 'del', 'pico', 'y', 'placa', 'ambiental', 'en', '#Medellín', 'deja', 'mucho', 'que', 'desear', 'hasta', 'que', 'no', 'se', 'tomen', 'soluciones', 'drásticas', 'y', 'de', 'fondo.'] \n",
      "\n",
      "['Una', 'alcaldía', 'con', 'sexto', 'sentido:', 'Ana', 'Cristina', 'quiere', 'ser', 'la', 'primera', 'mujer', 'alcaldesa', 'de', 'Medellín', 'por', 'voto', 'popular'] \n",
      "\n",
      "['@Herman_Cadena', '@QuinteroCalle', 'Si,', '@QuinteroCalle', 'es', 'una', 'voz', 'esperanzadora', 'para', 'Medellín,', 'en', 'medio', 'del', 'aterrador', 'ruido', 'de', 'la', 'corrupción', 'y', 'la', 'guerra.'] \n",
      "\n",
      "['@LuisErnestoGL', '@kikearcinieg', 'Dos', 'líderes', 'arrancaron', 'el', 'mismo', 'día', 'con', 'sendos', 'discursos', 'en', 'el', 'planetario', 'en', 'un', 'momento', 'de', 'verdad', 'de', 'Colombia!.', 'el', 'uno', 'sin', 'ninguna', 'tibieza', 'se', 'enfrentó', 'a', 'la', 'ultraderecha', 'y', 'es', 'alcalde', 'de', 'Medellín.', 'el', 'otro', 'se', 'acobardó', 'y', 'terminó', 'en', 'la', 'comodidad', 'de', 'la', 'tibia', 'mermelada', 'verde!.'] \n",
      "\n"
     ]
    }
   ],
   "source": [
    "tweet_text=tweet_text.str.split()\n",
    "sample_text=tweet_text.sample(n=10,random_state=10)\n",
    "for text in sample_text:\n",
    "    print(text,\"\\n\")   "
   ]
  },
  {
   "cell_type": "code",
   "execution_count": 29,
   "metadata": {},
   "outputs": [
    {
     "name": "stdout",
     "output_type": "stream",
     "text": [
      "por otro lado la policía hizo allanamientos en bogotá, medellín y cali a viviendas de personas que hacen parte de movimientos que promueven el #paronacional21nov \"en estos allanamientos las autoridades se llevaron pinceles, pinturas y carteles alusivos al paro.\" \n",
      "\n",
      "casa en belén la gloria sobre la avenida 80 en medellín/antioquia/colombia en venta \n",
      "\n",
      "@matyakdmia @cyndlq club colombia perro. y el ron medellín que tomó hasta @nahuerc \n",
      "\n",
      "@kenrovlogs hermoso corazon saludos desde medellin colombia \n",
      "\n",
      "carechimba, empezó a llover justo cuando tengo que ir a clase, o sea, no, medellín, me tenés mamada marica \n",
      "\n",
      "@der0207 @iamcabezoon junior le ofreció más q medellín, lo dijeron en win, pero el burro este solo juega en su dim \n",
      "\n",
      "el aire más enrarecido, el cielo cada vez más gris y unas congestiones insoportables en las vías. la medida del pico y placa ambiental en #medellín deja mucho que desear hasta que no se tomen soluciones drásticas y de fondo. \n",
      "\n",
      "una alcaldía con sexto sentido: ana cristina quiere ser la primera mujer alcaldesa de medellín por voto popular \n",
      "\n",
      "@herman_cadena @quinterocalle si, @quinterocalle es una voz esperanzadora para medellín, en medio del aterrador ruido de la corrupción y la guerra. \n",
      "\n",
      "@luisernestogl @kikearcinieg dos líderes arrancaron el mismo día con sendos discursos en el planetario en un momento de verdad de colombia!. el uno sin ninguna tibieza se enfrentó a la ultraderecha y es alcalde de medellín. el otro se acobardó y terminó en la comodidad de la tibia mermelada verde!. \n",
      "\n"
     ]
    }
   ],
   "source": [
    "tweet_text=tweet_text.apply(lambda x: ' '.join(x))\n",
    "tweet_text=tweet_text.str.lower()\n",
    "sample_text=tweet_text.sample(n=10,random_state=10)\n",
    "for text in sample_text:\n",
    "    print(text,\"\\n\")  "
   ]
  },
  {
   "cell_type": "code",
   "execution_count": 30,
   "metadata": {},
   "outputs": [
    {
     "name": "stdout",
     "output_type": "stream",
     "text": [
      "replace punctuation dict {'¿': '', '?': '', '!': '', '¡': '', '\"': '', '(': '', ')': '', '/': '', '*': ''} \n",
      "\n",
      "por otro lado la policía hizo allanamientos en bogotá, medellín y cali a viviendas de personas que hacen parte de movimientos que promueven el #paronacional21nov en estos allanamientos las autoridades se llevaron pinceles, pinturas y carteles alusivos al paro. \n",
      "\n",
      "casa en belén la gloria sobre la avenida 80 en medellínantioquiacolombia en venta \n",
      "\n",
      "@matyakdmia @cyndlq club colombia perro. y el ron medellín que tomó hasta @nahuerc \n",
      "\n",
      "@kenrovlogs hermoso corazon saludos desde medellin colombia \n",
      "\n",
      "carechimba, empezó a llover justo cuando tengo que ir a clase, o sea, no, medellín, me tenés mamada marica \n",
      "\n",
      "@der0207 @iamcabezoon junior le ofreció más q medellín, lo dijeron en win, pero el burro este solo juega en su dim \n",
      "\n",
      "el aire más enrarecido, el cielo cada vez más gris y unas congestiones insoportables en las vías. la medida del pico y placa ambiental en #medellín deja mucho que desear hasta que no se tomen soluciones drásticas y de fondo. \n",
      "\n",
      "una alcaldía con sexto sentido: ana cristina quiere ser la primera mujer alcaldesa de medellín por voto popular \n",
      "\n",
      "@herman_cadena @quinterocalle si, @quinterocalle es una voz esperanzadora para medellín, en medio del aterrador ruido de la corrupción y la guerra. \n",
      "\n",
      "@luisernestogl @kikearcinieg dos líderes arrancaron el mismo día con sendos discursos en el planetario en un momento de verdad de colombia. el uno sin ninguna tibieza se enfrentó a la ultraderecha y es alcalde de medellín. el otro se acobardó y terminó en la comodidad de la tibia mermelada verde. \n",
      "\n"
     ]
    },
    {
     "name": "stderr",
     "output_type": "stream",
     "text": [
      "/var/folders/df/rgn2104s10v9n3b8vz9xbq1r0000gn/T/ipykernel_5565/2316906314.py:4: FutureWarning: The default value of regex will change from True to False in a future version. In addition, single character regular expressions will*not* be treated as literal strings when regex=True.\n",
      "  tweet_text = tweet_text.str.replace(punctuation,new_value)\n"
     ]
    }
   ],
   "source": [
    "replace_punctuation_dict = tools.replace_punctuation_dict # dictionary with the punctuation marks to replace\n",
    "print(f'replace punctuation dict {replace_punctuation_dict} \\n') \n",
    "for punctuation, new_value in replace_punctuation_dict.items():\n",
    "    tweet_text = tweet_text.str.replace(punctuation,new_value)\n",
    "sample_text=tweet_text.sample(n=10,random_state=10)\n",
    "for text in sample_text:\n",
    "    print(text,\"\\n\") "
   ]
  },
  {
   "cell_type": "code",
   "execution_count": 31,
   "metadata": {},
   "outputs": [
    {
     "name": "stdout",
     "output_type": "stream",
     "text": [
      "replace_accent_dict {'á': 'a', 'é': 'e', 'í': 'i', 'ó': 'o', 'ú': 'u', 'ü': 'u'} \n",
      " eliminamos los acentos en las palabras \n",
      "\n",
      "por otro lado la policia hizo allanamientos en bogota, medellin y cali a viviendas de personas que hacen parte de movimientos que promueven el #paronacional21nov en estos allanamientos las autoridades se llevaron pinceles, pinturas y carteles alusivos al paro. \n",
      "\n",
      "casa en belen la gloria sobre la avenida 80 en medellinantioquiacolombia en venta \n",
      "\n",
      "@matyakdmia @cyndlq club colombia perro. y el ron medellin que tomo hasta @nahuerc \n",
      "\n",
      "@kenrovlogs hermoso corazon saludos desde medellin colombia \n",
      "\n",
      "carechimba, empezo a llover justo cuando tengo que ir a clase, o sea, no, medellin, me tenes mamada marica \n",
      "\n",
      "@der0207 @iamcabezoon junior le ofrecio mas q medellin, lo dijeron en win, pero el burro este solo juega en su dim \n",
      "\n",
      "el aire mas enrarecido, el cielo cada vez mas gris y unas congestiones insoportables en las vias. la medida del pico y placa ambiental en #medellin deja mucho que desear hasta que no se tomen soluciones drasticas y de fondo. \n",
      "\n",
      "una alcaldia con sexto sentido: ana cristina quiere ser la primera mujer alcaldesa de medellin por voto popular \n",
      "\n",
      "@herman_cadena @quinterocalle si, @quinterocalle es una voz esperanzadora para medellin, en medio del aterrador ruido de la corrupcion y la guerra. \n",
      "\n",
      "@luisernestogl @kikearcinieg dos lideres arrancaron el mismo dia con sendos discursos en el planetario en un momento de verdad de colombia. el uno sin ninguna tibieza se enfrento a la ultraderecha y es alcalde de medellin. el otro se acobardo y termino en la comodidad de la tibia mermelada verde. \n",
      "\n"
     ]
    }
   ],
   "source": [
    "replace_accent_dict = tools.replace_accent_dict \n",
    "print(f'replace_accent_dict {replace_accent_dict} \\n eliminamos los acentos en las palabras \\n' )\n",
    "for accent, new_value in replace_accent_dict.items():\n",
    "    tweet_text = tweet_text.str.replace(accent,new_value)\n",
    "sample_text=tweet_text.sample(n=10,random_state=10)\n",
    "for text in sample_text:\n",
    "    print(text,\"\\n\")"
   ]
  },
  {
   "cell_type": "code",
   "execution_count": 32,
   "metadata": {},
   "outputs": [
    {
     "name": "stderr",
     "output_type": "stream",
     "text": [
      "/var/folders/df/rgn2104s10v9n3b8vz9xbq1r0000gn/T/ipykernel_5565/179299831.py:1: DeprecationWarning: The default dtype for empty Series will be 'object' instead of 'float64' in a future version. Specify a dtype explicitly to silence this warning.\n",
      "  tweet_text_alpha=pd.Series()\n"
     ]
    },
    {
     "name": "stdout",
     "output_type": "stream",
     "text": [
      "por otro lado la policia hizo allanamientos en medellin y cali a viviendas de personas que hacen parte de movimientos que promueven el en estos allanamientos las autoridades se llevaron pinturas y carteles alusivos al  \n",
      "\n",
      "casa en belen la gloria sobre la avenida en medellinantioquiacolombia en venta  \n",
      "\n",
      "club colombia y el ron medellin que tomo hasta  \n",
      "\n",
      "hermoso corazon saludos desde medellin colombia  \n",
      "\n",
      "empezo a llover justo cuando tengo que ir a o me tenes mamada marica  \n",
      "\n",
      "junior le ofrecio mas q lo dijeron en pero el burro este solo juega en su dim  \n",
      "\n",
      "el aire mas el cielo cada vez mas gris y unas congestiones insoportables en las la medida del pico y placa ambiental en deja mucho que desear hasta que no se tomen soluciones drasticas y de  \n",
      "\n",
      "una alcaldia con sexto ana cristina quiere ser la primera mujer alcaldesa de medellin por voto popular  \n",
      "\n",
      "es una voz esperanzadora para en medio del aterrador ruido de la corrupcion y la  \n",
      "\n",
      "dos lideres arrancaron el mismo dia con sendos discursos en el planetario en un momento de verdad de el uno sin ninguna tibieza se enfrento a la ultraderecha y es alcalde de el otro se acobardo y termino en la comodidad de la tibia mermelada  \n",
      "\n"
     ]
    }
   ],
   "source": [
    "tweet_text_alpha=pd.Series()\n",
    "for tweet in tweet_text:\n",
    "    new_tweet=''\n",
    "    for word in tweet.split():\n",
    "        if word.isalpha():\n",
    "            new_tweet+=word+' '\n",
    "    tweet_text_alpha=tweet_text_alpha.append(pd.Series(new_tweet))\n",
    "sample_text=tweet_text_alpha.sample(n=10,random_state=10)\n",
    "for text in sample_text:\n",
    "    print(text,\"\\n\")"
   ]
  },
  {
   "cell_type": "code",
   "execution_count": 33,
   "metadata": {},
   "outputs": [],
   "source": [
    "tweet_text=tweet_text_alpha"
   ]
  },
  {
   "cell_type": "code",
   "execution_count": 34,
   "metadata": {},
   "outputs": [
    {
     "name": "stdout",
     "output_type": "stream",
     "text": [
      "stop_words ['de', 'la', 'en', 'y', 'el', 'que', 'a', 'medellin', 'los', 'con', 'no', 'por', 'es', 'para', 'del', 'se', 'un', 'las', 'una', 'lo', 'su', 'mas', 'esta', 'como', 'si', 'le', 'este', 'al', 'me', 'mi', 'pero', 'o', 'sus', 'hay', 'son', 'nos', 'ya', 'te', 'tiene', 'hoy', 'todo', 'sin', 'tu', 'ha', 'q', 'fue', 'eso', 'todos', 'muy', 'años', 'ser', 'porque', 'asi', 'cuando', 'solo', 'desde', 'hace', 'les', 'ni', 'yo', 'hacer', 'estan', 'donde', 'dia', 'ese', 'entre', 'hasta', 'toda', 'esa', 'e', 'va', 'han', 'aqui', 'parte', 'esto', 'tan', 'ahora', 'uno', 'bien', 'cada', 'quien', 'tienen', 'mucho', 'gran', 'tambien', 'estamos', 'usted', 'puede', 'sera', 'dos', 'ver', 'nuestrs', 'siempre', 'estos', 'contra', 'nada', 'dias', 'era', 'tener', 'debe', 'a', 'traves', 'sobre', 'sea', 'vez', 'cali', 'menos', 'muchos', 'sido', 'tenemos', 'san', 'año', 'durante', 'ejemplo', 'medio', 'soy', 'buen', 'señor', 'cuenta', 'hola', 'aca', 'van', 'estas', 'algo', 'mismo', 'da', 'nunca', 'todas', 'hecho', 'hizo', 'he', 'vamos', 'd', 'estoy', 'paso', 'cual', 'bogota', 'nuestro', 'nuestra', 'antioquia', 'colombia', 'nuestros'] \n",
      " eliminamos las stop_words \n",
      "\n"
     ]
    }
   ],
   "source": [
    "stop_words = tools.stop_words \n",
    "print(f'stop_words {stop_words} \\n eliminamos las stop_words \\n' )\n"
   ]
  },
  {
   "cell_type": "code",
   "execution_count": 35,
   "metadata": {},
   "outputs": [
    {
     "name": "stderr",
     "output_type": "stream",
     "text": [
      "/var/folders/df/rgn2104s10v9n3b8vz9xbq1r0000gn/T/ipykernel_5565/815043929.py:1: DeprecationWarning: The default dtype for empty Series will be 'object' instead of 'float64' in a future version. Specify a dtype explicitly to silence this warning.\n",
      "  tweet_text_nonstop=pd.Series()\n"
     ]
    },
    {
     "name": "stdout",
     "output_type": "stream",
     "text": [
      "otro lado policia allanamientos viviendas personas hacen movimientos promueven allanamientos autoridades llevaron pinturas carteles alusivos  \n",
      "\n",
      "casa belen gloria avenida medellinantioquiacolombia venta  \n",
      "\n",
      "club ron tomo  \n",
      "\n",
      "hermoso corazon saludos  \n",
      "\n",
      "empezo llover justo tengo ir tenes mamada marica  \n",
      "\n",
      "junior ofrecio dijeron burro juega dim  \n",
      "\n",
      "aire cielo gris unas congestiones insoportables medida pico placa ambiental deja desear tomen soluciones drasticas  \n",
      "\n",
      "alcaldia sexto ana cristina quiere primera mujer alcaldesa voto popular  \n",
      "\n",
      "voz esperanzadora aterrador ruido corrupcion  \n",
      "\n",
      "lideres arrancaron sendos discursos planetario momento verdad ninguna tibieza enfrento ultraderecha alcalde otro acobardo termino comodidad tibia mermelada  \n",
      "\n"
     ]
    }
   ],
   "source": [
    "tweet_text_nonstop=pd.Series()\n",
    "for tweet in tweet_text:\n",
    "    new_tweet=''\n",
    "    for word in tweet.split():\n",
    "        if word not in stop_words:\n",
    "            new_tweet+=word+' '\n",
    "    tweet_text_nonstop=tweet_text_nonstop.append(pd.Series(new_tweet))\n",
    "sample_text=tweet_text_nonstop.sample(n=10,random_state=10)\n",
    "for text in sample_text:\n",
    "    print(text,\"\\n\")"
   ]
  },
  {
   "cell_type": "code",
   "execution_count": 36,
   "metadata": {},
   "outputs": [
    {
     "data": {
      "image/png": "[encoded data removed]",
      "text/plain": [
       "<Figure size 1080x1080 with 1 Axes>"
      ]
     },
     "metadata": {},
     "output_type": "display_data"
    }
   ],
   "source": [
    "word_tweet_cloud=[]\n",
    "for tweet in tweet_text:\n",
    "    for words in tweet.split():\n",
    "        word_tweet_cloud.append(words)\n",
    "word_fre = FreqDist(word_tweet_cloud)\n",
    "plot_word_cloud(char_mask, word_fre)"
   ]
  },
  {
   "cell_type": "code",
   "execution_count": 37,
   "metadata": {},
   "outputs": [
    {
     "data": {
      "text/plain": [
       "[('de', 20110),\n",
       " ('en', 13842),\n",
       " ('la', 10699),\n",
       " ('medellin', 9942),\n",
       " ('y', 8904),\n",
       " ('el', 8501),\n",
       " ('que', 8246),\n",
       " ('a', 7619),\n",
       " ('los', 3783),\n",
       " ('no', 3490),\n",
       " ('con', 3433),\n",
       " ('por', 3370),\n",
       " ('del', 3368),\n",
       " ('para', 3234),\n",
       " ('es', 3163),\n",
       " ('se', 2969),\n",
       " ('un', 2684),\n",
       " ('las', 2519),\n",
       " ('una', 2019),\n",
       " ('lo', 1759),\n",
       " ('al', 1714),\n",
       " ('como', 1453),\n",
       " ('mas', 1426),\n",
       " ('esta', 1399),\n",
       " ('me', 1378),\n",
       " ('su', 1180),\n",
       " ('si', 1148),\n",
       " ('este', 1048),\n",
       " ('desde', 997),\n",
       " ('le', 916)]"
      ]
     },
     "execution_count": 37,
     "metadata": {},
     "output_type": "execute_result"
    }
   ],
   "source": [
    "word_fre.most_common(30)  # Get 30 most common words"
   ]
  },
  {
   "cell_type": "markdown",
   "metadata": {},
   "source": [
    "As the most repeated words are words that do not represent anything relevant to our analysis, they will be included in the stop words and we will filter them so that they are not included in the word cloud and thus arrive at a more meaningful result.\n",
    "This process will be carried out until we eliminate all the stop words and the word cloud shows us something more significant."
   ]
  },
  {
   "cell_type": "code",
   "execution_count": 38,
   "metadata": {},
   "outputs": [
    {
     "data": {
      "image/png": "[encoded data removed]",
      "text/plain": [
       "<Figure size 1080x1080 with 1 Axes>"
      ]
     },
     "metadata": {},
     "output_type": "display_data"
    }
   ],
   "source": [
    "word_tweet_nonstop_cloud=[]\n",
    "for tweet in tweet_text_nonstop:\n",
    "    for words in tweet.split():\n",
    "        word_tweet_nonstop_cloud.append(words)\n",
    "word_fre = FreqDist(word_tweet_nonstop_cloud)\n",
    "plot_word_cloud(char_mask, word_fre)"
   ]
  },
  {
   "cell_type": "code",
   "execution_count": 39,
   "metadata": {},
   "outputs": [
    {
     "data": {
      "text/html": [
       "<div>\n",
       "<style scoped>\n",
       "    .dataframe tbody tr th:only-of-type {\n",
       "        vertical-align: middle;\n",
       "    }\n",
       "\n",
       "    .dataframe tbody tr th {\n",
       "        vertical-align: top;\n",
       "    }\n",
       "\n",
       "    .dataframe thead th {\n",
       "        text-align: right;\n",
       "    }\n",
       "</style>\n",
       "<table border=\"1\" class=\"dataframe\">\n",
       "  <thead>\n",
       "    <tr style=\"text-align: right;\">\n",
       "      <th></th>\n",
       "      <th>word</th>\n",
       "      <th>frequency</th>\n",
       "    </tr>\n",
       "  </thead>\n",
       "  <tbody>\n",
       "    <tr>\n",
       "      <th>6</th>\n",
       "      <td>nadie</td>\n",
       "      <td>92</td>\n",
       "    </tr>\n",
       "    <tr>\n",
       "      <th>10</th>\n",
       "      <td>calles</td>\n",
       "      <td>75</td>\n",
       "    </tr>\n",
       "    <tr>\n",
       "      <th>16</th>\n",
       "      <td>casa</td>\n",
       "      <td>180</td>\n",
       "    </tr>\n",
       "    <tr>\n",
       "      <th>18</th>\n",
       "      <td>nuestras</td>\n",
       "      <td>79</td>\n",
       "    </tr>\n",
       "    <tr>\n",
       "      <th>21</th>\n",
       "      <td>contamos</td>\n",
       "      <td>66</td>\n",
       "    </tr>\n",
       "    <tr>\n",
       "      <th>...</th>\n",
       "      <td>...</td>\n",
       "      <td>...</td>\n",
       "    </tr>\n",
       "    <tr>\n",
       "      <th>9414</th>\n",
       "      <td>diputado</td>\n",
       "      <td>60</td>\n",
       "    </tr>\n",
       "    <tr>\n",
       "      <th>10054</th>\n",
       "      <td>conocelo</td>\n",
       "      <td>68</td>\n",
       "    </tr>\n",
       "    <tr>\n",
       "      <th>10940</th>\n",
       "      <td>joya</td>\n",
       "      <td>170</td>\n",
       "    </tr>\n",
       "    <tr>\n",
       "      <th>11846</th>\n",
       "      <td>perras</td>\n",
       "      <td>169</td>\n",
       "    </tr>\n",
       "    <tr>\n",
       "      <th>11847</th>\n",
       "      <td>gastronomica</td>\n",
       "      <td>168</td>\n",
       "    </tr>\n",
       "  </tbody>\n",
       "</table>\n",
       "<p>456 rows × 2 columns</p>\n",
       "</div>"
      ],
      "text/plain": [
       "               word  frequency\n",
       "6             nadie         92\n",
       "10           calles         75\n",
       "16             casa        180\n",
       "18         nuestras         79\n",
       "21         contamos         66\n",
       "...             ...        ...\n",
       "9414       diputado         60\n",
       "10054      conocelo         68\n",
       "10940          joya        170\n",
       "11846        perras        169\n",
       "11847  gastronomica        168\n",
       "\n",
       "[456 rows x 2 columns]"
      ]
     },
     "execution_count": 39,
     "metadata": {},
     "output_type": "execute_result"
    }
   ],
   "source": [
    "dict_to_df = {'word':[],'frequency':[]}\n",
    "for key, value in word_fre.items():\n",
    "  dict_to_df['word'].append(key)\n",
    "  dict_to_df['frequency'].append(value)\n",
    "\n",
    "# create a Df with th efrequency of each word\n",
    "df = pd.DataFrame.from_dict(dict_to_df)\n",
    "df[df['frequency'] > 50]"
   ]
  },
  {
   "cell_type": "markdown",
   "metadata": {},
   "source": [
    "### EDA: MDP "
   ]
  },
  {
   "cell_type": "markdown",
   "metadata": {},
   "source": [
    "## Data preparation"
   ]
  },
  {
   "cell_type": "markdown",
   "metadata": {},
   "source": [
    "### EDA: Tweet keywords 2019-2022"
   ]
  }
 ],
 "metadata": {
  "kernelspec": {
   "display_name": "Python 3.8.8 ('base')",
   "language": "python",
   "name": "python3"
  },
  "language_info": {
   "codemirror_mode": {
    "name": "ipython",
    "version": 3
   },
   "file_extension": ".py",
   "mimetype": "text/x-python",
   "name": "python",
   "nbconvert_exporter": "python",
   "pygments_lexer": "ipython3",
   "version": "3.8.8"
  },
  "orig_nbformat": 4,
  "vscode": {
   "interpreter": {
    "hash": "40d3a090f54c6569ab1632332b64b2c03c39dcf918b08424e98f38b5ae0af88f"
   }
  }
 },
 "nbformat": 4,
 "nbformat_minor": 2
}
