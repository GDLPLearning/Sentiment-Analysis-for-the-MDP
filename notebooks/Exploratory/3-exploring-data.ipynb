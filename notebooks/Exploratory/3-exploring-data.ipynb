{
 "cells": [
  {
   "cell_type": "code",
   "execution_count": 116,
   "metadata": {},
   "outputs": [
    {
     "name": "stderr",
     "output_type": "stream",
     "text": [
      "[nltk_data] Downloading package punkt to\n",
      "[nltk_data]     /Users/gustavovergara238/nltk_data...\n",
      "[nltk_data]   Package punkt is already up-to-date!\n",
      "[nltk_data] Downloading package stopwords to\n",
      "[nltk_data]     /Users/gustavovergara238/nltk_data...\n",
      "[nltk_data]   Package stopwords is already up-to-date!\n"
     ]
    }
   ],
   "source": [
    "# libraries to describe de data\n",
    "\n",
    "import pandas as pd\n",
    "import numpy as np\n",
    "import matplotlib.pyplot as plt\n",
    "import nltk # imports the natural language toolkit\n",
    "nltk.download('punkt')\n",
    "nltk.download('stopwords')\n",
    "import string\n",
    "from nltk.stem import PorterStemmer \n",
    "import seaborn as sns\n",
    "from wordcloud import WordCloud\n",
    "from datetime import datetime\n",
    "from PIL import Image\n",
    "from nltk.probability import FreqDist\n",
    "\n",
    "plt.style.use('ggplot')"
   ]
  },
  {
   "cell_type": "code",
   "execution_count": 117,
   "metadata": {},
   "outputs": [],
   "source": [
    "df_tweets = pd.read_csv('data/2019.csv') # read the csv file"
   ]
  },
  {
   "cell_type": "code",
   "execution_count": 118,
   "metadata": {},
   "outputs": [
    {
     "data": {
      "text/plain": [
       "(17698, 9)"
      ]
     },
     "execution_count": 118,
     "metadata": {},
     "output_type": "execute_result"
    }
   ],
   "source": [
    "df_tweets.shape # shows the number of rows and columns"
   ]
  },
  {
   "cell_type": "code",
   "execution_count": 119,
   "metadata": {},
   "outputs": [
    {
     "name": "stdout",
     "output_type": "stream",
     "text": [
      "<class 'pandas.core.frame.DataFrame'>\n",
      "RangeIndex: 17698 entries, 0 to 17697\n",
      "Data columns (total 9 columns):\n",
      " #   Column           Non-Null Count  Dtype \n",
      "---  ------           --------------  ----- \n",
      " 0   full_text        17698 non-null  object\n",
      " 1   user             17698 non-null  object\n",
      " 2   location         17698 non-null  object\n",
      " 3   date             17698 non-null  object\n",
      " 4   tweet_id         17698 non-null  int64 \n",
      " 5   number_rt        17698 non-null  int64 \n",
      " 6   number_likes     17698 non-null  int64 \n",
      " 7   number_reply     17698 non-null  int64 \n",
      " 8   conversation_id  17698 non-null  int64 \n",
      "dtypes: int64(5), object(4)\n",
      "memory usage: 1.2+ MB\n"
     ]
    }
   ],
   "source": [
    "df_tweets.info() # shows the data types of each column"
   ]
  },
  {
   "cell_type": "code",
   "execution_count": 120,
   "metadata": {},
   "outputs": [
    {
     "data": {
      "text/html": [
       "<div>\n",
       "<style scoped>\n",
       "    .dataframe tbody tr th:only-of-type {\n",
       "        vertical-align: middle;\n",
       "    }\n",
       "\n",
       "    .dataframe tbody tr th {\n",
       "        vertical-align: top;\n",
       "    }\n",
       "\n",
       "    .dataframe thead th {\n",
       "        text-align: right;\n",
       "    }\n",
       "</style>\n",
       "<table border=\"1\" class=\"dataframe\">\n",
       "  <thead>\n",
       "    <tr style=\"text-align: right;\">\n",
       "      <th></th>\n",
       "      <th>tweet_id</th>\n",
       "      <th>number_rt</th>\n",
       "      <th>number_likes</th>\n",
       "      <th>number_reply</th>\n",
       "      <th>conversation_id</th>\n",
       "    </tr>\n",
       "  </thead>\n",
       "  <tbody>\n",
       "    <tr>\n",
       "      <th>count</th>\n",
       "      <td>1.769800e+04</td>\n",
       "      <td>17698.000000</td>\n",
       "      <td>17698.000000</td>\n",
       "      <td>17698.000000</td>\n",
       "      <td>1.769800e+04</td>\n",
       "    </tr>\n",
       "    <tr>\n",
       "      <th>mean</th>\n",
       "      <td>1.147017e+18</td>\n",
       "      <td>2.145101</td>\n",
       "      <td>7.685614</td>\n",
       "      <td>0.606848</td>\n",
       "      <td>1.146736e+18</td>\n",
       "    </tr>\n",
       "    <tr>\n",
       "      <th>std</th>\n",
       "      <td>3.824295e+16</td>\n",
       "      <td>25.705813</td>\n",
       "      <td>97.046305</td>\n",
       "      <td>7.947419</td>\n",
       "      <td>3.908216e+16</td>\n",
       "    </tr>\n",
       "    <tr>\n",
       "      <th>min</th>\n",
       "      <td>1.083115e+18</td>\n",
       "      <td>0.000000</td>\n",
       "      <td>0.000000</td>\n",
       "      <td>0.000000</td>\n",
       "      <td>6.265645e+17</td>\n",
       "    </tr>\n",
       "    <tr>\n",
       "      <th>25%</th>\n",
       "      <td>1.111778e+18</td>\n",
       "      <td>0.000000</td>\n",
       "      <td>0.000000</td>\n",
       "      <td>0.000000</td>\n",
       "      <td>1.111776e+18</td>\n",
       "    </tr>\n",
       "    <tr>\n",
       "      <th>50%</th>\n",
       "      <td>1.145119e+18</td>\n",
       "      <td>0.000000</td>\n",
       "      <td>0.000000</td>\n",
       "      <td>0.000000</td>\n",
       "      <td>1.145118e+18</td>\n",
       "    </tr>\n",
       "    <tr>\n",
       "      <th>75%</th>\n",
       "      <td>1.178459e+18</td>\n",
       "      <td>0.000000</td>\n",
       "      <td>2.000000</td>\n",
       "      <td>0.000000</td>\n",
       "      <td>1.178457e+18</td>\n",
       "    </tr>\n",
       "    <tr>\n",
       "      <th>max</th>\n",
       "      <td>1.244776e+18</td>\n",
       "      <td>1650.000000</td>\n",
       "      <td>6946.000000</td>\n",
       "      <td>794.000000</td>\n",
       "      <td>1.244776e+18</td>\n",
       "    </tr>\n",
       "  </tbody>\n",
       "</table>\n",
       "</div>"
      ],
      "text/plain": [
       "           tweet_id     number_rt  number_likes  number_reply  conversation_id\n",
       "count  1.769800e+04  17698.000000  17698.000000  17698.000000     1.769800e+04\n",
       "mean   1.147017e+18      2.145101      7.685614      0.606848     1.146736e+18\n",
       "std    3.824295e+16     25.705813     97.046305      7.947419     3.908216e+16\n",
       "min    1.083115e+18      0.000000      0.000000      0.000000     6.265645e+17\n",
       "25%    1.111778e+18      0.000000      0.000000      0.000000     1.111776e+18\n",
       "50%    1.145119e+18      0.000000      0.000000      0.000000     1.145118e+18\n",
       "75%    1.178459e+18      0.000000      2.000000      0.000000     1.178457e+18\n",
       "max    1.244776e+18   1650.000000   6946.000000    794.000000     1.244776e+18"
      ]
     },
     "execution_count": 120,
     "metadata": {},
     "output_type": "execute_result"
    }
   ],
   "source": [
    "df_tweets.describe() # shows the mean, std, min, max, etc. of each column"
   ]
  },
  {
   "cell_type": "code",
   "execution_count": 121,
   "metadata": {},
   "outputs": [
    {
     "data": {
      "text/plain": [
       "count    17698.000000\n",
       "mean       142.696293\n",
       "std         79.503198\n",
       "min          7.000000\n",
       "25%         77.000000\n",
       "50%        126.000000\n",
       "75%        208.000000\n",
       "max        689.000000\n",
       "Name: full_text, dtype: float64"
      ]
     },
     "execution_count": 121,
     "metadata": {},
     "output_type": "execute_result"
    }
   ],
   "source": [
    "df_tweets['full_text'].str.len().describe()"
   ]
  },
  {
   "cell_type": "markdown",
   "metadata": {},
   "source": [
    "En cuanto a la longitud del texto del tweet medida en carácteres, encontramos un promedio de 143 carácteres, un máximo de 689 carácteres y un mínimo de 7 carácteres."
   ]
  },
  {
   "cell_type": "code",
   "execution_count": 122,
   "metadata": {},
   "outputs": [
    {
     "data": {
      "image/png": "[encoded data removed]",
      "text/plain": [
       "<Figure size 1224x648 with 1 Axes>"
      ]
     },
     "metadata": {},
     "output_type": "display_data"
    }
   ],
   "source": [
    "df_tweets['full_text'].str.len().mean() # shows the average length of the tweets\n",
    "plt.hist(df_tweets['full_text'].str.len(),bins=25); # shows the histogram of the length of the tweets\n"
   ]
  },
  {
   "cell_type": "markdown",
   "metadata": {},
   "source": [
    "De acuerdo a la gráfica anterior, podemos encontrar que la distribución es sesgada a la derecha. Hay temas más sensibles o controversiales que requieren una mayor extensión de carácteres. Para ello, pasamos a analizar las palabras dentro del tweet."
   ]
  },
  {
   "cell_type": "code",
   "execution_count": 123,
   "metadata": {},
   "outputs": [
    {
     "data": {
      "text/plain": [
       "count    17698.000000\n",
       "mean        21.930105\n",
       "std         12.619929\n",
       "min          1.000000\n",
       "25%         12.000000\n",
       "50%         19.000000\n",
       "75%         31.000000\n",
       "max         75.000000\n",
       "Name: full_text, dtype: float64"
      ]
     },
     "execution_count": 123,
     "metadata": {},
     "output_type": "execute_result"
    }
   ],
   "source": [
    "df_tweets['full_text'].str.split().str.len().describe()"
   ]
  },
  {
   "cell_type": "markdown",
   "metadata": {},
   "source": [
    "En cuanto a la longitud del texto del tweet medida en palabras, encontramos un promedio de 22 palabras, un máximo de 75 palabras y un mínimo de 1 palabra. "
   ]
  },
  {
   "cell_type": "code",
   "execution_count": 124,
   "metadata": {},
   "outputs": [
    {
     "data": {
      "image/png": "[encoded data removed]",
      "text/plain": [
       "<Figure size 1224x648 with 1 Axes>"
      ]
     },
     "metadata": {},
     "output_type": "display_data"
    }
   ],
   "source": [
    "plt.hist(df_tweets['full_text'].str.split().str.len()); # shows the histogram of the length of the words in the tweets"
   ]
  },
  {
   "cell_type": "markdown",
   "metadata": {},
   "source": [
    "Observamos el mismo comportamiento cuando vemos la distribción en cuanto palabras. Procederemos a revisar los tweets que contienen el mínimo y el máximo de palabras."
   ]
  },
  {
   "cell_type": "code",
   "execution_count": 125,
   "metadata": {},
   "outputs": [],
   "source": [
    "data=df_tweets.copy() # copy the dataframe\n",
    "data['num_words']=df_tweets['full_text'].str.split().str.len() # create a new column with the number of words in each tweet\n",
    "data['num_char']=df_tweets['full_text'].str.len() # create a new column with the number of characters in each tweet"
   ]
  },
  {
   "cell_type": "code",
   "execution_count": 126,
   "metadata": {},
   "outputs": [
    {
     "data": {
      "text/html": [
       "<div>\n",
       "<style scoped>\n",
       "    .dataframe tbody tr th:only-of-type {\n",
       "        vertical-align: middle;\n",
       "    }\n",
       "\n",
       "    .dataframe tbody tr th {\n",
       "        vertical-align: top;\n",
       "    }\n",
       "\n",
       "    .dataframe thead th {\n",
       "        text-align: right;\n",
       "    }\n",
       "</style>\n",
       "<table border=\"1\" class=\"dataframe\">\n",
       "  <thead>\n",
       "    <tr style=\"text-align: right;\">\n",
       "      <th></th>\n",
       "      <th>index</th>\n",
       "      <th>num_words</th>\n",
       "    </tr>\n",
       "  </thead>\n",
       "  <tbody>\n",
       "    <tr>\n",
       "      <th>64</th>\n",
       "      <td>75</td>\n",
       "      <td>1</td>\n",
       "    </tr>\n",
       "    <tr>\n",
       "      <th>63</th>\n",
       "      <td>69</td>\n",
       "      <td>1</td>\n",
       "    </tr>\n",
       "    <tr>\n",
       "      <th>65</th>\n",
       "      <td>67</td>\n",
       "      <td>1</td>\n",
       "    </tr>\n",
       "    <tr>\n",
       "      <th>62</th>\n",
       "      <td>65</td>\n",
       "      <td>1</td>\n",
       "    </tr>\n",
       "    <tr>\n",
       "      <th>59</th>\n",
       "      <td>62</td>\n",
       "      <td>3</td>\n",
       "    </tr>\n",
       "    <tr>\n",
       "      <th>...</th>\n",
       "      <td>...</td>\n",
       "      <td>...</td>\n",
       "    </tr>\n",
       "    <tr>\n",
       "      <th>24</th>\n",
       "      <td>5</td>\n",
       "      <td>323</td>\n",
       "    </tr>\n",
       "    <tr>\n",
       "      <th>31</th>\n",
       "      <td>4</td>\n",
       "      <td>277</td>\n",
       "    </tr>\n",
       "    <tr>\n",
       "      <th>42</th>\n",
       "      <td>3</td>\n",
       "      <td>163</td>\n",
       "    </tr>\n",
       "    <tr>\n",
       "      <th>46</th>\n",
       "      <td>2</td>\n",
       "      <td>123</td>\n",
       "    </tr>\n",
       "    <tr>\n",
       "      <th>54</th>\n",
       "      <td>1</td>\n",
       "      <td>20</td>\n",
       "    </tr>\n",
       "  </tbody>\n",
       "</table>\n",
       "<p>66 rows × 2 columns</p>\n",
       "</div>"
      ],
      "text/plain": [
       "    index  num_words\n",
       "64     75          1\n",
       "63     69          1\n",
       "65     67          1\n",
       "62     65          1\n",
       "59     62          3\n",
       "..    ...        ...\n",
       "24      5        323\n",
       "31      4        277\n",
       "42      3        163\n",
       "46      2        123\n",
       "54      1         20\n",
       "\n",
       "[66 rows x 2 columns]"
      ]
     },
     "execution_count": 126,
     "metadata": {},
     "output_type": "execute_result"
    }
   ],
   "source": [
    "data['num_words'].value_counts().reset_index().sort_values(by='index',ascending=False) # shows the number of words in each tweet"
   ]
  },
  {
   "cell_type": "code",
   "execution_count": 127,
   "metadata": {},
   "outputs": [
    {
     "data": {
      "text/html": [
       "<div>\n",
       "<style scoped>\n",
       "    .dataframe tbody tr th:only-of-type {\n",
       "        vertical-align: middle;\n",
       "    }\n",
       "\n",
       "    .dataframe tbody tr th {\n",
       "        vertical-align: top;\n",
       "    }\n",
       "\n",
       "    .dataframe thead th {\n",
       "        text-align: right;\n",
       "    }\n",
       "</style>\n",
       "<table border=\"1\" class=\"dataframe\">\n",
       "  <thead>\n",
       "    <tr style=\"text-align: right;\">\n",
       "      <th></th>\n",
       "      <th>full_text</th>\n",
       "      <th>num_words</th>\n",
       "    </tr>\n",
       "  </thead>\n",
       "  <tbody>\n",
       "  </tbody>\n",
       "</table>\n",
       "</div>"
      ],
      "text/plain": [
       "Empty DataFrame\n",
       "Columns: [full_text, num_words]\n",
       "Index: []"
      ]
     },
     "execution_count": 127,
     "metadata": {},
     "output_type": "execute_result"
    }
   ],
   "source": [
    "data[['full_text','num_words']][data['num_words']==73]"
   ]
  },
  {
   "cell_type": "code",
   "execution_count": 128,
   "metadata": {},
   "outputs": [
    {
     "data": {
      "text/html": [
       "<div>\n",
       "<style scoped>\n",
       "    .dataframe tbody tr th:only-of-type {\n",
       "        vertical-align: middle;\n",
       "    }\n",
       "\n",
       "    .dataframe tbody tr th {\n",
       "        vertical-align: top;\n",
       "    }\n",
       "\n",
       "    .dataframe thead th {\n",
       "        text-align: right;\n",
       "    }\n",
       "</style>\n",
       "<table border=\"1\" class=\"dataframe\">\n",
       "  <thead>\n",
       "    <tr style=\"text-align: right;\">\n",
       "      <th></th>\n",
       "      <th>full_text</th>\n",
       "      <th>num_words</th>\n",
       "    </tr>\n",
       "  </thead>\n",
       "  <tbody>\n",
       "    <tr>\n",
       "      <th>13598</th>\n",
       "      <td>@yerbomatofono Medellín</td>\n",
       "      <td>2</td>\n",
       "    </tr>\n",
       "    <tr>\n",
       "      <th>6338</th>\n",
       "      <td>@adan_medellin Ajajajajajaja.</td>\n",
       "      <td>2</td>\n",
       "    </tr>\n",
       "    <tr>\n",
       "      <th>271</th>\n",
       "      <td>Medellín</td>\n",
       "      <td>1</td>\n",
       "    </tr>\n",
       "    <tr>\n",
       "      <th>3788</th>\n",
       "      <td>@ojitosgp Medellín</td>\n",
       "      <td>2</td>\n",
       "    </tr>\n",
       "    <tr>\n",
       "      <th>14201</th>\n",
       "      <td>@JoseCuelloB Medellín.</td>\n",
       "      <td>2</td>\n",
       "    </tr>\n",
       "    <tr>\n",
       "      <th>8072</th>\n",
       "      <td>MUNDOPARLANTE MEDELLIN</td>\n",
       "      <td>2</td>\n",
       "    </tr>\n",
       "    <tr>\n",
       "      <th>5381</th>\n",
       "      <td>Medellín*</td>\n",
       "      <td>1</td>\n",
       "    </tr>\n",
       "    <tr>\n",
       "      <th>10308</th>\n",
       "      <td>Medellín!!!! 😘</td>\n",
       "      <td>2</td>\n",
       "    </tr>\n",
       "    <tr>\n",
       "      <th>5104</th>\n",
       "      <td>Medellín cumplió.</td>\n",
       "      <td>2</td>\n",
       "    </tr>\n",
       "    <tr>\n",
       "      <th>8654</th>\n",
       "      <td>Medellin próximamente</td>\n",
       "      <td>2</td>\n",
       "    </tr>\n",
       "  </tbody>\n",
       "</table>\n",
       "</div>"
      ],
      "text/plain": [
       "                            full_text  num_words\n",
       "13598         @yerbomatofono Medellín          2\n",
       "6338    @adan_medellin Ajajajajajaja.          2\n",
       "271                          Medellín          1\n",
       "3788               @ojitosgp Medellín          2\n",
       "14201          @JoseCuelloB Medellín.          2\n",
       "8072           MUNDOPARLANTE MEDELLIN          2\n",
       "5381                        Medellín*          1\n",
       "10308                  Medellín!!!! 😘          2\n",
       "5104                Medellín cumplió.          2\n",
       "8654            Medellin próximamente          2"
      ]
     },
     "execution_count": 128,
     "metadata": {},
     "output_type": "execute_result"
    }
   ],
   "source": [
    "data[['full_text','num_words']][data['num_words']<=2].sort_values(by='num_words').sample(10) # shows the tweets with 75 words or 1 word"
   ]
  },
  {
   "cell_type": "markdown",
   "metadata": {},
   "source": [
    "Podemos observar como los tweets con menor cantidad de palabras (2 o menos), la palabra \"Medellín\" es la más recurrente. Esto debido a que es nuestro principal tema de búsqueda. En el caso de los tweets con exactamente dos palabras, \"Medellín\" aparece acompañado de una mención, un emoticón, un año, entre otras."
   ]
  },
  {
   "cell_type": "code",
   "execution_count": 129,
   "metadata": {},
   "outputs": [
    {
     "data": {
      "text/plain": [
       "' @Alex881490101 @Ceballitos1 @ramirezdo @Angeljosew1 @RadicalEd @lilipiedadvalle @LAPacifiKA @LeilaChujfi @SerHRodriguez @ANNALVAREZG @MiremosaVer @juancadelgado @gener_usuga @MonoMeLlaman @edywfernandez @JAtecor @merv59 @JUANCAELBROKY @ClavijoAndres83 @Marianiniecheve @JohaFuentes @gurozu @MauricioGalin11 @LaMamert4 @DIDASKALOSW @InTweetiva @lbertoortiz @mauronuma @DanielSamperO @Julianaramirez6 @AlvaroUribeVel Esos uribeños que reciclan todo lo que dice su amo me hacen reír mucho. Es como hablar con un lorito. «Angelito quiere cacao» jajajajajaja Debería seguir lavando baños y no perder el tiempo defendiendo a un narcoterrorista excartel de Medellín. Un abrazo a todos!'"
      ]
     },
     "execution_count": 129,
     "metadata": {},
     "output_type": "execute_result"
    }
   ],
   "source": [
    "data.loc[8374,'full_text'] # shows the tweet with the index 8374"
   ]
  },
  {
   "cell_type": "code",
   "execution_count": 130,
   "metadata": {},
   "outputs": [],
   "source": [
    "list=[65,67,69,75]\n",
    "data2=data[['full_text','num_words']][(data['num_words']).isin(list)].sort_values(by='num_words') # shows the tweets with the words 65, 67, 69"
   ]
  },
  {
   "cell_type": "code",
   "execution_count": 131,
   "metadata": {},
   "outputs": [
    {
     "name": "stdout",
     "output_type": "stream",
     "text": [
      " @baloncentralofi @MillosDColombia @MillonariosEste @acordellat @AficionColombia @CuyigansPasto @ConRola @Elyorkalvarez @nixoncarranza Así quedan los 8, el Once tiene buena diferencia de gol y el 9, 10 y 11 tienen partidos muy duros, difícil que sumen los 6, inclusive si esos 3 pierden entre semana ya quedan definidos los 8, a Medellín le tocaría ganar los dos partidos y esperar que el Once no sume en Sta Marta. \n",
      "--------------------  @transmetrobaq @UTSistur @pabvic1 @AMBQuilla @Metrocaribe @OperadorUno1 @luchovoltios @SOBUSA_SA @AtlanticoEmi @jorgecura1070 @CaracolBquilla @HENRYFOREROJ @ExtraNoticiasCo Ajá que culpa tengo yo sí así es la historia del metro Medellín. Aún así si fuera como me dices, digamos q sostiene, porque los metros q tienen más de 20 años y los metroplus q tienen casi la misma edad q los de bquilla, los de TM se ven acabados? Responda! Y estaciones \n",
      "--------------------  @HerliRodriguez2 @CarrillonavasG @indignada2016 @patriciam265 @paula30202449 @Setulus1 @Maluprabo @NATHIK_V @mariu_benoit @tildita16 @IsabelMeja14 @marwhite01 @garces20071 @flaca65 @Adriana43b @Ricardovillaca3 @alfarero30 @SandraDerecha @Termita18 @Uribistayque @AlvaroUribeVel @Juancar30071948 Sí, el me llama todo el tiempo, me dice que está bien y cuando voy a Medellín lo busco porque se donde se mantiene, ha estado en centros de rehabilitación desde que tiene 16 años, pero termina el tratamiento y vuelve a recaer, ya tiene 35 años \n",
      "--------------------  @Alex881490101 @Ceballitos1 @ramirezdo @Angeljosew1 @RadicalEd @lilipiedadvalle @LAPacifiKA @LeilaChujfi @SerHRodriguez @ANNALVAREZG @MiremosaVer @juancadelgado @gener_usuga @MonoMeLlaman @edywfernandez @JAtecor @merv59 @JUANCAELBROKY @ClavijoAndres83 @Marianiniecheve @JohaFuentes @gurozu @MauricioGalin11 @LaMamert4 @DIDASKALOSW @InTweetiva @lbertoortiz @mauronuma @DanielSamperO @Julianaramirez6 @AlvaroUribeVel Esos uribeños que reciclan todo lo que dice su amo me hacen reír mucho. Es como hablar con un lorito. «Angelito quiere cacao» jajajajajaja Debería seguir lavando baños y no perder el tiempo defendiendo a un narcoterrorista excartel de Medellín. Un abrazo a todos!\n"
     ]
    }
   ],
   "source": [
    "print(data2.iloc[0,0],\"\\n\"+\"-\"*20,data2.iloc[1,0],\"\\n\"+\"-\"*20,data2.iloc[2,0],\"\\n\"+\"-\"*20,data2.iloc[3,0])"
   ]
  },
  {
   "cell_type": "markdown",
   "metadata": {},
   "source": [
    "Al ver los textos con mayor extensión de palabras, destacamos dos puntos: \n",
    "1. El gran uso de menciones usando el arroba extiende la longitud del tweet y no aportaría información relevante para el análisis de sentimientos por lo que la eliminación podría considerarse.\n",
    "2. Algo a tener en cuenta al incluir Medellín en el texto del tweet es que este puede no solo referirse a la ciudad, si no también al equipo de futbol \"Deportivo Independiente Medellín\" por lo que hay que saber diferenciar esto si queremos sacar conclusiones.\n",
    "3. Los tweets con menor cantidad de palabras asocian su texto con la palabra \"Medellín\" acompañada de algo más, esto por si solo no sería relevante para nuestro análisis por lo cual se le podría dar un tratamiento especial. "
   ]
  },
  {
   "cell_type": "markdown",
   "metadata": {},
   "source": [
    "## Preprocesamiento del texto"
   ]
  },
  {
   "cell_type": "code",
   "execution_count": 132,
   "metadata": {},
   "outputs": [],
   "source": [
    "# import extra code that will help us in our process\n",
    "import tools \n",
    "# import shape for our word cloud\n",
    "#char_mask = np.array(Image.open('/content/circulo.png'))"
   ]
  },
  {
   "cell_type": "code",
   "execution_count": 133,
   "metadata": {},
   "outputs": [],
   "source": [
    "# figure size in inches\n",
    "sns.set(rc={'figure.figsize':(17,9)})"
   ]
  },
  {
   "cell_type": "code",
   "execution_count": 134,
   "metadata": {},
   "outputs": [],
   "source": [
    "def twitter_to_words(df, column, stop_words,replace_punctuation_dict,replace_accent_dict):\n",
    "  \"\"\"\n",
    "  clean de data to plot a word cloud with only the relevant information\n",
    "  \"\"\"\n",
    "  wwpawsw = [] #Words_Without_Punctuation_And_Without_Stop_Words\n",
    "\n",
    "  # creating a list with all the words inside all the tweets\n",
    "  for tweet in df_tweets[column]:\n",
    "    words = tweet.split()\n",
    "\n",
    "    # remove punctuation marks\n",
    "    for w in words:\n",
    "      wl = w.lower() # word in lower case\n",
    "      # replace some punctuations mark to keep only words\n",
    "      for punctuation, new_value in replace_punctuation_dict.items():\n",
    "        wl = wl.replace(punctuation,new_value)\n",
    "      \n",
    "      if wl.isalpha(): # skip if the word contains punctuation mark \n",
    "\n",
    "        # replace accent mark \n",
    "        for accent, new_value in replace_accent_dict.items():\n",
    "          wl = wl.replace(accent,new_value)\n",
    "\n",
    "        if wl not in stop_words: # filtering by stop words\n",
    "          wwpawsw.append(wl)\n",
    "  \n",
    "  return wwpawsw"
   ]
  },
  {
   "cell_type": "code",
   "execution_count": 135,
   "metadata": {},
   "outputs": [],
   "source": [
    "# function to plot th word cloud\n",
    "\n",
    "def plot_word_cloud(char_mask, word_fre):\n",
    "  # generating the wordcloud\n",
    "  wordcloud = WordCloud(background_color='white',\n",
    "                        mask=char_mask,\n",
    "                        max_words=50).generate_from_frequencies(word_fre)\n",
    "  # plot the word cloud \n",
    "  plt.figure(figsize=(15,15))\n",
    "  plt.imshow(wordcloud)\n",
    "\n",
    "  #to remove axis value\n",
    "  plt.axis('off')\n",
    "  plt.show()"
   ]
  },
  {
   "cell_type": "code",
   "execution_count": 136,
   "metadata": {},
   "outputs": [
    {
     "name": "stdout",
     "output_type": "stream",
     "text": [
      " Por otro lado La Policía hizo allanamientos en Bogotá, Medellín y Cali a viviendas de personas que hacen parte de movimientos que promueven el #ParoNacional21Nov \"En estos allanamientos las autoridades se llevaron pinceles, pinturas y carteles alusivos al paro.\" \n",
      "\n",
      " CASA EN BELÉN LA GLORIA SOBRE LA AVENIDA 80 en Medellín/Antioquia/Colombia en Venta \n",
      "\n",
      " @matyakdmia @CynDLQ Club Colombia perro. Y el Ron Medellín que tomó hasta @Nahuerc \n",
      "\n",
      " @kenroVlogs Hermoso corazon saludos desde medellin colombia \n",
      "\n",
      " Carechimba, EMPEZÓ A LLOVER JUSTO CUANDO TENGO QUE IR A CLASE, O SEA, NO, MEDELLÍN, ME TENÉS MAMADA MARICA \n",
      "\n",
      " @Der0207 @IamCabezoon Junior le ofreció más q Medellín, lo dijeron en win, pero el burro este solo juega en su dim \n",
      "\n",
      " El aire más enrarecido, el cielo cada vez más gris y unas congestiones insoportables en las vías. La medida del pico y placa ambiental en #Medellín deja mucho que desear hasta que no se tomen soluciones drásticas y de fondo. \n",
      "\n",
      " Una alcaldía con sexto sentido: Ana Cristina quiere ser la primera mujer alcaldesa de Medellín por voto popular \n",
      "\n",
      " @Herman_Cadena @QuinteroCalle Si, @QuinteroCalle es una voz esperanzadora para Medellín, en medio del aterrador ruido de la corrupción y la guerra. \n",
      "\n",
      " @LuisErnestoGL @kikearcinieg Dos líderes arrancaron el mismo día con sendos discursos en el planetario en un momento de verdad de Colombia!. el uno sin ninguna tibieza se enfrentó a la ultraderecha y es alcalde de Medellín. el otro se acobardó y terminó en la comodidad de la tibia mermelada verde!. \n",
      "\n"
     ]
    }
   ],
   "source": [
    "tweet_text=df_tweets['full_text']\n",
    "sample_text=tweet_text.sample(n=10,random_state=10)\n",
    "for text in sample_text:\n",
    "  print(text,\"\\n\")\n"
   ]
  },
  {
   "cell_type": "code",
   "execution_count": 137,
   "metadata": {},
   "outputs": [
    {
     "name": "stdout",
     "output_type": "stream",
     "text": [
      "['Por', 'otro', 'lado', 'La', 'Policía', 'hizo', 'allanamientos', 'en', 'Bogotá,', 'Medellín', 'y', 'Cali', 'a', 'viviendas', 'de', 'personas', 'que', 'hacen', 'parte', 'de', 'movimientos', 'que', 'promueven', 'el', '#ParoNacional21Nov', '\"En', 'estos', 'allanamientos', 'las', 'autoridades', 'se', 'llevaron', 'pinceles,', 'pinturas', 'y', 'carteles', 'alusivos', 'al', 'paro.\"'] \n",
      "\n",
      "['CASA', 'EN', 'BELÉN', 'LA', 'GLORIA', 'SOBRE', 'LA', 'AVENIDA', '80', 'en', 'Medellín/Antioquia/Colombia', 'en', 'Venta'] \n",
      "\n",
      "['@matyakdmia', '@CynDLQ', 'Club', 'Colombia', 'perro.', 'Y', 'el', 'Ron', 'Medellín', 'que', 'tomó', 'hasta', '@Nahuerc'] \n",
      "\n",
      "['@kenroVlogs', 'Hermoso', 'corazon', 'saludos', 'desde', 'medellin', 'colombia'] \n",
      "\n",
      "['Carechimba,', 'EMPEZÓ', 'A', 'LLOVER', 'JUSTO', 'CUANDO', 'TENGO', 'QUE', 'IR', 'A', 'CLASE,', 'O', 'SEA,', 'NO,', 'MEDELLÍN,', 'ME', 'TENÉS', 'MAMADA', 'MARICA'] \n",
      "\n",
      "['@Der0207', '@IamCabezoon', 'Junior', 'le', 'ofreció', 'más', 'q', 'Medellín,', 'lo', 'dijeron', 'en', 'win,', 'pero', 'el', 'burro', 'este', 'solo', 'juega', 'en', 'su', 'dim'] \n",
      "\n",
      "['El', 'aire', 'más', 'enrarecido,', 'el', 'cielo', 'cada', 'vez', 'más', 'gris', 'y', 'unas', 'congestiones', 'insoportables', 'en', 'las', 'vías.', 'La', 'medida', 'del', 'pico', 'y', 'placa', 'ambiental', 'en', '#Medellín', 'deja', 'mucho', 'que', 'desear', 'hasta', 'que', 'no', 'se', 'tomen', 'soluciones', 'drásticas', 'y', 'de', 'fondo.'] \n",
      "\n",
      "['Una', 'alcaldía', 'con', 'sexto', 'sentido:', 'Ana', 'Cristina', 'quiere', 'ser', 'la', 'primera', 'mujer', 'alcaldesa', 'de', 'Medellín', 'por', 'voto', 'popular'] \n",
      "\n",
      "['@Herman_Cadena', '@QuinteroCalle', 'Si,', '@QuinteroCalle', 'es', 'una', 'voz', 'esperanzadora', 'para', 'Medellín,', 'en', 'medio', 'del', 'aterrador', 'ruido', 'de', 'la', 'corrupción', 'y', 'la', 'guerra.'] \n",
      "\n",
      "['@LuisErnestoGL', '@kikearcinieg', 'Dos', 'líderes', 'arrancaron', 'el', 'mismo', 'día', 'con', 'sendos', 'discursos', 'en', 'el', 'planetario', 'en', 'un', 'momento', 'de', 'verdad', 'de', 'Colombia!.', 'el', 'uno', 'sin', 'ninguna', 'tibieza', 'se', 'enfrentó', 'a', 'la', 'ultraderecha', 'y', 'es', 'alcalde', 'de', 'Medellín.', 'el', 'otro', 'se', 'acobardó', 'y', 'terminó', 'en', 'la', 'comodidad', 'de', 'la', 'tibia', 'mermelada', 'verde!.'] \n",
      "\n"
     ]
    }
   ],
   "source": [
    "tweet_text=tweet_text.str.split()\n",
    "sample_text=tweet_text.sample(n=10,random_state=10)\n",
    "for text in sample_text:\n",
    "    print(text,\"\\n\")   "
   ]
  },
  {
   "cell_type": "code",
   "execution_count": 138,
   "metadata": {},
   "outputs": [
    {
     "name": "stdout",
     "output_type": "stream",
     "text": [
      "por otro lado la policía hizo allanamientos en bogotá, medellín y cali a viviendas de personas que hacen parte de movimientos que promueven el #paronacional21nov \"en estos allanamientos las autoridades se llevaron pinceles, pinturas y carteles alusivos al paro.\" \n",
      "\n",
      "casa en belén la gloria sobre la avenida 80 en medellín/antioquia/colombia en venta \n",
      "\n",
      "@matyakdmia @cyndlq club colombia perro. y el ron medellín que tomó hasta @nahuerc \n",
      "\n",
      "@kenrovlogs hermoso corazon saludos desde medellin colombia \n",
      "\n",
      "carechimba, empezó a llover justo cuando tengo que ir a clase, o sea, no, medellín, me tenés mamada marica \n",
      "\n",
      "@der0207 @iamcabezoon junior le ofreció más q medellín, lo dijeron en win, pero el burro este solo juega en su dim \n",
      "\n",
      "el aire más enrarecido, el cielo cada vez más gris y unas congestiones insoportables en las vías. la medida del pico y placa ambiental en #medellín deja mucho que desear hasta que no se tomen soluciones drásticas y de fondo. \n",
      "\n",
      "una alcaldía con sexto sentido: ana cristina quiere ser la primera mujer alcaldesa de medellín por voto popular \n",
      "\n",
      "@herman_cadena @quinterocalle si, @quinterocalle es una voz esperanzadora para medellín, en medio del aterrador ruido de la corrupción y la guerra. \n",
      "\n",
      "@luisernestogl @kikearcinieg dos líderes arrancaron el mismo día con sendos discursos en el planetario en un momento de verdad de colombia!. el uno sin ninguna tibieza se enfrentó a la ultraderecha y es alcalde de medellín. el otro se acobardó y terminó en la comodidad de la tibia mermelada verde!. \n",
      "\n"
     ]
    }
   ],
   "source": [
    "tweet_text=tweet_text.apply(lambda x: ' '.join(x))\n",
    "tweet_text=tweet_text.str.lower()\n",
    "sample_text=tweet_text.sample(n=10,random_state=10)\n",
    "for text in sample_text:\n",
    "    print(text,\"\\n\")  "
   ]
  }
 ],
 "metadata": {
  "kernelspec": {
   "display_name": "Python 3.8.8 ('base')",
   "language": "python",
   "name": "python3"
  },
  "language_info": {
   "codemirror_mode": {
    "name": "ipython",
    "version": 3
   },
   "file_extension": ".py",
   "mimetype": "text/x-python",
   "name": "python",
   "nbconvert_exporter": "python",
   "pygments_lexer": "ipython3",
   "version": "3.8.8"
  },
  "orig_nbformat": 4,
  "vscode": {
   "interpreter": {
    "hash": "40d3a090f54c6569ab1632332b64b2c03c39dcf918b08424e98f38b5ae0af88f"
   }
  }
 },
 "nbformat": 4,
 "nbformat_minor": 2
}
