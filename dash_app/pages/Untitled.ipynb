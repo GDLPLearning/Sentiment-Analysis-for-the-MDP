{
 "cells": [
  {
   "cell_type": "code",
   "execution_count": 1,
   "id": "da477e6a-0966-4617-8c2d-9841b4d682b2",
   "metadata": {},
   "outputs": [
    {
     "ename": "ModuleNotFoundError",
     "evalue": "No module named 'plotly'",
     "output_type": "error",
     "traceback": [
      "\u001b[1;31m---------------------------------------------------------------------------\u001b[0m",
      "\u001b[1;31mModuleNotFoundError\u001b[0m                       Traceback (most recent call last)",
      "Input \u001b[1;32mIn [1]\u001b[0m, in \u001b[0;36m<cell line: 1>\u001b[1;34m()\u001b[0m\n\u001b[1;32m----> 1\u001b[0m \u001b[38;5;28;01mimport\u001b[39;00m \u001b[38;5;21;01mplotly\u001b[39;00m\n\u001b[0;32m      2\u001b[0m \u001b[38;5;28;01mimport\u001b[39;00m \u001b[38;5;21;01mplotly\u001b[39;00m\u001b[38;5;21;01m.\u001b[39;00m\u001b[38;5;21;01mexpress\u001b[39;00m \u001b[38;5;28;01mas\u001b[39;00m \u001b[38;5;21;01mpx\u001b[39;00m\n\u001b[0;32m      3\u001b[0m \u001b[38;5;28;01mimport\u001b[39;00m \u001b[38;5;21;01mplotly\u001b[39;00m\u001b[38;5;21;01m.\u001b[39;00m\u001b[38;5;21;01mgraph_objects\u001b[39;00m \u001b[38;5;28;01mas\u001b[39;00m \u001b[38;5;21;01mgo\u001b[39;00m\n",
      "\u001b[1;31mModuleNotFoundError\u001b[0m: No module named 'plotly'"
     ]
    }
   ],
   "source": [
    "import plotly\n",
    "import plotly.express as px\n",
    "import plotly.graph_objects as go\n",
    "import dash\n",
    "import jupyter_dash as jd\n",
    "from jupyter_dash import JupyterDash\n",
    "import dash_core_components as dcc\n",
    "import dash_html_components as html\n",
    "import dash_bootstrap_components as dbc\n",
    "from dash.dependencies import Output, Input, State\n",
    "from dash.exceptions import PreventUpdate\n",
    "from dash_table import DataTable\n",
    "import pandas as pd\n",
    "pd.options.display.max_columns = None\n",
    "\n",
    "for p in [plotly, dash, jd, dcc, html, dbc, pd,]:\n",
    "    print(f'{p.__name__:-<30}v{p.__version__}')"
   ]
  },
  {
   "cell_type": "code",
   "execution_count": 2,
   "id": "5dd654f9-a955-43c8-ab4c-76d7c6eae6cf",
   "metadata": {},
   "outputs": [
    {
     "ename": "ModuleNotFoundError",
     "evalue": "No module named 'jupyterDash'",
     "output_type": "error",
     "traceback": [
      "\u001b[1;31m---------------------------------------------------------------------------\u001b[0m",
      "\u001b[1;31mModuleNotFoundError\u001b[0m                       Traceback (most recent call last)",
      "Input \u001b[1;32mIn [2]\u001b[0m, in \u001b[0;36m<cell line: 1>\u001b[1;34m()\u001b[0m\n\u001b[1;32m----> 1\u001b[0m \u001b[38;5;28;01mfrom\u001b[39;00m \u001b[38;5;21;01mjupyterDash\u001b[39;00m \u001b[38;5;28;01mimport\u001b[39;00m JupyterDash\n\u001b[0;32m      2\u001b[0m \u001b[38;5;28;01mfrom\u001b[39;00m \u001b[38;5;21;01mdash\u001b[39;00m \u001b[38;5;28;01mimport\u001b[39;00m dcc \u001b[38;5;28;01mas\u001b[39;00m dcc\n\u001b[0;32m      3\u001b[0m \u001b[38;5;28;01mfrom\u001b[39;00m \u001b[38;5;21;01mdash\u001b[39;00m \u001b[38;5;28;01mimport\u001b[39;00m html\n",
      "\u001b[1;31mModuleNotFoundError\u001b[0m: No module named 'jupyterDash'"
     ]
    }
   ],
   "source": [
    "df = pd.read_csv('data/2019.csv')\n",
    "df['num_chars'] = df['full_text'].str.len()\n",
    "df['num_words'] = df['full_text'].str.split().str.len()\n",
    "\n",
    "\n",
    "\n",
    "# Top words by freq\n",
    "\n",
    "word_tweet_freq=[]\n",
    "for tweet in df['full_text']:\n",
    "    for words in tweet.split():\n",
    "        word_tweet_freq.append(words)\n",
    "word_fre = FreqDist(word_tweet_freq)\n",
    "\n",
    "# create a Df with th efrequency of each word\n",
    "df_words = pd.DataFrame.from_dict(dict_to_df)\n",
    "\n",
    "app = JupyterDash(__name__)\n",
    "\n",
    "app.layout = html.Div([\n",
    "\n",
    "    dbc.Label('EDA I'),\n",
    "    dcc.Dropdown(id='hist_kind_dropdown',\n",
    "                 options=[{'label': 'num_words', 'value': 'num_words'},\n",
    "                          {'label': 'num_chars', 'value': 'num_chars'}]),\n",
    "    dcc.Graph(id='freq_hist')\n",
    "    ])\n",
    "\n",
    "@app.callback(Output('freq_hist', 'figure'),\n",
    "              Input('hist_kind_dropdown', 'value'))\n",
    "def plot_hist(kind):\n",
    "    if kind == 'num_words':\n",
    "        fig = px.histogram(df,\n",
    "                           x = 'num_words')\n",
    "        return fig\n",
    "        \n",
    "\n",
    "\n",
    "    if kind == 'num_chars':\n",
    "        fig = px.histogram(df,\n",
    "                           x = 'num_chars')\n",
    "        return fig\n",
    "\n",
    "\n",
    "app.run_server(debug=True, port=8041)"
   ]
  }
 ],
 "metadata": {
  "kernelspec": {
   "display_name": "Python 3 (ipykernel)",
   "language": "python",
   "name": "python3"
  },
  "language_info": {
   "codemirror_mode": {
    "name": "ipython",
    "version": 3
   },
   "file_extension": ".py",
   "mimetype": "text/x-python",
   "name": "python",
   "nbconvert_exporter": "python",
   "pygments_lexer": "ipython3",
   "version": "3.8.11"
  }
 },
 "nbformat": 4,
 "nbformat_minor": 5
}
